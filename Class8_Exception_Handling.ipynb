{
 "cells": [
  {
   "cell_type": "code",
   "execution_count": 1,
   "id": "80723894",
   "metadata": {},
   "outputs": [
    {
     "data": {
      "text/plain": [
       "'\\nError and Exception handling \\n'"
      ]
     },
     "execution_count": 1,
     "metadata": {},
     "output_type": "execute_result"
    }
   ],
   "source": [
    "\"\"\"\n",
    "Error and Exception handling \n",
    "try\n",
    "except\n",
    "\"\"\"\n"
   ]
  },
  {
   "cell_type": "code",
   "execution_count": 2,
   "id": "b0ac6771",
   "metadata": {},
   "outputs": [
    {
     "ename": "NameError",
     "evalue": "name 'Ashsah' is not defined",
     "output_type": "error",
     "traceback": [
      "\u001b[1;31m---------------------------------------------------------------------------\u001b[0m",
      "\u001b[1;31mNameError\u001b[0m                                 Traceback (most recent call last)",
      "\u001b[1;32m<ipython-input-2-6a8ad7a44da5>\u001b[0m in \u001b[0;36m<module>\u001b[1;34m\u001b[0m\n\u001b[1;32m----> 1\u001b[1;33m \u001b[0mAshsah\u001b[0m\u001b[1;33m\u001b[0m\u001b[1;33m\u001b[0m\u001b[0m\n\u001b[0m",
      "\u001b[1;31mNameError\u001b[0m: name 'Ashsah' is not defined"
     ]
    }
   ],
   "source": [
    "Ashsah\n"
   ]
  },
  {
   "cell_type": "code",
   "execution_count": 3,
   "id": "d4a8d755",
   "metadata": {},
   "outputs": [
    {
     "ename": "ZeroDivisionError",
     "evalue": "division by zero",
     "output_type": "error",
     "traceback": [
      "\u001b[1;31m---------------------------------------------------------------------------\u001b[0m",
      "\u001b[1;31mZeroDivisionError\u001b[0m                         Traceback (most recent call last)",
      "\u001b[1;32m<ipython-input-3-9e1622b385b6>\u001b[0m in \u001b[0;36m<module>\u001b[1;34m\u001b[0m\n\u001b[1;32m----> 1\u001b[1;33m \u001b[1;36m1\u001b[0m\u001b[1;33m/\u001b[0m\u001b[1;36m0\u001b[0m\u001b[1;33m\u001b[0m\u001b[1;33m\u001b[0m\u001b[0m\n\u001b[0m",
      "\u001b[1;31mZeroDivisionError\u001b[0m: division by zero"
     ]
    }
   ],
   "source": [
    "1/0"
   ]
  },
  {
   "cell_type": "code",
   "execution_count": 4,
   "id": "a99544a7",
   "metadata": {},
   "outputs": [
    {
     "ename": "ZeroDivisionError",
     "evalue": "division by zero",
     "output_type": "error",
     "traceback": [
      "\u001b[1;31m---------------------------------------------------------------------------\u001b[0m",
      "\u001b[1;31mZeroDivisionError\u001b[0m                         Traceback (most recent call last)",
      "\u001b[1;32m<ipython-input-4-544e9da555ba>\u001b[0m in \u001b[0;36m<module>\u001b[1;34m\u001b[0m\n\u001b[0;32m      1\u001b[0m \u001b[1;31m#Here sysntax is correct but still get some error on run\u001b[0m\u001b[1;33m\u001b[0m\u001b[1;33m\u001b[0m\u001b[1;33m\u001b[0m\u001b[0m\n\u001b[0;32m      2\u001b[0m \u001b[1;31m#time error\u001b[0m\u001b[1;33m\u001b[0m\u001b[1;33m\u001b[0m\u001b[1;33m\u001b[0m\u001b[0m\n\u001b[1;32m----> 3\u001b[1;33m \u001b[1;36m1\u001b[0m\u001b[1;33m/\u001b[0m\u001b[1;36m0\u001b[0m\u001b[1;33m\u001b[0m\u001b[1;33m\u001b[0m\u001b[0m\n\u001b[0m\u001b[0;32m      4\u001b[0m \u001b[0mprint\u001b[0m\u001b[1;33m(\u001b[0m\u001b[1;34m\"This is my program \"\u001b[0m\u001b[1;33m)\u001b[0m\u001b[1;33m\u001b[0m\u001b[1;33m\u001b[0m\u001b[0m\n",
      "\u001b[1;31mZeroDivisionError\u001b[0m: division by zero"
     ]
    }
   ],
   "source": [
    "#Here sysntax is correct but still get some error on run \n",
    "#time error \n",
    "1/0\n",
    "print(\"This is my program \")\n",
    "#here it does not execute 2nd line \n",
    "# Here if we read file the it can create problem \n",
    "# to handle it we use exception \n",
    "# See Exception Wikipedia"
   ]
  },
  {
   "cell_type": "code",
   "execution_count": 5,
   "id": "9a7b9e4d",
   "metadata": {},
   "outputs": [
    {
     "name": "stdout",
     "output_type": "stream",
     "text": [
      "division by zero\n",
      "This is my program \n"
     ]
    }
   ],
   "source": [
    "try:\n",
    "    1/0\n",
    "except Exception as e :\n",
    "    print(e)\n",
    "print(\"This is my program \")"
   ]
  },
  {
   "cell_type": "code",
   "execution_count": 8,
   "id": "df3c7287",
   "metadata": {},
   "outputs": [
    {
     "ename": "SyntaxError",
     "evalue": "unexpected EOF while parsing (<ipython-input-8-78b0da3d89b8>, line 10)",
     "output_type": "error",
     "traceback": [
      "\u001b[1;36m  File \u001b[1;32m\"<ipython-input-8-78b0da3d89b8>\"\u001b[1;36m, line \u001b[1;32m10\u001b[0m\n\u001b[1;33m    print(\"This is my program \")\u001b[0m\n\u001b[1;37m                                ^\u001b[0m\n\u001b[1;31mSyntaxError\u001b[0m\u001b[1;31m:\u001b[0m unexpected EOF while parsing\n"
     ]
    }
   ],
   "source": [
    "#try is a reserved keyword try throw error and except is h\n",
    "#handle it that error \n",
    "\n",
    "#multiple try \n",
    "try:\n",
    "    1/0\n",
    "except Exception as e :\n",
    "    print(e)\n",
    "try:\n",
    "    print(\"This is my program \")\n"
   ]
  },
  {
   "cell_type": "code",
   "execution_count": 9,
   "id": "fb254148",
   "metadata": {},
   "outputs": [],
   "source": [
    "#With except it will able to handle it \n",
    "#that why need to except for each try "
   ]
  },
  {
   "cell_type": "code",
   "execution_count": 11,
   "id": "e0780c3a",
   "metadata": {},
   "outputs": [
    {
     "ename": "FileNotFoundError",
     "evalue": "[Errno 2] No such file or directory: 'test.txt'",
     "output_type": "error",
     "traceback": [
      "\u001b[1;31m---------------------------------------------------------------------------\u001b[0m",
      "\u001b[1;31mFileNotFoundError\u001b[0m                         Traceback (most recent call last)",
      "\u001b[1;32m<ipython-input-11-b3a85a21efd0>\u001b[0m in \u001b[0;36m<module>\u001b[1;34m\u001b[0m\n\u001b[0;32m      1\u001b[0m \u001b[1;31m#let if open a file  there is command called open\u001b[0m\u001b[1;33m\u001b[0m\u001b[1;33m\u001b[0m\u001b[1;33m\u001b[0m\u001b[0m\n\u001b[1;32m----> 2\u001b[1;33m \u001b[0mopen\u001b[0m\u001b[1;33m(\u001b[0m\u001b[1;34m\"test.txt\"\u001b[0m\u001b[1;33m)\u001b[0m\u001b[1;33m\u001b[0m\u001b[1;33m\u001b[0m\u001b[0m\n\u001b[0m",
      "\u001b[1;31mFileNotFoundError\u001b[0m: [Errno 2] No such file or directory: 'test.txt'"
     ]
    }
   ],
   "source": [
    "#let if open a file  there is command called open\n",
    "open(\"test.txt\")\n"
   ]
  },
  {
   "cell_type": "code",
   "execution_count": 12,
   "id": "70c064ad",
   "metadata": {},
   "outputs": [
    {
     "data": {
      "text/plain": [
       "'C:\\\\Users\\\\dinesh.kumar\\\\Desktop\\\\Python'"
      ]
     },
     "execution_count": 12,
     "metadata": {},
     "output_type": "execute_result"
    }
   ],
   "source": [
    "pwd()"
   ]
  },
  {
   "cell_type": "code",
   "execution_count": 14,
   "id": "0e180e03",
   "metadata": {},
   "outputs": [
    {
     "data": {
      "text/plain": [
       "<_io.TextIOWrapper name='test.txt' mode='w' encoding='cp1252'>"
      ]
     },
     "execution_count": 14,
     "metadata": {},
     "output_type": "execute_result"
    }
   ],
   "source": [
    "# Here if file not found the  it throw error .\n",
    "open(\"test.txt\",'w')#Write mode"
   ]
  },
  {
   "cell_type": "code",
   "execution_count": 15,
   "id": "6ced517b",
   "metadata": {},
   "outputs": [
    {
     "data": {
      "text/plain": [
       "<_io.TextIOWrapper name='test.txt' mode='r' encoding='cp1252'>"
      ]
     },
     "execution_count": 15,
     "metadata": {},
     "output_type": "execute_result"
    }
   ],
   "source": [
    "open(\"test.txt\",'r')#read mode"
   ]
  },
  {
   "cell_type": "code",
   "execution_count": 16,
   "id": "65b3950b",
   "metadata": {},
   "outputs": [
    {
     "ename": "UnsupportedOperation",
     "evalue": "not writable",
     "output_type": "error",
     "traceback": [
      "\u001b[1;31m---------------------------------------------------------------------------\u001b[0m",
      "\u001b[1;31mUnsupportedOperation\u001b[0m                      Traceback (most recent call last)",
      "\u001b[1;32m<ipython-input-16-78c6286a2044>\u001b[0m in \u001b[0;36m<module>\u001b[1;34m\u001b[0m\n\u001b[0;32m      1\u001b[0m \u001b[0mf\u001b[0m\u001b[1;33m=\u001b[0m\u001b[0mopen\u001b[0m\u001b[1;33m(\u001b[0m\u001b[1;34m'test.txt'\u001b[0m\u001b[1;33m,\u001b[0m\u001b[1;34m'r'\u001b[0m\u001b[1;33m)\u001b[0m\u001b[1;33m\u001b[0m\u001b[1;33m\u001b[0m\u001b[0m\n\u001b[1;32m----> 2\u001b[1;33m \u001b[0mf\u001b[0m\u001b[1;33m.\u001b[0m\u001b[0mwrite\u001b[0m\u001b[1;33m(\u001b[0m\u001b[1;34m\"This is my first  file \"\u001b[0m\u001b[1;33m)\u001b[0m\u001b[1;33m\u001b[0m\u001b[1;33m\u001b[0m\u001b[0m\n\u001b[0m",
      "\u001b[1;31mUnsupportedOperation\u001b[0m: not writable"
     ]
    }
   ],
   "source": [
    "f=open('test.txt','r')\n",
    "f.write(\"This is my first  file \")\n",
    "#here it will give error becuase we try to write in read\n",
    "#mode \n",
    "pwd()# it is public working directory it is linux command\n"
   ]
  },
  {
   "cell_type": "code",
   "execution_count": 18,
   "id": "ff7c53eb",
   "metadata": {},
   "outputs": [
    {
     "ename": "NameError",
     "evalue": "name 'ls' is not defined",
     "output_type": "error",
     "traceback": [
      "\u001b[1;31m---------------------------------------------------------------------------\u001b[0m",
      "\u001b[1;31mNameError\u001b[0m                                 Traceback (most recent call last)",
      "\u001b[1;32m<ipython-input-18-d107ed90725a>\u001b[0m in \u001b[0;36m<module>\u001b[1;34m\u001b[0m\n\u001b[0;32m      2\u001b[0m \u001b[0mf\u001b[0m\u001b[1;33m.\u001b[0m\u001b[0mwrite\u001b[0m\u001b[1;33m(\u001b[0m\u001b[1;34m\"This is my first  file \"\u001b[0m\u001b[1;33m)\u001b[0m\u001b[1;33m\u001b[0m\u001b[1;33m\u001b[0m\u001b[0m\n\u001b[0;32m      3\u001b[0m \u001b[1;31m#now it will work\u001b[0m\u001b[1;33m\u001b[0m\u001b[1;33m\u001b[0m\u001b[1;33m\u001b[0m\u001b[0m\n\u001b[1;32m----> 4\u001b[1;33m \u001b[0mls\u001b[0m\u001b[1;33m\u001b[0m\u001b[1;33m\u001b[0m\u001b[0m\n\u001b[0m",
      "\u001b[1;31mNameError\u001b[0m: name 'ls' is not defined"
     ]
    }
   ],
   "source": [
    "f=open('test.txt','w')\n",
    "f.write(\"This is my first  file \")\n",
    "#now it will work\n"
   ]
  },
  {
   "cell_type": "code",
   "execution_count": 20,
   "id": "95df5e85",
   "metadata": {},
   "outputs": [
    {
     "name": "stdout",
     "output_type": "stream",
     "text": [
      "not writable\n"
     ]
    }
   ],
   "source": [
    "try:\n",
    "    f=open('test.txt','r')\n",
    "    f.write(\"This is my first  file \")\n",
    "    \n",
    "except Exception as e:\n",
    "    print(e)\n"
   ]
  },
  {
   "cell_type": "code",
   "execution_count": 21,
   "id": "b4d5c266",
   "metadata": {},
   "outputs": [],
   "source": [
    "#lets handle specific error such as division by zero"
   ]
  },
  {
   "cell_type": "code",
   "execution_count": 24,
   "id": "de059a20",
   "metadata": {},
   "outputs": [
    {
     "name": "stdout",
     "output_type": "stream",
     "text": [
      "not writable\n"
     ]
    }
   ],
   "source": [
    "try:\n",
    "    f=open('test.txt','r')\n",
    "    f.write(\"This is my first  file \")\n",
    "    \n",
    "except ZeroDivisionError as e:\n",
    "    print(e)\n",
    "    \n",
    "except IOError as e:\n",
    "    print(e)\n",
    "#Here we written except but still giving error \n",
    "#becuase we have not handle proper error so here either \n",
    "#proper error or handle by Super class "
   ]
  },
  {
   "cell_type": "code",
   "execution_count": 26,
   "id": "cfe53cd1",
   "metadata": {},
   "outputs": [
    {
     "name": "stdout",
     "output_type": "stream",
     "text": [
      "not writable\n"
     ]
    }
   ],
   "source": [
    "try:\n",
    "    f=open('test.txt','r')\n",
    "    f.write(\"This is my first  file \")\n",
    "    a=10/0\n",
    "except IOError as e:\n",
    "    print(e)\n"
   ]
  },
  {
   "cell_type": "code",
   "execution_count": 27,
   "id": "7b2f9ee6",
   "metadata": {},
   "outputs": [],
   "source": [
    "#here once error found it will not go to next line \n",
    "# that why you need to handle in each method/function"
   ]
  },
  {
   "cell_type": "code",
   "execution_count": 28,
   "id": "8123cda6",
   "metadata": {},
   "outputs": [
    {
     "name": "stdout",
     "output_type": "stream",
     "text": [
      "division by zero\n"
     ]
    }
   ],
   "source": [
    "try:\n",
    "    a=10/0\n",
    "    f=open('test.txt','r')\n",
    "    f.write(\"This is my first  file \")\n",
    "except IOError as e:\n",
    "    print(e)\n",
    "except ZeroDivisionError as e:\n",
    "    print(e)"
   ]
  },
  {
   "cell_type": "code",
   "execution_count": 29,
   "id": "44d770a8",
   "metadata": {},
   "outputs": [],
   "source": [
    "#here it can be multiple except block\n"
   ]
  },
  {
   "cell_type": "code",
   "execution_count": 30,
   "id": "84f95ff5",
   "metadata": {},
   "outputs": [
    {
     "ename": "SyntaxError",
     "evalue": "invalid syntax (<ipython-input-30-7cea8a65b639>, line 5)",
     "output_type": "error",
     "traceback": [
      "\u001b[1;36m  File \u001b[1;32m\"<ipython-input-30-7cea8a65b639>\"\u001b[1;36m, line \u001b[1;32m5\u001b[0m\n\u001b[1;33m    except IOError , ZeroDivisionError as e:\u001b[0m\n\u001b[1;37m                   ^\u001b[0m\n\u001b[1;31mSyntaxError\u001b[0m\u001b[1;31m:\u001b[0m invalid syntax\n"
     ]
    }
   ],
   "source": [
    "try:\n",
    "    a=10/0\n",
    "    f=open('test.txt','r')\n",
    "    f.write(\"This is my first  file \")\n",
    "except IOError , ZeroDivisionError as e:\n",
    "    print(e)\n"
   ]
  },
  {
   "cell_type": "code",
   "execution_count": 33,
   "id": "d9557fa3",
   "metadata": {},
   "outputs": [
    {
     "name": "stdout",
     "output_type": "stream",
     "text": [
      "super division by zero\n"
     ]
    }
   ],
   "source": [
    "try:\n",
    "    a=10/0\n",
    "    f=open('test.txt','r')\n",
    "    f.write(\"This is my first  file \")\n",
    "except Exception  as e:\n",
    "    print(\"super\",e)\n",
    "except IOError  as e:\n",
    "    print(\"IOError\",e)\n",
    "except ZeroDivisionError as  e:\n",
    "     print(\"ZeroDivisionError\",e)\n",
    "#here it will execute parent class 1st \n"
   ]
  },
  {
   "cell_type": "code",
   "execution_count": 34,
   "id": "12943817",
   "metadata": {},
   "outputs": [
    {
     "name": "stdout",
     "output_type": "stream",
     "text": [
      "ZeroDivisionError division by zero\n"
     ]
    }
   ],
   "source": [
    "try:\n",
    "    a=10/0\n",
    "    f=open('test.txt','r')\n",
    "    f.write(\"This is my first  file \")\n",
    "\n",
    "except IOError  as e:\n",
    "    print(\"IOError\",e)\n",
    "except ZeroDivisionError as  e:\n",
    "     print(\"ZeroDivisionError\",e)\n",
    "except Exception  as e:\n",
    "    print(\"super\",e)\n",
    "#that why herarchy matter "
   ]
  },
  {
   "cell_type": "code",
   "execution_count": 35,
   "id": "5622836a",
   "metadata": {},
   "outputs": [],
   "source": [
    "#if code is correct except block will not execute\n",
    "#that why it will create any impact on performance\n"
   ]
  },
  {
   "cell_type": "code",
   "execution_count": 37,
   "id": "1579ccdc",
   "metadata": {},
   "outputs": [
    {
     "name": "stdout",
     "output_type": "stream",
     "text": [
      "There issue in file write mode\n",
      "This will be executed after successful\n"
     ]
    }
   ],
   "source": [
    "#try inside try \n",
    "try:\n",
    "    a=10/3\n",
    "    try:\n",
    "        f=open('test.txt','r')\n",
    "        f.write(\"This is my first  file \")\n",
    "    except :\n",
    "        print(\"There issue in file write mode\")\n",
    "    else :\n",
    "        print(\"this will be internal\")\n",
    "except IOError as e:\n",
    "    print(e)\n",
    "except ZeroDivisionError as e:\n",
    "    print(\"Under Zero\")\n",
    "except Exception as e:\n",
    "    print(\"Under Supper\")\n",
    "else :\n",
    "    print(\"This will be executed after successful\")\n"
   ]
  },
  {
   "cell_type": "code",
   "execution_count": 39,
   "id": "cb7955f9",
   "metadata": {
    "scrolled": true
   },
   "outputs": [],
   "source": [
    "#if code gets executed succesful then only else will be \n",
    "#execute #here 2nd try gets manage there error that why\n",
    "#external try gets execute \n",
    "\n"
   ]
  },
  {
   "cell_type": "code",
   "execution_count": 43,
   "id": "19ca44a7",
   "metadata": {},
   "outputs": [
    {
     "name": "stdout",
     "output_type": "stream",
     "text": [
      "10\n",
      "0.14925373134328357\n",
      "on successful execution \n"
     ]
    }
   ],
   "source": [
    "try:\n",
    "    a=int(input())\n",
    "    print(a/67)\n",
    "except :\n",
    "    print(\"This is my error msg\")\n",
    "else :\n",
    "    print(\"on successful execution \")\n"
   ]
  },
  {
   "cell_type": "code",
   "execution_count": 44,
   "id": "8f2a31bd",
   "metadata": {},
   "outputs": [],
   "source": [
    "#here if user type string then it will going to fail \n",
    "#becuse by default it cosider str and try to type cast\n",
    "#but it will be fail \n",
    "#then i will go to exceot block.\n",
    "\n"
   ]
  },
  {
   "cell_type": "code",
   "execution_count": 46,
   "id": "e9e58588",
   "metadata": {},
   "outputs": [
    {
     "name": "stdout",
     "output_type": "stream",
     "text": [
      "unu\n",
      "This is my error msg\n",
      "Inside finally \n"
     ]
    }
   ],
   "source": [
    "#finally block\n",
    "try:\n",
    "    a=int(input())\n",
    "    print(a/67)\n",
    "except :\n",
    "    print(\"This is my error msg\")\n",
    "else :\n",
    "    print(\"on successful execution \")\n",
    "finally :\n",
    "     print(\"Inside finally \")\n",
    "    \n"
   ]
  },
  {
   "cell_type": "code",
   "execution_count": 47,
   "id": "a97937d9",
   "metadata": {},
   "outputs": [],
   "source": [
    "#finally will always execute even error or not\n",
    "#else will \n"
   ]
  },
  {
   "cell_type": "code",
   "execution_count": 51,
   "id": "69bf2cda",
   "metadata": {},
   "outputs": [],
   "source": [
    "#handle via function\n",
    "def askint():\n",
    "    try:\n",
    "        val=int(input(\"tyr to enter integer \"))\n",
    "    except Exception as e:\n",
    "        print(e)\n",
    "    finally:\n",
    "        print(\"this will execute by default\")"
   ]
  },
  {
   "cell_type": "code",
   "execution_count": 52,
   "id": "1511b4e3",
   "metadata": {},
   "outputs": [
    {
     "name": "stdout",
     "output_type": "stream",
     "text": [
      "tyr to enter integer Dinesh\n",
      "invalid literal for int() with base 10: 'Dinesh'\n",
      "this will execute by default\n"
     ]
    }
   ],
   "source": [
    "askint()"
   ]
  },
  {
   "cell_type": "code",
   "execution_count": 61,
   "id": "7bafe2cb",
   "metadata": {},
   "outputs": [],
   "source": [
    "#write a function to accept inter and if not enter integer \n",
    "#then it keep asking user\n",
    "def askint():\n",
    "    try:\n",
    "        val=int(input(\"tyr to enter integer \"))\n",
    "    except Exception as e:\n",
    "        askint()\n",
    "    finally:\n",
    "        print(\"this will execute by default\")\n"
   ]
  },
  {
   "cell_type": "code",
   "execution_count": 62,
   "id": "9619cddb",
   "metadata": {},
   "outputs": [
    {
     "name": "stdout",
     "output_type": "stream",
     "text": [
      "tyr to enter integer asd\n",
      "tyr to enter integer ads\n",
      "tyr to enter integer 10\n",
      "this will execute by default\n",
      "this will execute by default\n",
      "this will execute by default\n"
     ]
    }
   ],
   "source": [
    "askint()\n"
   ]
  },
  {
   "cell_type": "code",
   "execution_count": 63,
   "id": "857173d1",
   "metadata": {},
   "outputs": [
    {
     "data": {
      "text/plain": [
       "0.5"
      ]
     },
     "execution_count": 63,
     "metadata": {},
     "output_type": "execute_result"
    }
   ],
   "source": [
    "#own Exception\n",
    "5/10"
   ]
  },
  {
   "cell_type": "code",
   "execution_count": 64,
   "id": "202ae879",
   "metadata": {},
   "outputs": [],
   "source": [
    "#lets suppose we dont want to generate error when \n",
    "#user type 5 \n",
    "    "
   ]
  },
  {
   "cell_type": "code",
   "execution_count": 69,
   "id": "7b86639e",
   "metadata": {},
   "outputs": [],
   "source": [
    "def raiseException(a):\n",
    "    if(a<5):\n",
    "        raise Exception(\"This is my custom exception\")\n",
    "    return a \n",
    "\n",
    "        "
   ]
  },
  {
   "cell_type": "code",
   "execution_count": 70,
   "id": "9551723e",
   "metadata": {},
   "outputs": [
    {
     "ename": "Exception",
     "evalue": "This is my custom exception",
     "output_type": "error",
     "traceback": [
      "\u001b[1;31m---------------------------------------------------------------------------\u001b[0m",
      "\u001b[1;31mException\u001b[0m                                 Traceback (most recent call last)",
      "\u001b[1;32m<ipython-input-70-70487a13ed9a>\u001b[0m in \u001b[0;36m<module>\u001b[1;34m\u001b[0m\n\u001b[1;32m----> 1\u001b[1;33m \u001b[0mraiseException\u001b[0m\u001b[1;33m(\u001b[0m\u001b[1;36m4\u001b[0m\u001b[1;33m)\u001b[0m\u001b[1;33m\u001b[0m\u001b[1;33m\u001b[0m\u001b[0m\n\u001b[0m",
      "\u001b[1;32m<ipython-input-69-d4b6c38cf8a8>\u001b[0m in \u001b[0;36mraiseException\u001b[1;34m(a)\u001b[0m\n\u001b[0;32m      1\u001b[0m \u001b[1;32mdef\u001b[0m \u001b[0mraiseException\u001b[0m\u001b[1;33m(\u001b[0m\u001b[0ma\u001b[0m\u001b[1;33m)\u001b[0m\u001b[1;33m:\u001b[0m\u001b[1;33m\u001b[0m\u001b[1;33m\u001b[0m\u001b[0m\n\u001b[0;32m      2\u001b[0m     \u001b[1;32mif\u001b[0m\u001b[1;33m(\u001b[0m\u001b[0ma\u001b[0m\u001b[1;33m<\u001b[0m\u001b[1;36m5\u001b[0m\u001b[1;33m)\u001b[0m\u001b[1;33m:\u001b[0m\u001b[1;33m\u001b[0m\u001b[1;33m\u001b[0m\u001b[0m\n\u001b[1;32m----> 3\u001b[1;33m         \u001b[1;32mraise\u001b[0m \u001b[0mException\u001b[0m\u001b[1;33m(\u001b[0m\u001b[1;34m\"This is my custom exception\"\u001b[0m\u001b[1;33m)\u001b[0m\u001b[1;33m\u001b[0m\u001b[1;33m\u001b[0m\u001b[0m\n\u001b[0m\u001b[0;32m      4\u001b[0m     \u001b[1;32mreturn\u001b[0m \u001b[0ma\u001b[0m\u001b[1;33m\u001b[0m\u001b[1;33m\u001b[0m\u001b[0m\n\u001b[0;32m      5\u001b[0m \u001b[1;33m\u001b[0m\u001b[0m\n",
      "\u001b[1;31mException\u001b[0m: This is my custom exception"
     ]
    }
   ],
   "source": [
    "raiseException(4)"
   ]
  },
  {
   "cell_type": "code",
   "execution_count": 71,
   "id": "72c4d74a",
   "metadata": {},
   "outputs": [
    {
     "name": "stdout",
     "output_type": "stream",
     "text": [
      "This is my custom exception\n"
     ]
    }
   ],
   "source": [
    "#now handle that exception\n",
    "try:\n",
    "    raiseException(4)\n",
    "except Exception as e:\n",
    "    print(e)"
   ]
  },
  {
   "cell_type": "code",
   "execution_count": 72,
   "id": "8e5d7ffd",
   "metadata": {},
   "outputs": [
    {
     "data": {
      "text/plain": [
       "'\\n1-Write a program to insert integer into list if user has entered\\nless than 4 then raise custom exception\\nand if user not entering a integer then keep asking . you are suppoe to \\nenter 10 such int this condition.\\n'"
      ]
     },
     "execution_count": 72,
     "metadata": {},
     "output_type": "execute_result"
    }
   ],
   "source": [
    "\"\"\"\n",
    "1-Write a program to insert integer into list if user has entered\n",
    "less than 4 then raise custom exception\n",
    "and if user not entering a integer then keep asking . you are suppoe to \n",
    "enter 10 such int this condition.\n",
    "\"\"\"\n"
   ]
  },
  {
   "cell_type": "code",
   "execution_count": 97,
   "id": "9c5e7676",
   "metadata": {},
   "outputs": [],
   "source": [
    "def GetUserInput(l):\n",
    "    if(len(l)==10):\n",
    "        return l\n",
    "    else:\n",
    "        try:\n",
    "            inp = int(input(\"Enter enteger   \"))\n",
    "            if inp < 4:\n",
    "                      raise Exception(\"Please enter greator than 4\")\n",
    "                      GetUserInput(l)\n",
    "            else:\n",
    "                l.append(inp)\n",
    "                GetUserInput(l)  \n",
    "        except Exception as e:\n",
    "                        GetUserInput(l)\n",
    "   \n",
    "    \n",
    "    \n",
    "        \n",
    "     \n"
   ]
  },
  {
   "cell_type": "code",
   "execution_count": 99,
   "id": "f22796a8",
   "metadata": {},
   "outputs": [
    {
     "name": "stdout",
     "output_type": "stream",
     "text": [
      "Enter enteger   10\n",
      "Enter enteger   25\n",
      "Enter enteger   25\n",
      "Enter enteger   69\n",
      "Enter enteger   252\n",
      "Enter enteger   45\n",
      "Enter enteger   89\n",
      "Enter enteger   898\n",
      "Enter enteger   78\n",
      "Enter enteger   98\n",
      "None\n"
     ]
    }
   ],
   "source": [
    "l=[]\n",
    "print(GetUserInput(l))\n"
   ]
  },
  {
   "cell_type": "code",
   "execution_count": null,
   "id": "7e4d390d",
   "metadata": {},
   "outputs": [],
   "source": [
    "l=[]\n",
    "try:\n",
    "    val=int(input(\"Enter enteger   \")\n",
    "   l.append(ValidateNumber(val));\n",
    "except Exception as e:\n",
    "            \n"
   ]
  }
 ],
 "metadata": {
  "kernelspec": {
   "display_name": "Python 3",
   "language": "python",
   "name": "python3"
  },
  "language_info": {
   "codemirror_mode": {
    "name": "ipython",
    "version": 3
   },
   "file_extension": ".py",
   "mimetype": "text/x-python",
   "name": "python",
   "nbconvert_exporter": "python",
   "pygments_lexer": "ipython3",
   "version": "3.8.8"
  }
 },
 "nbformat": 4,
 "nbformat_minor": 5
}
