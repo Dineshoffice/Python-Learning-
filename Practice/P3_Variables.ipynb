{
 "cells": [
  {
   "cell_type": "code",
   "execution_count": 1,
   "id": "607d14ec",
   "metadata": {},
   "outputs": [
    {
     "name": "stdout",
     "output_type": "stream",
     "text": [
      "5\n",
      "Dinesh\n"
     ]
    }
   ],
   "source": [
    "#A variable is created the moment you first assign a value to it.\n",
    "x=5\n",
    "y=\"Dinesh\"\n",
    "print(x)\n",
    "print(y)"
   ]
  },
  {
   "cell_type": "code",
   "execution_count": 3,
   "id": "ad44b82b",
   "metadata": {},
   "outputs": [],
   "source": [
    "#Variables do not need to be declared with any particular type, and can even change type after they have been set.\n",
    "x=5 # x is type of Int\n",
    "Y=\"Dinesh\"# y is type of string "
   ]
  },
  {
   "cell_type": "code",
   "execution_count": 4,
   "id": "3c22414e",
   "metadata": {},
   "outputs": [
    {
     "name": "stdout",
     "output_type": "stream",
     "text": [
      "5\n",
      "5.0\n",
      "5\n"
     ]
    }
   ],
   "source": [
    "#Casting\n",
    "#If you want to specify the data type of a variable, this can be done with casting.\n",
    "a=5\n",
    "b=float(5)\n",
    "c=str(5)\n",
    "print(a)\n",
    "print(b)\n",
    "print(c)"
   ]
  },
  {
   "cell_type": "code",
   "execution_count": 8,
   "id": "89454952",
   "metadata": {},
   "outputs": [
    {
     "name": "stdout",
     "output_type": "stream",
     "text": [
      "<class 'int'>\n"
     ]
    }
   ],
   "source": [
    "#get Data Type \n",
    "a=5\n",
    "print(type(a))\n",
    "\n",
    "\n",
    "      "
   ]
  },
  {
   "cell_type": "code",
   "execution_count": 9,
   "id": "48247b3f",
   "metadata": {},
   "outputs": [],
   "source": [
    "#single or double quotes are same "
   ]
  },
  {
   "cell_type": "code",
   "execution_count": 10,
   "id": "9047c254",
   "metadata": {},
   "outputs": [],
   "source": [
    "a='Dinesh'\n",
    "# is the same as\n",
    "b=\"DInesh \"\n"
   ]
  },
  {
   "cell_type": "code",
   "execution_count": 12,
   "id": "23297733",
   "metadata": {},
   "outputs": [
    {
     "name": "stdout",
     "output_type": "stream",
     "text": [
      "Python\n",
      "Jupyter\n"
     ]
    }
   ],
   "source": [
    "#Case-Sensitive\n",
    "# All Variables are case sensitive\n",
    "a=\"Python\"\n",
    "A=\"Jupyter\"\n",
    "print(a)\n",
    "print(A)"
   ]
  },
  {
   "cell_type": "code",
   "execution_count": 17,
   "id": "75967f9a",
   "metadata": {},
   "outputs": [
    {
     "name": "stdout",
     "output_type": "stream",
     "text": [
      "5\n"
     ]
    }
   ],
   "source": [
    "\"\"\" Variable Names\n",
    "A variable can have a short name (like x and y) or a more descriptive name (age, carname, total_volume). Rules for Python variables:\n",
    "A variable name must start with a letter or the underscore character\n",
    "A variable name cannot start with a number\n",
    "A variable name can only contain alpha-numeric characters and underscores (A-z, 0-9, and _ )\n",
    "Variable names are case-sensitive (age, Age and AGE are three different variables) \"\"\"\n",
    "print(5)\n"
   ]
  },
  {
   "cell_type": "code",
   "execution_count": 22,
   "id": "47235681",
   "metadata": {},
   "outputs": [],
   "source": [
    "#Leagal Varibales \n",
    "myvar = \"Python\"\n",
    "my_var = \"Python\"\n",
    "_my_var = \"Python\"\n",
    "myVar = \"Python\"\n",
    "MYVAR = \"Python\"\n",
    "myvar2 = \"Python\"\n"
   ]
  },
  {
   "cell_type": "code",
   "execution_count": 23,
   "id": "e32ea837",
   "metadata": {},
   "outputs": [
    {
     "ename": "SyntaxError",
     "evalue": "invalid syntax (<ipython-input-23-401b66221efb>, line 2)",
     "output_type": "error",
     "traceback": [
      "\u001b[1;36m  File \u001b[1;32m\"<ipython-input-23-401b66221efb>\"\u001b[1;36m, line \u001b[1;32m2\u001b[0m\n\u001b[1;33m    2a=5\u001b[0m\n\u001b[1;37m     ^\u001b[0m\n\u001b[1;31mSyntaxError\u001b[0m\u001b[1;31m:\u001b[0m invalid syntax\n"
     ]
    }
   ],
   "source": [
    "#Illegal variable names:\n",
    "2a=5\n",
    "my-var = \"John\"\n",
    "my var = \"John\""
   ]
  },
  {
   "cell_type": "code",
   "execution_count": 24,
   "id": "0a276075",
   "metadata": {},
   "outputs": [],
   "source": [
    "#Camel case\n",
    "#Each word, except the first, starts with a capital letter:\n",
    "myVariableName=\"Python\""
   ]
  },
  {
   "cell_type": "code",
   "execution_count": 25,
   "id": "f030ce78",
   "metadata": {},
   "outputs": [],
   "source": [
    "#Pascal case\n",
    "#Each word,  starts with a capital letter:\n",
    "MyVariableName=\"Python\""
   ]
  },
  {
   "cell_type": "code",
   "execution_count": 27,
   "id": "62d686d7",
   "metadata": {},
   "outputs": [],
   "source": [
    "#Snake Case\n",
    "#Each word is separated by an underscore character:\n",
    "My_Variable_Name=\"Python\""
   ]
  },
  {
   "cell_type": "code",
   "execution_count": 28,
   "id": "c840df70",
   "metadata": {},
   "outputs": [
    {
     "data": {
      "text/plain": [
       "' Python Allow to Assing multiple Variable \\n\\n'"
      ]
     },
     "execution_count": 28,
     "metadata": {},
     "output_type": "execute_result"
    }
   ],
   "source": [
    "\"\"\" Python Allow to Assing multiple Variable \n",
    "\n",
    "\"\"\""
   ]
  },
  {
   "cell_type": "code",
   "execution_count": 29,
   "id": "c9dad3c2",
   "metadata": {},
   "outputs": [
    {
     "name": "stdout",
     "output_type": "stream",
     "text": [
      "5\n",
      "6\n",
      "7\n"
     ]
    }
   ],
   "source": [
    "\"\"\"\n",
    "Many Values to Multiple Variables\n",
    "Python allows you to assign values to multiple variables in one line:\n",
    "\"\"\"\n",
    "a,b,c=5,6,7\n",
    "print(a)\n",
    "print(b)\n",
    "print(c)\n"
   ]
  },
  {
   "cell_type": "code",
   "execution_count": 30,
   "id": "26dfc518",
   "metadata": {},
   "outputs": [
    {
     "name": "stdout",
     "output_type": "stream",
     "text": [
      "Python Python Python\n"
     ]
    }
   ],
   "source": [
    "\"\"\"\n",
    "One Value to Multiple Variables\n",
    "And you can assign the same value to multiple variables in one line:\n",
    "\"\"\"\n",
    "a=b=c=\"Python\"\n",
    "print(a,b,c) //print all variable in one line "
   ]
  },
  {
   "cell_type": "code",
   "execution_count": 35,
   "id": "ae5b5810",
   "metadata": {},
   "outputs": [
    {
     "name": "stdout",
     "output_type": "stream",
     "text": [
      "Orange\n",
      "Grapes\n",
      "Apple\n"
     ]
    }
   ],
   "source": [
    "# un Pack Collection \n",
    "# if you have or tuple then you can assign into variable \n",
    "listFruites=[\"Orange\",\"Grapes\",\"Apple\"]\n",
    "a,b,c=listFruites\n",
    "print(a)\n",
    "print(b)\n",
    "print(c)"
   ]
  },
  {
   "cell_type": "code",
   "execution_count": 36,
   "id": "94431c15",
   "metadata": {},
   "outputs": [
    {
     "data": {
      "text/plain": [
       "'\\nPython - Output Variables\\n'"
      ]
     },
     "execution_count": 36,
     "metadata": {},
     "output_type": "execute_result"
    }
   ],
   "source": [
    "\"\"\"\n",
    "Python - Output Variables\n",
    "\"\"\""
   ]
  },
  {
   "cell_type": "code",
   "execution_count": 37,
   "id": "f7e1aa8d",
   "metadata": {},
   "outputs": [
    {
     "name": "stdout",
     "output_type": "stream",
     "text": [
      "Python is awesome\n"
     ]
    }
   ],
   "source": [
    "\"\"\"\n",
    "Output Variables\n",
    "The Python print statement is often used to output variables.\n",
    "\n",
    "To combine both text and a variable, Python uses the + character:\n",
    "\"\"\"\n",
    "x=\"awesome\"\n",
    "print(\"Python is \"+x)"
   ]
  },
  {
   "cell_type": "code",
   "execution_count": 41,
   "id": "58c65202",
   "metadata": {},
   "outputs": [
    {
     "name": "stdout",
     "output_type": "stream",
     "text": [
      "Python is awesome\n"
     ]
    }
   ],
   "source": [
    "# You can also use the + character to add a variable to another variable:\n",
    "a=\"Python is \"\n",
    "b=\"awesome\"\n",
    "print(a+b)"
   ]
  },
  {
   "cell_type": "code",
   "execution_count": 43,
   "id": "fd00cc7c",
   "metadata": {},
   "outputs": [
    {
     "ename": "TypeError",
     "evalue": "unsupported operand type(s) for +: 'int' and 'str'",
     "output_type": "error",
     "traceback": [
      "\u001b[1;31m---------------------------------------------------------------------------\u001b[0m",
      "\u001b[1;31mTypeError\u001b[0m                                 Traceback (most recent call last)",
      "\u001b[1;32m<ipython-input-43-2316d798e4a5>\u001b[0m in \u001b[0;36m<module>\u001b[1;34m\u001b[0m\n\u001b[0;32m      2\u001b[0m \u001b[0ma\u001b[0m\u001b[1;33m=\u001b[0m\u001b[1;36m5\u001b[0m\u001b[1;33m\u001b[0m\u001b[1;33m\u001b[0m\u001b[0m\n\u001b[0;32m      3\u001b[0m \u001b[0mb\u001b[0m\u001b[1;33m=\u001b[0m\u001b[1;34m\"Python\"\u001b[0m\u001b[1;33m\u001b[0m\u001b[1;33m\u001b[0m\u001b[0m\n\u001b[1;32m----> 4\u001b[1;33m \u001b[0mprint\u001b[0m\u001b[1;33m(\u001b[0m\u001b[0ma\u001b[0m\u001b[1;33m+\u001b[0m\u001b[0mb\u001b[0m\u001b[1;33m)\u001b[0m\u001b[1;33m\u001b[0m\u001b[1;33m\u001b[0m\u001b[0m\n\u001b[0m",
      "\u001b[1;31mTypeError\u001b[0m: unsupported operand type(s) for +: 'int' and 'str'"
     ]
    }
   ],
   "source": [
    "#If you try to combine a string and a number, Python will give you an error:\n",
    "a=5\n",
    "b=\"Python\"\n",
    "print(a+b)\n"
   ]
  },
  {
   "cell_type": "code",
   "execution_count": 44,
   "id": "82237ad3",
   "metadata": {},
   "outputs": [
    {
     "data": {
      "text/plain": [
       "'\\nGlobal Variables\\nVariables that are created outside of a function (as in all of the examples above) are known as global variables.\\n\\nGlobal variables can be used by everyone, both inside of functions and outside.\\n'"
      ]
     },
     "execution_count": 44,
     "metadata": {},
     "output_type": "execute_result"
    }
   ],
   "source": [
    "\"\"\"\n",
    "Global Variables\n",
    "Variables that are created outside of a function (as in all of the examples above) are known as global variables.\n",
    "\n",
    "Global variables can be used by everyone, both inside of functions and outside.\n",
    "\"\"\"\n",
    "\n"
   ]
  },
  {
   "cell_type": "code",
   "execution_count": 67,
   "id": "ae320712",
   "metadata": {},
   "outputs": [
    {
     "name": "stdout",
     "output_type": "stream",
     "text": [
      "Python is awesome\n"
     ]
    }
   ],
   "source": [
    "#Create a variable outside of a function, and use it inside the function\n",
    "x = \"awesome\"\n",
    "def DemoFunc():\n",
    " print(\"Python is \" + x)\n",
    "DemoFunc()"
   ]
  },
  {
   "cell_type": "code",
   "execution_count": 69,
   "id": "1fa515c8",
   "metadata": {},
   "outputs": [
    {
     "name": "stdout",
     "output_type": "stream",
     "text": [
      "Fantastic\n",
      "Awesome\n"
     ]
    }
   ],
   "source": [
    "#Create a variable inside a function, with the same name as the global variable\n",
    "x=\"Awesome\"\n",
    "def DemoFunc():\n",
    "    x=\"Fantastic\"\n",
    "    print(x)\n",
    "DemoFunc()\n",
    "print(x) # it does not change in even change in function "
   ]
  },
  {
   "cell_type": "code",
   "execution_count": 70,
   "id": "0c898cff",
   "metadata": {},
   "outputs": [
    {
     "name": "stdout",
     "output_type": "stream",
     "text": [
      "Fantastic\n",
      "Fantastic\n"
     ]
    }
   ],
   "source": [
    "\"\"\"\n",
    "The global Keyword\n",
    "Normally, when you create a variable inside a function, that variable is local, and can only be used inside that function.\n",
    "\n",
    "To create a global variable inside a function, you can use the global keyword.\n",
    "\"\"\"\n",
    "\n"
   ]
  },
  {
   "cell_type": "code",
   "execution_count": 71,
   "id": "96d5039b",
   "metadata": {},
   "outputs": [
    {
     "name": "stdout",
     "output_type": "stream",
     "text": [
      "Fantastic\n",
      "Fantastic\n"
     ]
    }
   ],
   "source": [
    "#If you use the global keyword, the variable belongs to the global scope:\n",
    "def DemoFunc():\n",
    "    global a\n",
    "    a=\"Fantastic\"\n",
    "    print(a)\n",
    "DemoFunc()\n",
    "print(a) # Global Scope out side of method"
   ]
  },
  {
   "cell_type": "code",
   "execution_count": 73,
   "id": "615e53d8",
   "metadata": {},
   "outputs": [
    {
     "name": "stdout",
     "output_type": "stream",
     "text": [
      "Fantastic\n",
      "Fantastic\n"
     ]
    }
   ],
   "source": [
    "#To change the value of a global variable inside a function, refer to the variable by using the global keyword\n",
    "x=\"Awesome\"\n",
    "def DemoFunc():\n",
    "    global x\n",
    "    x=\"Fantastic\"\n",
    "    print(x)\n",
    "DemoFunc()\n",
    "print(x)\n",
    "    "
   ]
  },
  {
   "cell_type": "code",
   "execution_count": 77,
   "id": "7652aea9",
   "metadata": {},
   "outputs": [
    {
     "name": "stdout",
     "output_type": "stream",
     "text": [
      "test\n"
     ]
    }
   ],
   "source": [
    "print(\"test\")"
   ]
  },
  {
   "cell_type": "code",
   "execution_count": null,
   "id": "5a39ee7f",
   "metadata": {},
   "outputs": [],
   "source": []
  }
 ],
 "metadata": {
  "kernelspec": {
   "display_name": "Python 3",
   "language": "python",
   "name": "python3"
  },
  "language_info": {
   "codemirror_mode": {
    "name": "ipython",
    "version": 3
   },
   "file_extension": ".py",
   "mimetype": "text/x-python",
   "name": "python",
   "nbconvert_exporter": "python",
   "pygments_lexer": "ipython3",
   "version": "3.8.8"
  }
 },
 "nbformat": 4,
 "nbformat_minor": 5
}
