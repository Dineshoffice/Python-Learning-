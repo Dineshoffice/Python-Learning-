{
 "cells": [
  {
   "cell_type": "code",
   "execution_count": null,
   "id": "0ef49185",
   "metadata": {},
   "outputs": [],
   "source": [
    "#Comments can be used to explain Python code.\n",
    "\n",
    "#Comments can be used to make the code more readable.\n",
    "\n",
    "#Comments can be used to prevent execution when testing code."
   ]
  },
  {
   "cell_type": "code",
   "execution_count": 1,
   "id": "b6d31f17",
   "metadata": {},
   "outputs": [
    {
     "name": "stdout",
     "output_type": "stream",
     "text": [
      "Comment\n"
     ]
    }
   ],
   "source": [
    "#Comments starts with a #, and Python will ignore them:\n",
    "#This is comment \n",
    "print(\"Comment\")"
   ]
  },
  {
   "cell_type": "code",
   "execution_count": 2,
   "id": "3b075679",
   "metadata": {},
   "outputs": [
    {
     "name": "stdout",
     "output_type": "stream",
     "text": [
      "Hello, World!\n"
     ]
    }
   ],
   "source": [
    "#Comments can be placed at the end of a line, and Python will ignore the rest of the line:\n",
    "print(\"Hello, World!\") #This is a also comment"
   ]
  },
  {
   "cell_type": "code",
   "execution_count": 3,
   "id": "08344984",
   "metadata": {},
   "outputs": [
    {
     "name": "stdout",
     "output_type": "stream",
     "text": [
      "Good learning till now  \n"
     ]
    }
   ],
   "source": [
    "#A comment does not have to be text that explains the code, it can also be used to prevent Python from executing code:\n",
    "print(\"Good learning till now  \")"
   ]
  },
  {
   "cell_type": "code",
   "execution_count": 4,
   "id": "ed9af421",
   "metadata": {},
   "outputs": [
    {
     "data": {
      "text/plain": [
       "'\\n'"
      ]
     },
     "execution_count": 4,
     "metadata": {},
     "output_type": "execute_result"
    }
   ],
   "source": [
    "\"\"\"\n",
    "Multi Line Comments\n",
    "Python does not really have a syntax for multi line comments.\n",
    "\n",
    "To add a multiline comment you could insert a # for each line:\n",
    "\"\"\""
   ]
  },
  {
   "cell_type": "code",
   "execution_count": 5,
   "id": "fbe1aeec",
   "metadata": {},
   "outputs": [
    {
     "name": "stdout",
     "output_type": "stream",
     "text": [
      "Hello, World!\n"
     ]
    }
   ],
   "source": [
    "#This is a comment\n",
    "#written in\n",
    "#more than just one line\n",
    "print(\"Hello, World!\")\n"
   ]
  },
  {
   "cell_type": "code",
   "execution_count": 6,
   "id": "abdb640d",
   "metadata": {},
   "outputs": [
    {
     "name": "stdout",
     "output_type": "stream",
     "text": [
      "Hello, World!\n"
     ]
    }
   ],
   "source": [
    "#Since Python will ignore string literals that are not assigned to a variable, you can add a multiline string (triple quotes) in your code, and place your comment inside it:\n",
    "\"\"\"\n",
    "This is a comment\n",
    "written in\n",
    "more than just one line\n",
    "\"\"\"\n",
    "print(\"Hello, World!\")\n"
   ]
  },
  {
   "cell_type": "code",
   "execution_count": null,
   "id": "268e4abc",
   "metadata": {},
   "outputs": [],
   "source": []
  }
 ],
 "metadata": {
  "kernelspec": {
   "display_name": "Python 3",
   "language": "python",
   "name": "python3"
  },
  "language_info": {
   "codemirror_mode": {
    "name": "ipython",
    "version": 3
   },
   "file_extension": ".py",
   "mimetype": "text/x-python",
   "name": "python",
   "nbconvert_exporter": "python",
   "pygments_lexer": "ipython3",
   "version": "3.8.8"
  }
 },
 "nbformat": 4,
 "nbformat_minor": 5
}
