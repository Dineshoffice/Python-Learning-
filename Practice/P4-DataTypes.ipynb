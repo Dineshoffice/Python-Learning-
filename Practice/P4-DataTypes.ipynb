{
 "cells": [
  {
   "cell_type": "code",
   "execution_count": 1,
   "id": "331f6d39",
   "metadata": {},
   "outputs": [
    {
     "data": {
      "text/plain": [
       "'\\nData Types\\nPython has the following data types built-in by default, in these categories:\\n\\nText Type:\\tstr\\nNumeric Types:\\tint, float, complex\\nSequence Types:\\tlist, tuple, range\\nMapping Type:\\tdict\\nSet Types:\\tset, frozenset\\nBoolean Type:\\tbool\\nBinary Types:\\tbytes, bytearray, memoryview\\n'"
      ]
     },
     "execution_count": 1,
     "metadata": {},
     "output_type": "execute_result"
    }
   ],
   "source": [
    "\"\"\"\n",
    "Data Types\n",
    "Python has the following data types built-in by default, in these categories:\n",
    "\n",
    "Text Type:\tstr\n",
    "Numeric Types:\tint, float, complex\n",
    "Sequence Types:\tlist, tuple, range\n",
    "Mapping Type:\tdict\n",
    "Set Types:\tset, frozenset\n",
    "Boolean Type:\tbool\n",
    "Binary Types:\tbytes, bytearray, memoryview\n",
    "\"\"\""
   ]
  },
  {
   "cell_type": "code",
   "execution_count": 24,
   "id": "7fa01d1f",
   "metadata": {},
   "outputs": [
    {
     "name": "stdout",
     "output_type": "stream",
     "text": [
      "Python\n",
      "20\n",
      "20.5\n",
      "1j\n",
      "['Apple', 'Banana', 'Grapes']\n",
      "('Apple', '1', 'Grapes')\n",
      "range(0, 6)\n",
      "{'name': 'Python', 'age': 20}\n",
      "{'Grapes', 'Apple', 'Banana'}\n",
      "<class 'frozenset'> frozenset({'Grapes', 'Apple', 'Banana'})\n",
      "<class 'bool'> True\n",
      "<class 'bytes'> b'hello'\n",
      "<class 'bytearray'> bytearray(b'\\x00\\x00\\x00\\x00\\x00\\x00')\n",
      "<class 'memoryview'> <memory at 0x0000026403F04580>\n"
     ]
    }
   ],
   "source": [
    "#Setting the Data Type\n",
    "#In Python, the data type is set when you assign a value to a variable:\n",
    "x=\"Python\" #str\n",
    "print(x)  \n",
    "x=20 #int\n",
    "print(x)\n",
    "x=20.5 #float\n",
    "print(x)\n",
    "x=1j # complex\n",
    "print(x)\n",
    "\n",
    "x=[\"Apple\",\"Banana\",\"Grapes\"] #list\n",
    "print(x)\n",
    "\n",
    "x=(\"Apple\",\"1\",\"Grapes\")#tuple\n",
    "print(x)\n",
    "\n",
    "x=range(6) # Range \n",
    "print(x)\n",
    "\n",
    "x={\"name\":\"Python\",\"age\":20} #dict\n",
    "print(x)\n",
    "\n",
    "x={\"Apple\",\"Banana\",\"Grapes\"} #set\n",
    "print(x)\n",
    "x=frozenset({\"Apple\",\"Banana\",\"Grapes\"}) #set\n",
    "print(type(x),x)\n",
    "\n",
    "x=True #bool\n",
    "print(type(x),x)\n",
    "\n",
    "x=b\"hello\"\n",
    "print(type(x),x)\n",
    "\n",
    "x=bytearray(6)\n",
    "print(type(x),x)\n",
    "\n",
    "x=memoryview(bytes(5))\n",
    "print(type(x),x)\n"
   ]
  },
  {
   "cell_type": "code",
   "execution_count": 43,
   "id": "c4ba9989",
   "metadata": {},
   "outputs": [
    {
     "name": "stdout",
     "output_type": "stream",
     "text": [
      "Hello Word\n",
      "20\n",
      "30.5\n",
      "('Apple', 1, '20.5')\n",
      "range(0, 6)\n",
      "{'Name': 'john', 'age': 20}\n",
      "{'Orange', 'Grapes', 'Apple'}\n",
      "frozenset({'Orange', 'Grapes', 'Apple'})\n",
      "True\n"
     ]
    }
   ],
   "source": [
    "\"\"\"\n",
    "Setting the Specific Data Type\n",
    "If you want to specify the data type, you can use the following constructor functions:\n",
    "\"\"\"\n",
    "x=str(\"Hello Word\")\n",
    "print(x)\n",
    "x=int(20)\n",
    "print(x)\n",
    "x=float(30.5)\n",
    "print(x)\n",
    "x=complex(1j)\n",
    "x=list((\"Apple\",\"Banana\",\"Grapes\"))\n",
    "x=tuple((\"Apple\",1,\"20.5\"))\n",
    "print(x)\n",
    "x=range(6)# default start from 0\n",
    "print(x)\n",
    "x=dict(Name=\"john\",age=20)\n",
    "print(x)\n",
    "x=set((\"Apple\",\"Orange\",\"Grapes\"))\n",
    "print(x)\n",
    "x=frozenset((\"Apple\",\"Orange\",\"Grapes\"))\n",
    "print(x)\n",
    "x=bool(6)       \n",
    "print(x)\n"
   ]
  },
  {
   "cell_type": "code",
   "execution_count": null,
   "id": "ff26cb45",
   "metadata": {},
   "outputs": [],
   "source": []
  }
 ],
 "metadata": {
  "kernelspec": {
   "display_name": "Python 3",
   "language": "python",
   "name": "python3"
  },
  "language_info": {
   "codemirror_mode": {
    "name": "ipython",
    "version": 3
   },
   "file_extension": ".py",
   "mimetype": "text/x-python",
   "name": "python",
   "nbconvert_exporter": "python",
   "pygments_lexer": "ipython3",
   "version": "3.8.8"
  }
 },
 "nbformat": 4,
 "nbformat_minor": 5
}
