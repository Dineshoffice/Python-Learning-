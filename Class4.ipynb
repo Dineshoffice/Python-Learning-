{
 "cells": [
  {
   "cell_type": "code",
   "execution_count": 1,
   "id": "736c920d",
   "metadata": {},
   "outputs": [],
   "source": [
    "#Control Flow if else \n",
    "# Why we are using this \n"
   ]
  },
  {
   "cell_type": "code",
   "execution_count": 2,
   "id": "03f081b1",
   "metadata": {},
   "outputs": [
    {
     "name": "stdout",
     "output_type": "stream",
     "text": [
      "This is value of a\n"
     ]
    }
   ],
   "source": [
    "a=10\n",
    "if a:# it try to check wether a exist or not if exist thenthen print \n",
    "    print(\"This is value of a\")"
   ]
  },
  {
   "cell_type": "code",
   "execution_count": 6,
   "id": "a3b256f9",
   "metadata": {},
   "outputs": [
    {
     "name": "stdout",
     "output_type": "stream",
     "text": [
      "a is less than 20\n"
     ]
    }
   ],
   "source": [
    "a=10\n",
    "if a < 20:\n",
    "    print (\"a is less than 20\")"
   ]
  },
  {
   "cell_type": "code",
   "execution_count": 7,
   "id": "e429e25c",
   "metadata": {},
   "outputs": [
    {
     "data": {
      "text/plain": [
       "True"
      ]
     },
     "execution_count": 7,
     "metadata": {},
     "output_type": "execute_result"
    }
   ],
   "source": [
    "a < 20"
   ]
  },
  {
   "cell_type": "code",
   "execution_count": 8,
   "id": "52a3466c",
   "metadata": {},
   "outputs": [],
   "source": [
    "# in python there is no curly braces similer to java\n",
    "# here colon is compulsory and at least one space \n",
    "#afer colon and in next line then at least on tab \n",
    "\n"
   ]
  },
  {
   "cell_type": "code",
   "execution_count": 9,
   "id": "49118f0b",
   "metadata": {},
   "outputs": [],
   "source": [
    "a=10\n",
    "if a < 20:\n",
    "    pass # dont want to mention body use pass key workd"
   ]
  },
  {
   "cell_type": "code",
   "execution_count": 11,
   "id": "c39b8da0",
   "metadata": {},
   "outputs": [
    {
     "name": "stdout",
     "output_type": "stream",
     "text": [
      "this is less  than 20\n"
     ]
    }
   ],
   "source": [
    "a=10\n",
    "if a>20:\n",
    "    print(\"this is gretor than 20\")\n",
    "else:\n",
    "    print (\"this is less  than 20\")\n"
   ]
  },
  {
   "cell_type": "code",
   "execution_count": 12,
   "id": "62c0d2a1",
   "metadata": {},
   "outputs": [
    {
     "name": "stdout",
     "output_type": "stream",
     "text": [
      "this is alternate statement\n"
     ]
    }
   ],
   "source": [
    "a=10\n",
    "if a>20:\n",
    "    print(\"this is gretor than 20\")\n",
    "if a==10:\n",
    "    print(\"this is alternate statement\")\n",
    "else:\n",
    "    print (\"this is less  than 20\")\n",
    "       "
   ]
  },
  {
   "cell_type": "code",
   "execution_count": 13,
   "id": "de4e9807",
   "metadata": {},
   "outputs": [
    {
     "name": "stdout",
     "output_type": "stream",
     "text": [
      "this is alternate statement\n"
     ]
    }
   ],
   "source": [
    "a=10\n",
    "if a>20:\n",
    "    print(\"this is gretor than 20\")\n",
    "if a==10:\n",
    "    print(\"this is alternate statement\")\n",
    "elif a<20:\n",
    "    print (\"print from elif\")\n",
    "else:\n",
    "    print (\"this is less  than 20\")\n",
    "    # if condition found it will not check next condition"
   ]
  },
  {
   "cell_type": "code",
   "execution_count": 14,
   "id": "04a161f2",
   "metadata": {},
   "outputs": [
    {
     "name": "stdout",
     "output_type": "stream",
     "text": [
      "print from elif\n"
     ]
    }
   ],
   "source": [
    "a=10\n",
    "if a>20:\n",
    "    print(\"this is gretor than 20\")\n",
    "if a==30:\n",
    "    print(\"this is alternate statement\")\n",
    "elif a<20:\n",
    "    print (\"print from elif\")\n",
    "else:\n",
    "    print (\"this is less  than 20\")"
   ]
  },
  {
   "cell_type": "code",
   "execution_count": 15,
   "id": "47485978",
   "metadata": {},
   "outputs": [
    {
     "name": "stdout",
     "output_type": "stream",
     "text": [
      "check ing \n"
     ]
    }
   ],
   "source": [
    "a=10\n",
    "if a>20:\n",
    "    print(\"this is gretor than 20\")\n",
    "if a==30:\n",
    "    print(\"this is alternate statement\")\n",
    "elif type(a)==int:\n",
    "     print(\"check ing \")\n",
    "elif a<20:\n",
    "    print (\"print from elif\")\n",
    "else:\n",
    "    print (\"this is less  than 20\")"
   ]
  },
  {
   "cell_type": "code",
   "execution_count": 16,
   "id": "bd861afc",
   "metadata": {},
   "outputs": [
    {
     "data": {
      "text/plain": [
       "True"
      ]
     },
     "execution_count": 16,
     "metadata": {},
     "output_type": "execute_result"
    }
   ],
   "source": [
    "type(a)==int"
   ]
  },
  {
   "cell_type": "code",
   "execution_count": 17,
   "id": "9f4db933",
   "metadata": {},
   "outputs": [],
   "source": [
    "# select and drag in other cell it will move selected text in netx cell\n"
   ]
  },
  {
   "cell_type": "code",
   "execution_count": 20,
   "id": "19d19566",
   "metadata": {},
   "outputs": [
    {
     "name": "stdout",
     "output_type": "stream",
     "text": [
      "Please enter disocunt %50\n",
      "you can buy all the items listed in row 1\n"
     ]
    }
   ],
   "source": [
    "# going to shopping mall and see if discount is \n",
    "Discount=int(input(\"Please enter disocunt %\"))\n",
    "if Discount==50:\n",
    "    print(\"you can buy all the items listed in row 1\")\n",
    "elif Discount==30:\n",
    "    print(\"you can buy all items from row 2\")\n",
    "elif Discount==20:\n",
    "    print(\"send user to row 3\")\n",
    "elif Discount>10:\n",
    "    print(\"send him to 4th row \")\n",
    "else :\n",
    "    print(\"There is no item available\")\n"
   ]
  },
  {
   "cell_type": "code",
   "execution_count": 23,
   "id": "c2cd5440",
   "metadata": {},
   "outputs": [
    {
     "name": "stdout",
     "output_type": "stream",
     "text": [
      "10\n",
      "you won't be able to get any card\n"
     ]
    }
   ],
   "source": [
    "income =int(input())\n",
    "if income>1000:\n",
    "    print (\"you can get a platinum card\")\n",
    "elif income>800:\n",
    "    print(\"you will be able to get gold card\")\n",
    "else :\n",
    "    print (\"you won't be able to get any card\")\n"
   ]
  },
  {
   "cell_type": "code",
   "execution_count": 4,
   "id": "88a83cd7",
   "metadata": {},
   "outputs": [
    {
     "ename": "SyntaxError",
     "evalue": "invalid syntax (<ipython-input-4-c09aa20ba3a1>, line 7)",
     "output_type": "error",
     "traceback": [
      "\u001b[1;36m  File \u001b[1;32m\"<ipython-input-4-c09aa20ba3a1>\"\u001b[1;36m, line \u001b[1;32m7\u001b[0m\n\u001b[1;33m    elif income1>1500:\u001b[0m\n\u001b[1;37m    ^\u001b[0m\n\u001b[1;31mSyntaxError\u001b[0m\u001b[1;31m:\u001b[0m invalid syntax\n"
     ]
    }
   ],
   "source": [
    "# nested if \n",
    "income1 =int(input(\"enter number\"))\n",
    "if income1>1000:\n",
    "    print (\"you can get a platinum card\")\n",
    "    if income1>2000:\n",
    "        print (\"you will be able to get anathor facilities\")\n",
    "        elif income1>1500:\n",
    "               print (\"you would not  be able to get anathor facilities\")\n",
    "        else :\n",
    "            print(\"No option\")\n",
    "elif income1>800:\n",
    "    print(\"you will be able to get gold card\")\n",
    "else :\n",
    "    print (\"you won't be able to get any card\")"
   ]
  },
  {
   "cell_type": "code",
   "execution_count": 1,
   "id": "52486b27",
   "metadata": {},
   "outputs": [
    {
     "name": "stdout",
     "output_type": "stream",
     "text": [
      "10\n",
      "this is 10\n"
     ]
    }
   ],
   "source": [
    "val=int(input())\n",
    "if val == 10: print(\"this is 10\")"
   ]
  },
  {
   "cell_type": "code",
   "execution_count": 7,
   "id": "407f0626",
   "metadata": {},
   "outputs": [
    {
     "data": {
      "text/plain": [
       "[2, 3, 4, 5, 6, 1, 2, 3, 5]"
      ]
     },
     "execution_count": 7,
     "metadata": {},
     "output_type": "execute_result"
    }
   ],
   "source": [
    "# For Loop\n",
    "l=[2,3,4,5,6,1,2,3,5]\n",
    "l"
   ]
  },
  {
   "cell_type": "code",
   "execution_count": 6,
   "id": "dad6d79d",
   "metadata": {},
   "outputs": [
    {
     "name": "stdout",
     "output_type": "stream",
     "text": [
      "2\n",
      "3\n",
      "4\n",
      "5\n",
      "6\n",
      "1\n",
      "2\n",
      "3\n",
      "5\n"
     ]
    }
   ],
   "source": [
    "for i in l:\n",
    "    print(i)\n"
   ]
  },
  {
   "cell_type": "code",
   "execution_count": 8,
   "id": "0e412e9a",
   "metadata": {},
   "outputs": [
    {
     "data": {
      "text/plain": [
       "[2, 3, 4, 5, 6, 1, 2, 3, 5]"
      ]
     },
     "execution_count": 8,
     "metadata": {},
     "output_type": "execute_result"
    }
   ],
   "source": [
    "l[::]"
   ]
  },
  {
   "cell_type": "code",
   "execution_count": 10,
   "id": "b7c0034f",
   "metadata": {},
   "outputs": [
    {
     "name": "stdout",
     "output_type": "stream",
     "text": [
      "Sudh\n",
      "[1, 2, 3, 4, 5]\n",
      "(2, 3, 4, 5, 6)\n",
      "56\n",
      "67\n",
      "(6+7j)\n",
      "True\n",
      "45.67\n"
     ]
    }
   ],
   "source": [
    "l=[\"Sudh\",[1,2,3,4,5],(2,3,4,5,6),56,67,6+7j,True,45.67]\n",
    "for i in [\"Sudh\",[1,2,3,4,5],(2,3,4,5,6),56,67,6+7j,True,45.67]:\n",
    "    print (i)\n",
    "    "
   ]
  },
  {
   "cell_type": "code",
   "execution_count": 19,
   "id": "786aa79a",
   "metadata": {},
   "outputs": [
    {
     "name": "stdout",
     "output_type": "stream",
     "text": [
      "Sudh\n",
      "[1, 2, 3, 4, 5]\n",
      "(2, 3, 4, 5, 6)\n",
      "56\n",
      "67\n",
      "(6+7j)\n",
      "True\n",
      "45.67\n",
      "Kumar\n"
     ]
    }
   ],
   "source": [
    "l=[\"Sudh\",[1,2,3,4,5],(2,3,4,5,6),56,67,6+7j,True,45.67,\"Kumar\"]\n",
    "for i in l:\n",
    "    print (i)"
   ]
  },
  {
   "cell_type": "code",
   "execution_count": 21,
   "id": "dc270a05",
   "metadata": {},
   "outputs": [
    {
     "name": "stdout",
     "output_type": "stream",
     "text": [
      "Sudh\n",
      "Sudh\n",
      "[1, 2, 3, 4, 5]\n",
      "(2, 3, 4, 5, 6)\n",
      "56\n",
      "67\n",
      "(6+7j)\n",
      "True\n",
      "45.67\n",
      "Kumar\n",
      "Kumar\n"
     ]
    }
   ],
   "source": [
    "for i in l:\n",
    "    if type(i) == str:\n",
    "         print (i) #print only str variable \n",
    "    print (i) # becuase of indent it print all element that indentation is important \n",
    "    \n",
    "   \n",
    "    "
   ]
  },
  {
   "cell_type": "code",
   "execution_count": 23,
   "id": "668be08f",
   "metadata": {},
   "outputs": [
    {
     "name": "stdout",
     "output_type": "stream",
     "text": [
      "3\n",
      "[5, 4, 3, 2, 1]\n"
     ]
    }
   ],
   "source": [
    "for n in l:\n",
    "    if type(n) == list:\n",
    "        print(n[2])\n",
    "        print(n[::-1])"
   ]
  },
  {
   "cell_type": "code",
   "execution_count": 25,
   "id": "f57d5378",
   "metadata": {
    "scrolled": true
   },
   "outputs": [
    {
     "name": "stdout",
     "output_type": "stream",
     "text": [
      "s1\n",
      "u1\n",
      "d1\n",
      "h1\n",
      " 1\n",
      "k1\n",
      "u1\n",
      "m1\n",
      "a1\n",
      "r1\n"
     ]
    }
   ],
   "source": [
    "s=\"sudh kumar\"\n",
    "for i in s:\n",
    "    print(i+\"1\")"
   ]
  },
  {
   "cell_type": "code",
   "execution_count": 26,
   "id": "a6f0fade",
   "metadata": {},
   "outputs": [
    {
     "name": "stdout",
     "output_type": "stream",
     "text": [
      "1\n",
      "2\n",
      "3\n",
      "4\n",
      "5\n",
      "6\n"
     ]
    }
   ],
   "source": [
    "t=(1,2,3,4,5,6)\n",
    "for i in t:\n",
    "    print(i)"
   ]
  },
  {
   "cell_type": "code",
   "execution_count": 28,
   "id": "12952483",
   "metadata": {},
   "outputs": [
    {
     "data": {
      "text/plain": [
       "[0, 1, 2, 3, 4, 5, 6, 7, 8, 9]"
      ]
     },
     "execution_count": 28,
     "metadata": {},
     "output_type": "execute_result"
    }
   ],
   "source": [
    "list(range(10))"
   ]
  },
  {
   "cell_type": "code",
   "execution_count": 29,
   "id": "eec9b7e1",
   "metadata": {},
   "outputs": [
    {
     "name": "stdout",
     "output_type": "stream",
     "text": [
      "0\n",
      "1\n",
      "2\n",
      "3\n",
      "4\n",
      "5\n",
      "6\n",
      "7\n",
      "8\n",
      "9\n"
     ]
    }
   ],
   "source": [
    "for i in range(10):\n",
    "    print(i)"
   ]
  },
  {
   "cell_type": "code",
   "execution_count": 31,
   "id": "ed08d3d2",
   "metadata": {},
   "outputs": [
    {
     "name": "stdout",
     "output_type": "stream",
     "text": [
      "[1, 2, 3, 4, 5]\n",
      "(2, 3, 4, 5, 6)\n"
     ]
    }
   ],
   "source": [
    "for n in l:\n",
    "    if type(n) == list or type(n) == tuple:\n",
    "        print(n)\n",
    "      "
   ]
  },
  {
   "cell_type": "code",
   "execution_count": 35,
   "id": "809a7a29",
   "metadata": {},
   "outputs": [
    {
     "name": "stdout",
     "output_type": "stream",
     "text": [
      "<class 'list'> [1, 2, 3, 4, 5]\n",
      "1\n",
      "2\n",
      "3\n",
      "4\n",
      "5\n",
      "<class 'tuple'> (2, 3, 4, 5, 6)\n",
      "2\n",
      "3\n",
      "4\n",
      "5\n",
      "6\n"
     ]
    }
   ],
   "source": [
    "#nested for loop \n",
    "for n in l:\n",
    "    if type(n) == list or type(n) == tuple:\n",
    "        print(type(n),n)\n",
    "        for i in n:\n",
    "             print(i)\n",
    "                \n",
    "            \n",
    "       \n"
   ]
  },
  {
   "cell_type": "code",
   "execution_count": 43,
   "id": "9d35e1c9",
   "metadata": {},
   "outputs": [
    {
     "name": "stdout",
     "output_type": "stream",
     "text": [
      "\n",
      "* \n",
      "* * \n",
      "* * * \n",
      "* * * * \n"
     ]
    }
   ],
   "source": [
    "n=5\n",
    "for i in range(n):\n",
    "     print(\"* \" * i)\n",
    "     "
   ]
  },
  {
   "cell_type": "code",
   "execution_count": 45,
   "id": "3f0a96de",
   "metadata": {},
   "outputs": [
    {
     "name": "stdout",
     "output_type": "stream",
     "text": [
      ".\n",
      "..\n",
      "...\n",
      "....\n",
      ".....\n"
     ]
    }
   ],
   "source": [
    "n=5 \n",
    "for i in range(n):\n",
    "    for j in range(i+1):\n",
    "        print(\".\",end=\"\")\n",
    "    print(\"\")"
   ]
  },
  {
   "cell_type": "code",
   "execution_count": 49,
   "id": "46c88eab",
   "metadata": {},
   "outputs": [
    {
     "name": "stdout",
     "output_type": "stream",
     "text": [
      "5\n",
      ". ,_ \n",
      ". ,_. ,_ \n",
      ". ,_. ,_. ,_ \n",
      ". ,_. ,_. ,_. ,_ \n",
      ". ,_. ,_. ,_. ,_. ,_ \n"
     ]
    }
   ],
   "source": [
    "n=int(input()) \n",
    "for i in range(n):\n",
    "    for j in range(i+1):\n",
    "        print(\".\",',',end=\"_\") #end the line if it is blank\n",
    "    print(\" \")"
   ]
  },
  {
   "cell_type": "code",
   "execution_count": 50,
   "id": "a904f95d",
   "metadata": {},
   "outputs": [
    {
     "data": {
      "text/plain": [
       "'1 Create structure \\n  *\\n * *\\n* * *\\n * *\\n  *\\n2- L=[[1,1,2,2,3,3],[2,4,2,2,5],[1,5,6,8,8,2]]\\n   1->2\\n   2->2\\n   3->2\\n   l2\\n   2->3\\n   \\n   l\\n   8->2\\n  '"
      ]
     },
     "execution_count": 50,
     "metadata": {},
     "output_type": "execute_result"
    }
   ],
   "source": [
    "#Task\n",
    "\"\"\"1 Create structure \n",
    "  *\n",
    " * *\n",
    "* * *\n",
    " * *\n",
    "  *\n",
    "2- L=[[1,1,2,2,3,3],[2,4,2,2,5],[1,5,6,8,8,2]]\n",
    "   1->2\n",
    "   2->2\n",
    "   3->2\n",
    "   l2\n",
    "   2->3\n",
    "   \n",
    "   l\n",
    "   8->2\n",
    "  \"\"\"\n"
   ]
  },
  {
   "cell_type": "code",
   "execution_count": 100,
   "id": "34b4074a",
   "metadata": {},
   "outputs": [
    {
     "name": "stdout",
     "output_type": "stream",
     "text": [
      "\n",
      "*\n",
      "**\n",
      "***\n",
      "****\n"
     ]
    }
   ],
   "source": [
    "n=5\n",
    "for i in range(n):\n",
    "    print(\"*\"*i)\n",
    "#for j in range(n,0,-1):     print(\"*\"*j) \n",
    "      \n",
    "    "
   ]
  },
  {
   "cell_type": "code",
   "execution_count": 65,
   "id": "f19bde37",
   "metadata": {},
   "outputs": [
    {
     "name": "stdout",
     "output_type": "stream",
     "text": [
      "[[1, 1, 2, 2, 3, 3], [2, 4, 2, 2, 5], [1, 5, 6, 8, 8, 2]]\n"
     ]
    }
   ],
   "source": [
    "l=[[1,1,2,2,3,3],[2,4,2,2,5],[1,5,6,8,8,2]]\n",
    "print(l)"
   ]
  },
  {
   "cell_type": "code",
   "execution_count": 94,
   "id": "dd7c1765",
   "metadata": {},
   "outputs": [
    {
     "name": "stdout",
     "output_type": "stream",
     "text": [
      "[1, 1, 2, 2, 3, 3]\n",
      "1\n",
      "1\n",
      "2\n",
      "2\n",
      "3\n",
      "3\n",
      "[2, 4, 2, 2, 5]\n",
      "2\n",
      "4\n",
      "2\n",
      "2\n",
      "5\n",
      "[1, 5, 6, 8, 8, 2]\n",
      "1\n",
      "5\n",
      "6\n",
      "8\n",
      "8\n",
      "2\n"
     ]
    }
   ],
   "source": [
    "for i in l:\n",
    "    print (i)\n",
    "    count=0\n",
    "    for j in i:\n",
    "         print(j)"
   ]
  },
  {
   "cell_type": "code",
   "execution_count": null,
   "id": "77e4240a",
   "metadata": {},
   "outputs": [],
   "source": []
  }
 ],
 "metadata": {
  "kernelspec": {
   "display_name": "Python 3",
   "language": "python",
   "name": "python3"
  },
  "language_info": {
   "codemirror_mode": {
    "name": "ipython",
    "version": 3
   },
   "file_extension": ".py",
   "mimetype": "text/x-python",
   "name": "python",
   "nbconvert_exporter": "python",
   "pygments_lexer": "ipython3",
   "version": "3.8.8"
  }
 },
 "nbformat": 4,
 "nbformat_minor": 5
}
