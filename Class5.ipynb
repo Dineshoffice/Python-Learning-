{
 "cells": [
  {
   "cell_type": "code",
   "execution_count": 8,
   "id": "e3c9fdb1",
   "metadata": {},
   "outputs": [
    {
     "name": "stdout",
     "output_type": "stream",
     "text": [
      "1\n",
      "3\n",
      "4\n",
      "6\n",
      "Sudh\n",
      "end of loop\n"
     ]
    }
   ],
   "source": [
    "#While loop \n",
    "l=[1,3,4,6,\"Sudh\"]\n",
    "l\n",
    "for i in l:\n",
    "    print(i)\n",
    "else :\n",
    "    print(\"end of loop\")"
   ]
  },
  {
   "cell_type": "code",
   "execution_count": 4,
   "id": "afb99f93",
   "metadata": {},
   "outputs": [
    {
     "name": "stdout",
     "output_type": "stream",
     "text": [
      "1\n",
      "2\n",
      "3\n",
      "4\n"
     ]
    }
   ],
   "source": [
    "#what type of operation can be performed \n",
    "#meaning of loop to extarct data one by \n",
    "#While loop check condition before iterate \n",
    "i=1\n",
    "n=5\n",
    "while i<n: #i is < n it will be continuas loop becuase wit does not close \n",
    "    print(i)\n",
    "    #if we add condition then it will check and increment \n",
    "    i=i+1\n",
    "    #it will execuete until it does not return false\n",
    "    "
   ]
  },
  {
   "cell_type": "code",
   "execution_count": 7,
   "id": "54845f1a",
   "metadata": {
    "scrolled": true
   },
   "outputs": [
    {
     "name": "stdout",
     "output_type": "stream",
     "text": [
      "1\n",
      "2\n",
      "3\n",
      "4\n",
      "End of loop\n"
     ]
    }
   ],
   "source": [
    "# in pythin it has special handling called whilele and else\n",
    "i=1\n",
    "n=5\n",
    "while i<n:\n",
    "    print(i)\n",
    "    i=i+1\n",
    "else:\n",
    "    print(\"End of loop\")"
   ]
  },
  {
   "cell_type": "code",
   "execution_count": 9,
   "id": "294c7a9c",
   "metadata": {},
   "outputs": [],
   "source": [
    "#even it is  in pythan it has for and else "
   ]
  },
  {
   "cell_type": "code",
   "execution_count": 13,
   "id": "485a7d00",
   "metadata": {},
   "outputs": [
    {
     "name": "stdout",
     "output_type": "stream",
     "text": [
      "1\n",
      "2\n",
      "3\n",
      "4\n",
      "5\n"
     ]
    }
   ],
   "source": [
    "x=1\n",
    "while x<10:\n",
    "    print(x)\n",
    "    if(x==5):\n",
    "        break\n",
    "    x=x+1\n",
    "else :\n",
    "    print(\"ending loop\")\n",
    "    "
   ]
  },
  {
   "cell_type": "code",
   "execution_count": 12,
   "id": "3b66a595",
   "metadata": {},
   "outputs": [],
   "source": [
    "# if loop goes to infinite the  go to kernel and intrupt it \n"
   ]
  },
  {
   "cell_type": "code",
   "execution_count": 15,
   "id": "528c5459",
   "metadata": {
    "scrolled": false
   },
   "outputs": [
    {
     "name": "stdout",
     "output_type": "stream",
     "text": [
      "s\n",
      "u\n",
      "d\n"
     ]
    }
   ],
   "source": [
    "s=\"sudh\"\n",
    "for i in s:\n",
    "    print(i)\n",
    "    if i==\"d\":\n",
    "        break\n",
    "           \n",
    "else :\n",
    "    print(\"Sucess\")"
   ]
  },
  {
   "cell_type": "code",
   "execution_count": 16,
   "id": "f5a93c69",
   "metadata": {},
   "outputs": [],
   "source": [
    "#if loop break in between then else will not be executed\n"
   ]
  },
  {
   "cell_type": "code",
   "execution_count": 24,
   "id": "30b5d2c8",
   "metadata": {
    "scrolled": false
   },
   "outputs": [
    {
     "name": "stdout",
     "output_type": "stream",
     "text": [
      "4\n",
      "5\n"
     ]
    }
   ],
   "source": [
    "i=4\n",
    "n=10\n",
    "while i<n:\n",
    "    print(i)\n",
    "    i=i+1\n",
    "    if(i==6):\n",
    "        continue\n",
    "       \n",
    "\n",
    "# this loop will go infinite becuase it never to to incement after 6 \n",
    "\n"
   ]
  },
  {
   "cell_type": "code",
   "execution_count": 28,
   "id": "0412d730",
   "metadata": {},
   "outputs": [
    {
     "name": "stdout",
     "output_type": "stream",
     "text": [
      "sudh\n",
      "kumar\n",
      "1\n",
      "2\n",
      "4\n",
      "6\n"
     ]
    }
   ],
   "source": [
    "l=[\"sudh\",\"kumar\",1,2,4,5,5,6]\n",
    "for i in l:\n",
    "    if i == 5:\n",
    "        continue\n",
    "    print(i)\n",
    "    "
   ]
  },
  {
   "cell_type": "code",
   "execution_count": 29,
   "id": "c94465e6",
   "metadata": {},
   "outputs": [
    {
     "data": {
      "text/plain": [
       "7"
      ]
     },
     "execution_count": 29,
     "metadata": {},
     "output_type": "execute_result"
    }
   ],
   "source": [
    "#inbuild funtions \n",
    "s = \"ineuron\"\n",
    "len(s)"
   ]
  },
  {
   "cell_type": "code",
   "execution_count": 30,
   "id": "3026a371",
   "metadata": {},
   "outputs": [
    {
     "data": {
      "text/plain": [
       "1"
      ]
     },
     "execution_count": 30,
     "metadata": {},
     "output_type": "execute_result"
    }
   ],
   "source": [
    "s.find(\"n\") # find charactor index of first occurance \n",
    "# here press Shift +tab  you will get definitioon of methind"
   ]
  },
  {
   "cell_type": "code",
   "execution_count": 31,
   "id": "31d382b4",
   "metadata": {},
   "outputs": [
    {
     "data": {
      "text/plain": [
       "-1"
      ]
     },
     "execution_count": 31,
     "metadata": {},
     "output_type": "execute_result"
    }
   ],
   "source": [
    "s.find('s') # if not find  then return -1"
   ]
  },
  {
   "cell_type": "code",
   "execution_count": 32,
   "id": "0c0fb6b5",
   "metadata": {},
   "outputs": [
    {
     "data": {
      "text/plain": [
       "2"
      ]
     },
     "execution_count": 32,
     "metadata": {},
     "output_type": "execute_result"
    }
   ],
   "source": [
    "s.find('eu')# ertur 1st char index \n"
   ]
  },
  {
   "cell_type": "code",
   "execution_count": 33,
   "id": "4e1be507",
   "metadata": {},
   "outputs": [
    {
     "data": {
      "text/plain": [
       "2"
      ]
     },
     "execution_count": 33,
     "metadata": {},
     "output_type": "execute_result"
    }
   ],
   "source": [
    "s.count('n') #return no of times char exists"
   ]
  },
  {
   "cell_type": "code",
   "execution_count": 34,
   "id": "601b64c2",
   "metadata": {},
   "outputs": [
    {
     "data": {
      "text/plain": [
       "0"
      ]
     },
     "execution_count": 34,
     "metadata": {},
     "output_type": "execute_result"
    }
   ],
   "source": [
    "s.count('p') # here if not found it return 0"
   ]
  },
  {
   "cell_type": "code",
   "execution_count": 35,
   "id": "2aacb996",
   "metadata": {},
   "outputs": [
    {
     "data": {
      "text/plain": [
       "['ine', 'ron']"
      ]
     },
     "execution_count": 35,
     "metadata": {},
     "output_type": "execute_result"
    }
   ],
   "source": [
    "s.split('u') # split char by u "
   ]
  },
  {
   "cell_type": "code",
   "execution_count": 36,
   "id": "9e891f89",
   "metadata": {},
   "outputs": [
    {
     "data": {
      "text/plain": [
       "'INEURON'"
      ]
     },
     "execution_count": 36,
     "metadata": {},
     "output_type": "execute_result"
    }
   ],
   "source": [
    "s.upper()"
   ]
  },
  {
   "cell_type": "code",
   "execution_count": 37,
   "id": "ed6d5868",
   "metadata": {},
   "outputs": [
    {
     "data": {
      "text/plain": [
       "'ineuron'"
      ]
     },
     "execution_count": 37,
     "metadata": {},
     "output_type": "execute_result"
    }
   ],
   "source": [
    "s=\"Ineuron\"\n",
    "s.lower()"
   ]
  },
  {
   "cell_type": "code",
   "execution_count": 39,
   "id": "5de009d4",
   "metadata": {},
   "outputs": [
    {
     "data": {
      "text/plain": [
       "'iNEURON'"
      ]
     },
     "execution_count": 39,
     "metadata": {},
     "output_type": "execute_result"
    }
   ],
   "source": [
    "s.swapcase() # upppor to lower and vice versos"
   ]
  },
  {
   "cell_type": "code",
   "execution_count": 40,
   "id": "eb90e0ed",
   "metadata": {},
   "outputs": [
    {
     "data": {
      "text/plain": [
       "'Sudhanshu'"
      ]
     },
     "execution_count": 40,
     "metadata": {},
     "output_type": "execute_result"
    }
   ],
   "source": [
    "s=\"Sudhanshu\" # Convert 1st char to capital\n",
    "s.capitalize()"
   ]
  },
  {
   "cell_type": "code",
   "execution_count": 46,
   "id": "3bf3651f",
   "metadata": {},
   "outputs": [
    {
     "data": {
      "text/plain": [
       "['h', 'd', 'u', 's']"
      ]
     },
     "execution_count": 46,
     "metadata": {},
     "output_type": "execute_result"
    }
   ],
   "source": [
    "s=\"sudh\"\n",
    "list(reversed(s))\n"
   ]
  },
  {
   "cell_type": "code",
   "execution_count": 44,
   "id": "617370a8",
   "metadata": {},
   "outputs": [
    {
     "data": {
      "text/plain": [
       "'hdus'"
      ]
     },
     "execution_count": 44,
     "metadata": {},
     "output_type": "execute_result"
    }
   ],
   "source": [
    "s[::-1] # same as "
   ]
  },
  {
   "cell_type": "code",
   "execution_count": 47,
   "id": "d816a76e",
   "metadata": {},
   "outputs": [
    {
     "data": {
      "text/plain": [
       "'ineuron'"
      ]
     },
     "execution_count": 47,
     "metadata": {},
     "output_type": "execute_result"
    }
   ],
   "source": [
    "s=\"ineuron\"\n",
    "s.strip()"
   ]
  },
  {
   "cell_type": "code",
   "execution_count": 49,
   "id": "04d212d4",
   "metadata": {},
   "outputs": [
    {
     "data": {
      "text/plain": [
       "'ineuron'"
      ]
     },
     "execution_count": 49,
     "metadata": {},
     "output_type": "execute_result"
    }
   ],
   "source": [
    "s=\" ineuron\" #remove remove all the  leading and trailing space\n",
    "s.strip()"
   ]
  },
  {
   "cell_type": "code",
   "execution_count": 50,
   "id": "9a2effce",
   "metadata": {},
   "outputs": [
    {
     "data": {
      "text/plain": [
       "'ineuron'"
      ]
     },
     "execution_count": 50,
     "metadata": {},
     "output_type": "execute_result"
    }
   ],
   "source": [
    "s.lstrip() #remove left spaces "
   ]
  },
  {
   "cell_type": "code",
   "execution_count": 51,
   "id": "669bcc25",
   "metadata": {},
   "outputs": [
    {
     "data": {
      "text/plain": [
       "' ineuron'"
      ]
     },
     "execution_count": 51,
     "metadata": {},
     "output_type": "execute_result"
    }
   ],
   "source": [
    "s.rstrip()"
   ]
  },
  {
   "cell_type": "code",
   "execution_count": 55,
   "id": "d0d491b3",
   "metadata": {},
   "outputs": [
    {
     "data": {
      "text/plain": [
       "'w*e*l*c*o*m*e* *i* *n*e*u*o*r*o*n'"
      ]
     },
     "execution_count": 55,
     "metadata": {},
     "output_type": "execute_result"
    }
   ],
   "source": [
    "\"*\".join(\"welcome i neuoron\") # join * for each charactor"
   ]
  },
  {
   "cell_type": "code",
   "execution_count": 57,
   "id": "0ebf0346",
   "metadata": {},
   "outputs": [
    {
     "data": {
      "text/plain": [
       "'xyzudh'"
      ]
     },
     "execution_count": 57,
     "metadata": {},
     "output_type": "execute_result"
    }
   ],
   "source": [
    "s=\"Sudh\"\n",
    "s.replace(\"S\",\"xyz\")"
   ]
  },
  {
   "cell_type": "code",
   "execution_count": 58,
   "id": "d81d6be1",
   "metadata": {},
   "outputs": [
    {
     "name": "stdout",
     "output_type": "stream",
     "text": [
      "My Name is  Dinesh\n"
     ]
    }
   ],
   "source": [
    "print(\"My Name is \",\"Dinesh\")"
   ]
  },
  {
   "cell_type": "code",
   "execution_count": 61,
   "id": "ce647712",
   "metadata": {},
   "outputs": [
    {
     "name": "stdout",
     "output_type": "stream",
     "text": [
      "1699388801200\n",
      "1699406824496\n"
     ]
    }
   ],
   "source": [
    "s=\"Sudh\"\n",
    "print(id(s))\n",
    "s=s.replace('S','A')\n",
    "print(id(s))"
   ]
  },
  {
   "cell_type": "code",
   "execution_count": 63,
   "id": "f8607f57",
   "metadata": {},
   "outputs": [
    {
     "data": {
      "text/plain": [
       "'ccccccccAudhcccccccc'"
      ]
     },
     "execution_count": 63,
     "metadata": {},
     "output_type": "execute_result"
    }
   ],
   "source": [
    "s.center(20,'c')"
   ]
  },
  {
   "cell_type": "code",
   "execution_count": 65,
   "id": "161f1fe6",
   "metadata": {},
   "outputs": [
    {
     "data": {
      "text/plain": [
       "'sudh    ineuron'"
      ]
     },
     "execution_count": 65,
     "metadata": {},
     "output_type": "execute_result"
    }
   ],
   "source": [
    "'sudh\\tineuron'.expandtabs()"
   ]
  },
  {
   "cell_type": "code",
   "execution_count": 76,
   "id": "ea36343e",
   "metadata": {},
   "outputs": [
    {
     "data": {
      "text/plain": [
       "False"
      ]
     },
     "execution_count": 76,
     "metadata": {},
     "output_type": "execute_result"
    }
   ],
   "source": [
    "s=\"\"\n",
    "s.isupper()"
   ]
  },
  {
   "cell_type": "code",
   "execution_count": 71,
   "id": "dd5af7a6",
   "metadata": {},
   "outputs": [
    {
     "data": {
      "text/plain": [
       "False"
      ]
     },
     "execution_count": 71,
     "metadata": {},
     "output_type": "execute_result"
    }
   ],
   "source": [
    "s.islower()"
   ]
  },
  {
   "cell_type": "code",
   "execution_count": 77,
   "id": "6005c478",
   "metadata": {},
   "outputs": [
    {
     "data": {
      "text/plain": [
       "True"
      ]
     },
     "execution_count": 77,
     "metadata": {},
     "output_type": "execute_result"
    }
   ],
   "source": [
    "s.isspace() # it check for space only "
   ]
  },
  {
   "cell_type": "code",
   "execution_count": 78,
   "id": "614ef059",
   "metadata": {},
   "outputs": [
    {
     "data": {
      "text/plain": [
       "False"
      ]
     },
     "execution_count": 78,
     "metadata": {},
     "output_type": "execute_result"
    }
   ],
   "source": [
    "s=\"sudh\"\n",
    "s.isdigit()"
   ]
  },
  {
   "cell_type": "code",
   "execution_count": 79,
   "id": "5b9ca1b5",
   "metadata": {},
   "outputs": [
    {
     "data": {
      "text/plain": [
       "True"
      ]
     },
     "execution_count": 79,
     "metadata": {},
     "output_type": "execute_result"
    }
   ],
   "source": [
    "s=\"sudh1211iu\"\n",
    "s.endswith('iu')"
   ]
  },
  {
   "cell_type": "code",
   "execution_count": 81,
   "id": "cb83fe86",
   "metadata": {},
   "outputs": [
    {
     "data": {
      "text/plain": [
       "True"
      ]
     },
     "execution_count": 81,
     "metadata": {},
     "output_type": "execute_result"
    }
   ],
   "source": [
    "s.startswith('su')"
   ]
  },
  {
   "cell_type": "code",
   "execution_count": 84,
   "id": "ea747b37",
   "metadata": {},
   "outputs": [
    {
     "data": {
      "text/plain": [
       "False"
      ]
     },
     "execution_count": 84,
     "metadata": {},
     "output_type": "execute_result"
    }
   ],
   "source": [
    "s.isalpha()"
   ]
  },
  {
   "cell_type": "code",
   "execution_count": 85,
   "id": "8a4d14de",
   "metadata": {},
   "outputs": [
    {
     "data": {
      "text/plain": [
       "True"
      ]
     },
     "execution_count": 85,
     "metadata": {},
     "output_type": "execute_result"
    }
   ],
   "source": [
    "s.isalnum()# alpha numric "
   ]
  },
  {
   "cell_type": "code",
   "execution_count": 87,
   "id": "1a3dd184",
   "metadata": {},
   "outputs": [
    {
     "data": {
      "text/plain": [
       "'norueni'"
      ]
     },
     "execution_count": 87,
     "metadata": {},
     "output_type": "execute_result"
    }
   ],
   "source": [
    "s=\"ineuron\"\n",
    "i=0\n",
    "s[::-1]\n"
   ]
  },
  {
   "cell_type": "code",
   "execution_count": 98,
   "id": "f380acd2",
   "metadata": {},
   "outputs": [],
   "source": [
    "c=len(s)-1\n",
    "o=\"\"\n",
    "while(c>=0):\n",
    "    print(s[c])\n",
    "    o=o+o[c]\n",
    "    c=c-1\n",
    "    print(o)"
   ]
  },
  {
   "cell_type": "code",
   "execution_count": 99,
   "id": "6cf5c937",
   "metadata": {},
   "outputs": [
    {
     "name": "stdout",
     "output_type": "stream",
     "text": [
      "My name is \n"
     ]
    }
   ],
   "source": [
    "s=\"sudh\" # format operation\n",
    "print(\"My name is \")\n"
   ]
  },
  {
   "cell_type": "code",
   "execution_count": 100,
   "id": "d620615e",
   "metadata": {},
   "outputs": [
    {
     "data": {
      "text/plain": [
       "'My Name is Dinesh'"
      ]
     },
     "execution_count": 100,
     "metadata": {},
     "output_type": "execute_result"
    }
   ],
   "source": [
    "\"My Name is {0}\".format(\"Dinesh\")"
   ]
  },
  {
   "cell_type": "code",
   "execution_count": 104,
   "id": "8d0ad2f3",
   "metadata": {},
   "outputs": [
    {
     "name": "stdout",
     "output_type": "stream",
     "text": [
      "enter your namename\n",
      "enter your School nameschool\n",
      "enter your education nameedu\n"
     ]
    },
    {
     "data": {
      "text/plain": [
       "'My Name is name, and school name is school, education edu  '"
      ]
     },
     "execution_count": 104,
     "metadata": {},
     "output_type": "execute_result"
    }
   ],
   "source": [
    "name=input(\"enter your name\")\n",
    "schoolname=input(\"enter your School name\")\n",
    "education=input(\"enter your education name\")\n",
    "\"My Name is {}, and school name is {}, education {}  \".format(name,schoolname,education)"
   ]
  },
  {
   "cell_type": "code",
   "execution_count": 108,
   "id": "96ec949a",
   "metadata": {},
   "outputs": [
    {
     "data": {
      "text/plain": [
       "8"
      ]
     },
     "execution_count": 108,
     "metadata": {},
     "output_type": "execute_result"
    }
   ],
   "source": [
    "#list inbuild functions\n",
    "l=[1,2,3,4,5,5,\"sudh\",\"kumar\"]\n",
    "len(l)"
   ]
  },
  {
   "cell_type": "code",
   "execution_count": 110,
   "id": "a9a92566",
   "metadata": {
    "scrolled": true
   },
   "outputs": [
    {
     "data": {
      "text/plain": [
       "True"
      ]
     },
     "execution_count": 110,
     "metadata": {},
     "output_type": "execute_result"
    }
   ],
   "source": [
    "\"sudh\" in l\n"
   ]
  },
  {
   "cell_type": "markdown",
   "id": "5b8fa81d",
   "metadata": {},
   "source": [
    "12123 in l"
   ]
  },
  {
   "cell_type": "code",
   "execution_count": 111,
   "id": "8e26622c",
   "metadata": {},
   "outputs": [
    {
     "data": {
      "text/plain": [
       "False"
      ]
     },
     "execution_count": 111,
     "metadata": {},
     "output_type": "execute_result"
    }
   ],
   "source": [
    "23445 in l"
   ]
  },
  {
   "cell_type": "code",
   "execution_count": 112,
   "id": "171494ae",
   "metadata": {},
   "outputs": [
    {
     "data": {
      "text/plain": [
       "[1, 2, 3, 4, 5, 5, 'sudh', 'kumar']"
      ]
     },
     "execution_count": 112,
     "metadata": {},
     "output_type": "execute_result"
    }
   ],
   "source": [
    "l"
   ]
  },
  {
   "cell_type": "code",
   "execution_count": 114,
   "id": "cb23f732",
   "metadata": {},
   "outputs": [
    {
     "data": {
      "text/plain": [
       "[1, 2, 3, 4, 5, 5, 'sudh', 'kumar', 'Computer', 'Computer']"
      ]
     },
     "execution_count": 114,
     "metadata": {},
     "output_type": "execute_result"
    }
   ],
   "source": [
    "l.append(\"Computer\")\n",
    "l\n"
   ]
  },
  {
   "cell_type": "code",
   "execution_count": 116,
   "id": "ad275ec1",
   "metadata": {},
   "outputs": [
    {
     "data": {
      "text/plain": [
       "[1,\n",
       " 2,\n",
       " 3,\n",
       " 4,\n",
       " 5,\n",
       " 5,\n",
       " 'sudh',\n",
       " 'kumar',\n",
       " 'Computer',\n",
       " 'Computer',\n",
       " [2, 3, 4],\n",
       " [2, 3, 4]]"
      ]
     },
     "execution_count": 116,
     "metadata": {},
     "output_type": "execute_result"
    }
   ],
   "source": [
    "l.append([2,3,4])\n",
    "l"
   ]
  },
  {
   "cell_type": "code",
   "execution_count": 117,
   "id": "be431be8",
   "metadata": {},
   "outputs": [
    {
     "data": {
      "text/plain": [
       "[2, 3, 4]"
      ]
     },
     "execution_count": 117,
     "metadata": {},
     "output_type": "execute_result"
    }
   ],
   "source": [
    "l.pop()"
   ]
  },
  {
   "cell_type": "code",
   "execution_count": 118,
   "id": "60bf227f",
   "metadata": {},
   "outputs": [
    {
     "data": {
      "text/plain": [
       "[1, 2, 3, 4, 5, 5, 'sudh', 'kumar', 'Computer', 'Computer', [2, 3, 4]]"
      ]
     },
     "execution_count": 118,
     "metadata": {},
     "output_type": "execute_result"
    }
   ],
   "source": [
    "l"
   ]
  },
  {
   "cell_type": "code",
   "execution_count": 119,
   "id": "ca3ee64c",
   "metadata": {},
   "outputs": [
    {
     "data": {
      "text/plain": [
       "[2, 3, 4]"
      ]
     },
     "execution_count": 119,
     "metadata": {},
     "output_type": "execute_result"
    }
   ],
   "source": [
    "l.pop() # remove last index"
   ]
  },
  {
   "cell_type": "code",
   "execution_count": 120,
   "id": "520d9a20",
   "metadata": {},
   "outputs": [
    {
     "data": {
      "text/plain": [
       "[1, 2, 3, 4, 5, 5, 'sudh', 'kumar', 'Computer', 'Computer']"
      ]
     },
     "execution_count": 120,
     "metadata": {},
     "output_type": "execute_result"
    }
   ],
   "source": [
    "l"
   ]
  },
  {
   "cell_type": "code",
   "execution_count": 121,
   "id": "4db6df39",
   "metadata": {},
   "outputs": [
    {
     "data": {
      "text/plain": [
       "2"
      ]
     },
     "execution_count": 121,
     "metadata": {},
     "output_type": "execute_result"
    }
   ],
   "source": [
    "l.pop(1)# index wise"
   ]
  },
  {
   "cell_type": "code",
   "execution_count": 122,
   "id": "478621de",
   "metadata": {},
   "outputs": [
    {
     "data": {
      "text/plain": [
       "[1, 3, 4, 5, 5, 'sudh', 'kumar', 'Computer', 'Computer']"
      ]
     },
     "execution_count": 122,
     "metadata": {},
     "output_type": "execute_result"
    }
   ],
   "source": [
    "l\n"
   ]
  },
  {
   "cell_type": "code",
   "execution_count": 124,
   "id": "87353222",
   "metadata": {
    "collapsed": true
   },
   "outputs": [
    {
     "data": {
      "text/plain": [
       "['Computer', 'Computer', 'kumar', 'sudh', 5, 5, 4, 3, 1]"
      ]
     },
     "execution_count": 124,
     "metadata": {},
     "output_type": "execute_result"
    }
   ],
   "source": [
    "l.reverse()\n",
    "l"
   ]
  },
  {
   "cell_type": "code",
   "execution_count": 127,
   "id": "c44922f5",
   "metadata": {},
   "outputs": [
    {
     "data": {
      "text/plain": [
       "['Dinesh', 'Computer', 'Dinesh', 'Computer', 'kumar', 'sudh', 5, 5, 4, 3, 1]"
      ]
     },
     "execution_count": 127,
     "metadata": {},
     "output_type": "execute_result"
    }
   ],
   "source": [
    "l.insert(2,\"Dinesh\")\n",
    "l"
   ]
  },
  {
   "cell_type": "code",
   "execution_count": 128,
   "id": "182d6c6f",
   "metadata": {},
   "outputs": [],
   "source": [
    "l.insert(25,\"Dinesh\")"
   ]
  },
  {
   "cell_type": "code",
   "execution_count": 129,
   "id": "f90803d6",
   "metadata": {},
   "outputs": [
    {
     "data": {
      "text/plain": [
       "['Dinesh',\n",
       " 'Computer',\n",
       " 'Dinesh',\n",
       " 'Computer',\n",
       " 'kumar',\n",
       " 'sudh',\n",
       " 5,\n",
       " 5,\n",
       " 4,\n",
       " 3,\n",
       " 1,\n",
       " 'Dinesh']"
      ]
     },
     "execution_count": 129,
     "metadata": {},
     "output_type": "execute_result"
    }
   ],
   "source": [
    "l"
   ]
  },
  {
   "cell_type": "code",
   "execution_count": 131,
   "id": "f9cc86cd",
   "metadata": {
    "collapsed": true
   },
   "outputs": [
    {
     "data": {
      "text/plain": [
       "['Computer', 'Dinesh', 'Computer', 'kumar', 'sudh', 5, 5, 4, 3, 1, 'Dinesh']"
      ]
     },
     "execution_count": 131,
     "metadata": {},
     "output_type": "execute_result"
    }
   ],
   "source": [
    "l.remove(\"Dinesh\")\n",
    "l"
   ]
  },
  {
   "cell_type": "code",
   "execution_count": 132,
   "id": "c40167fa",
   "metadata": {},
   "outputs": [
    {
     "data": {
      "text/plain": [
       "[1, 2, 3, 4, 5, 6, 45, 46, 47, 48]"
      ]
     },
     "execution_count": 132,
     "metadata": {},
     "output_type": "execute_result"
    }
   ],
   "source": [
    "l=[1,2,3,4,5,6]\n",
    "l1=[45,46,47,48]\n",
    "l+l1\n",
    "\n"
   ]
  },
  {
   "cell_type": "code",
   "execution_count": 134,
   "id": "55284f40",
   "metadata": {},
   "outputs": [
    {
     "data": {
      "text/plain": [
       "[1, 2, 3, 4, 5, 6, [45, 46, 47, 48], [45, 46, 47, 48]]"
      ]
     },
     "execution_count": 134,
     "metadata": {},
     "output_type": "execute_result"
    }
   ],
   "source": [
    "l.append(l1)\n",
    "l"
   ]
  },
  {
   "cell_type": "code",
   "execution_count": 135,
   "id": "6f1247b8",
   "metadata": {},
   "outputs": [],
   "source": [
    "l.insert(-1,l1)"
   ]
  },
  {
   "cell_type": "code",
   "execution_count": 136,
   "id": "cb519614",
   "metadata": {},
   "outputs": [
    {
     "data": {
      "text/plain": [
       "[1, 2, 3, 4, 5, 6, [45, 46, 47, 48], [45, 46, 47, 48], [45, 46, 47, 48]]"
      ]
     },
     "execution_count": 136,
     "metadata": {},
     "output_type": "execute_result"
    }
   ],
   "source": [
    "l"
   ]
  },
  {
   "cell_type": "code",
   "execution_count": 137,
   "id": "8c9f044a",
   "metadata": {},
   "outputs": [],
   "source": [
    "l.extend(l1) # it unwrap and then add element only \n",
    "#insert insert list "
   ]
  },
  {
   "cell_type": "code",
   "execution_count": 138,
   "id": "230246fd",
   "metadata": {},
   "outputs": [
    {
     "data": {
      "text/plain": [
       "[1,\n",
       " 2,\n",
       " 3,\n",
       " 4,\n",
       " 5,\n",
       " 6,\n",
       " [45, 46, 47, 48],\n",
       " [45, 46, 47, 48],\n",
       " [45, 46, 47, 48],\n",
       " 45,\n",
       " 46,\n",
       " 47,\n",
       " 48]"
      ]
     },
     "execution_count": 138,
     "metadata": {},
     "output_type": "execute_result"
    }
   ],
   "source": [
    "l"
   ]
  },
  {
   "cell_type": "code",
   "execution_count": 139,
   "id": "d36d7fa8",
   "metadata": {},
   "outputs": [
    {
     "data": {
      "text/plain": [
       "['my', 'name', 'is', 'sudh']"
      ]
     },
     "execution_count": 139,
     "metadata": {},
     "output_type": "execute_result"
    }
   ],
   "source": [
    "s=\"my name is sudh\"\n",
    "s.split()"
   ]
  },
  {
   "cell_type": "code",
   "execution_count": 141,
   "id": "6db7ebb5",
   "metadata": {},
   "outputs": [
    {
     "name": "stdout",
     "output_type": "stream",
     "text": [
      "my\n",
      "name\n",
      "is\n",
      "sudh\n"
     ]
    }
   ],
   "source": [
    "for i in s.split():\n",
    "    print(i)\n"
   ]
  },
  {
   "cell_type": "code",
   "execution_count": 142,
   "id": "d23cf118",
   "metadata": {},
   "outputs": [
    {
     "name": "stdout",
     "output_type": "stream",
     "text": [
      "1\n",
      "4\n",
      "9\n",
      "16\n",
      "25\n",
      "3136\n"
     ]
    }
   ],
   "source": [
    "l=[1,2,3,4,5,56]\n",
    "for i in l :\n",
    "    print(i*i)\n"
   ]
  },
  {
   "cell_type": "code",
   "execution_count": 147,
   "id": "19513fca",
   "metadata": {},
   "outputs": [
    {
     "data": {
      "text/plain": [
       "[1, 4, 9, 16, 25, 3136]"
      ]
     },
     "execution_count": 147,
     "metadata": {},
     "output_type": "execute_result"
    }
   ],
   "source": [
    "#list comprehension\n",
    "l=[1,2,3,4,5,56]\n",
    "[i**2 for i in l]\n",
    "    "
   ]
  },
  {
   "cell_type": "code",
   "execution_count": 19,
   "id": "e52fcae4",
   "metadata": {},
   "outputs": [
    {
     "data": {
      "text/plain": [
       "['s', 'u', 'd', 'h', 'a']"
      ]
     },
     "execution_count": 19,
     "metadata": {},
     "output_type": "execute_result"
    }
   ],
   "source": [
    "s=\"sudha\"\n",
    "[i  for i in s]"
   ]
  },
  {
   "cell_type": "code",
   "execution_count": 156,
   "id": "a05b08b6",
   "metadata": {},
   "outputs": [
    {
     "name": "stdout",
     "output_type": "stream",
     "text": [
      "9\n",
      "13\n"
     ]
    },
    {
     "ename": "IndexError",
     "evalue": "list index out of range",
     "output_type": "error",
     "traceback": [
      "\u001b[1;31m---------------------------------------------------------------------------\u001b[0m",
      "\u001b[1;31mIndexError\u001b[0m                                Traceback (most recent call last)",
      "\u001b[1;32m<ipython-input-156-fadef94aefd8>\u001b[0m in \u001b[0;36m<module>\u001b[1;34m\u001b[0m\n\u001b[0;32m      5\u001b[0m \u001b[1;32mfor\u001b[0m \u001b[0mi\u001b[0m \u001b[1;32min\u001b[0m \u001b[0me\u001b[0m\u001b[1;33m:\u001b[0m\u001b[1;33m\u001b[0m\u001b[1;33m\u001b[0m\u001b[0m\n\u001b[0;32m      6\u001b[0m     \u001b[1;32mfor\u001b[0m \u001b[0mj\u001b[0m \u001b[1;32min\u001b[0m \u001b[0mo\u001b[0m\u001b[1;33m:\u001b[0m\u001b[1;33m\u001b[0m\u001b[1;33m\u001b[0m\u001b[0m\n\u001b[1;32m----> 7\u001b[1;33m         \u001b[0mprint\u001b[0m\u001b[1;33m(\u001b[0m\u001b[0me\u001b[0m\u001b[1;33m[\u001b[0m\u001b[0mi\u001b[0m\u001b[1;33m]\u001b[0m\u001b[1;33m+\u001b[0m\u001b[0mo\u001b[0m\u001b[1;33m[\u001b[0m\u001b[0mj\u001b[0m\u001b[1;33m]\u001b[0m\u001b[1;33m)\u001b[0m\u001b[1;33m\u001b[0m\u001b[1;33m\u001b[0m\u001b[0m\n\u001b[0m\u001b[0;32m      8\u001b[0m \u001b[1;33m\u001b[0m\u001b[0m\n\u001b[0;32m      9\u001b[0m \u001b[1;33m\u001b[0m\u001b[0m\n",
      "\u001b[1;31mIndexError\u001b[0m: list index out of range"
     ]
    }
   ],
   "source": [
    "#create seprate list of even and od no of size 10 and perform element sie adddtion\n",
    "e=[2,4,6,8,10]\n",
    "\n",
    "o=[1,3,5,7,9]\n",
    "for i in e:\n",
    "    for j in o:\n",
    "        print(e[i]+o[j])\n",
    "    \n",
    "\n",
    "\n"
   ]
  },
  {
   "cell_type": "code",
   "execution_count": 1,
   "id": "2f45a013",
   "metadata": {},
   "outputs": [
    {
     "data": {
      "text/plain": [
       "'\\n1- Write list comprehension operation for generate all \\nthe list of  alphabetical chars in upper and lower case \\nQ2-Write a code for pelindrom by using while stateement\\nQ3-Write a code to sort string in alphabetical orde \\nwithout using sort functions\\n'"
      ]
     },
     "execution_count": 1,
     "metadata": {},
     "output_type": "execute_result"
    }
   ],
   "source": [
    "#Assignemnt 1\n",
    "\"\"\"\n",
    "1- Write list comprehension operation for generate all \n",
    "the list of  alphabetical chars in upper and lower case \n",
    "Q2-Write a code for pelindrom by using while stateement\n",
    "Q3-Write a code to sort string in alphabetical order \n",
    "without using sort functions\n",
    "\"\"\"\n"
   ]
  },
  {
   "cell_type": "code",
   "execution_count": 26,
   "id": "558f8703",
   "metadata": {},
   "outputs": [
    {
     "name": "stdout",
     "output_type": "stream",
     "text": [
      "['A', 'B', 'C', 'D', 'E', 'F', 'G', 'H', 'I', 'J', 'K', 'L', 'M', 'N', 'O', 'P', 'Q', 'R', 'S', 'T', 'U', 'V', 'W', 'X', 'Y', 'Z']\n",
      "['a', 'b', 'c', 'd', 'e', 'f', 'g', 'h', 'i', 'j', 'k', 'l', 'm', 'n', 'o', 'p', 'q', 'r', 's', 't', 'u', 'v', 'w', 'x', 'y', 'z']\n"
     ]
    }
   ],
   "source": [
    "#Write list comprehension operation for generate all the list of  alphabetical chars in upper and lower case \n",
    "l=list(range(65,91))\n",
    "u=[chr(i).upper() for i in l]\n",
    "print(u)\n",
    "l=[chr(i).lower() for i in l]\n",
    "print(l)\n",
    "\n",
    "\n",
    "    \n"
   ]
  },
  {
   "cell_type": "code",
   "execution_count": 48,
   "id": "2c1d91a7",
   "metadata": {},
   "outputs": [
    {
     "name": "stdout",
     "output_type": "stream",
     "text": [
      "Type your input to check palindrome  2002\n",
      "input is  pallendrome\n"
     ]
    }
   ],
   "source": [
    "#Write a code for pelindrom by using while stateement\n",
    "uservalue=list(input(\"Type your input to check palindrome  \"))\n",
    "i=len(uservalue)-1\n",
    "Output=[]\n",
    "#print(i)\n",
    "output=\"\";\n",
    "while i>=0:\n",
    "    Output.append(uservalue[i])\n",
    "    i = i-1\n",
    "\n",
    "if(uservalue==Output):\n",
    "    print(\"input is  pallendrome\")\n",
    "else :\n",
    "     print(\"input is not pallendrome\")\n",
    "\n",
    "  \n",
    "    \n",
    "    \n",
    "    \n",
    "    \n"
   ]
  },
  {
   "cell_type": "code",
   "execution_count": null,
   "id": "a1c126fd",
   "metadata": {},
   "outputs": [],
   "source": [
    "#Q3-Write a code to sort string in alphabetical order \n",
    "#without using sort functions\n",
    "s=input(\"Please Enter value \")\n",
    "hexstring=s.encode(\"utf-8\").hex()\n",
    "print(s)\n",
    "print(hexstring)\n",
    "for i in s:\n",
    "    if (s.find(i)i.encode(\"utf-8\").hex()<)\n",
    "    print(i.encode(\"utf-8\").hex())\n",
    "        "
   ]
  },
  {
   "cell_type": "code",
   "execution_count": null,
   "id": "13c3882e",
   "metadata": {},
   "outputs": [],
   "source": []
  }
 ],
 "metadata": {
  "kernelspec": {
   "display_name": "Python 3",
   "language": "python",
   "name": "python3"
  },
  "language_info": {
   "codemirror_mode": {
    "name": "ipython",
    "version": 3
   },
   "file_extension": ".py",
   "mimetype": "text/x-python",
   "name": "python",
   "nbconvert_exporter": "python",
   "pygments_lexer": "ipython3",
   "version": "3.8.8"
  }
 },
 "nbformat": 4,
 "nbformat_minor": 5
}
