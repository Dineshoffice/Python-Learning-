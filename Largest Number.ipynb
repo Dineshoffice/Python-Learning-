{
 "cells": [
  {
   "cell_type": "code",
   "execution_count": 1,
   "id": "374d85af",
   "metadata": {},
   "outputs": [],
   "source": [
    "#Assignment for get largets Number \n"
   ]
  },
  {
   "cell_type": "code",
   "execution_count": 1,
   "id": "55b8f863",
   "metadata": {},
   "outputs": [
    {
     "name": "stdout",
     "output_type": "stream",
     "text": [
      "190\n"
     ]
    }
   ],
   "source": [
    "#Assignment for get largets Number from dictionary \n",
    "#using function/method\n",
    "d={\"ineuron\":{\"a\":23,\"b\":34,\"c\":56},'course':{'d':160,'e':12,\"Sublist\":[1,2,167.40,12]},\"xyz\":99,'f':168.29,\"bool\":True,\"comp\":7+8j,\n",
    "   'list':[1,2,3,4,130],'tuple':(1,2,135,190),\"set\":{1,2,140,12,2.345}}\n",
    "\n",
    "#get max number                \n",
    "def  GetMaxNumber( a, b):\n",
    "    #print(b)\n",
    "    returnvalue=a;\n",
    "    obtype=type(b) #determine object type before do any operation\n",
    "    if(obtype==bool or obtype==str or obtype==complex ):\n",
    "        returnvalue=a\n",
    "       \n",
    "    elif (obtype == int or obtype==float ):\n",
    "            if(returnvalue<b):\n",
    "                returnvalue=b\n",
    "           \n",
    "    elif obtype == dict:\n",
    "        for j in b.values():\n",
    "            returnvalue=GetMaxNumber(returnvalue,j)\n",
    "             \n",
    "        \n",
    "    elif obtype == list or obtype == tuple :  \n",
    "        for j in b:\n",
    "            returnvalue= GetMaxNumber(returnvalue,j)\n",
    "            \n",
    "    elif obtype == set:\n",
    "         for j in list(b):\n",
    "                returnvalue=GetMaxNumber(returnvalue,j)\n",
    "    else:\n",
    "        returnvalue=a\n",
    "    return returnvalue        \n",
    "    \n",
    "\n",
    "\n",
    "maxno=float(\"0.0\")\n",
    "\n",
    "for i in d.values():\n",
    "    objecttype=type(i) #determine object type before do any operation\n",
    "    maxno= GetMaxNumber(maxno,i)\n",
    "    \n",
    "    \n",
    "        \n",
    "print(maxno)\n",
    " "
   ]
  },
  {
   "cell_type": "code",
   "execution_count": null,
   "id": "a9b6a48f",
   "metadata": {},
   "outputs": [],
   "source": []
  }
 ],
 "metadata": {
  "kernelspec": {
   "display_name": "Python 3",
   "language": "python",
   "name": "python3"
  },
  "language_info": {
   "codemirror_mode": {
    "name": "ipython",
    "version": 3
   },
   "file_extension": ".py",
   "mimetype": "text/x-python",
   "name": "python",
   "nbconvert_exporter": "python",
   "pygments_lexer": "ipython3",
   "version": "3.8.8"
  }
 },
 "nbformat": 4,
 "nbformat_minor": 5
}
