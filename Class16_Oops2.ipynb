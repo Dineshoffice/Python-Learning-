{
 "cells": [
  {
   "cell_type": "code",
   "execution_count": 1,
   "id": "0fd8a97e",
   "metadata": {},
   "outputs": [],
   "source": [
    "#classe and obejct "
   ]
  },
  {
   "cell_type": "code",
   "execution_count": 2,
   "id": "0eed69d4",
   "metadata": {},
   "outputs": [],
   "source": [
    "class Test:\n",
    "    pass\n"
   ]
  },
  {
   "cell_type": "code",
   "execution_count": 4,
   "id": "d5d92ca1",
   "metadata": {},
   "outputs": [],
   "source": [
    "a=Test()"
   ]
  },
  {
   "cell_type": "code",
   "execution_count": 5,
   "id": "f072f6cf",
   "metadata": {},
   "outputs": [],
   "source": [
    "b=Test()\n",
    "b.name=\"Krish\"\n",
    "b.Ph_name=236263626\n",
    "b.surname=\"Patel\""
   ]
  },
  {
   "cell_type": "code",
   "execution_count": 6,
   "id": "4a20737a",
   "metadata": {},
   "outputs": [
    {
     "data": {
      "text/plain": [
       "'Krish'"
      ]
     },
     "execution_count": 6,
     "metadata": {},
     "output_type": "execute_result"
    }
   ],
   "source": [
    "b.name"
   ]
  },
  {
   "cell_type": "code",
   "execution_count": 11,
   "id": "f8a8915b",
   "metadata": {},
   "outputs": [],
   "source": [
    "class Test1:\n",
    "    #Declare inbuild funtion/method\n",
    "    def __init__(self ,name,ph_no,surname):\n",
    "        self.name=name\n",
    "        self.ph_no=ph_no\n",
    "        self.surname=surname\n",
    "        "
   ]
  },
  {
   "cell_type": "code",
   "execution_count": 12,
   "id": "46b167dd",
   "metadata": {},
   "outputs": [
    {
     "ename": "TypeError",
     "evalue": "__init__() missing 3 required positional arguments: 'name', 'ph_no', and 'surname'",
     "output_type": "error",
     "traceback": [
      "\u001b[1;31m---------------------------------------------------------------------------\u001b[0m",
      "\u001b[1;31mTypeError\u001b[0m                                 Traceback (most recent call last)",
      "\u001b[1;32m<ipython-input-12-1d3ad2a6e560>\u001b[0m in \u001b[0;36m<module>\u001b[1;34m\u001b[0m\n\u001b[1;32m----> 1\u001b[1;33m \u001b[0mc\u001b[0m\u001b[1;33m=\u001b[0m\u001b[0mTest1\u001b[0m\u001b[1;33m(\u001b[0m\u001b[1;33m)\u001b[0m\u001b[1;33m\u001b[0m\u001b[1;33m\u001b[0m\u001b[0m\n\u001b[0m",
      "\u001b[1;31mTypeError\u001b[0m: __init__() missing 3 required positional arguments: 'name', 'ph_no', and 'surname'"
     ]
    }
   ],
   "source": [
    "c=Test1()"
   ]
  },
  {
   "cell_type": "code",
   "execution_count": 9,
   "id": "92bd553e",
   "metadata": {},
   "outputs": [],
   "source": [
    "#it will not work as we need to pass there variable to s\n",
    "#simlier to constructor \n"
   ]
  },
  {
   "cell_type": "code",
   "execution_count": 13,
   "id": "5c626ab5",
   "metadata": {},
   "outputs": [],
   "source": [
    "#correct way \n",
    "c=Test1(\"Dinesh\",12121,'Kumar')"
   ]
  },
  {
   "cell_type": "code",
   "execution_count": 14,
   "id": "e02db9f0",
   "metadata": {},
   "outputs": [
    {
     "name": "stdout",
     "output_type": "stream",
     "text": [
      "Dinesh\n"
     ]
    }
   ],
   "source": [
    "print(c.name)"
   ]
  },
  {
   "cell_type": "code",
   "execution_count": 15,
   "id": "dc51c1f7",
   "metadata": {},
   "outputs": [
    {
     "data": {
      "text/plain": [
       "12121"
      ]
     },
     "execution_count": 15,
     "metadata": {},
     "output_type": "execute_result"
    }
   ],
   "source": [
    "c.ph_no"
   ]
  },
  {
   "cell_type": "code",
   "execution_count": 16,
   "id": "ea908944",
   "metadata": {},
   "outputs": [],
   "source": [
    "t=Test1(\"Krish\",\"81828121212\",\"Naik\")"
   ]
  },
  {
   "cell_type": "code",
   "execution_count": 17,
   "id": "056c3a60",
   "metadata": {},
   "outputs": [
    {
     "data": {
      "text/plain": [
       "'Krish'"
      ]
     },
     "execution_count": 17,
     "metadata": {},
     "output_type": "execute_result"
    }
   ],
   "source": [
    "t.name"
   ]
  },
  {
   "cell_type": "code",
   "execution_count": 18,
   "id": "5c02f1ec",
   "metadata": {},
   "outputs": [],
   "source": [
    "#we were creating construnctor"
   ]
  },
  {
   "cell_type": "code",
   "execution_count": 24,
   "id": "6acbbf7e",
   "metadata": {},
   "outputs": [],
   "source": [
    "#it might be linke \n",
    "class Test2:\n",
    "    #Declare inbuild funtion/method\n",
    "    def __init__(sudh ,name,ph_no,surname):\n",
    "        sudh.name1=name\n",
    "        sudh.ph_no1=ph_no\n",
    "        sudh.surname1=surname"
   ]
  },
  {
   "cell_type": "code",
   "execution_count": 20,
   "id": "b30574f4",
   "metadata": {},
   "outputs": [],
   "source": [
    "#1st variable is use for pointer declation , it is\n",
    "# not limited to self keyword"
   ]
  },
  {
   "cell_type": "code",
   "execution_count": 25,
   "id": "de62eae3",
   "metadata": {},
   "outputs": [],
   "source": [
    "obj=Test2(\"var name\",\"var phone\",\"var surname\")\n"
   ]
  },
  {
   "cell_type": "code",
   "execution_count": 27,
   "id": "62d5fc78",
   "metadata": {},
   "outputs": [
    {
     "data": {
      "text/plain": [
       "'var name'"
      ]
     },
     "execution_count": 27,
     "metadata": {},
     "output_type": "execute_result"
    }
   ],
   "source": [
    "obj.name1"
   ]
  },
  {
   "cell_type": "code",
   "execution_count": 28,
   "id": "8fb16c27",
   "metadata": {},
   "outputs": [],
   "source": [
    "#name1 is use like a property \n"
   ]
  },
  {
   "cell_type": "code",
   "execution_count": 65,
   "id": "23f58ff0",
   "metadata": {},
   "outputs": [],
   "source": [
    "class Car :\n",
    "    #constructor declaration\n",
    "    def __init__(self,year,make,model,engine_type,tyre_type):\n",
    "        self.year=year\n",
    "        self.make=make\n",
    "        self.model=model\n",
    "        self.engine_type=engine_type\n",
    "        self.tyre_type=tyre_type\n",
    "    #function declation here always mention point called self\n",
    "    #it can not be same as variable \n",
    "    def Get_engineType(self):\n",
    "        return self.engine_type\n",
    "    \n",
    "    #Override inbuild function\n",
    "    def __str__(self):\n",
    "        return \"this is my car class\"\n",
    "        \n",
    "    "
   ]
  },
  {
   "cell_type": "code",
   "execution_count": 62,
   "id": "3cf1169a",
   "metadata": {},
   "outputs": [],
   "source": [
    "audi=Car(2021,'Model','Q7',\"1200cc\",\"MRF\")"
   ]
  },
  {
   "cell_type": "code",
   "execution_count": 56,
   "id": "358209f1",
   "metadata": {},
   "outputs": [
    {
     "data": {
      "text/plain": [
       "'1200cc'"
      ]
     },
     "execution_count": 56,
     "metadata": {},
     "output_type": "execute_result"
    }
   ],
   "source": [
    "#calling a function from class\n",
    "audi.Get_engineType()"
   ]
  },
  {
   "cell_type": "code",
   "execution_count": 44,
   "id": "0a4a382e",
   "metadata": {},
   "outputs": [],
   "source": [
    "fortuner=Car(2020,'Fortuner','Fortuner',\"1800cc\",\"Appolo\")"
   ]
  },
  {
   "cell_type": "code",
   "execution_count": 45,
   "id": "8bde2663",
   "metadata": {},
   "outputs": [
    {
     "data": {
      "text/plain": [
       "'Fortuner'"
      ]
     },
     "execution_count": 45,
     "metadata": {},
     "output_type": "execute_result"
    }
   ],
   "source": [
    "fortuner.model"
   ]
  },
  {
   "cell_type": "code",
   "execution_count": 57,
   "id": "991be5d1",
   "metadata": {},
   "outputs": [
    {
     "name": "stdout",
     "output_type": "stream",
     "text": [
      "<__main__.Car object at 0x00000217FE5ED9A0>\n"
     ]
    }
   ],
   "source": [
    "print (audi)"
   ]
  },
  {
   "cell_type": "code",
   "execution_count": 58,
   "id": "576b09ce",
   "metadata": {},
   "outputs": [
    {
     "data": {
      "text/plain": [
       "<__main__.Car at 0x217fe5ed9a0>"
      ]
     },
     "execution_count": 58,
     "metadata": {},
     "output_type": "execute_result"
    }
   ],
   "source": [
    "#print custom string \n",
    "audi"
   ]
  },
  {
   "cell_type": "code",
   "execution_count": 60,
   "id": "960e37e2",
   "metadata": {},
   "outputs": [],
   "source": [
    "#it is not printing readable information \n",
    "#delcate overridden method called str\n"
   ]
  },
  {
   "cell_type": "code",
   "execution_count": 64,
   "id": "f0488e72",
   "metadata": {},
   "outputs": [
    {
     "data": {
      "text/plain": [
       "<__main__.Car at 0x217fe5d8310>"
      ]
     },
     "execution_count": 64,
     "metadata": {},
     "output_type": "execute_result"
    }
   ],
   "source": [
    "audi"
   ]
  },
  {
   "cell_type": "code",
   "execution_count": 77,
   "id": "539c884f",
   "metadata": {},
   "outputs": [],
   "source": [
    "#Data manipulation\n",
    "import pandas as pd\n",
    "class DataManupulation :\n",
    "    #constructor\n",
    "    def __init__(self,read_csv,read_excel,read_db):\n",
    "        self.read_csv=read_csv\n",
    "        self.read_excel=read_excel\n",
    "        self.read_db=read_db\n",
    "    def Get_CSV_Data(self):\n",
    "        f=pd.read_csv(\"https://raw.githubusercontent.com/codeforamerica/ohana-api/master/data/sample-csv/addresses.csv\")\n",
    "        return f\n",
    "        return \"data from csv\"\n",
    "    def Get_Excel_Data(self):\n",
    "        return \"Read from excel\"\n",
    "    def Get_Database_Data(self):\n",
    "        return \"Read from database\"\n",
    "        \n",
    "        "
   ]
  },
  {
   "cell_type": "code",
   "execution_count": 68,
   "id": "579c666a",
   "metadata": {},
   "outputs": [],
   "source": [
    "readdata=DataManupulation(\"CSV\",\"excel\",\"database\")"
   ]
  },
  {
   "cell_type": "code",
   "execution_count": 69,
   "id": "f8b26e40",
   "metadata": {},
   "outputs": [
    {
     "data": {
      "text/plain": [
       "'data from csv'"
      ]
     },
     "execution_count": 69,
     "metadata": {},
     "output_type": "execute_result"
    }
   ],
   "source": [
    "readdata.read_csv1()\n",
    "\n"
   ]
  },
  {
   "cell_type": "code",
   "execution_count": 74,
   "id": "e45b855d",
   "metadata": {},
   "outputs": [],
   "source": [
    "#take one concept to read by using this class concept  excelsheet read something from csv, excel and database(mongo db atlas)\n",
    "\n"
   ]
  },
  {
   "cell_type": "code",
   "execution_count": 75,
   "id": "0c122cf3",
   "metadata": {},
   "outputs": [],
   "source": [
    "data=DataManupulation(a,b,c)"
   ]
  },
  {
   "cell_type": "code",
   "execution_count": 78,
   "id": "41fd80e2",
   "metadata": {},
   "outputs": [
    {
     "ename": "NameError",
     "evalue": "name 'f' is not defined",
     "output_type": "error",
     "traceback": [
      "\u001b[1;31m---------------------------------------------------------------------------\u001b[0m",
      "\u001b[1;31mNameError\u001b[0m                                 Traceback (most recent call last)",
      "\u001b[1;32m<ipython-input-78-12b400d65d6b>\u001b[0m in \u001b[0;36m<module>\u001b[1;34m\u001b[0m\n\u001b[1;32m----> 1\u001b[1;33m \u001b[0mdata\u001b[0m\u001b[1;33m.\u001b[0m\u001b[0mGet_CSV_Data\u001b[0m\u001b[1;33m(\u001b[0m\u001b[1;33m)\u001b[0m\u001b[1;33m\u001b[0m\u001b[1;33m\u001b[0m\u001b[0m\n\u001b[0m",
      "\u001b[1;32m<ipython-input-73-6f2c45789fe5>\u001b[0m in \u001b[0;36mGet_CSV_Data\u001b[1;34m(self)\u001b[0m\n\u001b[0;32m      8\u001b[0m         \u001b[0mself\u001b[0m\u001b[1;33m.\u001b[0m\u001b[0mread_db\u001b[0m\u001b[1;33m=\u001b[0m\u001b[0mread_db\u001b[0m\u001b[1;33m\u001b[0m\u001b[1;33m\u001b[0m\u001b[0m\n\u001b[0;32m      9\u001b[0m     \u001b[1;32mdef\u001b[0m \u001b[0mGet_CSV_Data\u001b[0m\u001b[1;33m(\u001b[0m\u001b[0mself\u001b[0m\u001b[1;33m)\u001b[0m\u001b[1;33m:\u001b[0m\u001b[1;33m\u001b[0m\u001b[1;33m\u001b[0m\u001b[0m\n\u001b[1;32m---> 10\u001b[1;33m         \u001b[0mf\u001b[0m\u001b[1;33m.\u001b[0m\u001b[0mpd\u001b[0m\u001b[1;33m.\u001b[0m\u001b[0mread_csv\u001b[0m\u001b[1;33m(\u001b[0m\u001b[1;34m\"https://raw.githubusercontent.com/codeforamerica/ohana-api/master/data/sample-csv/addresses.csv\"\u001b[0m\u001b[1;33m)\u001b[0m\u001b[1;33m\u001b[0m\u001b[1;33m\u001b[0m\u001b[0m\n\u001b[0m\u001b[0;32m     11\u001b[0m         \u001b[1;32mreturn\u001b[0m \u001b[0mf\u001b[0m\u001b[1;33m\u001b[0m\u001b[1;33m\u001b[0m\u001b[0m\n\u001b[0;32m     12\u001b[0m         \u001b[1;32mreturn\u001b[0m \u001b[1;34m\"data from csv\"\u001b[0m\u001b[1;33m\u001b[0m\u001b[1;33m\u001b[0m\u001b[0m\n",
      "\u001b[1;31mNameError\u001b[0m: name 'f' is not defined"
     ]
    }
   ],
   "source": [
    "data.Get_CSV_Data()"
   ]
  },
  {
   "cell_type": "code",
   "execution_count": null,
   "id": "506250e8",
   "metadata": {},
   "outputs": [],
   "source": [
    "\n"
   ]
  },
  {
   "cell_type": "code",
   "execution_count": 87,
   "id": "c0d99d37",
   "metadata": {},
   "outputs": [],
   "source": [
    "#New \n",
    "class Test3:\n",
    "    def __init__(self,a,b,c):\n",
    "        self._a=a\n",
    "        self.b=b\n",
    "        self.c=c"
   ]
  },
  {
   "cell_type": "code",
   "execution_count": 90,
   "id": "19e7f0fb",
   "metadata": {},
   "outputs": [],
   "source": [
    "r=Test3(\"a\",\"b\",3)"
   ]
  },
  {
   "cell_type": "code",
   "execution_count": 91,
   "id": "a4f8a4d4",
   "metadata": {},
   "outputs": [
    {
     "ename": "AttributeError",
     "evalue": "'Test3' object has no attribute 'a'",
     "output_type": "error",
     "traceback": [
      "\u001b[1;31m---------------------------------------------------------------------------\u001b[0m",
      "\u001b[1;31mAttributeError\u001b[0m                            Traceback (most recent call last)",
      "\u001b[1;32m<ipython-input-91-562de1ece2ac>\u001b[0m in \u001b[0;36m<module>\u001b[1;34m\u001b[0m\n\u001b[1;32m----> 1\u001b[1;33m \u001b[0mr\u001b[0m\u001b[1;33m.\u001b[0m\u001b[0ma\u001b[0m\u001b[1;33m\u001b[0m\u001b[1;33m\u001b[0m\u001b[0m\n\u001b[0m",
      "\u001b[1;31mAttributeError\u001b[0m: 'Test3' object has no attribute 'a'"
     ]
    }
   ],
   "source": [
    "r.a"
   ]
  },
  {
   "cell_type": "code",
   "execution_count": 92,
   "id": "4085d456",
   "metadata": {},
   "outputs": [],
   "source": [
    "#if we wite like self._a that mean it is protected \n"
   ]
  },
  {
   "cell_type": "code",
   "execution_count": null,
   "id": "f155ad48",
   "metadata": {},
   "outputs": [],
   "source": [
    "#private ,public , protected\n",
    "#public mean it will be accesable with in class or outside class\n",
    "#\n",
    "#without undescore means public variable\n",
    "#wiht signle underscore called private \n",
    "#with double underscore "
   ]
  }
 ],
 "metadata": {
  "kernelspec": {
   "display_name": "Python 3",
   "language": "python",
   "name": "python3"
  },
  "language_info": {
   "codemirror_mode": {
    "name": "ipython",
    "version": 3
   },
   "file_extension": ".py",
   "mimetype": "text/x-python",
   "name": "python",
   "nbconvert_exporter": "python",
   "pygments_lexer": "ipython3",
   "version": "3.8.8"
  }
 },
 "nbformat": 4,
 "nbformat_minor": 5
}
