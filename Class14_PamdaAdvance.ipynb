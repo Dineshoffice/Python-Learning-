{
 "cells": [
  {
   "cell_type": "code",
   "execution_count": 1,
   "id": "1db1c955",
   "metadata": {},
   "outputs": [],
   "source": [
    "import pandas as pd"
   ]
  },
  {
   "cell_type": "code",
   "execution_count": 3,
   "id": "9054ac7c",
   "metadata": {},
   "outputs": [],
   "source": [
    "dict1={\n",
    "    \"name\":[\"ineuron\",\"Sudh\",\"krish\",\"kumar\"],\n",
    "     \"number\":[3,4,6,9],\n",
    "    \"test\":[\"xyz\",\"abc\",\"dyu\",\"ert\"],\n",
    "    \"string\":[\"dffsd\",\"wqew\",\"tetst\",\"nennwe\"]\n",
    "}"
   ]
  },
  {
   "cell_type": "code",
   "execution_count": 5,
   "id": "cde6e6a6",
   "metadata": {},
   "outputs": [],
   "source": [
    "#convert dictionary to dataframe\n",
    "df1=pd.DataFrame(dict1)"
   ]
  },
  {
   "cell_type": "code",
   "execution_count": 7,
   "id": "8651bd3b",
   "metadata": {},
   "outputs": [
    {
     "data": {
      "text/html": [
       "<div>\n",
       "<style scoped>\n",
       "    .dataframe tbody tr th:only-of-type {\n",
       "        vertical-align: middle;\n",
       "    }\n",
       "\n",
       "    .dataframe tbody tr th {\n",
       "        vertical-align: top;\n",
       "    }\n",
       "\n",
       "    .dataframe thead th {\n",
       "        text-align: right;\n",
       "    }\n",
       "</style>\n",
       "<table border=\"1\" class=\"dataframe\">\n",
       "  <thead>\n",
       "    <tr style=\"text-align: right;\">\n",
       "      <th></th>\n",
       "      <th>name</th>\n",
       "      <th>number</th>\n",
       "      <th>test</th>\n",
       "      <th>string</th>\n",
       "    </tr>\n",
       "  </thead>\n",
       "  <tbody>\n",
       "    <tr>\n",
       "      <th>0</th>\n",
       "      <td>ineuron</td>\n",
       "      <td>3</td>\n",
       "      <td>xyz</td>\n",
       "      <td>dffsd</td>\n",
       "    </tr>\n",
       "    <tr>\n",
       "      <th>1</th>\n",
       "      <td>Sudh</td>\n",
       "      <td>4</td>\n",
       "      <td>abc</td>\n",
       "      <td>wqew</td>\n",
       "    </tr>\n",
       "    <tr>\n",
       "      <th>2</th>\n",
       "      <td>krish</td>\n",
       "      <td>6</td>\n",
       "      <td>dyu</td>\n",
       "      <td>tetst</td>\n",
       "    </tr>\n",
       "    <tr>\n",
       "      <th>3</th>\n",
       "      <td>kumar</td>\n",
       "      <td>9</td>\n",
       "      <td>ert</td>\n",
       "      <td>nennwe</td>\n",
       "    </tr>\n",
       "  </tbody>\n",
       "</table>\n",
       "</div>"
      ],
      "text/plain": [
       "      name  number test  string\n",
       "0  ineuron       3  xyz   dffsd\n",
       "1     Sudh       4  abc    wqew\n",
       "2    krish       6  dyu   tetst\n",
       "3    kumar       9  ert  nennwe"
      ]
     },
     "execution_count": 7,
     "metadata": {},
     "output_type": "execute_result"
    }
   ],
   "source": [
    "df1\n"
   ]
  },
  {
   "cell_type": "code",
   "execution_count": 57,
   "id": "0c1376dd",
   "metadata": {},
   "outputs": [],
   "source": [
    "dict2={\n",
    "    \"name\":[\"ineuron1\",\"Sudh1\",\"krish\",\"kumar\"],\n",
    "     \"number\":[31,41,6,19],\n",
    "    \"test\":[\"xyz1\",\"abc1\",\"dy1u\",\"er1t\"],\n",
    "    \"string\":[\"dffs1d\",\"wq1ew\",\"tet1st\",\"ne1nnwe\"]\n",
    "}"
   ]
  },
  {
   "cell_type": "code",
   "execution_count": 16,
   "id": "80bb5761",
   "metadata": {},
   "outputs": [],
   "source": [
    "df2=pd.DataFrame(dict2)"
   ]
  },
  {
   "cell_type": "code",
   "execution_count": 20,
   "id": "7dc8671f",
   "metadata": {},
   "outputs": [
    {
     "data": {
      "text/html": [
       "<div>\n",
       "<style scoped>\n",
       "    .dataframe tbody tr th:only-of-type {\n",
       "        vertical-align: middle;\n",
       "    }\n",
       "\n",
       "    .dataframe tbody tr th {\n",
       "        vertical-align: top;\n",
       "    }\n",
       "\n",
       "    .dataframe thead th {\n",
       "        text-align: right;\n",
       "    }\n",
       "</style>\n",
       "<table border=\"1\" class=\"dataframe\">\n",
       "  <thead>\n",
       "    <tr style=\"text-align: right;\">\n",
       "      <th></th>\n",
       "      <th>name</th>\n",
       "      <th>number</th>\n",
       "      <th>test</th>\n",
       "      <th>string1</th>\n",
       "    </tr>\n",
       "  </thead>\n",
       "  <tbody>\n",
       "    <tr>\n",
       "      <th>0</th>\n",
       "      <td>ineuron1</td>\n",
       "      <td>31</td>\n",
       "      <td>xyz1</td>\n",
       "      <td>dffs1d</td>\n",
       "    </tr>\n",
       "    <tr>\n",
       "      <th>1</th>\n",
       "      <td>Sudh1</td>\n",
       "      <td>41</td>\n",
       "      <td>abc1</td>\n",
       "      <td>wq1ew</td>\n",
       "    </tr>\n",
       "    <tr>\n",
       "      <th>2</th>\n",
       "      <td>krish</td>\n",
       "      <td>6</td>\n",
       "      <td>dy1u</td>\n",
       "      <td>tet1st</td>\n",
       "    </tr>\n",
       "    <tr>\n",
       "      <th>3</th>\n",
       "      <td>kumar</td>\n",
       "      <td>19</td>\n",
       "      <td>er1t</td>\n",
       "      <td>ne1nnwe</td>\n",
       "    </tr>\n",
       "  </tbody>\n",
       "</table>\n",
       "</div>"
      ],
      "text/plain": [
       "       name  number  test  string1\n",
       "0  ineuron1      31  xyz1   dffs1d\n",
       "1     Sudh1      41  abc1    wq1ew\n",
       "2     krish       6  dy1u   tet1st\n",
       "3     kumar      19  er1t  ne1nnwe"
      ]
     },
     "execution_count": 20,
     "metadata": {},
     "output_type": "execute_result"
    }
   ],
   "source": [
    "df2"
   ]
  },
  {
   "cell_type": "code",
   "execution_count": 17,
   "id": "32230b80",
   "metadata": {},
   "outputs": [
    {
     "data": {
      "text/html": [
       "<div>\n",
       "<style scoped>\n",
       "    .dataframe tbody tr th:only-of-type {\n",
       "        vertical-align: middle;\n",
       "    }\n",
       "\n",
       "    .dataframe tbody tr th {\n",
       "        vertical-align: top;\n",
       "    }\n",
       "\n",
       "    .dataframe thead th {\n",
       "        text-align: right;\n",
       "    }\n",
       "</style>\n",
       "<table border=\"1\" class=\"dataframe\">\n",
       "  <thead>\n",
       "    <tr style=\"text-align: right;\">\n",
       "      <th></th>\n",
       "      <th>name</th>\n",
       "      <th>number</th>\n",
       "      <th>test</th>\n",
       "      <th>string</th>\n",
       "      <th>string1</th>\n",
       "    </tr>\n",
       "  </thead>\n",
       "  <tbody>\n",
       "    <tr>\n",
       "      <th>0</th>\n",
       "      <td>ineuron</td>\n",
       "      <td>3</td>\n",
       "      <td>xyz</td>\n",
       "      <td>dffsd</td>\n",
       "      <td>NaN</td>\n",
       "    </tr>\n",
       "    <tr>\n",
       "      <th>1</th>\n",
       "      <td>Sudh</td>\n",
       "      <td>4</td>\n",
       "      <td>abc</td>\n",
       "      <td>wqew</td>\n",
       "      <td>NaN</td>\n",
       "    </tr>\n",
       "    <tr>\n",
       "      <th>2</th>\n",
       "      <td>krish</td>\n",
       "      <td>6</td>\n",
       "      <td>dyu</td>\n",
       "      <td>tetst</td>\n",
       "      <td>NaN</td>\n",
       "    </tr>\n",
       "    <tr>\n",
       "      <th>3</th>\n",
       "      <td>kumar</td>\n",
       "      <td>9</td>\n",
       "      <td>ert</td>\n",
       "      <td>nennwe</td>\n",
       "      <td>NaN</td>\n",
       "    </tr>\n",
       "    <tr>\n",
       "      <th>0</th>\n",
       "      <td>ineuron1</td>\n",
       "      <td>31</td>\n",
       "      <td>xyz1</td>\n",
       "      <td>NaN</td>\n",
       "      <td>dffs1d</td>\n",
       "    </tr>\n",
       "    <tr>\n",
       "      <th>1</th>\n",
       "      <td>Sudh1</td>\n",
       "      <td>41</td>\n",
       "      <td>abc1</td>\n",
       "      <td>NaN</td>\n",
       "      <td>wq1ew</td>\n",
       "    </tr>\n",
       "    <tr>\n",
       "      <th>2</th>\n",
       "      <td>krish</td>\n",
       "      <td>6</td>\n",
       "      <td>dy1u</td>\n",
       "      <td>NaN</td>\n",
       "      <td>tet1st</td>\n",
       "    </tr>\n",
       "    <tr>\n",
       "      <th>3</th>\n",
       "      <td>kumar</td>\n",
       "      <td>19</td>\n",
       "      <td>er1t</td>\n",
       "      <td>NaN</td>\n",
       "      <td>ne1nnwe</td>\n",
       "    </tr>\n",
       "  </tbody>\n",
       "</table>\n",
       "</div>"
      ],
      "text/plain": [
       "       name  number  test  string  string1\n",
       "0   ineuron       3   xyz   dffsd      NaN\n",
       "1      Sudh       4   abc    wqew      NaN\n",
       "2     krish       6   dyu   tetst      NaN\n",
       "3     kumar       9   ert  nennwe      NaN\n",
       "0  ineuron1      31  xyz1     NaN   dffs1d\n",
       "1     Sudh1      41  abc1     NaN    wq1ew\n",
       "2     krish       6  dy1u     NaN   tet1st\n",
       "3     kumar      19  er1t     NaN  ne1nnwe"
      ]
     },
     "execution_count": 17,
     "metadata": {},
     "output_type": "execute_result"
    }
   ],
   "source": [
    "#concatenation operation vertical\n",
    "pd.concat([df1,df2])"
   ]
  },
  {
   "cell_type": "code",
   "execution_count": 21,
   "id": "fc966ca3",
   "metadata": {},
   "outputs": [
    {
     "data": {
      "text/html": [
       "<div>\n",
       "<style scoped>\n",
       "    .dataframe tbody tr th:only-of-type {\n",
       "        vertical-align: middle;\n",
       "    }\n",
       "\n",
       "    .dataframe tbody tr th {\n",
       "        vertical-align: top;\n",
       "    }\n",
       "\n",
       "    .dataframe thead th {\n",
       "        text-align: right;\n",
       "    }\n",
       "</style>\n",
       "<table border=\"1\" class=\"dataframe\">\n",
       "  <thead>\n",
       "    <tr style=\"text-align: right;\">\n",
       "      <th></th>\n",
       "      <th>name</th>\n",
       "      <th>number</th>\n",
       "      <th>test</th>\n",
       "      <th>string</th>\n",
       "      <th>name</th>\n",
       "      <th>number</th>\n",
       "      <th>test</th>\n",
       "      <th>string1</th>\n",
       "    </tr>\n",
       "  </thead>\n",
       "  <tbody>\n",
       "    <tr>\n",
       "      <th>0</th>\n",
       "      <td>ineuron</td>\n",
       "      <td>3</td>\n",
       "      <td>xyz</td>\n",
       "      <td>dffsd</td>\n",
       "      <td>ineuron1</td>\n",
       "      <td>31</td>\n",
       "      <td>xyz1</td>\n",
       "      <td>dffs1d</td>\n",
       "    </tr>\n",
       "    <tr>\n",
       "      <th>1</th>\n",
       "      <td>Sudh</td>\n",
       "      <td>4</td>\n",
       "      <td>abc</td>\n",
       "      <td>wqew</td>\n",
       "      <td>Sudh1</td>\n",
       "      <td>41</td>\n",
       "      <td>abc1</td>\n",
       "      <td>wq1ew</td>\n",
       "    </tr>\n",
       "    <tr>\n",
       "      <th>2</th>\n",
       "      <td>krish</td>\n",
       "      <td>6</td>\n",
       "      <td>dyu</td>\n",
       "      <td>tetst</td>\n",
       "      <td>krish</td>\n",
       "      <td>6</td>\n",
       "      <td>dy1u</td>\n",
       "      <td>tet1st</td>\n",
       "    </tr>\n",
       "    <tr>\n",
       "      <th>3</th>\n",
       "      <td>kumar</td>\n",
       "      <td>9</td>\n",
       "      <td>ert</td>\n",
       "      <td>nennwe</td>\n",
       "      <td>kumar</td>\n",
       "      <td>19</td>\n",
       "      <td>er1t</td>\n",
       "      <td>ne1nnwe</td>\n",
       "    </tr>\n",
       "  </tbody>\n",
       "</table>\n",
       "</div>"
      ],
      "text/plain": [
       "      name  number test  string      name  number  test  string1\n",
       "0  ineuron       3  xyz   dffsd  ineuron1      31  xyz1   dffs1d\n",
       "1     Sudh       4  abc    wqew     Sudh1      41  abc1    wq1ew\n",
       "2    krish       6  dyu   tetst     krish       6  dy1u   tet1st\n",
       "3    kumar       9  ert  nennwe     kumar      19  er1t  ne1nnwe"
      ]
     },
     "execution_count": 21,
     "metadata": {},
     "output_type": "execute_result"
    }
   ],
   "source": [
    "#Concat by column wise\n",
    "pd.concat([df1,df2],axis=1)"
   ]
  },
  {
   "cell_type": "code",
   "execution_count": 22,
   "id": "0b978404",
   "metadata": {},
   "outputs": [],
   "source": [
    "#it consider distinct column header name\n"
   ]
  },
  {
   "cell_type": "code",
   "execution_count": 23,
   "id": "78749919",
   "metadata": {},
   "outputs": [],
   "source": [
    "#store this data in other data frame\n",
    "df3=pd.concat([df1,df2])"
   ]
  },
  {
   "cell_type": "code",
   "execution_count": 25,
   "id": "f2ee8ddc",
   "metadata": {},
   "outputs": [],
   "source": [
    "df4=pd.concat([df1,df2],axis=1)"
   ]
  },
  {
   "cell_type": "code",
   "execution_count": 27,
   "id": "5b958df6",
   "metadata": {},
   "outputs": [
    {
     "data": {
      "text/html": [
       "<div>\n",
       "<style scoped>\n",
       "    .dataframe tbody tr th:only-of-type {\n",
       "        vertical-align: middle;\n",
       "    }\n",
       "\n",
       "    .dataframe tbody tr th {\n",
       "        vertical-align: top;\n",
       "    }\n",
       "\n",
       "    .dataframe thead th {\n",
       "        text-align: right;\n",
       "    }\n",
       "</style>\n",
       "<table border=\"1\" class=\"dataframe\">\n",
       "  <thead>\n",
       "    <tr style=\"text-align: right;\">\n",
       "      <th></th>\n",
       "      <th>name</th>\n",
       "      <th>number</th>\n",
       "      <th>test</th>\n",
       "      <th>string</th>\n",
       "      <th>name</th>\n",
       "      <th>number</th>\n",
       "      <th>test</th>\n",
       "      <th>string1</th>\n",
       "    </tr>\n",
       "  </thead>\n",
       "  <tbody>\n",
       "    <tr>\n",
       "      <th>0</th>\n",
       "      <td>ineuron</td>\n",
       "      <td>3</td>\n",
       "      <td>xyz</td>\n",
       "      <td>dffsd</td>\n",
       "      <td>ineuron1</td>\n",
       "      <td>31</td>\n",
       "      <td>xyz1</td>\n",
       "      <td>dffs1d</td>\n",
       "    </tr>\n",
       "    <tr>\n",
       "      <th>1</th>\n",
       "      <td>Sudh</td>\n",
       "      <td>4</td>\n",
       "      <td>abc</td>\n",
       "      <td>wqew</td>\n",
       "      <td>Sudh1</td>\n",
       "      <td>41</td>\n",
       "      <td>abc1</td>\n",
       "      <td>wq1ew</td>\n",
       "    </tr>\n",
       "    <tr>\n",
       "      <th>2</th>\n",
       "      <td>krish</td>\n",
       "      <td>6</td>\n",
       "      <td>dyu</td>\n",
       "      <td>tetst</td>\n",
       "      <td>krish</td>\n",
       "      <td>6</td>\n",
       "      <td>dy1u</td>\n",
       "      <td>tet1st</td>\n",
       "    </tr>\n",
       "    <tr>\n",
       "      <th>3</th>\n",
       "      <td>kumar</td>\n",
       "      <td>9</td>\n",
       "      <td>ert</td>\n",
       "      <td>nennwe</td>\n",
       "      <td>kumar</td>\n",
       "      <td>19</td>\n",
       "      <td>er1t</td>\n",
       "      <td>ne1nnwe</td>\n",
       "    </tr>\n",
       "  </tbody>\n",
       "</table>\n",
       "</div>"
      ],
      "text/plain": [
       "      name  number test  string      name  number  test  string1\n",
       "0  ineuron       3  xyz   dffsd  ineuron1      31  xyz1   dffs1d\n",
       "1     Sudh       4  abc    wqew     Sudh1      41  abc1    wq1ew\n",
       "2    krish       6  dyu   tetst     krish       6  dy1u   tet1st\n",
       "3    kumar       9  ert  nennwe     kumar      19  er1t  ne1nnwe"
      ]
     },
     "execution_count": 27,
     "metadata": {},
     "output_type": "execute_result"
    }
   ],
   "source": [
    "df4.head(4)"
   ]
  },
  {
   "cell_type": "code",
   "execution_count": 29,
   "id": "8fd4a244",
   "metadata": {},
   "outputs": [
    {
     "data": {
      "text/html": [
       "<div>\n",
       "<style scoped>\n",
       "    .dataframe tbody tr th:only-of-type {\n",
       "        vertical-align: middle;\n",
       "    }\n",
       "\n",
       "    .dataframe tbody tr th {\n",
       "        vertical-align: top;\n",
       "    }\n",
       "\n",
       "    .dataframe thead th {\n",
       "        text-align: right;\n",
       "    }\n",
       "</style>\n",
       "<table border=\"1\" class=\"dataframe\">\n",
       "  <thead>\n",
       "    <tr style=\"text-align: right;\">\n",
       "      <th></th>\n",
       "      <th>name</th>\n",
       "      <th>number</th>\n",
       "      <th>test</th>\n",
       "      <th>string</th>\n",
       "      <th>name</th>\n",
       "      <th>number</th>\n",
       "      <th>test</th>\n",
       "      <th>string1</th>\n",
       "    </tr>\n",
       "  </thead>\n",
       "  <tbody>\n",
       "    <tr>\n",
       "      <th>1</th>\n",
       "      <td>Sudh</td>\n",
       "      <td>4</td>\n",
       "      <td>abc</td>\n",
       "      <td>wqew</td>\n",
       "      <td>Sudh1</td>\n",
       "      <td>41</td>\n",
       "      <td>abc1</td>\n",
       "      <td>wq1ew</td>\n",
       "    </tr>\n",
       "    <tr>\n",
       "      <th>2</th>\n",
       "      <td>krish</td>\n",
       "      <td>6</td>\n",
       "      <td>dyu</td>\n",
       "      <td>tetst</td>\n",
       "      <td>krish</td>\n",
       "      <td>6</td>\n",
       "      <td>dy1u</td>\n",
       "      <td>tet1st</td>\n",
       "    </tr>\n",
       "  </tbody>\n",
       "</table>\n",
       "</div>"
      ],
      "text/plain": [
       "    name  number test string   name  number  test string1\n",
       "1   Sudh       4  abc   wqew  Sudh1      41  abc1   wq1ew\n",
       "2  krish       6  dyu  tetst  krish       6  dy1u  tet1st"
      ]
     },
     "execution_count": 29,
     "metadata": {},
     "output_type": "execute_result"
    }
   ],
   "source": [
    "df4.iloc[1:3]"
   ]
  },
  {
   "cell_type": "code",
   "execution_count": 30,
   "id": "2a936584",
   "metadata": {},
   "outputs": [
    {
     "data": {
      "text/html": [
       "<div>\n",
       "<style scoped>\n",
       "    .dataframe tbody tr th:only-of-type {\n",
       "        vertical-align: middle;\n",
       "    }\n",
       "\n",
       "    .dataframe tbody tr th {\n",
       "        vertical-align: top;\n",
       "    }\n",
       "\n",
       "    .dataframe thead th {\n",
       "        text-align: right;\n",
       "    }\n",
       "</style>\n",
       "<table border=\"1\" class=\"dataframe\">\n",
       "  <thead>\n",
       "    <tr style=\"text-align: right;\">\n",
       "      <th></th>\n",
       "      <th>number</th>\n",
       "      <th>test</th>\n",
       "    </tr>\n",
       "  </thead>\n",
       "  <tbody>\n",
       "    <tr>\n",
       "      <th>1</th>\n",
       "      <td>4</td>\n",
       "      <td>abc</td>\n",
       "    </tr>\n",
       "    <tr>\n",
       "      <th>2</th>\n",
       "      <td>6</td>\n",
       "      <td>dyu</td>\n",
       "    </tr>\n",
       "  </tbody>\n",
       "</table>\n",
       "</div>"
      ],
      "text/plain": [
       "   number test\n",
       "1       4  abc\n",
       "2       6  dyu"
      ]
     },
     "execution_count": 30,
     "metadata": {},
     "output_type": "execute_result"
    }
   ],
   "source": [
    "df4.iloc[1:3,1:3]"
   ]
  },
  {
   "cell_type": "code",
   "execution_count": 34,
   "id": "ff4d9538",
   "metadata": {},
   "outputs": [
    {
     "data": {
      "text/html": [
       "<div>\n",
       "<style scoped>\n",
       "    .dataframe tbody tr th:only-of-type {\n",
       "        vertical-align: middle;\n",
       "    }\n",
       "\n",
       "    .dataframe tbody tr th {\n",
       "        vertical-align: top;\n",
       "    }\n",
       "\n",
       "    .dataframe thead th {\n",
       "        text-align: right;\n",
       "    }\n",
       "</style>\n",
       "<table border=\"1\" class=\"dataframe\">\n",
       "  <thead>\n",
       "    <tr style=\"text-align: right;\">\n",
       "      <th></th>\n",
       "      <th>number</th>\n",
       "      <th>string</th>\n",
       "    </tr>\n",
       "  </thead>\n",
       "  <tbody>\n",
       "    <tr>\n",
       "      <th>1</th>\n",
       "      <td>4</td>\n",
       "      <td>wqew</td>\n",
       "    </tr>\n",
       "    <tr>\n",
       "      <th>2</th>\n",
       "      <td>6</td>\n",
       "      <td>tetst</td>\n",
       "    </tr>\n",
       "    <tr>\n",
       "      <th>3</th>\n",
       "      <td>9</td>\n",
       "      <td>nennwe</td>\n",
       "    </tr>\n",
       "  </tbody>\n",
       "</table>\n",
       "</div>"
      ],
      "text/plain": [
       "   number  string\n",
       "1       4    wqew\n",
       "2       6   tetst\n",
       "3       9  nennwe"
      ]
     },
     "execution_count": 34,
     "metadata": {},
     "output_type": "execute_result"
    }
   ],
   "source": [
    "df4.iloc[1:5,1:4:2]"
   ]
  },
  {
   "cell_type": "code",
   "execution_count": 36,
   "id": "e253f0ab",
   "metadata": {},
   "outputs": [
    {
     "data": {
      "text/html": [
       "<div>\n",
       "<style scoped>\n",
       "    .dataframe tbody tr th:only-of-type {\n",
       "        vertical-align: middle;\n",
       "    }\n",
       "\n",
       "    .dataframe tbody tr th {\n",
       "        vertical-align: top;\n",
       "    }\n",
       "\n",
       "    .dataframe thead th {\n",
       "        text-align: right;\n",
       "    }\n",
       "</style>\n",
       "<table border=\"1\" class=\"dataframe\">\n",
       "  <thead>\n",
       "    <tr style=\"text-align: right;\">\n",
       "      <th></th>\n",
       "      <th>name</th>\n",
       "      <th>number</th>\n",
       "      <th>test</th>\n",
       "      <th>string</th>\n",
       "      <th>name</th>\n",
       "      <th>number</th>\n",
       "      <th>test</th>\n",
       "      <th>string1</th>\n",
       "    </tr>\n",
       "  </thead>\n",
       "  <tbody>\n",
       "    <tr>\n",
       "      <th>1</th>\n",
       "      <td>Sudh</td>\n",
       "      <td>4</td>\n",
       "      <td>abc</td>\n",
       "      <td>wqew</td>\n",
       "      <td>Sudh1</td>\n",
       "      <td>41</td>\n",
       "      <td>abc1</td>\n",
       "      <td>wq1ew</td>\n",
       "    </tr>\n",
       "    <tr>\n",
       "      <th>3</th>\n",
       "      <td>kumar</td>\n",
       "      <td>9</td>\n",
       "      <td>ert</td>\n",
       "      <td>nennwe</td>\n",
       "      <td>kumar</td>\n",
       "      <td>19</td>\n",
       "      <td>er1t</td>\n",
       "      <td>ne1nnwe</td>\n",
       "    </tr>\n",
       "  </tbody>\n",
       "</table>\n",
       "</div>"
      ],
      "text/plain": [
       "    name  number test  string   name  number  test  string1\n",
       "1   Sudh       4  abc    wqew  Sudh1      41  abc1    wq1ew\n",
       "3  kumar       9  ert  nennwe  kumar      19  er1t  ne1nnwe"
      ]
     },
     "execution_count": 36,
     "metadata": {},
     "output_type": "execute_result"
    }
   ],
   "source": [
    "#row no 1 and row 3\n",
    "df4.iloc[[1,3]]"
   ]
  },
  {
   "cell_type": "code",
   "execution_count": 40,
   "id": "48f3221d",
   "metadata": {},
   "outputs": [
    {
     "data": {
      "text/html": [
       "<div>\n",
       "<style scoped>\n",
       "    .dataframe tbody tr th:only-of-type {\n",
       "        vertical-align: middle;\n",
       "    }\n",
       "\n",
       "    .dataframe tbody tr th {\n",
       "        vertical-align: top;\n",
       "    }\n",
       "\n",
       "    .dataframe thead th {\n",
       "        text-align: right;\n",
       "    }\n",
       "</style>\n",
       "<table border=\"1\" class=\"dataframe\">\n",
       "  <thead>\n",
       "    <tr style=\"text-align: right;\">\n",
       "      <th></th>\n",
       "      <th>number</th>\n",
       "      <th>test</th>\n",
       "      <th>string1</th>\n",
       "    </tr>\n",
       "  </thead>\n",
       "  <tbody>\n",
       "    <tr>\n",
       "      <th>1</th>\n",
       "      <td>41</td>\n",
       "      <td>abc1</td>\n",
       "      <td>wq1ew</td>\n",
       "    </tr>\n",
       "    <tr>\n",
       "      <th>3</th>\n",
       "      <td>19</td>\n",
       "      <td>er1t</td>\n",
       "      <td>ne1nnwe</td>\n",
       "    </tr>\n",
       "  </tbody>\n",
       "</table>\n",
       "</div>"
      ],
      "text/plain": [
       "   number  test  string1\n",
       "1      41  abc1    wq1ew\n",
       "3      19  er1t  ne1nnwe"
      ]
     },
     "execution_count": 40,
     "metadata": {},
     "output_type": "execute_result"
    }
   ],
   "source": [
    "#Row 1 and 3 with column 5 and after all \n",
    "df4.iloc[[1,3],5:]"
   ]
  },
  {
   "cell_type": "code",
   "execution_count": 42,
   "id": "04ea8fdb",
   "metadata": {},
   "outputs": [
    {
     "data": {
      "text/plain": [
       "Index(['name', 'number', 'test', 'string', 'name', 'number', 'test',\n",
       "       'string1'],\n",
       "      dtype='object')"
      ]
     },
     "execution_count": 42,
     "metadata": {},
     "output_type": "execute_result"
    }
   ],
   "source": [
    "#or do like this \n",
    "df4.columns"
   ]
  },
  {
   "cell_type": "code",
   "execution_count": 43,
   "id": "3f7987e9",
   "metadata": {},
   "outputs": [],
   "source": [
    "df5=df4.iloc[[1,3]]"
   ]
  },
  {
   "cell_type": "code",
   "execution_count": 45,
   "id": "7d62a6ad",
   "metadata": {},
   "outputs": [
    {
     "data": {
      "text/html": [
       "<div>\n",
       "<style scoped>\n",
       "    .dataframe tbody tr th:only-of-type {\n",
       "        vertical-align: middle;\n",
       "    }\n",
       "\n",
       "    .dataframe tbody tr th {\n",
       "        vertical-align: top;\n",
       "    }\n",
       "\n",
       "    .dataframe thead th {\n",
       "        text-align: right;\n",
       "    }\n",
       "</style>\n",
       "<table border=\"1\" class=\"dataframe\">\n",
       "  <thead>\n",
       "    <tr style=\"text-align: right;\">\n",
       "      <th></th>\n",
       "      <th>number</th>\n",
       "      <th>number</th>\n",
       "      <th>test</th>\n",
       "      <th>test</th>\n",
       "    </tr>\n",
       "  </thead>\n",
       "  <tbody>\n",
       "    <tr>\n",
       "      <th>1</th>\n",
       "      <td>4</td>\n",
       "      <td>41</td>\n",
       "      <td>abc</td>\n",
       "      <td>abc1</td>\n",
       "    </tr>\n",
       "    <tr>\n",
       "      <th>3</th>\n",
       "      <td>9</td>\n",
       "      <td>19</td>\n",
       "      <td>ert</td>\n",
       "      <td>er1t</td>\n",
       "    </tr>\n",
       "  </tbody>\n",
       "</table>\n",
       "</div>"
      ],
      "text/plain": [
       "   number  number test  test\n",
       "1       4      41  abc  abc1\n",
       "3       9      19  ert  er1t"
      ]
     },
     "execution_count": 45,
     "metadata": {},
     "output_type": "execute_result"
    }
   ],
   "source": [
    "df5[[\"number\",\"test\"]]"
   ]
  },
  {
   "cell_type": "code",
   "execution_count": 58,
   "id": "5f76df69",
   "metadata": {},
   "outputs": [],
   "source": [
    "df1=pd.DataFrame(dict1)"
   ]
  },
  {
   "cell_type": "code",
   "execution_count": 59,
   "id": "77b05ce9",
   "metadata": {},
   "outputs": [],
   "source": [
    "df2=pd.DataFrame(dict2)"
   ]
  },
  {
   "cell_type": "code",
   "execution_count": 48,
   "id": "d98649d5",
   "metadata": {},
   "outputs": [
    {
     "data": {
      "text/html": [
       "<div>\n",
       "<style scoped>\n",
       "    .dataframe tbody tr th:only-of-type {\n",
       "        vertical-align: middle;\n",
       "    }\n",
       "\n",
       "    .dataframe tbody tr th {\n",
       "        vertical-align: top;\n",
       "    }\n",
       "\n",
       "    .dataframe thead th {\n",
       "        text-align: right;\n",
       "    }\n",
       "</style>\n",
       "<table border=\"1\" class=\"dataframe\">\n",
       "  <thead>\n",
       "    <tr style=\"text-align: right;\">\n",
       "      <th></th>\n",
       "      <th>name</th>\n",
       "      <th>number</th>\n",
       "      <th>test</th>\n",
       "      <th>string</th>\n",
       "      <th>string1</th>\n",
       "    </tr>\n",
       "  </thead>\n",
       "  <tbody>\n",
       "  </tbody>\n",
       "</table>\n",
       "</div>"
      ],
      "text/plain": [
       "Empty DataFrame\n",
       "Columns: [name, number, test, string, string1]\n",
       "Index: []"
      ]
     },
     "execution_count": 48,
     "metadata": {},
     "output_type": "execute_result"
    }
   ],
   "source": [
    "pd.merge(df1,df2)"
   ]
  },
  {
   "cell_type": "code",
   "execution_count": 60,
   "id": "9219ca32",
   "metadata": {
    "scrolled": true
   },
   "outputs": [
    {
     "data": {
      "text/html": [
       "<div>\n",
       "<style scoped>\n",
       "    .dataframe tbody tr th:only-of-type {\n",
       "        vertical-align: middle;\n",
       "    }\n",
       "\n",
       "    .dataframe tbody tr th {\n",
       "        vertical-align: top;\n",
       "    }\n",
       "\n",
       "    .dataframe thead th {\n",
       "        text-align: right;\n",
       "    }\n",
       "</style>\n",
       "<table border=\"1\" class=\"dataframe\">\n",
       "  <thead>\n",
       "    <tr style=\"text-align: right;\">\n",
       "      <th></th>\n",
       "      <th>name</th>\n",
       "      <th>number_x</th>\n",
       "      <th>test_x</th>\n",
       "      <th>string_x</th>\n",
       "      <th>number_y</th>\n",
       "      <th>test_y</th>\n",
       "      <th>string_y</th>\n",
       "    </tr>\n",
       "  </thead>\n",
       "  <tbody>\n",
       "    <tr>\n",
       "      <th>0</th>\n",
       "      <td>krish</td>\n",
       "      <td>6</td>\n",
       "      <td>dyu</td>\n",
       "      <td>tetst</td>\n",
       "      <td>6</td>\n",
       "      <td>dy1u</td>\n",
       "      <td>tet1st</td>\n",
       "    </tr>\n",
       "    <tr>\n",
       "      <th>1</th>\n",
       "      <td>kumar</td>\n",
       "      <td>9</td>\n",
       "      <td>ert</td>\n",
       "      <td>nennwe</td>\n",
       "      <td>19</td>\n",
       "      <td>er1t</td>\n",
       "      <td>ne1nnwe</td>\n",
       "    </tr>\n",
       "  </tbody>\n",
       "</table>\n",
       "</div>"
      ],
      "text/plain": [
       "    name  number_x test_x string_x  number_y test_y string_y\n",
       "0  krish         6    dyu    tetst         6   dy1u   tet1st\n",
       "1  kumar         9    ert   nennwe        19   er1t  ne1nnwe"
      ]
     },
     "execution_count": 60,
     "metadata": {},
     "output_type": "execute_result"
    }
   ],
   "source": [
    "#merge based on column Name \n",
    "pd.merge(df1,df2,on=\"name\")\n"
   ]
  },
  {
   "cell_type": "code",
   "execution_count": 51,
   "id": "1659814f",
   "metadata": {},
   "outputs": [],
   "source": [
    "#it will merge content based on column name if is same\n",
    "#Ven diagram is example \n"
   ]
  },
  {
   "cell_type": "code",
   "execution_count": 61,
   "id": "8e77c194",
   "metadata": {},
   "outputs": [
    {
     "data": {
      "text/html": [
       "<div>\n",
       "<style scoped>\n",
       "    .dataframe tbody tr th:only-of-type {\n",
       "        vertical-align: middle;\n",
       "    }\n",
       "\n",
       "    .dataframe tbody tr th {\n",
       "        vertical-align: top;\n",
       "    }\n",
       "\n",
       "    .dataframe thead th {\n",
       "        text-align: right;\n",
       "    }\n",
       "</style>\n",
       "<table border=\"1\" class=\"dataframe\">\n",
       "  <thead>\n",
       "    <tr style=\"text-align: right;\">\n",
       "      <th></th>\n",
       "      <th>name_x</th>\n",
       "      <th>number_x</th>\n",
       "      <th>test</th>\n",
       "      <th>string_x</th>\n",
       "      <th>name_y</th>\n",
       "      <th>number_y</th>\n",
       "      <th>string_y</th>\n",
       "    </tr>\n",
       "  </thead>\n",
       "  <tbody>\n",
       "  </tbody>\n",
       "</table>\n",
       "</div>"
      ],
      "text/plain": [
       "Empty DataFrame\n",
       "Columns: [name_x, number_x, test, string_x, name_y, number_y, string_y]\n",
       "Index: []"
      ]
     },
     "execution_count": 61,
     "metadata": {},
     "output_type": "execute_result"
    }
   ],
   "source": [
    "pd.merge(df1,df2,on='test')"
   ]
  },
  {
   "cell_type": "code",
   "execution_count": 62,
   "id": "571d1aee",
   "metadata": {},
   "outputs": [
    {
     "data": {
      "text/html": [
       "<div>\n",
       "<style scoped>\n",
       "    .dataframe tbody tr th:only-of-type {\n",
       "        vertical-align: middle;\n",
       "    }\n",
       "\n",
       "    .dataframe tbody tr th {\n",
       "        vertical-align: top;\n",
       "    }\n",
       "\n",
       "    .dataframe thead th {\n",
       "        text-align: right;\n",
       "    }\n",
       "</style>\n",
       "<table border=\"1\" class=\"dataframe\">\n",
       "  <thead>\n",
       "    <tr style=\"text-align: right;\">\n",
       "      <th></th>\n",
       "      <th>name_x</th>\n",
       "      <th>number_x</th>\n",
       "      <th>test_x</th>\n",
       "      <th>string</th>\n",
       "      <th>name_y</th>\n",
       "      <th>number_y</th>\n",
       "      <th>test_y</th>\n",
       "    </tr>\n",
       "  </thead>\n",
       "  <tbody>\n",
       "    <tr>\n",
       "      <th>0</th>\n",
       "      <td>ineuron</td>\n",
       "      <td>3</td>\n",
       "      <td>xyz</td>\n",
       "      <td>dffsd</td>\n",
       "      <td>NaN</td>\n",
       "      <td>NaN</td>\n",
       "      <td>NaN</td>\n",
       "    </tr>\n",
       "    <tr>\n",
       "      <th>1</th>\n",
       "      <td>Sudh</td>\n",
       "      <td>4</td>\n",
       "      <td>abc</td>\n",
       "      <td>wqew</td>\n",
       "      <td>NaN</td>\n",
       "      <td>NaN</td>\n",
       "      <td>NaN</td>\n",
       "    </tr>\n",
       "    <tr>\n",
       "      <th>2</th>\n",
       "      <td>krish</td>\n",
       "      <td>6</td>\n",
       "      <td>dyu</td>\n",
       "      <td>tetst</td>\n",
       "      <td>NaN</td>\n",
       "      <td>NaN</td>\n",
       "      <td>NaN</td>\n",
       "    </tr>\n",
       "    <tr>\n",
       "      <th>3</th>\n",
       "      <td>kumar</td>\n",
       "      <td>9</td>\n",
       "      <td>ert</td>\n",
       "      <td>nennwe</td>\n",
       "      <td>NaN</td>\n",
       "      <td>NaN</td>\n",
       "      <td>NaN</td>\n",
       "    </tr>\n",
       "  </tbody>\n",
       "</table>\n",
       "</div>"
      ],
      "text/plain": [
       "    name_x  number_x test_x  string name_y  number_y test_y\n",
       "0  ineuron         3    xyz   dffsd    NaN       NaN    NaN\n",
       "1     Sudh         4    abc    wqew    NaN       NaN    NaN\n",
       "2    krish         6    dyu   tetst    NaN       NaN    NaN\n",
       "3    kumar         9    ert  nennwe    NaN       NaN    NaN"
      ]
     },
     "execution_count": 62,
     "metadata": {},
     "output_type": "execute_result"
    }
   ],
   "source": [
    "pd.merge(df1,df2,on='string',how ='left')"
   ]
  },
  {
   "cell_type": "code",
   "execution_count": 63,
   "id": "60ecd9d3",
   "metadata": {},
   "outputs": [
    {
     "data": {
      "text/html": [
       "<div>\n",
       "<style scoped>\n",
       "    .dataframe tbody tr th:only-of-type {\n",
       "        vertical-align: middle;\n",
       "    }\n",
       "\n",
       "    .dataframe tbody tr th {\n",
       "        vertical-align: top;\n",
       "    }\n",
       "\n",
       "    .dataframe thead th {\n",
       "        text-align: right;\n",
       "    }\n",
       "</style>\n",
       "<table border=\"1\" class=\"dataframe\">\n",
       "  <thead>\n",
       "    <tr style=\"text-align: right;\">\n",
       "      <th></th>\n",
       "      <th>name_x</th>\n",
       "      <th>number_x</th>\n",
       "      <th>test_x</th>\n",
       "      <th>string</th>\n",
       "      <th>name_y</th>\n",
       "      <th>number_y</th>\n",
       "      <th>test_y</th>\n",
       "    </tr>\n",
       "  </thead>\n",
       "  <tbody>\n",
       "    <tr>\n",
       "      <th>0</th>\n",
       "      <td>NaN</td>\n",
       "      <td>NaN</td>\n",
       "      <td>NaN</td>\n",
       "      <td>dffs1d</td>\n",
       "      <td>ineuron1</td>\n",
       "      <td>31</td>\n",
       "      <td>xyz1</td>\n",
       "    </tr>\n",
       "    <tr>\n",
       "      <th>1</th>\n",
       "      <td>NaN</td>\n",
       "      <td>NaN</td>\n",
       "      <td>NaN</td>\n",
       "      <td>wq1ew</td>\n",
       "      <td>Sudh1</td>\n",
       "      <td>41</td>\n",
       "      <td>abc1</td>\n",
       "    </tr>\n",
       "    <tr>\n",
       "      <th>2</th>\n",
       "      <td>NaN</td>\n",
       "      <td>NaN</td>\n",
       "      <td>NaN</td>\n",
       "      <td>tet1st</td>\n",
       "      <td>krish</td>\n",
       "      <td>6</td>\n",
       "      <td>dy1u</td>\n",
       "    </tr>\n",
       "    <tr>\n",
       "      <th>3</th>\n",
       "      <td>NaN</td>\n",
       "      <td>NaN</td>\n",
       "      <td>NaN</td>\n",
       "      <td>ne1nnwe</td>\n",
       "      <td>kumar</td>\n",
       "      <td>19</td>\n",
       "      <td>er1t</td>\n",
       "    </tr>\n",
       "  </tbody>\n",
       "</table>\n",
       "</div>"
      ],
      "text/plain": [
       "  name_x  number_x test_x   string    name_y  number_y test_y\n",
       "0    NaN       NaN    NaN   dffs1d  ineuron1        31   xyz1\n",
       "1    NaN       NaN    NaN    wq1ew     Sudh1        41   abc1\n",
       "2    NaN       NaN    NaN   tet1st     krish         6   dy1u\n",
       "3    NaN       NaN    NaN  ne1nnwe     kumar        19   er1t"
      ]
     },
     "execution_count": 63,
     "metadata": {},
     "output_type": "execute_result"
    }
   ],
   "source": [
    "pd.merge(df1,df2,on='string',how ='right')"
   ]
  },
  {
   "cell_type": "code",
   "execution_count": 64,
   "id": "c9e67dfc",
   "metadata": {},
   "outputs": [
    {
     "ename": "KeyError",
     "evalue": "'ineuron'",
     "output_type": "error",
     "traceback": [
      "\u001b[1;31m---------------------------------------------------------------------------\u001b[0m",
      "\u001b[1;31mKeyError\u001b[0m                                  Traceback (most recent call last)",
      "\u001b[1;32m<ipython-input-64-7ad6902f31ca>\u001b[0m in \u001b[0;36m<module>\u001b[1;34m\u001b[0m\n\u001b[1;32m----> 1\u001b[1;33m \u001b[0mpd\u001b[0m\u001b[1;33m.\u001b[0m\u001b[0mmerge\u001b[0m\u001b[1;33m(\u001b[0m\u001b[0mdf1\u001b[0m\u001b[1;33m,\u001b[0m\u001b[0mdf2\u001b[0m\u001b[1;33m,\u001b[0m\u001b[0mon\u001b[0m\u001b[1;33m=\u001b[0m\u001b[1;34m'ineuron'\u001b[0m\u001b[1;33m,\u001b[0m\u001b[0mhow\u001b[0m \u001b[1;33m=\u001b[0m\u001b[1;34m'left'\u001b[0m\u001b[1;33m)\u001b[0m\u001b[1;33m\u001b[0m\u001b[1;33m\u001b[0m\u001b[0m\n\u001b[0m",
      "\u001b[1;32mC:\\ProgramData\\Anaconda3\\lib\\site-packages\\pandas\\core\\reshape\\merge.py\u001b[0m in \u001b[0;36mmerge\u001b[1;34m(left, right, how, on, left_on, right_on, left_index, right_index, sort, suffixes, copy, indicator, validate)\u001b[0m\n\u001b[0;32m     72\u001b[0m     \u001b[0mvalidate\u001b[0m\u001b[1;33m=\u001b[0m\u001b[1;32mNone\u001b[0m\u001b[1;33m,\u001b[0m\u001b[1;33m\u001b[0m\u001b[1;33m\u001b[0m\u001b[0m\n\u001b[0;32m     73\u001b[0m ) -> \"DataFrame\":\n\u001b[1;32m---> 74\u001b[1;33m     op = _MergeOperation(\n\u001b[0m\u001b[0;32m     75\u001b[0m         \u001b[0mleft\u001b[0m\u001b[1;33m,\u001b[0m\u001b[1;33m\u001b[0m\u001b[1;33m\u001b[0m\u001b[0m\n\u001b[0;32m     76\u001b[0m         \u001b[0mright\u001b[0m\u001b[1;33m,\u001b[0m\u001b[1;33m\u001b[0m\u001b[1;33m\u001b[0m\u001b[0m\n",
      "\u001b[1;32mC:\\ProgramData\\Anaconda3\\lib\\site-packages\\pandas\\core\\reshape\\merge.py\u001b[0m in \u001b[0;36m__init__\u001b[1;34m(self, left, right, how, on, left_on, right_on, axis, left_index, right_index, sort, suffixes, copy, indicator, validate)\u001b[0m\n\u001b[0;32m    666\u001b[0m             \u001b[0mself\u001b[0m\u001b[1;33m.\u001b[0m\u001b[0mright_join_keys\u001b[0m\u001b[1;33m,\u001b[0m\u001b[1;33m\u001b[0m\u001b[1;33m\u001b[0m\u001b[0m\n\u001b[0;32m    667\u001b[0m             \u001b[0mself\u001b[0m\u001b[1;33m.\u001b[0m\u001b[0mjoin_names\u001b[0m\u001b[1;33m,\u001b[0m\u001b[1;33m\u001b[0m\u001b[1;33m\u001b[0m\u001b[0m\n\u001b[1;32m--> 668\u001b[1;33m         ) = self._get_merge_keys()\n\u001b[0m\u001b[0;32m    669\u001b[0m \u001b[1;33m\u001b[0m\u001b[0m\n\u001b[0;32m    670\u001b[0m         \u001b[1;31m# validate the merge keys dtypes. We may need to coerce\u001b[0m\u001b[1;33m\u001b[0m\u001b[1;33m\u001b[0m\u001b[1;33m\u001b[0m\u001b[0m\n",
      "\u001b[1;32mC:\\ProgramData\\Anaconda3\\lib\\site-packages\\pandas\\core\\reshape\\merge.py\u001b[0m in \u001b[0;36m_get_merge_keys\u001b[1;34m(self)\u001b[0m\n\u001b[0;32m   1031\u001b[0m                     \u001b[1;32mif\u001b[0m \u001b[1;32mnot\u001b[0m \u001b[0mis_rkey\u001b[0m\u001b[1;33m(\u001b[0m\u001b[0mrk\u001b[0m\u001b[1;33m)\u001b[0m\u001b[1;33m:\u001b[0m\u001b[1;33m\u001b[0m\u001b[1;33m\u001b[0m\u001b[0m\n\u001b[0;32m   1032\u001b[0m                         \u001b[1;32mif\u001b[0m \u001b[0mrk\u001b[0m \u001b[1;32mis\u001b[0m \u001b[1;32mnot\u001b[0m \u001b[1;32mNone\u001b[0m\u001b[1;33m:\u001b[0m\u001b[1;33m\u001b[0m\u001b[1;33m\u001b[0m\u001b[0m\n\u001b[1;32m-> 1033\u001b[1;33m                             \u001b[0mright_keys\u001b[0m\u001b[1;33m.\u001b[0m\u001b[0mappend\u001b[0m\u001b[1;33m(\u001b[0m\u001b[0mright\u001b[0m\u001b[1;33m.\u001b[0m\u001b[0m_get_label_or_level_values\u001b[0m\u001b[1;33m(\u001b[0m\u001b[0mrk\u001b[0m\u001b[1;33m)\u001b[0m\u001b[1;33m)\u001b[0m\u001b[1;33m\u001b[0m\u001b[1;33m\u001b[0m\u001b[0m\n\u001b[0m\u001b[0;32m   1034\u001b[0m                         \u001b[1;32melse\u001b[0m\u001b[1;33m:\u001b[0m\u001b[1;33m\u001b[0m\u001b[1;33m\u001b[0m\u001b[0m\n\u001b[0;32m   1035\u001b[0m                             \u001b[1;31m# work-around for merge_asof(right_index=True)\u001b[0m\u001b[1;33m\u001b[0m\u001b[1;33m\u001b[0m\u001b[1;33m\u001b[0m\u001b[0m\n",
      "\u001b[1;32mC:\\ProgramData\\Anaconda3\\lib\\site-packages\\pandas\\core\\generic.py\u001b[0m in \u001b[0;36m_get_label_or_level_values\u001b[1;34m(self, key, axis)\u001b[0m\n\u001b[0;32m   1682\u001b[0m             \u001b[0mvalues\u001b[0m \u001b[1;33m=\u001b[0m \u001b[0mself\u001b[0m\u001b[1;33m.\u001b[0m\u001b[0maxes\u001b[0m\u001b[1;33m[\u001b[0m\u001b[0maxis\u001b[0m\u001b[1;33m]\u001b[0m\u001b[1;33m.\u001b[0m\u001b[0mget_level_values\u001b[0m\u001b[1;33m(\u001b[0m\u001b[0mkey\u001b[0m\u001b[1;33m)\u001b[0m\u001b[1;33m.\u001b[0m\u001b[0m_values\u001b[0m\u001b[1;33m\u001b[0m\u001b[1;33m\u001b[0m\u001b[0m\n\u001b[0;32m   1683\u001b[0m         \u001b[1;32melse\u001b[0m\u001b[1;33m:\u001b[0m\u001b[1;33m\u001b[0m\u001b[1;33m\u001b[0m\u001b[0m\n\u001b[1;32m-> 1684\u001b[1;33m             \u001b[1;32mraise\u001b[0m \u001b[0mKeyError\u001b[0m\u001b[1;33m(\u001b[0m\u001b[0mkey\u001b[0m\u001b[1;33m)\u001b[0m\u001b[1;33m\u001b[0m\u001b[1;33m\u001b[0m\u001b[0m\n\u001b[0m\u001b[0;32m   1685\u001b[0m \u001b[1;33m\u001b[0m\u001b[0m\n\u001b[0;32m   1686\u001b[0m         \u001b[1;31m# Check for duplicates\u001b[0m\u001b[1;33m\u001b[0m\u001b[1;33m\u001b[0m\u001b[1;33m\u001b[0m\u001b[0m\n",
      "\u001b[1;31mKeyError\u001b[0m: 'ineuron'"
     ]
    }
   ],
   "source": [
    "pd.merge(df1,df2,on='ineuron',how ='left')"
   ]
  },
  {
   "cell_type": "code",
   "execution_count": 70,
   "id": "552acdf5",
   "metadata": {},
   "outputs": [
    {
     "data": {
      "text/html": [
       "<div>\n",
       "<style scoped>\n",
       "    .dataframe tbody tr th:only-of-type {\n",
       "        vertical-align: middle;\n",
       "    }\n",
       "\n",
       "    .dataframe tbody tr th {\n",
       "        vertical-align: top;\n",
       "    }\n",
       "\n",
       "    .dataframe thead th {\n",
       "        text-align: right;\n",
       "    }\n",
       "</style>\n",
       "<table border=\"1\" class=\"dataframe\">\n",
       "  <thead>\n",
       "    <tr style=\"text-align: right;\">\n",
       "      <th></th>\n",
       "      <th>name</th>\n",
       "      <th>number</th>\n",
       "      <th>test</th>\n",
       "      <th>string</th>\n",
       "    </tr>\n",
       "  </thead>\n",
       "  <tbody>\n",
       "    <tr>\n",
       "      <th>0</th>\n",
       "      <td>ineuron</td>\n",
       "      <td>3</td>\n",
       "      <td>xyz</td>\n",
       "      <td>dffsd</td>\n",
       "    </tr>\n",
       "    <tr>\n",
       "      <th>1</th>\n",
       "      <td>Sudh</td>\n",
       "      <td>4</td>\n",
       "      <td>abc</td>\n",
       "      <td>wqew</td>\n",
       "    </tr>\n",
       "    <tr>\n",
       "      <th>2</th>\n",
       "      <td>krish</td>\n",
       "      <td>6</td>\n",
       "      <td>dyu</td>\n",
       "      <td>tetst</td>\n",
       "    </tr>\n",
       "    <tr>\n",
       "      <th>3</th>\n",
       "      <td>kumar</td>\n",
       "      <td>9</td>\n",
       "      <td>ert</td>\n",
       "      <td>nennwe</td>\n",
       "    </tr>\n",
       "  </tbody>\n",
       "</table>\n",
       "</div>"
      ],
      "text/plain": [
       "      name  number test  string\n",
       "0  ineuron       3  xyz   dffsd\n",
       "1     Sudh       4  abc    wqew\n",
       "2    krish       6  dyu   tetst\n",
       "3    kumar       9  ert  nennwe"
      ]
     },
     "execution_count": 70,
     "metadata": {},
     "output_type": "execute_result"
    }
   ],
   "source": [
    "df1"
   ]
  },
  {
   "cell_type": "code",
   "execution_count": 71,
   "id": "0add3141",
   "metadata": {},
   "outputs": [
    {
     "data": {
      "text/html": [
       "<div>\n",
       "<style scoped>\n",
       "    .dataframe tbody tr th:only-of-type {\n",
       "        vertical-align: middle;\n",
       "    }\n",
       "\n",
       "    .dataframe tbody tr th {\n",
       "        vertical-align: top;\n",
       "    }\n",
       "\n",
       "    .dataframe thead th {\n",
       "        text-align: right;\n",
       "    }\n",
       "</style>\n",
       "<table border=\"1\" class=\"dataframe\">\n",
       "  <thead>\n",
       "    <tr style=\"text-align: right;\">\n",
       "      <th></th>\n",
       "      <th>name</th>\n",
       "      <th>number</th>\n",
       "      <th>test</th>\n",
       "      <th>string</th>\n",
       "    </tr>\n",
       "  </thead>\n",
       "  <tbody>\n",
       "    <tr>\n",
       "      <th>0</th>\n",
       "      <td>ineuron1</td>\n",
       "      <td>31</td>\n",
       "      <td>xyz1</td>\n",
       "      <td>dffs1d</td>\n",
       "    </tr>\n",
       "    <tr>\n",
       "      <th>1</th>\n",
       "      <td>Sudh1</td>\n",
       "      <td>41</td>\n",
       "      <td>abc1</td>\n",
       "      <td>wq1ew</td>\n",
       "    </tr>\n",
       "    <tr>\n",
       "      <th>2</th>\n",
       "      <td>krish</td>\n",
       "      <td>6</td>\n",
       "      <td>dy1u</td>\n",
       "      <td>tet1st</td>\n",
       "    </tr>\n",
       "    <tr>\n",
       "      <th>3</th>\n",
       "      <td>kumar</td>\n",
       "      <td>19</td>\n",
       "      <td>er1t</td>\n",
       "      <td>ne1nnwe</td>\n",
       "    </tr>\n",
       "  </tbody>\n",
       "</table>\n",
       "</div>"
      ],
      "text/plain": [
       "       name  number  test   string\n",
       "0  ineuron1      31  xyz1   dffs1d\n",
       "1     Sudh1      41  abc1    wq1ew\n",
       "2     krish       6  dy1u   tet1st\n",
       "3     kumar      19  er1t  ne1nnwe"
      ]
     },
     "execution_count": 71,
     "metadata": {},
     "output_type": "execute_result"
    }
   ],
   "source": [
    "df2"
   ]
  },
  {
   "cell_type": "code",
   "execution_count": 72,
   "id": "3c9d3ae8",
   "metadata": {},
   "outputs": [
    {
     "data": {
      "text/html": [
       "<div>\n",
       "<style scoped>\n",
       "    .dataframe tbody tr th:only-of-type {\n",
       "        vertical-align: middle;\n",
       "    }\n",
       "\n",
       "    .dataframe tbody tr th {\n",
       "        vertical-align: top;\n",
       "    }\n",
       "\n",
       "    .dataframe thead th {\n",
       "        text-align: right;\n",
       "    }\n",
       "</style>\n",
       "<table border=\"1\" class=\"dataframe\">\n",
       "  <thead>\n",
       "    <tr style=\"text-align: right;\">\n",
       "      <th></th>\n",
       "      <th>name_x</th>\n",
       "      <th>number_x</th>\n",
       "      <th>test_x</th>\n",
       "      <th>string_x</th>\n",
       "      <th>name_y</th>\n",
       "      <th>number_y</th>\n",
       "      <th>test_y</th>\n",
       "      <th>string_y</th>\n",
       "    </tr>\n",
       "  </thead>\n",
       "  <tbody>\n",
       "    <tr>\n",
       "      <th>0</th>\n",
       "      <td>ineuron</td>\n",
       "      <td>3</td>\n",
       "      <td>xyz</td>\n",
       "      <td>dffsd</td>\n",
       "      <td>NaN</td>\n",
       "      <td>NaN</td>\n",
       "      <td>NaN</td>\n",
       "      <td>NaN</td>\n",
       "    </tr>\n",
       "    <tr>\n",
       "      <th>1</th>\n",
       "      <td>Sudh</td>\n",
       "      <td>4</td>\n",
       "      <td>abc</td>\n",
       "      <td>wqew</td>\n",
       "      <td>NaN</td>\n",
       "      <td>NaN</td>\n",
       "      <td>NaN</td>\n",
       "      <td>NaN</td>\n",
       "    </tr>\n",
       "    <tr>\n",
       "      <th>2</th>\n",
       "      <td>krish</td>\n",
       "      <td>6</td>\n",
       "      <td>dyu</td>\n",
       "      <td>tetst</td>\n",
       "      <td>NaN</td>\n",
       "      <td>NaN</td>\n",
       "      <td>NaN</td>\n",
       "      <td>NaN</td>\n",
       "    </tr>\n",
       "    <tr>\n",
       "      <th>3</th>\n",
       "      <td>kumar</td>\n",
       "      <td>9</td>\n",
       "      <td>ert</td>\n",
       "      <td>nennwe</td>\n",
       "      <td>NaN</td>\n",
       "      <td>NaN</td>\n",
       "      <td>NaN</td>\n",
       "      <td>NaN</td>\n",
       "    </tr>\n",
       "  </tbody>\n",
       "</table>\n",
       "</div>"
      ],
      "text/plain": [
       "    name_x  number_x test_x string_x name_y  number_y test_y string_y\n",
       "0  ineuron         3    xyz    dffsd    NaN       NaN    NaN      NaN\n",
       "1     Sudh         4    abc     wqew    NaN       NaN    NaN      NaN\n",
       "2    krish         6    dyu    tetst    NaN       NaN    NaN      NaN\n",
       "3    kumar         9    ert   nennwe    NaN       NaN    NaN      NaN"
      ]
     },
     "execution_count": 72,
     "metadata": {},
     "output_type": "execute_result"
    }
   ],
   "source": [
    "#merge if column not matching \n",
    "pd.merge(df1,df2,left_on='name',right_on='test',how ='left')"
   ]
  },
  {
   "cell_type": "code",
   "execution_count": 73,
   "id": "b1c2b1c8",
   "metadata": {},
   "outputs": [
    {
     "data": {
      "text/html": [
       "<div>\n",
       "<style scoped>\n",
       "    .dataframe tbody tr th:only-of-type {\n",
       "        vertical-align: middle;\n",
       "    }\n",
       "\n",
       "    .dataframe tbody tr th {\n",
       "        vertical-align: top;\n",
       "    }\n",
       "\n",
       "    .dataframe thead th {\n",
       "        text-align: right;\n",
       "    }\n",
       "</style>\n",
       "<table border=\"1\" class=\"dataframe\">\n",
       "  <thead>\n",
       "    <tr style=\"text-align: right;\">\n",
       "      <th></th>\n",
       "      <th>name_x</th>\n",
       "      <th>number_x</th>\n",
       "      <th>test_x</th>\n",
       "      <th>string_x</th>\n",
       "      <th>name_y</th>\n",
       "      <th>number_y</th>\n",
       "      <th>test_y</th>\n",
       "      <th>string_y</th>\n",
       "    </tr>\n",
       "  </thead>\n",
       "  <tbody>\n",
       "    <tr>\n",
       "      <th>0</th>\n",
       "      <td>ineuron</td>\n",
       "      <td>3.0</td>\n",
       "      <td>xyz</td>\n",
       "      <td>dffsd</td>\n",
       "      <td>NaN</td>\n",
       "      <td>NaN</td>\n",
       "      <td>NaN</td>\n",
       "      <td>NaN</td>\n",
       "    </tr>\n",
       "    <tr>\n",
       "      <th>1</th>\n",
       "      <td>Sudh</td>\n",
       "      <td>4.0</td>\n",
       "      <td>abc</td>\n",
       "      <td>wqew</td>\n",
       "      <td>NaN</td>\n",
       "      <td>NaN</td>\n",
       "      <td>NaN</td>\n",
       "      <td>NaN</td>\n",
       "    </tr>\n",
       "    <tr>\n",
       "      <th>2</th>\n",
       "      <td>krish</td>\n",
       "      <td>6.0</td>\n",
       "      <td>dyu</td>\n",
       "      <td>tetst</td>\n",
       "      <td>NaN</td>\n",
       "      <td>NaN</td>\n",
       "      <td>NaN</td>\n",
       "      <td>NaN</td>\n",
       "    </tr>\n",
       "    <tr>\n",
       "      <th>3</th>\n",
       "      <td>kumar</td>\n",
       "      <td>9.0</td>\n",
       "      <td>ert</td>\n",
       "      <td>nennwe</td>\n",
       "      <td>NaN</td>\n",
       "      <td>NaN</td>\n",
       "      <td>NaN</td>\n",
       "      <td>NaN</td>\n",
       "    </tr>\n",
       "    <tr>\n",
       "      <th>4</th>\n",
       "      <td>NaN</td>\n",
       "      <td>NaN</td>\n",
       "      <td>NaN</td>\n",
       "      <td>NaN</td>\n",
       "      <td>ineuron1</td>\n",
       "      <td>31.0</td>\n",
       "      <td>xyz1</td>\n",
       "      <td>dffs1d</td>\n",
       "    </tr>\n",
       "    <tr>\n",
       "      <th>5</th>\n",
       "      <td>NaN</td>\n",
       "      <td>NaN</td>\n",
       "      <td>NaN</td>\n",
       "      <td>NaN</td>\n",
       "      <td>Sudh1</td>\n",
       "      <td>41.0</td>\n",
       "      <td>abc1</td>\n",
       "      <td>wq1ew</td>\n",
       "    </tr>\n",
       "    <tr>\n",
       "      <th>6</th>\n",
       "      <td>NaN</td>\n",
       "      <td>NaN</td>\n",
       "      <td>NaN</td>\n",
       "      <td>NaN</td>\n",
       "      <td>krish</td>\n",
       "      <td>6.0</td>\n",
       "      <td>dy1u</td>\n",
       "      <td>tet1st</td>\n",
       "    </tr>\n",
       "    <tr>\n",
       "      <th>7</th>\n",
       "      <td>NaN</td>\n",
       "      <td>NaN</td>\n",
       "      <td>NaN</td>\n",
       "      <td>NaN</td>\n",
       "      <td>kumar</td>\n",
       "      <td>19.0</td>\n",
       "      <td>er1t</td>\n",
       "      <td>ne1nnwe</td>\n",
       "    </tr>\n",
       "  </tbody>\n",
       "</table>\n",
       "</div>"
      ],
      "text/plain": [
       "    name_x  number_x test_x string_x    name_y  number_y test_y string_y\n",
       "0  ineuron       3.0    xyz    dffsd       NaN       NaN    NaN      NaN\n",
       "1     Sudh       4.0    abc     wqew       NaN       NaN    NaN      NaN\n",
       "2    krish       6.0    dyu    tetst       NaN       NaN    NaN      NaN\n",
       "3    kumar       9.0    ert   nennwe       NaN       NaN    NaN      NaN\n",
       "4      NaN       NaN    NaN      NaN  ineuron1      31.0   xyz1   dffs1d\n",
       "5      NaN       NaN    NaN      NaN     Sudh1      41.0   abc1    wq1ew\n",
       "6      NaN       NaN    NaN      NaN     krish       6.0   dy1u   tet1st\n",
       "7      NaN       NaN    NaN      NaN     kumar      19.0   er1t  ne1nnwe"
      ]
     },
     "execution_count": 73,
     "metadata": {},
     "output_type": "execute_result"
    }
   ],
   "source": [
    "#outer join\n",
    "pd.merge(df1,df2,left_on='name',right_on='test',how ='outer')"
   ]
  },
  {
   "cell_type": "code",
   "execution_count": 76,
   "id": "8470de26",
   "metadata": {},
   "outputs": [
    {
     "data": {
      "text/html": [
       "<div>\n",
       "<style scoped>\n",
       "    .dataframe tbody tr th:only-of-type {\n",
       "        vertical-align: middle;\n",
       "    }\n",
       "\n",
       "    .dataframe tbody tr th {\n",
       "        vertical-align: top;\n",
       "    }\n",
       "\n",
       "    .dataframe thead th {\n",
       "        text-align: right;\n",
       "    }\n",
       "</style>\n",
       "<table border=\"1\" class=\"dataframe\">\n",
       "  <thead>\n",
       "    <tr style=\"text-align: right;\">\n",
       "      <th></th>\n",
       "      <th>name</th>\n",
       "      <th>number</th>\n",
       "      <th>test_x</th>\n",
       "      <th>string_x</th>\n",
       "      <th>test_y</th>\n",
       "      <th>string_y</th>\n",
       "    </tr>\n",
       "  </thead>\n",
       "  <tbody>\n",
       "    <tr>\n",
       "      <th>0</th>\n",
       "      <td>ineuron</td>\n",
       "      <td>3</td>\n",
       "      <td>xyz</td>\n",
       "      <td>dffsd</td>\n",
       "      <td>NaN</td>\n",
       "      <td>NaN</td>\n",
       "    </tr>\n",
       "    <tr>\n",
       "      <th>1</th>\n",
       "      <td>Sudh</td>\n",
       "      <td>4</td>\n",
       "      <td>abc</td>\n",
       "      <td>wqew</td>\n",
       "      <td>NaN</td>\n",
       "      <td>NaN</td>\n",
       "    </tr>\n",
       "    <tr>\n",
       "      <th>2</th>\n",
       "      <td>krish</td>\n",
       "      <td>6</td>\n",
       "      <td>dyu</td>\n",
       "      <td>tetst</td>\n",
       "      <td>dy1u</td>\n",
       "      <td>tet1st</td>\n",
       "    </tr>\n",
       "    <tr>\n",
       "      <th>3</th>\n",
       "      <td>kumar</td>\n",
       "      <td>9</td>\n",
       "      <td>ert</td>\n",
       "      <td>nennwe</td>\n",
       "      <td>NaN</td>\n",
       "      <td>NaN</td>\n",
       "    </tr>\n",
       "  </tbody>\n",
       "</table>\n",
       "</div>"
      ],
      "text/plain": [
       "      name  number test_x string_x test_y string_y\n",
       "0  ineuron       3    xyz    dffsd    NaN      NaN\n",
       "1     Sudh       4    abc     wqew    NaN      NaN\n",
       "2    krish       6    dyu    tetst   dy1u   tet1st\n",
       "3    kumar       9    ert   nennwe    NaN      NaN"
      ]
     },
     "execution_count": 76,
     "metadata": {},
     "output_type": "execute_result"
    }
   ],
   "source": [
    "#merge if name and number match two columns matching\n",
    "pd.merge(df1,df2,how='left',on=['name','number'])"
   ]
  },
  {
   "cell_type": "code",
   "execution_count": 77,
   "id": "a131416b",
   "metadata": {},
   "outputs": [],
   "source": [
    "#join in pandas "
   ]
  },
  {
   "cell_type": "code",
   "execution_count": 78,
   "id": "6e9e5a2d",
   "metadata": {},
   "outputs": [
    {
     "data": {
      "text/html": [
       "<div>\n",
       "<style scoped>\n",
       "    .dataframe tbody tr th:only-of-type {\n",
       "        vertical-align: middle;\n",
       "    }\n",
       "\n",
       "    .dataframe tbody tr th {\n",
       "        vertical-align: top;\n",
       "    }\n",
       "\n",
       "    .dataframe thead th {\n",
       "        text-align: right;\n",
       "    }\n",
       "</style>\n",
       "<table border=\"1\" class=\"dataframe\">\n",
       "  <thead>\n",
       "    <tr style=\"text-align: right;\">\n",
       "      <th></th>\n",
       "      <th>name</th>\n",
       "      <th>number</th>\n",
       "      <th>test</th>\n",
       "      <th>string</th>\n",
       "    </tr>\n",
       "  </thead>\n",
       "  <tbody>\n",
       "    <tr>\n",
       "      <th>0</th>\n",
       "      <td>ineuron</td>\n",
       "      <td>3</td>\n",
       "      <td>xyz</td>\n",
       "      <td>dffsd</td>\n",
       "    </tr>\n",
       "    <tr>\n",
       "      <th>1</th>\n",
       "      <td>Sudh</td>\n",
       "      <td>4</td>\n",
       "      <td>abc</td>\n",
       "      <td>wqew</td>\n",
       "    </tr>\n",
       "    <tr>\n",
       "      <th>2</th>\n",
       "      <td>krish</td>\n",
       "      <td>6</td>\n",
       "      <td>dyu</td>\n",
       "      <td>tetst</td>\n",
       "    </tr>\n",
       "    <tr>\n",
       "      <th>3</th>\n",
       "      <td>kumar</td>\n",
       "      <td>9</td>\n",
       "      <td>ert</td>\n",
       "      <td>nennwe</td>\n",
       "    </tr>\n",
       "  </tbody>\n",
       "</table>\n",
       "</div>"
      ],
      "text/plain": [
       "      name  number test  string\n",
       "0  ineuron       3  xyz   dffsd\n",
       "1     Sudh       4  abc    wqew\n",
       "2    krish       6  dyu   tetst\n",
       "3    kumar       9  ert  nennwe"
      ]
     },
     "execution_count": 78,
     "metadata": {},
     "output_type": "execute_result"
    }
   ],
   "source": [
    "df1"
   ]
  },
  {
   "cell_type": "code",
   "execution_count": 79,
   "id": "65406983",
   "metadata": {},
   "outputs": [
    {
     "data": {
      "text/html": [
       "<div>\n",
       "<style scoped>\n",
       "    .dataframe tbody tr th:only-of-type {\n",
       "        vertical-align: middle;\n",
       "    }\n",
       "\n",
       "    .dataframe tbody tr th {\n",
       "        vertical-align: top;\n",
       "    }\n",
       "\n",
       "    .dataframe thead th {\n",
       "        text-align: right;\n",
       "    }\n",
       "</style>\n",
       "<table border=\"1\" class=\"dataframe\">\n",
       "  <thead>\n",
       "    <tr style=\"text-align: right;\">\n",
       "      <th></th>\n",
       "      <th>name</th>\n",
       "      <th>number</th>\n",
       "      <th>test</th>\n",
       "      <th>string</th>\n",
       "    </tr>\n",
       "  </thead>\n",
       "  <tbody>\n",
       "    <tr>\n",
       "      <th>0</th>\n",
       "      <td>ineuron1</td>\n",
       "      <td>31</td>\n",
       "      <td>xyz1</td>\n",
       "      <td>dffs1d</td>\n",
       "    </tr>\n",
       "    <tr>\n",
       "      <th>1</th>\n",
       "      <td>Sudh1</td>\n",
       "      <td>41</td>\n",
       "      <td>abc1</td>\n",
       "      <td>wq1ew</td>\n",
       "    </tr>\n",
       "    <tr>\n",
       "      <th>2</th>\n",
       "      <td>krish</td>\n",
       "      <td>6</td>\n",
       "      <td>dy1u</td>\n",
       "      <td>tet1st</td>\n",
       "    </tr>\n",
       "    <tr>\n",
       "      <th>3</th>\n",
       "      <td>kumar</td>\n",
       "      <td>19</td>\n",
       "      <td>er1t</td>\n",
       "      <td>ne1nnwe</td>\n",
       "    </tr>\n",
       "  </tbody>\n",
       "</table>\n",
       "</div>"
      ],
      "text/plain": [
       "       name  number  test   string\n",
       "0  ineuron1      31  xyz1   dffs1d\n",
       "1     Sudh1      41  abc1    wq1ew\n",
       "2     krish       6  dy1u   tet1st\n",
       "3     kumar      19  er1t  ne1nnwe"
      ]
     },
     "execution_count": 79,
     "metadata": {},
     "output_type": "execute_result"
    }
   ],
   "source": [
    "df2"
   ]
  },
  {
   "cell_type": "code",
   "execution_count": 80,
   "id": "61fad754",
   "metadata": {},
   "outputs": [
    {
     "ename": "ValueError",
     "evalue": "columns overlap but no suffix specified: Index(['name', 'number', 'test', 'string'], dtype='object')",
     "output_type": "error",
     "traceback": [
      "\u001b[1;31m---------------------------------------------------------------------------\u001b[0m",
      "\u001b[1;31mValueError\u001b[0m                                Traceback (most recent call last)",
      "\u001b[1;32m<ipython-input-80-f8069890b6d0>\u001b[0m in \u001b[0;36m<module>\u001b[1;34m\u001b[0m\n\u001b[1;32m----> 1\u001b[1;33m \u001b[0mdf1\u001b[0m\u001b[1;33m.\u001b[0m\u001b[0mjoin\u001b[0m\u001b[1;33m(\u001b[0m\u001b[0mdf2\u001b[0m\u001b[1;33m)\u001b[0m\u001b[1;33m\u001b[0m\u001b[1;33m\u001b[0m\u001b[0m\n\u001b[0m",
      "\u001b[1;32mC:\\ProgramData\\Anaconda3\\lib\\site-packages\\pandas\\core\\frame.py\u001b[0m in \u001b[0;36mjoin\u001b[1;34m(self, other, on, how, lsuffix, rsuffix, sort)\u001b[0m\n\u001b[0;32m   8108\u001b[0m         \u001b[1;36m5\u001b[0m  \u001b[0mK5\u001b[0m  \u001b[0mA5\u001b[0m  \u001b[0mNaN\u001b[0m\u001b[1;33m\u001b[0m\u001b[1;33m\u001b[0m\u001b[0m\n\u001b[0;32m   8109\u001b[0m         \"\"\"\n\u001b[1;32m-> 8110\u001b[1;33m         return self._join_compat(\n\u001b[0m\u001b[0;32m   8111\u001b[0m             \u001b[0mother\u001b[0m\u001b[1;33m,\u001b[0m \u001b[0mon\u001b[0m\u001b[1;33m=\u001b[0m\u001b[0mon\u001b[0m\u001b[1;33m,\u001b[0m \u001b[0mhow\u001b[0m\u001b[1;33m=\u001b[0m\u001b[0mhow\u001b[0m\u001b[1;33m,\u001b[0m \u001b[0mlsuffix\u001b[0m\u001b[1;33m=\u001b[0m\u001b[0mlsuffix\u001b[0m\u001b[1;33m,\u001b[0m \u001b[0mrsuffix\u001b[0m\u001b[1;33m=\u001b[0m\u001b[0mrsuffix\u001b[0m\u001b[1;33m,\u001b[0m \u001b[0msort\u001b[0m\u001b[1;33m=\u001b[0m\u001b[0msort\u001b[0m\u001b[1;33m\u001b[0m\u001b[1;33m\u001b[0m\u001b[0m\n\u001b[0;32m   8112\u001b[0m         )\n",
      "\u001b[1;32mC:\\ProgramData\\Anaconda3\\lib\\site-packages\\pandas\\core\\frame.py\u001b[0m in \u001b[0;36m_join_compat\u001b[1;34m(self, other, on, how, lsuffix, rsuffix, sort)\u001b[0m\n\u001b[0;32m   8133\u001b[0m                     \u001b[0msort\u001b[0m\u001b[1;33m=\u001b[0m\u001b[0msort\u001b[0m\u001b[1;33m,\u001b[0m\u001b[1;33m\u001b[0m\u001b[1;33m\u001b[0m\u001b[0m\n\u001b[0;32m   8134\u001b[0m                 )\n\u001b[1;32m-> 8135\u001b[1;33m             return merge(\n\u001b[0m\u001b[0;32m   8136\u001b[0m                 \u001b[0mself\u001b[0m\u001b[1;33m,\u001b[0m\u001b[1;33m\u001b[0m\u001b[1;33m\u001b[0m\u001b[0m\n\u001b[0;32m   8137\u001b[0m                 \u001b[0mother\u001b[0m\u001b[1;33m,\u001b[0m\u001b[1;33m\u001b[0m\u001b[1;33m\u001b[0m\u001b[0m\n",
      "\u001b[1;32mC:\\ProgramData\\Anaconda3\\lib\\site-packages\\pandas\\core\\reshape\\merge.py\u001b[0m in \u001b[0;36mmerge\u001b[1;34m(left, right, how, on, left_on, right_on, left_index, right_index, sort, suffixes, copy, indicator, validate)\u001b[0m\n\u001b[0;32m     87\u001b[0m         \u001b[0mvalidate\u001b[0m\u001b[1;33m=\u001b[0m\u001b[0mvalidate\u001b[0m\u001b[1;33m,\u001b[0m\u001b[1;33m\u001b[0m\u001b[1;33m\u001b[0m\u001b[0m\n\u001b[0;32m     88\u001b[0m     )\n\u001b[1;32m---> 89\u001b[1;33m     \u001b[1;32mreturn\u001b[0m \u001b[0mop\u001b[0m\u001b[1;33m.\u001b[0m\u001b[0mget_result\u001b[0m\u001b[1;33m(\u001b[0m\u001b[1;33m)\u001b[0m\u001b[1;33m\u001b[0m\u001b[1;33m\u001b[0m\u001b[0m\n\u001b[0m\u001b[0;32m     90\u001b[0m \u001b[1;33m\u001b[0m\u001b[0m\n\u001b[0;32m     91\u001b[0m \u001b[1;33m\u001b[0m\u001b[0m\n",
      "\u001b[1;32mC:\\ProgramData\\Anaconda3\\lib\\site-packages\\pandas\\core\\reshape\\merge.py\u001b[0m in \u001b[0;36mget_result\u001b[1;34m(self)\u001b[0m\n\u001b[0;32m    684\u001b[0m         \u001b[0mjoin_index\u001b[0m\u001b[1;33m,\u001b[0m \u001b[0mleft_indexer\u001b[0m\u001b[1;33m,\u001b[0m \u001b[0mright_indexer\u001b[0m \u001b[1;33m=\u001b[0m \u001b[0mself\u001b[0m\u001b[1;33m.\u001b[0m\u001b[0m_get_join_info\u001b[0m\u001b[1;33m(\u001b[0m\u001b[1;33m)\u001b[0m\u001b[1;33m\u001b[0m\u001b[1;33m\u001b[0m\u001b[0m\n\u001b[0;32m    685\u001b[0m \u001b[1;33m\u001b[0m\u001b[0m\n\u001b[1;32m--> 686\u001b[1;33m         llabels, rlabels = _items_overlap_with_suffix(\n\u001b[0m\u001b[0;32m    687\u001b[0m             \u001b[0mself\u001b[0m\u001b[1;33m.\u001b[0m\u001b[0mleft\u001b[0m\u001b[1;33m.\u001b[0m\u001b[0m_info_axis\u001b[0m\u001b[1;33m,\u001b[0m \u001b[0mself\u001b[0m\u001b[1;33m.\u001b[0m\u001b[0mright\u001b[0m\u001b[1;33m.\u001b[0m\u001b[0m_info_axis\u001b[0m\u001b[1;33m,\u001b[0m \u001b[0mself\u001b[0m\u001b[1;33m.\u001b[0m\u001b[0msuffixes\u001b[0m\u001b[1;33m\u001b[0m\u001b[1;33m\u001b[0m\u001b[0m\n\u001b[0;32m    688\u001b[0m         )\n",
      "\u001b[1;32mC:\\ProgramData\\Anaconda3\\lib\\site-packages\\pandas\\core\\reshape\\merge.py\u001b[0m in \u001b[0;36m_items_overlap_with_suffix\u001b[1;34m(left, right, suffixes)\u001b[0m\n\u001b[0;32m   2176\u001b[0m \u001b[1;33m\u001b[0m\u001b[0m\n\u001b[0;32m   2177\u001b[0m     \u001b[1;32mif\u001b[0m \u001b[1;32mnot\u001b[0m \u001b[0mlsuffix\u001b[0m \u001b[1;32mand\u001b[0m \u001b[1;32mnot\u001b[0m \u001b[0mrsuffix\u001b[0m\u001b[1;33m:\u001b[0m\u001b[1;33m\u001b[0m\u001b[1;33m\u001b[0m\u001b[0m\n\u001b[1;32m-> 2178\u001b[1;33m         \u001b[1;32mraise\u001b[0m \u001b[0mValueError\u001b[0m\u001b[1;33m(\u001b[0m\u001b[1;34mf\"columns overlap but no suffix specified: {to_rename}\"\u001b[0m\u001b[1;33m)\u001b[0m\u001b[1;33m\u001b[0m\u001b[1;33m\u001b[0m\u001b[0m\n\u001b[0m\u001b[0;32m   2179\u001b[0m \u001b[1;33m\u001b[0m\u001b[0m\n\u001b[0;32m   2180\u001b[0m     \u001b[1;32mdef\u001b[0m \u001b[0mrenamer\u001b[0m\u001b[1;33m(\u001b[0m\u001b[0mx\u001b[0m\u001b[1;33m,\u001b[0m \u001b[0msuffix\u001b[0m\u001b[1;33m)\u001b[0m\u001b[1;33m:\u001b[0m\u001b[1;33m\u001b[0m\u001b[1;33m\u001b[0m\u001b[0m\n",
      "\u001b[1;31mValueError\u001b[0m: columns overlap but no suffix specified: Index(['name', 'number', 'test', 'string'], dtype='object')"
     ]
    }
   ],
   "source": [
    "df1.join(df2)"
   ]
  },
  {
   "cell_type": "code",
   "execution_count": 81,
   "id": "55916b76",
   "metadata": {},
   "outputs": [
    {
     "ename": "ValueError",
     "evalue": "You are trying to merge on object and int64 columns. If you wish to proceed you should use pd.concat",
     "output_type": "error",
     "traceback": [
      "\u001b[1;31m---------------------------------------------------------------------------\u001b[0m",
      "\u001b[1;31mValueError\u001b[0m                                Traceback (most recent call last)",
      "\u001b[1;32m<ipython-input-81-ae04a5dca19c>\u001b[0m in \u001b[0;36m<module>\u001b[1;34m\u001b[0m\n\u001b[1;32m----> 1\u001b[1;33m \u001b[0mdf1\u001b[0m\u001b[1;33m.\u001b[0m\u001b[0mjoin\u001b[0m\u001b[1;33m(\u001b[0m\u001b[0mdf2\u001b[0m\u001b[1;33m,\u001b[0m\u001b[0mon\u001b[0m\u001b[1;33m=\u001b[0m\u001b[1;34m'name'\u001b[0m\u001b[1;33m)\u001b[0m\u001b[1;33m\u001b[0m\u001b[1;33m\u001b[0m\u001b[0m\n\u001b[0m",
      "\u001b[1;32mC:\\ProgramData\\Anaconda3\\lib\\site-packages\\pandas\\core\\frame.py\u001b[0m in \u001b[0;36mjoin\u001b[1;34m(self, other, on, how, lsuffix, rsuffix, sort)\u001b[0m\n\u001b[0;32m   8108\u001b[0m         \u001b[1;36m5\u001b[0m  \u001b[0mK5\u001b[0m  \u001b[0mA5\u001b[0m  \u001b[0mNaN\u001b[0m\u001b[1;33m\u001b[0m\u001b[1;33m\u001b[0m\u001b[0m\n\u001b[0;32m   8109\u001b[0m         \"\"\"\n\u001b[1;32m-> 8110\u001b[1;33m         return self._join_compat(\n\u001b[0m\u001b[0;32m   8111\u001b[0m             \u001b[0mother\u001b[0m\u001b[1;33m,\u001b[0m \u001b[0mon\u001b[0m\u001b[1;33m=\u001b[0m\u001b[0mon\u001b[0m\u001b[1;33m,\u001b[0m \u001b[0mhow\u001b[0m\u001b[1;33m=\u001b[0m\u001b[0mhow\u001b[0m\u001b[1;33m,\u001b[0m \u001b[0mlsuffix\u001b[0m\u001b[1;33m=\u001b[0m\u001b[0mlsuffix\u001b[0m\u001b[1;33m,\u001b[0m \u001b[0mrsuffix\u001b[0m\u001b[1;33m=\u001b[0m\u001b[0mrsuffix\u001b[0m\u001b[1;33m,\u001b[0m \u001b[0msort\u001b[0m\u001b[1;33m=\u001b[0m\u001b[0msort\u001b[0m\u001b[1;33m\u001b[0m\u001b[1;33m\u001b[0m\u001b[0m\n\u001b[0;32m   8112\u001b[0m         )\n",
      "\u001b[1;32mC:\\ProgramData\\Anaconda3\\lib\\site-packages\\pandas\\core\\frame.py\u001b[0m in \u001b[0;36m_join_compat\u001b[1;34m(self, other, on, how, lsuffix, rsuffix, sort)\u001b[0m\n\u001b[0;32m   8133\u001b[0m                     \u001b[0msort\u001b[0m\u001b[1;33m=\u001b[0m\u001b[0msort\u001b[0m\u001b[1;33m,\u001b[0m\u001b[1;33m\u001b[0m\u001b[1;33m\u001b[0m\u001b[0m\n\u001b[0;32m   8134\u001b[0m                 )\n\u001b[1;32m-> 8135\u001b[1;33m             return merge(\n\u001b[0m\u001b[0;32m   8136\u001b[0m                 \u001b[0mself\u001b[0m\u001b[1;33m,\u001b[0m\u001b[1;33m\u001b[0m\u001b[1;33m\u001b[0m\u001b[0m\n\u001b[0;32m   8137\u001b[0m                 \u001b[0mother\u001b[0m\u001b[1;33m,\u001b[0m\u001b[1;33m\u001b[0m\u001b[1;33m\u001b[0m\u001b[0m\n",
      "\u001b[1;32mC:\\ProgramData\\Anaconda3\\lib\\site-packages\\pandas\\core\\reshape\\merge.py\u001b[0m in \u001b[0;36mmerge\u001b[1;34m(left, right, how, on, left_on, right_on, left_index, right_index, sort, suffixes, copy, indicator, validate)\u001b[0m\n\u001b[0;32m     72\u001b[0m     \u001b[0mvalidate\u001b[0m\u001b[1;33m=\u001b[0m\u001b[1;32mNone\u001b[0m\u001b[1;33m,\u001b[0m\u001b[1;33m\u001b[0m\u001b[1;33m\u001b[0m\u001b[0m\n\u001b[0;32m     73\u001b[0m ) -> \"DataFrame\":\n\u001b[1;32m---> 74\u001b[1;33m     op = _MergeOperation(\n\u001b[0m\u001b[0;32m     75\u001b[0m         \u001b[0mleft\u001b[0m\u001b[1;33m,\u001b[0m\u001b[1;33m\u001b[0m\u001b[1;33m\u001b[0m\u001b[0m\n\u001b[0;32m     76\u001b[0m         \u001b[0mright\u001b[0m\u001b[1;33m,\u001b[0m\u001b[1;33m\u001b[0m\u001b[1;33m\u001b[0m\u001b[0m\n",
      "\u001b[1;32mC:\\ProgramData\\Anaconda3\\lib\\site-packages\\pandas\\core\\reshape\\merge.py\u001b[0m in \u001b[0;36m__init__\u001b[1;34m(self, left, right, how, on, left_on, right_on, axis, left_index, right_index, sort, suffixes, copy, indicator, validate)\u001b[0m\n\u001b[0;32m    670\u001b[0m         \u001b[1;31m# validate the merge keys dtypes. We may need to coerce\u001b[0m\u001b[1;33m\u001b[0m\u001b[1;33m\u001b[0m\u001b[1;33m\u001b[0m\u001b[0m\n\u001b[0;32m    671\u001b[0m         \u001b[1;31m# to avoid incompatible dtypes\u001b[0m\u001b[1;33m\u001b[0m\u001b[1;33m\u001b[0m\u001b[1;33m\u001b[0m\u001b[0m\n\u001b[1;32m--> 672\u001b[1;33m         \u001b[0mself\u001b[0m\u001b[1;33m.\u001b[0m\u001b[0m_maybe_coerce_merge_keys\u001b[0m\u001b[1;33m(\u001b[0m\u001b[1;33m)\u001b[0m\u001b[1;33m\u001b[0m\u001b[1;33m\u001b[0m\u001b[0m\n\u001b[0m\u001b[0;32m    673\u001b[0m \u001b[1;33m\u001b[0m\u001b[0m\n\u001b[0;32m    674\u001b[0m         \u001b[1;31m# If argument passed to validate,\u001b[0m\u001b[1;33m\u001b[0m\u001b[1;33m\u001b[0m\u001b[1;33m\u001b[0m\u001b[0m\n",
      "\u001b[1;32mC:\\ProgramData\\Anaconda3\\lib\\site-packages\\pandas\\core\\reshape\\merge.py\u001b[0m in \u001b[0;36m_maybe_coerce_merge_keys\u001b[1;34m(self)\u001b[0m\n\u001b[0;32m   1191\u001b[0m                     \u001b[0minferred_right\u001b[0m \u001b[1;32min\u001b[0m \u001b[0mstring_types\u001b[0m \u001b[1;32mand\u001b[0m \u001b[0minferred_left\u001b[0m \u001b[1;32mnot\u001b[0m \u001b[1;32min\u001b[0m \u001b[0mstring_types\u001b[0m\u001b[1;33m\u001b[0m\u001b[1;33m\u001b[0m\u001b[0m\n\u001b[0;32m   1192\u001b[0m                 ):\n\u001b[1;32m-> 1193\u001b[1;33m                     \u001b[1;32mraise\u001b[0m \u001b[0mValueError\u001b[0m\u001b[1;33m(\u001b[0m\u001b[0mmsg\u001b[0m\u001b[1;33m)\u001b[0m\u001b[1;33m\u001b[0m\u001b[1;33m\u001b[0m\u001b[0m\n\u001b[0m\u001b[0;32m   1194\u001b[0m \u001b[1;33m\u001b[0m\u001b[0m\n\u001b[0;32m   1195\u001b[0m             \u001b[1;31m# datetimelikes must match exactly\u001b[0m\u001b[1;33m\u001b[0m\u001b[1;33m\u001b[0m\u001b[1;33m\u001b[0m\u001b[0m\n",
      "\u001b[1;31mValueError\u001b[0m: You are trying to merge on object and int64 columns. If you wish to proceed you should use pd.concat"
     ]
    }
   ],
   "source": [
    "df1.join(df2)"
   ]
  },
  {
   "cell_type": "code",
   "execution_count": 82,
   "id": "41cc6428",
   "metadata": {},
   "outputs": [],
   "source": [
    "dict3={\n",
    "    \"name1\":[\"ineuron1\",\"Sudh1\",\"krish\",\"kumar\"],\n",
    "     \"number1\":[31,41,6,19],\n",
    "    \"test1\":[\"xyz1\",\"abc1\",\"dy1u\",\"er1t\"],\n",
    "    \"string1\":[\"dffs1d\",\"wq1ew\",\"tet1st\",\"ne1nnwe\"]\n",
    "}"
   ]
  },
  {
   "cell_type": "code",
   "execution_count": 83,
   "id": "bfdb2f8e",
   "metadata": {},
   "outputs": [],
   "source": [
    "df3=pd.DataFrame(dict3)"
   ]
  },
  {
   "cell_type": "code",
   "execution_count": 84,
   "id": "32cd90ef",
   "metadata": {},
   "outputs": [
    {
     "data": {
      "text/html": [
       "<div>\n",
       "<style scoped>\n",
       "    .dataframe tbody tr th:only-of-type {\n",
       "        vertical-align: middle;\n",
       "    }\n",
       "\n",
       "    .dataframe tbody tr th {\n",
       "        vertical-align: top;\n",
       "    }\n",
       "\n",
       "    .dataframe thead th {\n",
       "        text-align: right;\n",
       "    }\n",
       "</style>\n",
       "<table border=\"1\" class=\"dataframe\">\n",
       "  <thead>\n",
       "    <tr style=\"text-align: right;\">\n",
       "      <th></th>\n",
       "      <th>name</th>\n",
       "      <th>number</th>\n",
       "      <th>test</th>\n",
       "      <th>string</th>\n",
       "      <th>name1</th>\n",
       "      <th>number1</th>\n",
       "      <th>test1</th>\n",
       "      <th>string1</th>\n",
       "    </tr>\n",
       "  </thead>\n",
       "  <tbody>\n",
       "    <tr>\n",
       "      <th>0</th>\n",
       "      <td>ineuron</td>\n",
       "      <td>3</td>\n",
       "      <td>xyz</td>\n",
       "      <td>dffsd</td>\n",
       "      <td>ineuron1</td>\n",
       "      <td>31</td>\n",
       "      <td>xyz1</td>\n",
       "      <td>dffs1d</td>\n",
       "    </tr>\n",
       "    <tr>\n",
       "      <th>1</th>\n",
       "      <td>Sudh</td>\n",
       "      <td>4</td>\n",
       "      <td>abc</td>\n",
       "      <td>wqew</td>\n",
       "      <td>Sudh1</td>\n",
       "      <td>41</td>\n",
       "      <td>abc1</td>\n",
       "      <td>wq1ew</td>\n",
       "    </tr>\n",
       "    <tr>\n",
       "      <th>2</th>\n",
       "      <td>krish</td>\n",
       "      <td>6</td>\n",
       "      <td>dyu</td>\n",
       "      <td>tetst</td>\n",
       "      <td>krish</td>\n",
       "      <td>6</td>\n",
       "      <td>dy1u</td>\n",
       "      <td>tet1st</td>\n",
       "    </tr>\n",
       "    <tr>\n",
       "      <th>3</th>\n",
       "      <td>kumar</td>\n",
       "      <td>9</td>\n",
       "      <td>ert</td>\n",
       "      <td>nennwe</td>\n",
       "      <td>kumar</td>\n",
       "      <td>19</td>\n",
       "      <td>er1t</td>\n",
       "      <td>ne1nnwe</td>\n",
       "    </tr>\n",
       "  </tbody>\n",
       "</table>\n",
       "</div>"
      ],
      "text/plain": [
       "      name  number test  string     name1  number1 test1  string1\n",
       "0  ineuron       3  xyz   dffsd  ineuron1       31  xyz1   dffs1d\n",
       "1     Sudh       4  abc    wqew     Sudh1       41  abc1    wq1ew\n",
       "2    krish       6  dyu   tetst     krish        6  dy1u   tet1st\n",
       "3    kumar       9  ert  nennwe     kumar       19  er1t  ne1nnwe"
      ]
     },
     "execution_count": 84,
     "metadata": {},
     "output_type": "execute_result"
    }
   ],
   "source": [
    "df1.join(df3)"
   ]
  },
  {
   "cell_type": "code",
   "execution_count": 85,
   "id": "f32a9992",
   "metadata": {},
   "outputs": [
    {
     "data": {
      "text/html": [
       "<div>\n",
       "<style scoped>\n",
       "    .dataframe tbody tr th:only-of-type {\n",
       "        vertical-align: middle;\n",
       "    }\n",
       "\n",
       "    .dataframe tbody tr th {\n",
       "        vertical-align: top;\n",
       "    }\n",
       "\n",
       "    .dataframe thead th {\n",
       "        text-align: right;\n",
       "    }\n",
       "</style>\n",
       "<table border=\"1\" class=\"dataframe\">\n",
       "  <thead>\n",
       "    <tr style=\"text-align: right;\">\n",
       "      <th></th>\n",
       "      <th>name</th>\n",
       "      <th>number</th>\n",
       "      <th>test</th>\n",
       "      <th>string</th>\n",
       "      <th>name1</th>\n",
       "      <th>number1</th>\n",
       "      <th>test1</th>\n",
       "      <th>string1</th>\n",
       "    </tr>\n",
       "  </thead>\n",
       "  <tbody>\n",
       "    <tr>\n",
       "      <th>0</th>\n",
       "      <td>ineuron</td>\n",
       "      <td>3</td>\n",
       "      <td>xyz</td>\n",
       "      <td>dffsd</td>\n",
       "      <td>ineuron1</td>\n",
       "      <td>31</td>\n",
       "      <td>xyz1</td>\n",
       "      <td>dffs1d</td>\n",
       "    </tr>\n",
       "    <tr>\n",
       "      <th>1</th>\n",
       "      <td>Sudh</td>\n",
       "      <td>4</td>\n",
       "      <td>abc</td>\n",
       "      <td>wqew</td>\n",
       "      <td>Sudh1</td>\n",
       "      <td>41</td>\n",
       "      <td>abc1</td>\n",
       "      <td>wq1ew</td>\n",
       "    </tr>\n",
       "    <tr>\n",
       "      <th>2</th>\n",
       "      <td>krish</td>\n",
       "      <td>6</td>\n",
       "      <td>dyu</td>\n",
       "      <td>tetst</td>\n",
       "      <td>krish</td>\n",
       "      <td>6</td>\n",
       "      <td>dy1u</td>\n",
       "      <td>tet1st</td>\n",
       "    </tr>\n",
       "    <tr>\n",
       "      <th>3</th>\n",
       "      <td>kumar</td>\n",
       "      <td>9</td>\n",
       "      <td>ert</td>\n",
       "      <td>nennwe</td>\n",
       "      <td>kumar</td>\n",
       "      <td>19</td>\n",
       "      <td>er1t</td>\n",
       "      <td>ne1nnwe</td>\n",
       "    </tr>\n",
       "  </tbody>\n",
       "</table>\n",
       "</div>"
      ],
      "text/plain": [
       "      name  number test  string     name1  number1 test1  string1\n",
       "0  ineuron       3  xyz   dffsd  ineuron1       31  xyz1   dffs1d\n",
       "1     Sudh       4  abc    wqew     Sudh1       41  abc1    wq1ew\n",
       "2    krish       6  dyu   tetst     krish        6  dy1u   tet1st\n",
       "3    kumar       9  ert  nennwe     kumar       19  er1t  ne1nnwe"
      ]
     },
     "execution_count": 85,
     "metadata": {},
     "output_type": "execute_result"
    }
   ],
   "source": [
    "df1.join(df3,how='left')"
   ]
  },
  {
   "cell_type": "code",
   "execution_count": 86,
   "id": "1232c7d5",
   "metadata": {},
   "outputs": [
    {
     "data": {
      "text/plain": [
       "'C:\\\\Users\\\\dinesh.kumar\\\\Desktop\\\\Python'"
      ]
     },
     "execution_count": 86,
     "metadata": {},
     "output_type": "execute_result"
    }
   ],
   "source": [
    "pwd()"
   ]
  },
  {
   "cell_type": "code",
   "execution_count": 87,
   "id": "88c2a3fc",
   "metadata": {},
   "outputs": [
    {
     "name": "stdout",
     "output_type": "stream",
     "text": [
      " Volume in drive C is Windows\n",
      " Volume Serial Number is A894-DB8D\n",
      "\n",
      " Directory of C:\\Users\\dinesh.kumar\\Desktop\\Python\n",
      "\n",
      "31-10-2021  21:15    <DIR>          .\n",
      "31-10-2021  21:15    <DIR>          ..\n",
      "31-10-2021  20:10    <DIR>          .ipynb_checkpoints\n",
      "15-07-2021  07:27             1,173 addresses.csv\n",
      "12-09-2021  20:09             1,654 Assignment_1.ipynb\n",
      "08-09-2021  08:32             6,152 Class 1 .ipynb\n",
      "24-10-2021  22:23            28,149 Class_12_MongoDB_Atlas.ipynb\n",
      "30-10-2021  22:05             1,726 Class_13_MySqlConnection.ipynb\n",
      "24-10-2021  22:23             2,115 Class11_Basic Installation .ipynb\n",
      "31-10-2021  21:15            82,416 Class14_PamdaAdvance.ipynb\n",
      "11-09-2021  22:12            42,757 Class3.ipynb\n",
      "25-09-2021  19:52            17,932 Class4.ipynb\n",
      "19-09-2021  23:30            33,575 Class5.ipynb\n",
      "20-09-2021  07:36            41,433 Class6.ipynb\n",
      "26-09-2021  22:07            33,729 Class7.ipynb\n",
      "03-10-2021  22:23            26,073 Class8_Exception_Handling.ipynb\n",
      "28-10-2021  08:16           189,278 Class9_Panda_Uses.ipynb\n",
      "23-10-2021  19:08             1,589 contacts.csv\n",
      "28-10-2021  07:46             1,589 contacts_Start.csv\n",
      "05-09-2021  11:18             2,569 Demo1.ipynb\n",
      "01-10-2021  09:20             4,960 Ineoron_Assignment1_Python_Basics_Conditional_Loops.ipynb\n",
      "03-10-2021  11:36             2,343 Ineoron_Assignment2_String_Objects_And_List_Objects.ipynb\n",
      "25-09-2021  19:57             2,679 Largest Number.ipynb\n",
      "08-09-2021  08:59             3,196 P1_Syntax.ipynb\n",
      "08-09-2021  09:05             3,583 P2_Comments.ipynb\n",
      "11-09-2021  09:02            13,779 P3_Variables.ipynb\n",
      "11-09-2021  09:52             4,541 P4-DataTypes.ipynb\n",
      "28-10-2021  08:00            21,504 Sample.xls\n",
      "03-10-2021  20:41                23 test.txt\n",
      "              26 File(s)        570,517 bytes\n",
      "               3 Dir(s)  34,096,680,960 bytes free\n"
     ]
    }
   ],
   "source": [
    "ls"
   ]
  },
  {
   "cell_type": "code",
   "execution_count": 88,
   "id": "4a90dcbe",
   "metadata": {
    "scrolled": true
   },
   "outputs": [
    {
     "name": "stdout",
     "output_type": "stream",
     "text": [
      " Volume in drive C is Windows\n",
      " Volume Serial Number is A894-DB8D\n",
      "\n",
      " Directory of C:\\Users\\dinesh.kumar\\Desktop\\Python\n",
      "\n",
      "31-10-2021  21:17    <DIR>          .\n",
      "31-10-2021  21:17    <DIR>          ..\n",
      "31-10-2021  20:10    <DIR>          .ipynb_checkpoints\n",
      "15-07-2021  07:27             1,173 addresses.csv\n",
      "12-09-2021  20:09             1,654 Assignment_1.ipynb\n",
      "08-09-2021  08:32             6,152 Class 1 .ipynb\n",
      "24-10-2021  22:23            28,149 Class_12_MongoDB_Atlas.ipynb\n",
      "30-10-2021  22:05             1,726 Class_13_MySqlConnection.ipynb\n",
      "24-10-2021  22:23             2,115 Class11_Basic Installation .ipynb\n",
      "31-10-2021  21:17            85,262 Class14_PamdaAdvance.ipynb\n",
      "11-09-2021  22:12            42,757 Class3.ipynb\n",
      "25-09-2021  19:52            17,932 Class4.ipynb\n",
      "19-09-2021  23:30            33,575 Class5.ipynb\n",
      "20-09-2021  07:36            41,433 Class6.ipynb\n",
      "26-09-2021  22:07            33,729 Class7.ipynb\n",
      "03-10-2021  22:23            26,073 Class8_Exception_Handling.ipynb\n",
      "28-10-2021  08:16           189,278 Class9_Panda_Uses.ipynb\n",
      "23-10-2021  19:08             1,589 contacts.csv\n",
      "28-10-2021  07:46             1,589 contacts_Start.csv\n",
      "05-09-2021  11:18             2,569 Demo1.ipynb\n",
      "01-10-2021  09:20             4,960 Ineoron_Assignment1_Python_Basics_Conditional_Loops.ipynb\n",
      "03-10-2021  11:36             2,343 Ineoron_Assignment2_String_Objects_And_List_Objects.ipynb\n",
      "25-09-2021  19:57             2,679 Largest Number.ipynb\n",
      "08-09-2021  08:59             3,196 P1_Syntax.ipynb\n",
      "08-09-2021  09:05             3,583 P2_Comments.ipynb\n",
      "11-09-2021  09:02            13,779 P3_Variables.ipynb\n",
      "11-09-2021  09:52             4,541 P4-DataTypes.ipynb\n",
      "28-10-2021  08:00            21,504 Sample.xls\n",
      "03-10-2021  20:41                23 test.txt\n",
      "              26 File(s)        573,363 bytes\n",
      "               3 Dir(s)  34,096,553,984 bytes free\n"
     ]
    }
   ],
   "source": [
    "ls"
   ]
  },
  {
   "cell_type": "code",
   "execution_count": 91,
   "id": "b90ceee7",
   "metadata": {},
   "outputs": [],
   "source": [
    "df1=pd.read_csv('contacts_start.csv')"
   ]
  },
  {
   "cell_type": "code",
   "execution_count": 92,
   "id": "f3459264",
   "metadata": {},
   "outputs": [],
   "source": [
    "df2=pd.read_csv('contacts.csv')"
   ]
  },
  {
   "cell_type": "code",
   "execution_count": 95,
   "id": "5dfd9e36",
   "metadata": {},
   "outputs": [],
   "source": [
    "df5=pd.concat([df1,df2])"
   ]
  },
  {
   "cell_type": "code",
   "execution_count": 96,
   "id": "6c5b3e8f",
   "metadata": {},
   "outputs": [
    {
     "data": {
      "text/html": [
       "<div>\n",
       "<style scoped>\n",
       "    .dataframe tbody tr th:only-of-type {\n",
       "        vertical-align: middle;\n",
       "    }\n",
       "\n",
       "    .dataframe tbody tr th {\n",
       "        vertical-align: top;\n",
       "    }\n",
       "\n",
       "    .dataframe thead th {\n",
       "        text-align: right;\n",
       "    }\n",
       "</style>\n",
       "<table border=\"1\" class=\"dataframe\">\n",
       "  <thead>\n",
       "    <tr style=\"text-align: right;\">\n",
       "      <th></th>\n",
       "      <th>id*location_id*organization_id*service_id*name*title*email*department</th>\n",
       "      <th>id</th>\n",
       "      <th>location_id</th>\n",
       "      <th>organization_id</th>\n",
       "      <th>service_id</th>\n",
       "      <th>name</th>\n",
       "      <th>title</th>\n",
       "      <th>email</th>\n",
       "      <th>department</th>\n",
       "    </tr>\n",
       "  </thead>\n",
       "  <tbody>\n",
       "    <tr>\n",
       "      <th>0</th>\n",
       "      <td>1*1***Susan Houston*Director of Older Adult Se...</td>\n",
       "      <td>NaN</td>\n",
       "      <td>NaN</td>\n",
       "      <td>NaN</td>\n",
       "      <td>NaN</td>\n",
       "      <td>NaN</td>\n",
       "      <td>NaN</td>\n",
       "      <td>NaN</td>\n",
       "      <td>NaN</td>\n",
       "    </tr>\n",
       "    <tr>\n",
       "      <th>1</th>\n",
       "      <td>2*1***Christina Gonzalez*Center Director**</td>\n",
       "      <td>NaN</td>\n",
       "      <td>NaN</td>\n",
       "      <td>NaN</td>\n",
       "      <td>NaN</td>\n",
       "      <td>NaN</td>\n",
       "      <td>NaN</td>\n",
       "      <td>NaN</td>\n",
       "      <td>NaN</td>\n",
       "    </tr>\n",
       "    <tr>\n",
       "      <th>2</th>\n",
       "      <td>3*2***Brenda Brown*\"Director* Second Career Se...</td>\n",
       "      <td>NaN</td>\n",
       "      <td>NaN</td>\n",
       "      <td>NaN</td>\n",
       "      <td>NaN</td>\n",
       "      <td>NaN</td>\n",
       "      <td>NaN</td>\n",
       "      <td>NaN</td>\n",
       "      <td>NaN</td>\n",
       "    </tr>\n",
       "    <tr>\n",
       "      <th>3</th>\n",
       "      <td>4*3***\"Howard Lader* LCSW\"*\"Manager* Senior Pe...</td>\n",
       "      <td>NaN</td>\n",
       "      <td>NaN</td>\n",
       "      <td>NaN</td>\n",
       "      <td>NaN</td>\n",
       "      <td>NaN</td>\n",
       "      <td>NaN</td>\n",
       "      <td>NaN</td>\n",
       "      <td>NaN</td>\n",
       "    </tr>\n",
       "    <tr>\n",
       "      <th>4</th>\n",
       "      <td>5*4***Kimberly Pesavento*Director of Visitation**</td>\n",
       "      <td>NaN</td>\n",
       "      <td>NaN</td>\n",
       "      <td>NaN</td>\n",
       "      <td>NaN</td>\n",
       "      <td>NaN</td>\n",
       "      <td>NaN</td>\n",
       "      <td>NaN</td>\n",
       "      <td>NaN</td>\n",
       "    </tr>\n",
       "    <tr>\n",
       "      <th>...</th>\n",
       "      <td>...</td>\n",
       "      <td>...</td>\n",
       "      <td>...</td>\n",
       "      <td>...</td>\n",
       "      <td>...</td>\n",
       "      <td>...</td>\n",
       "      <td>...</td>\n",
       "      <td>...</td>\n",
       "      <td>...</td>\n",
       "    </tr>\n",
       "    <tr>\n",
       "      <th>26</th>\n",
       "      <td>NaN</td>\n",
       "      <td>27.0</td>\n",
       "      <td>19.0</td>\n",
       "      <td>NaN</td>\n",
       "      <td>NaN</td>\n",
       "      <td>Sharon Petersen</td>\n",
       "      <td>Administrator</td>\n",
       "      <td>NaN</td>\n",
       "      <td>NaN</td>\n",
       "    </tr>\n",
       "    <tr>\n",
       "      <th>27</th>\n",
       "      <td>NaN</td>\n",
       "      <td>28.0</td>\n",
       "      <td>21.0</td>\n",
       "      <td>NaN</td>\n",
       "      <td>NaN</td>\n",
       "      <td>Moncef</td>\n",
       "      <td>NaN</td>\n",
       "      <td>NaN</td>\n",
       "      <td>Office of Innovation</td>\n",
       "    </tr>\n",
       "    <tr>\n",
       "      <th>28</th>\n",
       "      <td>NaN</td>\n",
       "      <td>29.0</td>\n",
       "      <td>22.0</td>\n",
       "      <td>NaN</td>\n",
       "      <td>NaN</td>\n",
       "      <td>Suzanne Badenhoop</td>\n",
       "      <td>Board President</td>\n",
       "      <td>suzanne@example.com</td>\n",
       "      <td>Referrals</td>\n",
       "    </tr>\n",
       "    <tr>\n",
       "      <th>29</th>\n",
       "      <td>NaN</td>\n",
       "      <td>32.0</td>\n",
       "      <td>NaN</td>\n",
       "      <td>8.0</td>\n",
       "      <td>NaN</td>\n",
       "      <td>Elizabeth Feeney</td>\n",
       "      <td>CEO</td>\n",
       "      <td>e.feeney@foobar.org</td>\n",
       "      <td>Operations</td>\n",
       "    </tr>\n",
       "    <tr>\n",
       "      <th>30</th>\n",
       "      <td>NaN</td>\n",
       "      <td>36.0</td>\n",
       "      <td>NaN</td>\n",
       "      <td>NaN</td>\n",
       "      <td>22.0</td>\n",
       "      <td>Joe Smith</td>\n",
       "      <td>CalFresh Specialist</td>\n",
       "      <td>john.smith@example.org</td>\n",
       "      <td>CalFresh Applications</td>\n",
       "    </tr>\n",
       "  </tbody>\n",
       "</table>\n",
       "<p>62 rows × 9 columns</p>\n",
       "</div>"
      ],
      "text/plain": [
       "   id*location_id*organization_id*service_id*name*title*email*department  \\\n",
       "0   1*1***Susan Houston*Director of Older Adult Se...                      \n",
       "1          2*1***Christina Gonzalez*Center Director**                      \n",
       "2   3*2***Brenda Brown*\"Director* Second Career Se...                      \n",
       "3   4*3***\"Howard Lader* LCSW\"*\"Manager* Senior Pe...                      \n",
       "4   5*4***Kimberly Pesavento*Director of Visitation**                      \n",
       "..                                                ...                      \n",
       "26                                                NaN                      \n",
       "27                                                NaN                      \n",
       "28                                                NaN                      \n",
       "29                                                NaN                      \n",
       "30                                                NaN                      \n",
       "\n",
       "      id  location_id  organization_id  service_id               name  \\\n",
       "0    NaN          NaN              NaN         NaN                NaN   \n",
       "1    NaN          NaN              NaN         NaN                NaN   \n",
       "2    NaN          NaN              NaN         NaN                NaN   \n",
       "3    NaN          NaN              NaN         NaN                NaN   \n",
       "4    NaN          NaN              NaN         NaN                NaN   \n",
       "..   ...          ...              ...         ...                ...   \n",
       "26  27.0         19.0              NaN         NaN    Sharon Petersen   \n",
       "27  28.0         21.0              NaN         NaN             Moncef   \n",
       "28  29.0         22.0              NaN         NaN  Suzanne Badenhoop   \n",
       "29  32.0          NaN              8.0         NaN   Elizabeth Feeney   \n",
       "30  36.0          NaN              NaN        22.0          Joe Smith   \n",
       "\n",
       "                  title                   email             department  \n",
       "0                   NaN                     NaN                    NaN  \n",
       "1                   NaN                     NaN                    NaN  \n",
       "2                   NaN                     NaN                    NaN  \n",
       "3                   NaN                     NaN                    NaN  \n",
       "4                   NaN                     NaN                    NaN  \n",
       "..                  ...                     ...                    ...  \n",
       "26        Administrator                     NaN                    NaN  \n",
       "27                  NaN                     NaN   Office of Innovation  \n",
       "28      Board President     suzanne@example.com              Referrals  \n",
       "29                  CEO     e.feeney@foobar.org             Operations  \n",
       "30  CalFresh Specialist  john.smith@example.org  CalFresh Applications  \n",
       "\n",
       "[62 rows x 9 columns]"
      ]
     },
     "execution_count": 96,
     "metadata": {},
     "output_type": "execute_result"
    }
   ],
   "source": [
    "df5"
   ]
  },
  {
   "cell_type": "code",
   "execution_count": 116,
   "id": "6392c252",
   "metadata": {},
   "outputs": [],
   "source": [
    "dict4={\n",
    "    \"col1\":[\"aas\",\"bdad3\",\"c3312\"],\n",
    "    \"col2\":[1,2,3]\n",
    "    \n",
    "}"
   ]
  },
  {
   "cell_type": "code",
   "execution_count": 117,
   "id": "8cbf0722",
   "metadata": {},
   "outputs": [],
   "source": [
    "df5=pd.DataFrame(dict4)"
   ]
  },
  {
   "cell_type": "code",
   "execution_count": 99,
   "id": "d2c8f07b",
   "metadata": {},
   "outputs": [
    {
     "data": {
      "text/html": [
       "<div>\n",
       "<style scoped>\n",
       "    .dataframe tbody tr th:only-of-type {\n",
       "        vertical-align: middle;\n",
       "    }\n",
       "\n",
       "    .dataframe tbody tr th {\n",
       "        vertical-align: top;\n",
       "    }\n",
       "\n",
       "    .dataframe thead th {\n",
       "        text-align: right;\n",
       "    }\n",
       "</style>\n",
       "<table border=\"1\" class=\"dataframe\">\n",
       "  <thead>\n",
       "    <tr style=\"text-align: right;\">\n",
       "      <th></th>\n",
       "      <th>col1</th>\n",
       "      <th>col2</th>\n",
       "    </tr>\n",
       "  </thead>\n",
       "  <tbody>\n",
       "    <tr>\n",
       "      <th>0</th>\n",
       "      <td>a</td>\n",
       "      <td>1</td>\n",
       "    </tr>\n",
       "    <tr>\n",
       "      <th>1</th>\n",
       "      <td>b</td>\n",
       "      <td>2</td>\n",
       "    </tr>\n",
       "    <tr>\n",
       "      <th>2</th>\n",
       "      <td>c</td>\n",
       "      <td>3</td>\n",
       "    </tr>\n",
       "  </tbody>\n",
       "</table>\n",
       "</div>"
      ],
      "text/plain": [
       "  col1  col2\n",
       "0    a     1\n",
       "1    b     2\n",
       "2    c     3"
      ]
     },
     "execution_count": 99,
     "metadata": {},
     "output_type": "execute_result"
    }
   ],
   "source": [
    "df5"
   ]
  },
  {
   "cell_type": "code",
   "execution_count": 119,
   "id": "40c84e89",
   "metadata": {},
   "outputs": [],
   "source": [
    "#generate new column which will be twice of col2\n",
    "df5['col3']=df5['col2']*2"
   ]
  },
  {
   "cell_type": "code",
   "execution_count": 101,
   "id": "48f18bd2",
   "metadata": {},
   "outputs": [
    {
     "data": {
      "text/html": [
       "<div>\n",
       "<style scoped>\n",
       "    .dataframe tbody tr th:only-of-type {\n",
       "        vertical-align: middle;\n",
       "    }\n",
       "\n",
       "    .dataframe tbody tr th {\n",
       "        vertical-align: top;\n",
       "    }\n",
       "\n",
       "    .dataframe thead th {\n",
       "        text-align: right;\n",
       "    }\n",
       "</style>\n",
       "<table border=\"1\" class=\"dataframe\">\n",
       "  <thead>\n",
       "    <tr style=\"text-align: right;\">\n",
       "      <th></th>\n",
       "      <th>col1</th>\n",
       "      <th>col2</th>\n",
       "      <th>col3</th>\n",
       "    </tr>\n",
       "  </thead>\n",
       "  <tbody>\n",
       "    <tr>\n",
       "      <th>0</th>\n",
       "      <td>a</td>\n",
       "      <td>1</td>\n",
       "      <td>2</td>\n",
       "    </tr>\n",
       "    <tr>\n",
       "      <th>1</th>\n",
       "      <td>b</td>\n",
       "      <td>2</td>\n",
       "      <td>4</td>\n",
       "    </tr>\n",
       "    <tr>\n",
       "      <th>2</th>\n",
       "      <td>c</td>\n",
       "      <td>3</td>\n",
       "      <td>6</td>\n",
       "    </tr>\n",
       "  </tbody>\n",
       "</table>\n",
       "</div>"
      ],
      "text/plain": [
       "  col1  col2  col3\n",
       "0    a     1     2\n",
       "1    b     2     4\n",
       "2    c     3     6"
      ]
     },
     "execution_count": 101,
     "metadata": {},
     "output_type": "execute_result"
    }
   ],
   "source": [
    "df5"
   ]
  },
  {
   "cell_type": "code",
   "execution_count": 120,
   "id": "06647477",
   "metadata": {},
   "outputs": [],
   "source": [
    "import numpy as np\n",
    "df5['col4_log']=np.log(df5['col3'])"
   ]
  },
  {
   "cell_type": "code",
   "execution_count": 103,
   "id": "17be3027",
   "metadata": {},
   "outputs": [
    {
     "data": {
      "text/html": [
       "<div>\n",
       "<style scoped>\n",
       "    .dataframe tbody tr th:only-of-type {\n",
       "        vertical-align: middle;\n",
       "    }\n",
       "\n",
       "    .dataframe tbody tr th {\n",
       "        vertical-align: top;\n",
       "    }\n",
       "\n",
       "    .dataframe thead th {\n",
       "        text-align: right;\n",
       "    }\n",
       "</style>\n",
       "<table border=\"1\" class=\"dataframe\">\n",
       "  <thead>\n",
       "    <tr style=\"text-align: right;\">\n",
       "      <th></th>\n",
       "      <th>col1</th>\n",
       "      <th>col2</th>\n",
       "      <th>col3</th>\n",
       "      <th>col4_log</th>\n",
       "    </tr>\n",
       "  </thead>\n",
       "  <tbody>\n",
       "    <tr>\n",
       "      <th>0</th>\n",
       "      <td>a</td>\n",
       "      <td>1</td>\n",
       "      <td>2</td>\n",
       "      <td>0.693147</td>\n",
       "    </tr>\n",
       "    <tr>\n",
       "      <th>1</th>\n",
       "      <td>b</td>\n",
       "      <td>2</td>\n",
       "      <td>4</td>\n",
       "      <td>1.386294</td>\n",
       "    </tr>\n",
       "    <tr>\n",
       "      <th>2</th>\n",
       "      <td>c</td>\n",
       "      <td>3</td>\n",
       "      <td>6</td>\n",
       "      <td>1.791759</td>\n",
       "    </tr>\n",
       "  </tbody>\n",
       "</table>\n",
       "</div>"
      ],
      "text/plain": [
       "  col1  col2  col3  col4_log\n",
       "0    a     1     2  0.693147\n",
       "1    b     2     4  1.386294\n",
       "2    c     3     6  1.791759"
      ]
     },
     "execution_count": 103,
     "metadata": {},
     "output_type": "execute_result"
    }
   ],
   "source": [
    "df5"
   ]
  },
  {
   "cell_type": "code",
   "execution_count": 121,
   "id": "87a75486",
   "metadata": {},
   "outputs": [],
   "source": [
    "def testfun(data):\n",
    "    if data>500:\n",
    "        return np.log10(data)\n",
    "    else:\n",
    "        return data/10"
   ]
  },
  {
   "cell_type": "code",
   "execution_count": 122,
   "id": "2fb74462",
   "metadata": {},
   "outputs": [],
   "source": [
    "#apply function \n",
    "df5['col_fucn']=df5['col4_log'].apply(testfun)"
   ]
  },
  {
   "cell_type": "code",
   "execution_count": 112,
   "id": "a2db5f0f",
   "metadata": {},
   "outputs": [
    {
     "data": {
      "text/html": [
       "<div>\n",
       "<style scoped>\n",
       "    .dataframe tbody tr th:only-of-type {\n",
       "        vertical-align: middle;\n",
       "    }\n",
       "\n",
       "    .dataframe tbody tr th {\n",
       "        vertical-align: top;\n",
       "    }\n",
       "\n",
       "    .dataframe thead th {\n",
       "        text-align: right;\n",
       "    }\n",
       "</style>\n",
       "<table border=\"1\" class=\"dataframe\">\n",
       "  <thead>\n",
       "    <tr style=\"text-align: right;\">\n",
       "      <th></th>\n",
       "      <th>col1</th>\n",
       "      <th>col2</th>\n",
       "      <th>col3</th>\n",
       "      <th>col4_log</th>\n",
       "      <th>col_fucn</th>\n",
       "    </tr>\n",
       "  </thead>\n",
       "  <tbody>\n",
       "    <tr>\n",
       "      <th>0</th>\n",
       "      <td>a</td>\n",
       "      <td>1</td>\n",
       "      <td>2</td>\n",
       "      <td>0.693147</td>\n",
       "      <td>0.069315</td>\n",
       "    </tr>\n",
       "    <tr>\n",
       "      <th>1</th>\n",
       "      <td>b</td>\n",
       "      <td>2</td>\n",
       "      <td>4</td>\n",
       "      <td>1.386294</td>\n",
       "      <td>0.138629</td>\n",
       "    </tr>\n",
       "    <tr>\n",
       "      <th>2</th>\n",
       "      <td>c</td>\n",
       "      <td>3</td>\n",
       "      <td>6</td>\n",
       "      <td>1.791759</td>\n",
       "      <td>0.179176</td>\n",
       "    </tr>\n",
       "  </tbody>\n",
       "</table>\n",
       "</div>"
      ],
      "text/plain": [
       "  col1  col2  col3  col4_log  col_fucn\n",
       "0    a     1     2  0.693147  0.069315\n",
       "1    b     2     4  1.386294  0.138629\n",
       "2    c     3     6  1.791759  0.179176"
      ]
     },
     "execution_count": 112,
     "metadata": {},
     "output_type": "execute_result"
    }
   ],
   "source": [
    "df5"
   ]
  },
  {
   "cell_type": "code",
   "execution_count": 123,
   "id": "3ae166cf",
   "metadata": {},
   "outputs": [],
   "source": [
    "#add colum to calculate lenght of col1\n",
    "df5['col_lenght']=df5['col1'].apply(len)"
   ]
  },
  {
   "cell_type": "code",
   "execution_count": 124,
   "id": "14bbfe4d",
   "metadata": {},
   "outputs": [
    {
     "data": {
      "text/html": [
       "<div>\n",
       "<style scoped>\n",
       "    .dataframe tbody tr th:only-of-type {\n",
       "        vertical-align: middle;\n",
       "    }\n",
       "\n",
       "    .dataframe tbody tr th {\n",
       "        vertical-align: top;\n",
       "    }\n",
       "\n",
       "    .dataframe thead th {\n",
       "        text-align: right;\n",
       "    }\n",
       "</style>\n",
       "<table border=\"1\" class=\"dataframe\">\n",
       "  <thead>\n",
       "    <tr style=\"text-align: right;\">\n",
       "      <th></th>\n",
       "      <th>col1</th>\n",
       "      <th>col2</th>\n",
       "      <th>col3</th>\n",
       "      <th>col4_log</th>\n",
       "      <th>col_fucn</th>\n",
       "      <th>col_lenght</th>\n",
       "    </tr>\n",
       "  </thead>\n",
       "  <tbody>\n",
       "    <tr>\n",
       "      <th>0</th>\n",
       "      <td>aas</td>\n",
       "      <td>1</td>\n",
       "      <td>2</td>\n",
       "      <td>0.693147</td>\n",
       "      <td>0.069315</td>\n",
       "      <td>3</td>\n",
       "    </tr>\n",
       "    <tr>\n",
       "      <th>1</th>\n",
       "      <td>bdad3</td>\n",
       "      <td>2</td>\n",
       "      <td>4</td>\n",
       "      <td>1.386294</td>\n",
       "      <td>0.138629</td>\n",
       "      <td>5</td>\n",
       "    </tr>\n",
       "    <tr>\n",
       "      <th>2</th>\n",
       "      <td>c3312</td>\n",
       "      <td>3</td>\n",
       "      <td>6</td>\n",
       "      <td>1.791759</td>\n",
       "      <td>0.179176</td>\n",
       "      <td>5</td>\n",
       "    </tr>\n",
       "  </tbody>\n",
       "</table>\n",
       "</div>"
      ],
      "text/plain": [
       "    col1  col2  col3  col4_log  col_fucn  col_lenght\n",
       "0    aas     1     2  0.693147  0.069315           3\n",
       "1  bdad3     2     4  1.386294  0.138629           5\n",
       "2  c3312     3     6  1.791759  0.179176           5"
      ]
     },
     "execution_count": 124,
     "metadata": {},
     "output_type": "execute_result"
    }
   ],
   "source": [
    "df5"
   ]
  },
  {
   "cell_type": "code",
   "execution_count": 125,
   "id": "b5c553d6",
   "metadata": {},
   "outputs": [],
   "source": [
    "#lamda function\n",
    "#sorting operation"
   ]
  },
  {
   "cell_type": "code",
   "execution_count": 127,
   "id": "c3a2706b",
   "metadata": {},
   "outputs": [
    {
     "data": {
      "text/html": [
       "<div>\n",
       "<style scoped>\n",
       "    .dataframe tbody tr th:only-of-type {\n",
       "        vertical-align: middle;\n",
       "    }\n",
       "\n",
       "    .dataframe tbody tr th {\n",
       "        vertical-align: top;\n",
       "    }\n",
       "\n",
       "    .dataframe thead th {\n",
       "        text-align: right;\n",
       "    }\n",
       "</style>\n",
       "<table border=\"1\" class=\"dataframe\">\n",
       "  <thead>\n",
       "    <tr style=\"text-align: right;\">\n",
       "      <th></th>\n",
       "      <th>col1</th>\n",
       "      <th>col2</th>\n",
       "      <th>col3</th>\n",
       "      <th>col4_log</th>\n",
       "      <th>col_fucn</th>\n",
       "      <th>col_lenght</th>\n",
       "    </tr>\n",
       "  </thead>\n",
       "  <tbody>\n",
       "    <tr>\n",
       "      <th>0</th>\n",
       "      <td>aas</td>\n",
       "      <td>1</td>\n",
       "      <td>2</td>\n",
       "      <td>0.693147</td>\n",
       "      <td>0.069315</td>\n",
       "      <td>3</td>\n",
       "    </tr>\n",
       "    <tr>\n",
       "      <th>1</th>\n",
       "      <td>bdad3</td>\n",
       "      <td>2</td>\n",
       "      <td>4</td>\n",
       "      <td>1.386294</td>\n",
       "      <td>0.138629</td>\n",
       "      <td>5</td>\n",
       "    </tr>\n",
       "    <tr>\n",
       "      <th>2</th>\n",
       "      <td>c3312</td>\n",
       "      <td>3</td>\n",
       "      <td>6</td>\n",
       "      <td>1.791759</td>\n",
       "      <td>0.179176</td>\n",
       "      <td>5</td>\n",
       "    </tr>\n",
       "  </tbody>\n",
       "</table>\n",
       "</div>"
      ],
      "text/plain": [
       "    col1  col2  col3  col4_log  col_fucn  col_lenght\n",
       "0    aas     1     2  0.693147  0.069315           3\n",
       "1  bdad3     2     4  1.386294  0.138629           5\n",
       "2  c3312     3     6  1.791759  0.179176           5"
      ]
     },
     "execution_count": 127,
     "metadata": {},
     "output_type": "execute_result"
    }
   ],
   "source": [
    "df5.sort_values(by='col3',ascending=True)"
   ]
  },
  {
   "cell_type": "code",
   "execution_count": 128,
   "id": "5654999f",
   "metadata": {},
   "outputs": [
    {
     "data": {
      "text/html": [
       "<div>\n",
       "<style scoped>\n",
       "    .dataframe tbody tr th:only-of-type {\n",
       "        vertical-align: middle;\n",
       "    }\n",
       "\n",
       "    .dataframe tbody tr th {\n",
       "        vertical-align: top;\n",
       "    }\n",
       "\n",
       "    .dataframe thead th {\n",
       "        text-align: right;\n",
       "    }\n",
       "</style>\n",
       "<table border=\"1\" class=\"dataframe\">\n",
       "  <thead>\n",
       "    <tr style=\"text-align: right;\">\n",
       "      <th></th>\n",
       "      <th>col1</th>\n",
       "      <th>col2</th>\n",
       "      <th>col3</th>\n",
       "      <th>col4_log</th>\n",
       "      <th>col_fucn</th>\n",
       "      <th>col_lenght</th>\n",
       "    </tr>\n",
       "  </thead>\n",
       "  <tbody>\n",
       "    <tr>\n",
       "      <th>2</th>\n",
       "      <td>c3312</td>\n",
       "      <td>3</td>\n",
       "      <td>6</td>\n",
       "      <td>1.791759</td>\n",
       "      <td>0.179176</td>\n",
       "      <td>5</td>\n",
       "    </tr>\n",
       "    <tr>\n",
       "      <th>1</th>\n",
       "      <td>bdad3</td>\n",
       "      <td>2</td>\n",
       "      <td>4</td>\n",
       "      <td>1.386294</td>\n",
       "      <td>0.138629</td>\n",
       "      <td>5</td>\n",
       "    </tr>\n",
       "    <tr>\n",
       "      <th>0</th>\n",
       "      <td>aas</td>\n",
       "      <td>1</td>\n",
       "      <td>2</td>\n",
       "      <td>0.693147</td>\n",
       "      <td>0.069315</td>\n",
       "      <td>3</td>\n",
       "    </tr>\n",
       "  </tbody>\n",
       "</table>\n",
       "</div>"
      ],
      "text/plain": [
       "    col1  col2  col3  col4_log  col_fucn  col_lenght\n",
       "2  c3312     3     6  1.791759  0.179176           5\n",
       "1  bdad3     2     4  1.386294  0.138629           5\n",
       "0    aas     1     2  0.693147  0.069315           3"
      ]
     },
     "execution_count": 128,
     "metadata": {},
     "output_type": "execute_result"
    }
   ],
   "source": [
    "df5.sort_values(by='col3',ascending=False)"
   ]
  },
  {
   "cell_type": "code",
   "execution_count": 129,
   "id": "7a2549df",
   "metadata": {},
   "outputs": [],
   "source": [
    "#map Operationn\n",
    "l=[1,2,3,4,5,6]\n"
   ]
  },
  {
   "cell_type": "code",
   "execution_count": 130,
   "id": "06f8f78e",
   "metadata": {},
   "outputs": [],
   "source": [
    "#Add 1 in every element so 1 become 2, 2 become 3"
   ]
  },
  {
   "cell_type": "code",
   "execution_count": 132,
   "id": "2c12b56c",
   "metadata": {},
   "outputs": [
    {
     "data": {
      "text/plain": [
       "[2, 3, 4, 5, 6, 7]"
      ]
     },
     "execution_count": 132,
     "metadata": {},
     "output_type": "execute_result"
    }
   ],
   "source": [
    "[i+1for i in l]"
   ]
  },
  {
   "cell_type": "code",
   "execution_count": 133,
   "id": "62b0afaa",
   "metadata": {},
   "outputs": [
    {
     "data": {
      "text/plain": [
       "map"
      ]
     },
     "execution_count": 133,
     "metadata": {},
     "output_type": "execute_result"
    }
   ],
   "source": [
    "#achive via map\n",
    "map"
   ]
  },
  {
   "cell_type": "code",
   "execution_count": 134,
   "id": "b794f223",
   "metadata": {},
   "outputs": [],
   "source": [
    "def test(data):\n",
    "    return data+1"
   ]
  },
  {
   "cell_type": "code",
   "execution_count": 137,
   "id": "2edd3266",
   "metadata": {},
   "outputs": [
    {
     "data": {
      "text/plain": [
       "<map at 0x204d06da610>"
      ]
     },
     "execution_count": 137,
     "metadata": {},
     "output_type": "execute_result"
    }
   ],
   "source": [
    "map(test,l)"
   ]
  },
  {
   "cell_type": "code",
   "execution_count": 138,
   "id": "dd2b2245",
   "metadata": {},
   "outputs": [
    {
     "data": {
      "text/plain": [
       "[2, 3, 4, 5, 6, 7]"
      ]
     },
     "execution_count": 138,
     "metadata": {},
     "output_type": "execute_result"
    }
   ],
   "source": [
    "list(map(test,l))"
   ]
  },
  {
   "cell_type": "code",
   "execution_count": 139,
   "id": "c5306162",
   "metadata": {},
   "outputs": [],
   "source": [
    "#to perform list man where data is <3 squre and <3 log\n"
   ]
  },
  {
   "cell_type": "code",
   "execution_count": 146,
   "id": "5229489f",
   "metadata": {},
   "outputs": [],
   "source": [
    "def Calc(data):\n",
    "    if data<3:\n",
    "        return np.sqrt(data)\n",
    "    else:\n",
    "        return np.log(data)\n",
    "        "
   ]
  },
  {
   "cell_type": "code",
   "execution_count": 142,
   "id": "dead9c50",
   "metadata": {},
   "outputs": [
    {
     "data": {
      "text/plain": [
       "<map at 0x204cfd82f70>"
      ]
     },
     "execution_count": 142,
     "metadata": {},
     "output_type": "execute_result"
    }
   ],
   "source": [
    "map(Calc,l)"
   ]
  },
  {
   "cell_type": "code",
   "execution_count": 147,
   "id": "d431587b",
   "metadata": {},
   "outputs": [
    {
     "data": {
      "text/plain": [
       "[1.0,\n",
       " 1.4142135623730951,\n",
       " 1.0986122886681098,\n",
       " 1.3862943611198906,\n",
       " 1.6094379124341003,\n",
       " 1.791759469228055]"
      ]
     },
     "execution_count": 147,
     "metadata": {},
     "output_type": "execute_result"
    }
   ],
   "source": [
    "list(map(Calc,l))"
   ]
  },
  {
   "cell_type": "code",
   "execution_count": 148,
   "id": "39c6b16c",
   "metadata": {},
   "outputs": [],
   "source": [
    "#write fun inside map"
   ]
  },
  {
   "cell_type": "code",
   "execution_count": 149,
   "id": "8344bb95",
   "metadata": {},
   "outputs": [
    {
     "data": {
      "text/plain": [
       "[1, 2, 3, 4, 5, 6]"
      ]
     },
     "execution_count": 149,
     "metadata": {},
     "output_type": "execute_result"
    }
   ],
   "source": [
    "l\n"
   ]
  },
  {
   "cell_type": "code",
   "execution_count": 151,
   "id": "29bb747c",
   "metadata": {},
   "outputs": [
    {
     "data": {
      "text/plain": [
       "[2, 3, 4, 5, 6, 7]"
      ]
     },
     "execution_count": 151,
     "metadata": {},
     "output_type": "execute_result"
    }
   ],
   "source": [
    "list(map(lambda data:data+1,l))"
   ]
  },
  {
   "cell_type": "code",
   "execution_count": 152,
   "id": "e8d9e250",
   "metadata": {},
   "outputs": [],
   "source": [
    "#lambda is called ananymus method or without name\n"
   ]
  },
  {
   "cell_type": "code",
   "execution_count": 153,
   "id": "7515e281",
   "metadata": {},
   "outputs": [],
   "source": [
    "l1=[34,45,23,12,34,34]"
   ]
  },
  {
   "cell_type": "code",
   "execution_count": 154,
   "id": "005ba48d",
   "metadata": {},
   "outputs": [
    {
     "data": {
      "text/plain": [
       "[34, 45, 23, 12, 34, 34]"
      ]
     },
     "execution_count": 154,
     "metadata": {},
     "output_type": "execute_result"
    }
   ],
   "source": [
    "l1\n"
   ]
  },
  {
   "cell_type": "code",
   "execution_count": 155,
   "id": "18391817",
   "metadata": {},
   "outputs": [
    {
     "data": {
      "text/plain": [
       "[35, 47, 26, 16, 39, 40]"
      ]
     },
     "execution_count": 155,
     "metadata": {},
     "output_type": "execute_result"
    }
   ],
   "source": [
    "#index wise operation for each list sum l1 index o with list 2 inddxe \n",
    "list(map(lambda x,y:x+y,l,l1))"
   ]
  },
  {
   "cell_type": "code",
   "execution_count": 157,
   "id": "39445d3b",
   "metadata": {},
   "outputs": [
    {
     "data": {
      "text/plain": [
       "[1.0,\n",
       " 1.4142135623730951,\n",
       " 1.0986122886681098,\n",
       " 1.3862943611198906,\n",
       " 1.6094379124341003,\n",
       " 1.791759469228055]"
      ]
     },
     "execution_count": 157,
     "metadata": {},
     "output_type": "execute_result"
    }
   ],
   "source": [
    "list(map(lambda \n",
    "         x: np.sqrt(x) \n",
    "         if x<3 else np.log(x)\n",
    "         ,l))"
   ]
  },
  {
   "cell_type": "code",
   "execution_count": 169,
   "id": "3543ec47",
   "metadata": {},
   "outputs": [],
   "source": [
    "#reduce operation\n",
    "import functools as ft"
   ]
  },
  {
   "cell_type": "code",
   "execution_count": 162,
   "id": "1ede8745",
   "metadata": {
    "scrolled": true
   },
   "outputs": [],
   "source": [
    "#submition of each element \n",
    "l1=[4,5,6,7,7,8,8]\n"
   ]
  },
  {
   "cell_type": "code",
   "execution_count": 163,
   "id": "4e007639",
   "metadata": {},
   "outputs": [
    {
     "data": {
      "text/plain": [
       "45"
      ]
     },
     "execution_count": 163,
     "metadata": {},
     "output_type": "execute_result"
    }
   ],
   "source": [
    "sum(l1)"
   ]
  },
  {
   "cell_type": "code",
   "execution_count": 167,
   "id": "8fd47237",
   "metadata": {},
   "outputs": [
    {
     "ename": "NameError",
     "evalue": "name 'functool' is not defined",
     "output_type": "error",
     "traceback": [
      "\u001b[1;31m---------------------------------------------------------------------------\u001b[0m",
      "\u001b[1;31mNameError\u001b[0m                                 Traceback (most recent call last)",
      "\u001b[1;32m<ipython-input-167-83a8c1bd7994>\u001b[0m in \u001b[0;36m<module>\u001b[1;34m\u001b[0m\n\u001b[1;32m----> 1\u001b[1;33m \u001b[0mfunctool\u001b[0m\u001b[1;33m.\u001b[0m\u001b[0mreduce\u001b[0m\u001b[1;33m(\u001b[0m\u001b[0mtest1\u001b[0m\u001b[1;33m,\u001b[0m\u001b[0ml1\u001b[0m\u001b[1;33m)\u001b[0m\u001b[1;33m\u001b[0m\u001b[1;33m\u001b[0m\u001b[0m\n\u001b[0m",
      "\u001b[1;31mNameError\u001b[0m: name 'functool' is not defined"
     ]
    }
   ],
   "source": [
    "functool.reduce(test1,l1)"
   ]
  },
  {
   "cell_type": "code",
   "execution_count": 165,
   "id": "80158b6c",
   "metadata": {},
   "outputs": [],
   "source": [
    "def test1(x,y):\n",
    "    return x+y"
   ]
  },
  {
   "cell_type": "code",
   "execution_count": 170,
   "id": "e7e1f08d",
   "metadata": {},
   "outputs": [
    {
     "data": {
      "text/plain": [
       "45"
      ]
     },
     "execution_count": 170,
     "metadata": {},
     "output_type": "execute_result"
    }
   ],
   "source": [
    "ft.reduce(test1,l1)"
   ]
  },
  {
   "cell_type": "code",
   "execution_count": 171,
   "id": "341833b2",
   "metadata": {},
   "outputs": [
    {
     "data": {
      "text/plain": [
       "45"
      ]
     },
     "execution_count": 171,
     "metadata": {},
     "output_type": "execute_result"
    }
   ],
   "source": [
    "#reduce takes only 2 pair ,\n",
    "#try by lambda\n",
    "ft.reduce(lambda x,y:x+y,l1)"
   ]
  },
  {
   "cell_type": "code",
   "execution_count": 173,
   "id": "bfade0f6",
   "metadata": {},
   "outputs": [
    {
     "data": {
      "text/plain": [
       "8"
      ]
     },
     "execution_count": 173,
     "metadata": {},
     "output_type": "execute_result"
    }
   ],
   "source": [
    "#return max number in list \n",
    "ft.reduce(lambda x,y:x if x>y else y,l1)"
   ]
  },
  {
   "cell_type": "code",
   "execution_count": 174,
   "id": "78914c3a",
   "metadata": {},
   "outputs": [],
   "source": [
    "#filter function\n",
    "l=[1,2,3,4,5,6,7,8,9,9,0,0,0,45,47]\n"
   ]
  },
  {
   "cell_type": "code",
   "execution_count": 177,
   "id": "3ba86ba7",
   "metadata": {},
   "outputs": [],
   "source": [
    "#get Even Numberm from list \n",
    "#1st way"
   ]
  },
  {
   "cell_type": "code",
   "execution_count": 180,
   "id": "223c379f",
   "metadata": {},
   "outputs": [],
   "source": [
    "def test3(data):\n",
    "    if data%2 == 0:\n",
    "        return True\n",
    "    else :\n",
    "        return False"
   ]
  },
  {
   "cell_type": "code",
   "execution_count": 181,
   "id": "89447365",
   "metadata": {},
   "outputs": [
    {
     "data": {
      "text/plain": [
       "[2, 4, 6, 8, 0, 0, 0]"
      ]
     },
     "execution_count": 181,
     "metadata": {},
     "output_type": "execute_result"
    }
   ],
   "source": [
    "list(filter(test3,l))"
   ]
  },
  {
   "cell_type": "code",
   "execution_count": 182,
   "id": "bc9a696c",
   "metadata": {},
   "outputs": [
    {
     "data": {
      "text/plain": [
       "[2, 4, 6, 8, 0, 0, 0]"
      ]
     },
     "execution_count": 182,
     "metadata": {},
     "output_type": "execute_result"
    }
   ],
   "source": [
    "#try via lamda\n",
    "list(filter(lambda x: True if x%2==0 else False,l))"
   ]
  },
  {
   "cell_type": "code",
   "execution_count": 183,
   "id": "8a393795",
   "metadata": {},
   "outputs": [],
   "source": [
    "#seprate lambda\n",
    "lamb=lambda x: True if x%2==0 else False\n"
   ]
  },
  {
   "cell_type": "code",
   "execution_count": 184,
   "id": "d5105cc6",
   "metadata": {},
   "outputs": [
    {
     "data": {
      "text/plain": [
       "[2, 4, 6, 8, 0, 0, 0]"
      ]
     },
     "execution_count": 184,
     "metadata": {},
     "output_type": "execute_result"
    }
   ],
   "source": [
    "list(filter(lamb,l))"
   ]
  },
  {
   "cell_type": "code",
   "execution_count": null,
   "id": "ebd30388",
   "metadata": {},
   "outputs": [],
   "source": []
  }
 ],
 "metadata": {
  "kernelspec": {
   "display_name": "Python 3",
   "language": "python",
   "name": "python3"
  },
  "language_info": {
   "codemirror_mode": {
    "name": "ipython",
    "version": 3
   },
   "file_extension": ".py",
   "mimetype": "text/x-python",
   "name": "python",
   "nbconvert_exporter": "python",
   "pygments_lexer": "ipython3",
   "version": "3.8.8"
  }
 },
 "nbformat": 4,
 "nbformat_minor": 5
}
