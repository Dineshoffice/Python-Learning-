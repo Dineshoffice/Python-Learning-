{
 "cells": [
  {
   "cell_type": "code",
   "execution_count": 1,
   "id": "6b06527f",
   "metadata": {},
   "outputs": [],
   "source": [
    "#oops is way of writing code pyhton support oops and scripting "
   ]
  },
  {
   "cell_type": "code",
   "execution_count": 3,
   "id": "4bb01d07",
   "metadata": {},
   "outputs": [],
   "source": [
    "#class and object "
   ]
  },
  {
   "cell_type": "code",
   "execution_count": 4,
   "id": "135ebaf1",
   "metadata": {},
   "outputs": [],
   "source": [
    "class test:\n",
    "    pass"
   ]
  },
  {
   "cell_type": "code",
   "execution_count": 5,
   "id": "8212cb60",
   "metadata": {},
   "outputs": [],
   "source": [
    "#pass means blank class"
   ]
  },
  {
   "cell_type": "code",
   "execution_count": 8,
   "id": "b8e950ab",
   "metadata": {},
   "outputs": [],
   "source": [
    "class test1:\n",
    "       def test_fun():\n",
    "        print(\"this is my 1st class\")\n",
    "        \n",
    "   "
   ]
  },
  {
   "cell_type": "code",
   "execution_count": 9,
   "id": "e73b51ef",
   "metadata": {},
   "outputs": [],
   "source": [
    "b=test1()"
   ]
  },
  {
   "cell_type": "code",
   "execution_count": 10,
   "id": "cec13601",
   "metadata": {},
   "outputs": [
    {
     "ename": "TypeError",
     "evalue": "test_fun() takes 0 positional arguments but 1 was given",
     "output_type": "error",
     "traceback": [
      "\u001b[1;31m---------------------------------------------------------------------------\u001b[0m",
      "\u001b[1;31mTypeError\u001b[0m                                 Traceback (most recent call last)",
      "\u001b[1;32m<ipython-input-10-90aeac914962>\u001b[0m in \u001b[0;36m<module>\u001b[1;34m\u001b[0m\n\u001b[1;32m----> 1\u001b[1;33m \u001b[0mb\u001b[0m\u001b[1;33m.\u001b[0m\u001b[0mtest_fun\u001b[0m\u001b[1;33m(\u001b[0m\u001b[1;33m)\u001b[0m\u001b[1;33m\u001b[0m\u001b[1;33m\u001b[0m\u001b[0m\n\u001b[0m",
      "\u001b[1;31mTypeError\u001b[0m: test_fun() takes 0 positional arguments but 1 was given"
     ]
    }
   ],
   "source": [
    "b.test_fun()"
   ]
  },
  {
   "cell_type": "code",
   "execution_count": 11,
   "id": "f39dcc9f",
   "metadata": {},
   "outputs": [],
   "source": [
    "class test2:\n",
    "       def test_fun(d):\n",
    "        print(\"this is my 1st class\")\n",
    "        "
   ]
  },
  {
   "cell_type": "code",
   "execution_count": 12,
   "id": "3de85e3b",
   "metadata": {},
   "outputs": [],
   "source": [
    "o=test2()"
   ]
  },
  {
   "cell_type": "code",
   "execution_count": 13,
   "id": "965e41d1",
   "metadata": {},
   "outputs": [
    {
     "name": "stdout",
     "output_type": "stream",
     "text": [
      "this is my 1st class\n"
     ]
    }
   ],
   "source": [
    "o.test_fun()"
   ]
  },
  {
   "cell_type": "code",
   "execution_count": 14,
   "id": "1001b5f6",
   "metadata": {},
   "outputs": [],
   "source": [
    "#class do not know child function\n",
    "# to know we use self or pointer\n"
   ]
  },
  {
   "cell_type": "code",
   "execution_count": 15,
   "id": "f9dcb0f8",
   "metadata": {},
   "outputs": [
    {
     "name": "stdout",
     "output_type": "stream",
     "text": [
      "3\n",
      "4\n",
      "5\n"
     ]
    }
   ],
   "source": [
    "#script way\n",
    "a=int(input())\n",
    "b=int(input())\n",
    "c=int(input())\n",
    "    "
   ]
  },
  {
   "cell_type": "code",
   "execution_count": 16,
   "id": "05197100",
   "metadata": {},
   "outputs": [
    {
     "data": {
      "text/plain": [
       "12"
      ]
     },
     "execution_count": 16,
     "metadata": {},
     "output_type": "execute_result"
    }
   ],
   "source": [
    "a+b+c"
   ]
  },
  {
   "cell_type": "code",
   "execution_count": 36,
   "id": "e794090d",
   "metadata": {},
   "outputs": [],
   "source": [
    "#class way\n",
    "class test3:\n",
    "    def __init__(self,a,b,c):\n",
    "        self.a1=a\n",
    "        self.b1=b\n",
    "        self.c1=c\n",
    "        \n",
    "    def sunmtest(self):\n",
    "        return self.a1+self.b1+self.c1"
   ]
  },
  {
   "cell_type": "code",
   "execution_count": 18,
   "id": "35793d18",
   "metadata": {},
   "outputs": [
    {
     "name": "stdout",
     "output_type": "stream",
     "text": [
      "1\n",
      "3\n",
      "4\n"
     ]
    }
   ],
   "source": [
    "a=int(input())\n",
    "b=int(input())\n",
    "c=int(input())"
   ]
  },
  {
   "cell_type": "code",
   "execution_count": 37,
   "id": "d060e489",
   "metadata": {},
   "outputs": [],
   "source": [
    "m=test3(3,4,5)"
   ]
  },
  {
   "cell_type": "code",
   "execution_count": 31,
   "id": "969b8401",
   "metadata": {},
   "outputs": [
    {
     "data": {
      "text/plain": [
       "<__main__.test2 at 0x21dc6c2d3a0>"
      ]
     },
     "execution_count": 31,
     "metadata": {},
     "output_type": "execute_result"
    }
   ],
   "source": [
    "s"
   ]
  },
  {
   "cell_type": "code",
   "execution_count": 38,
   "id": "a06870c5",
   "metadata": {},
   "outputs": [
    {
     "data": {
      "text/plain": [
       "3"
      ]
     },
     "execution_count": 38,
     "metadata": {},
     "output_type": "execute_result"
    }
   ],
   "source": [
    "m.a1"
   ]
  },
  {
   "cell_type": "code",
   "execution_count": 39,
   "id": "c89b1036",
   "metadata": {},
   "outputs": [
    {
     "data": {
      "text/plain": [
       "4"
      ]
     },
     "execution_count": 39,
     "metadata": {},
     "output_type": "execute_result"
    }
   ],
   "source": [
    "m.b1"
   ]
  },
  {
   "cell_type": "code",
   "execution_count": 40,
   "id": "9ece62a9",
   "metadata": {},
   "outputs": [
    {
     "data": {
      "text/plain": [
       "12"
      ]
     },
     "execution_count": 40,
     "metadata": {},
     "output_type": "execute_result"
    }
   ],
   "source": [
    "m.sunmtest()"
   ]
  },
  {
   "cell_type": "code",
   "execution_count": 41,
   "id": "20b4201d",
   "metadata": {},
   "outputs": [
    {
     "name": "stdout",
     "output_type": "stream",
     "text": [
      "5\n",
      "7\n",
      "8\n"
     ]
    }
   ],
   "source": [
    "m=test3(int(input()),int(input()),int(input()))"
   ]
  },
  {
   "cell_type": "code",
   "execution_count": 42,
   "id": "62963f25",
   "metadata": {},
   "outputs": [
    {
     "data": {
      "text/plain": [
       "20"
      ]
     },
     "execution_count": 42,
     "metadata": {},
     "output_type": "execute_result"
    }
   ],
   "source": [
    "m.sunmtest()"
   ]
  },
  {
   "cell_type": "code",
   "execution_count": null,
   "id": "de687fbe",
   "metadata": {},
   "outputs": [],
   "source": []
  }
 ],
 "metadata": {
  "kernelspec": {
   "display_name": "Python 3",
   "language": "python",
   "name": "python3"
  },
  "language_info": {
   "codemirror_mode": {
    "name": "ipython",
    "version": 3
   },
   "file_extension": ".py",
   "mimetype": "text/x-python",
   "name": "python",
   "nbconvert_exporter": "python",
   "pygments_lexer": "ipython3",
   "version": "3.8.8"
  }
 },
 "nbformat": 4,
 "nbformat_minor": 5
}
