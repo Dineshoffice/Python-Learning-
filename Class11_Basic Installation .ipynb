{
 "cells": [
  {
   "cell_type": "code",
   "execution_count": null,
   "id": "cdf96002",
   "metadata": {},
   "outputs": [],
   "source": [
    "#Epic pen\n",
    "#Installation \n",
    "#VsCode \n",
    "#link https://www.jetbrains.com/pycharm/download/#section=windows\n",
    "\n",
    "#Pycharm (use Community edition )\n",
    "#Link : https://www.jetbrains.com/pycharm/download/#section=windows\n",
    "\n",
    "#Casandra\n",
    "#it is no Sql database , \n",
    "#https://auth.cloud.datastax.com/auth/realms/CloudUsers/protocol/openid-connect/registrations?client_id=auth-proxy&response_type=code&scope=openid+profile+email&redirect_uri=https://astra.datastax.com/welcome&utm_medium=affiliate&utm_source=ineuron&utm_campaign=astra\n",
    "#This is cloud based you need to signup\n",
    "\n",
    "#Mongo Db\n",
    "#it is Json based database \n",
    "\n",
    "#Sql Db \n",
    "# blog https://inblog.in/A-step-by-step-guide-to-install-and-set-up-the-MySql-in-Windows-A6ItSETRaj\n",
    "#https://dev.mysql.com/downloads/file/?id=507335\n",
    "#mySql Workbench will be use \n",
    "\n",
    "#Mongo DB\n",
    "#https://www.mongodb.com/try/download/community\n",
    "#compass\n",
    "#https://www.mongodb.com/try/download/compass\n",
    "#it is tool to write Sql query for Mongo DB\n",
    "    \n",
    "#mongo db Atlas\n",
    "#https://account.mongodb.com/account/login?signedOut=true\n",
    "#Create Account\n",
    "#Build Database\n",
    "#create cluster\n",
    "#create network Access\n",
    "#create user \n",
    "#then install pymogo lib to use Mongo DB\n",
    "#then curd operation\n",
    "\n",
    "    \n",
    "    \n",
    "    \n"
   ]
  }
 ],
 "metadata": {
  "kernelspec": {
   "display_name": "Python 3",
   "language": "python",
   "name": "python3"
  },
  "language_info": {
   "codemirror_mode": {
    "name": "ipython",
    "version": 3
   },
   "file_extension": ".py",
   "mimetype": "text/x-python",
   "name": "python",
   "nbconvert_exporter": "python",
   "pygments_lexer": "ipython3",
   "version": "3.8.8"
  }
 },
 "nbformat": 4,
 "nbformat_minor": 5
}
