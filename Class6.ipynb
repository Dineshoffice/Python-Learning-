{
 "cells": [
  {
   "cell_type": "code",
   "execution_count": 1,
   "id": "e1c95d86",
   "metadata": {},
   "outputs": [],
   "source": [
    "#Tuple and functions \n",
    "#tupel is immutbale entity \n",
    "#set\n",
    "#dictionary \n",
    "#function\n",
    "#itreable \n"
   ]
  },
  {
   "cell_type": "code",
   "execution_count": 15,
   "id": "7183defa",
   "metadata": {},
   "outputs": [
    {
     "data": {
      "text/plain": [
       "1"
      ]
     },
     "execution_count": 15,
     "metadata": {},
     "output_type": "execute_result"
    }
   ],
   "source": [
    "t=(1,2,3,4,5,6,7,\"Sudh\",\"ineuron\")\n",
    "t[0]"
   ]
  },
  {
   "cell_type": "code",
   "execution_count": 4,
   "id": "f093073d",
   "metadata": {},
   "outputs": [
    {
     "data": {
      "text/plain": [
       "(1, 2, 3, 4)"
      ]
     },
     "execution_count": 4,
     "metadata": {},
     "output_type": "execute_result"
    }
   ],
   "source": [
    "t[0:4] #slice operations"
   ]
  },
  {
   "cell_type": "code",
   "execution_count": 6,
   "id": "b2db70c9",
   "metadata": {},
   "outputs": [
    {
     "data": {
      "text/plain": [
       "1"
      ]
     },
     "execution_count": 6,
     "metadata": {},
     "output_type": "execute_result"
    }
   ],
   "source": [
    "t.count(2) # how many times char appeard"
   ]
  },
  {
   "cell_type": "code",
   "execution_count": 9,
   "id": "752a7750",
   "metadata": {},
   "outputs": [
    {
     "data": {
      "text/plain": [
       "1"
      ]
     },
     "execution_count": 9,
     "metadata": {},
     "output_type": "execute_result"
    }
   ],
   "source": [
    "t.count(\"Sudh\")"
   ]
  },
  {
   "cell_type": "code",
   "execution_count": 10,
   "id": "1e0d4727",
   "metadata": {},
   "outputs": [
    {
     "data": {
      "text/plain": [
       "0"
      ]
     },
     "execution_count": 10,
     "metadata": {},
     "output_type": "execute_result"
    }
   ],
   "source": [
    "t.index(1)"
   ]
  },
  {
   "cell_type": "code",
   "execution_count": 11,
   "id": "b3890178",
   "metadata": {},
   "outputs": [
    {
     "ename": "ValueError",
     "evalue": "tuple.index(x): x not in tuple",
     "output_type": "error",
     "traceback": [
      "\u001b[1;31m---------------------------------------------------------------------------\u001b[0m",
      "\u001b[1;31mValueError\u001b[0m                                Traceback (most recent call last)",
      "\u001b[1;32m<ipython-input-11-6eb7c5aa58be>\u001b[0m in \u001b[0;36m<module>\u001b[1;34m\u001b[0m\n\u001b[1;32m----> 1\u001b[1;33m \u001b[0mt\u001b[0m\u001b[1;33m.\u001b[0m\u001b[0mindex\u001b[0m\u001b[1;33m(\u001b[0m\u001b[1;34m\"sudh\"\u001b[0m\u001b[1;33m)\u001b[0m\u001b[1;33m\u001b[0m\u001b[1;33m\u001b[0m\u001b[0m\n\u001b[0m",
      "\u001b[1;31mValueError\u001b[0m: tuple.index(x): x not in tuple"
     ]
    }
   ],
   "source": [
    "t.index(\"sudh\")"
   ]
  },
  {
   "cell_type": "code",
   "execution_count": 12,
   "id": "e33c7e35",
   "metadata": {},
   "outputs": [
    {
     "data": {
      "text/plain": [
       "7"
      ]
     },
     "execution_count": 12,
     "metadata": {},
     "output_type": "execute_result"
    }
   ],
   "source": [
    "t.index(\"Sudh\")"
   ]
  },
  {
   "cell_type": "code",
   "execution_count": 13,
   "id": "52b4b0d1",
   "metadata": {},
   "outputs": [],
   "source": [
    "del(t)"
   ]
  },
  {
   "cell_type": "code",
   "execution_count": 14,
   "id": "4ac412c8",
   "metadata": {},
   "outputs": [
    {
     "ename": "NameError",
     "evalue": "name 't' is not defined",
     "output_type": "error",
     "traceback": [
      "\u001b[1;31m---------------------------------------------------------------------------\u001b[0m",
      "\u001b[1;31mNameError\u001b[0m                                 Traceback (most recent call last)",
      "\u001b[1;32m<ipython-input-14-34fc7a11cb38>\u001b[0m in \u001b[0;36m<module>\u001b[1;34m\u001b[0m\n\u001b[1;32m----> 1\u001b[1;33m \u001b[0mt\u001b[0m\u001b[1;33m\u001b[0m\u001b[1;33m\u001b[0m\u001b[0m\n\u001b[0m",
      "\u001b[1;31mNameError\u001b[0m: name 't' is not defined"
     ]
    }
   ],
   "source": [
    "t"
   ]
  },
  {
   "cell_type": "code",
   "execution_count": 16,
   "id": "5ca5fbfc",
   "metadata": {},
   "outputs": [
    {
     "data": {
      "text/plain": [
       "(1, 2, 3, 4, 5, 6, 7, 'Sudh', 'ineuron')"
      ]
     },
     "execution_count": 16,
     "metadata": {},
     "output_type": "execute_result"
    }
   ],
   "source": [
    "t"
   ]
  },
  {
   "cell_type": "code",
   "execution_count": 17,
   "id": "22e3bc71",
   "metadata": {},
   "outputs": [],
   "source": [
    "#set is anathor collection \n",
    "s=set()\n",
    "s.add(3)\n",
    "\n"
   ]
  },
  {
   "cell_type": "code",
   "execution_count": 18,
   "id": "10e1e76e",
   "metadata": {},
   "outputs": [],
   "source": [
    "s.add(5)"
   ]
  },
  {
   "cell_type": "code",
   "execution_count": 19,
   "id": "ba2c3a4e",
   "metadata": {},
   "outputs": [],
   "source": [
    "s.add(\"sudh\")"
   ]
  },
  {
   "cell_type": "code",
   "execution_count": 20,
   "id": "fd04295e",
   "metadata": {},
   "outputs": [],
   "source": [
    "s.add(3)"
   ]
  },
  {
   "cell_type": "code",
   "execution_count": 21,
   "id": "58d3811f",
   "metadata": {},
   "outputs": [
    {
     "name": "stdout",
     "output_type": "stream",
     "text": [
      "{'sudh', 3, 5}\n"
     ]
    }
   ],
   "source": [
    "print(s)"
   ]
  },
  {
   "cell_type": "code",
   "execution_count": 22,
   "id": "25b43ec4",
   "metadata": {},
   "outputs": [],
   "source": [
    "#set hold distinct data set so here it will not keep 3 2 times \n"
   ]
  },
  {
   "cell_type": "code",
   "execution_count": 25,
   "id": "d02725ab",
   "metadata": {},
   "outputs": [
    {
     "data": {
      "text/plain": [
       "{3, 4, 6, 7, 8, 9, 'Sudh', 'sudh'}"
      ]
     },
     "execution_count": 25,
     "metadata": {},
     "output_type": "execute_result"
    }
   ],
   "source": [
    "s1={3,4,6,7,8,8,9,9,\"sudh\",\"Sudh\"}\n",
    "s1"
   ]
  },
  {
   "cell_type": "code",
   "execution_count": 24,
   "id": "5dc16c3f",
   "metadata": {},
   "outputs": [
    {
     "data": {
      "text/plain": [
       "{3, 4, 6, 7, 8, 9}"
      ]
     },
     "execution_count": 24,
     "metadata": {},
     "output_type": "execute_result"
    }
   ],
   "source": [
    "#Here it remove 8 and 9 as it keep single \n",
    "s1\n"
   ]
  },
  {
   "cell_type": "code",
   "execution_count": 26,
   "id": "5831e1cc",
   "metadata": {},
   "outputs": [
    {
     "data": {
      "text/plain": [
       "{3, 4, 6, 7, 8, 9, 'Sudh', 'sudh'}"
      ]
     },
     "execution_count": 26,
     "metadata": {},
     "output_type": "execute_result"
    }
   ],
   "source": [
    "s1\n",
    "    "
   ]
  },
  {
   "cell_type": "code",
   "execution_count": 27,
   "id": "a1b818bf",
   "metadata": {},
   "outputs": [],
   "source": [
    "#read book and remove duplicate there we use set \n",
    "#need to  ti use \n"
   ]
  },
  {
   "cell_type": "code",
   "execution_count": 28,
   "id": "faa6b4d7",
   "metadata": {},
   "outputs": [
    {
     "data": {
      "text/plain": [
       "{1, 2, 3, 5, 6, 7, 8, 45}"
      ]
     },
     "execution_count": 28,
     "metadata": {},
     "output_type": "execute_result"
    }
   ],
   "source": [
    "l=[1,2,3,45,5,6,5,6,7,8,8]\n",
    "set(l)"
   ]
  },
  {
   "cell_type": "code",
   "execution_count": 29,
   "id": "afdd7c69",
   "metadata": {},
   "outputs": [
    {
     "ename": "TypeError",
     "evalue": "unhashable type: 'list'",
     "output_type": "error",
     "traceback": [
      "\u001b[1;31m---------------------------------------------------------------------------\u001b[0m",
      "\u001b[1;31mTypeError\u001b[0m                                 Traceback (most recent call last)",
      "\u001b[1;32m<ipython-input-29-388999e68a66>\u001b[0m in \u001b[0;36m<module>\u001b[1;34m\u001b[0m\n\u001b[0;32m      1\u001b[0m \u001b[0ml\u001b[0m\u001b[1;33m=\u001b[0m\u001b[1;33m[\u001b[0m\u001b[1;36m1\u001b[0m\u001b[1;33m,\u001b[0m\u001b[1;36m2\u001b[0m\u001b[1;33m,\u001b[0m\u001b[1;36m3\u001b[0m\u001b[1;33m,\u001b[0m\u001b[1;36m45\u001b[0m\u001b[1;33m,\u001b[0m\u001b[1;36m5\u001b[0m\u001b[1;33m,\u001b[0m\u001b[1;36m6\u001b[0m\u001b[1;33m,\u001b[0m\u001b[1;36m5\u001b[0m\u001b[1;33m,\u001b[0m\u001b[1;36m6\u001b[0m\u001b[1;33m,\u001b[0m\u001b[1;36m7\u001b[0m\u001b[1;33m,\u001b[0m\u001b[1;36m8\u001b[0m\u001b[1;33m,\u001b[0m\u001b[1;36m8\u001b[0m\u001b[1;33m,\u001b[0m\u001b[1;33m[\u001b[0m\u001b[1;36m1\u001b[0m\u001b[1;33m,\u001b[0m\u001b[1;36m3\u001b[0m\u001b[1;33m,\u001b[0m\u001b[1;36m4\u001b[0m\u001b[1;33m,\u001b[0m\u001b[1;36m5\u001b[0m\u001b[1;33m]\u001b[0m\u001b[1;33m]\u001b[0m\u001b[1;33m\u001b[0m\u001b[1;33m\u001b[0m\u001b[0m\n\u001b[1;32m----> 2\u001b[1;33m \u001b[0mset\u001b[0m\u001b[1;33m(\u001b[0m\u001b[0ml\u001b[0m\u001b[1;33m)\u001b[0m\u001b[1;33m\u001b[0m\u001b[1;33m\u001b[0m\u001b[0m\n\u001b[0m",
      "\u001b[1;31mTypeError\u001b[0m: unhashable type: 'list'"
     ]
    }
   ],
   "source": [
    "l=[1,2,3,45,5,6,5,6,7,8,8,[1,3,4,5]]\n",
    "set(l)\n",
    "# it does not work becuase it is not unique\n"
   ]
  },
  {
   "cell_type": "code",
   "execution_count": 33,
   "id": "9e25641e",
   "metadata": {},
   "outputs": [
    {
     "data": {
      "text/plain": [
       "{1, 2, 3, 5, 6, 7, 8, 45}"
      ]
     },
     "execution_count": 33,
     "metadata": {},
     "output_type": "execute_result"
    }
   ],
   "source": [
    "s1=set()\n",
    "for i in l:\n",
    "    if type(i)!=list:\n",
    "        s1.add(i)\n",
    "        \n",
    "s1\n",
    "        "
   ]
  },
  {
   "cell_type": "code",
   "execution_count": 34,
   "id": "3571ed3e",
   "metadata": {},
   "outputs": [],
   "source": [
    "s1.remove(3)"
   ]
  },
  {
   "cell_type": "code",
   "execution_count": 35,
   "id": "f555a86a",
   "metadata": {},
   "outputs": [
    {
     "data": {
      "text/plain": [
       "{1, 2, 5, 6, 7, 8, 45}"
      ]
     },
     "execution_count": 35,
     "metadata": {},
     "output_type": "execute_result"
    }
   ],
   "source": [
    "s1"
   ]
  },
  {
   "cell_type": "code",
   "execution_count": 36,
   "id": "b8442353",
   "metadata": {
    "scrolled": true
   },
   "outputs": [
    {
     "ename": "KeyError",
     "evalue": "12",
     "output_type": "error",
     "traceback": [
      "\u001b[1;31m---------------------------------------------------------------------------\u001b[0m",
      "\u001b[1;31mKeyError\u001b[0m                                  Traceback (most recent call last)",
      "\u001b[1;32m<ipython-input-36-f2b88b478e9d>\u001b[0m in \u001b[0;36m<module>\u001b[1;34m\u001b[0m\n\u001b[1;32m----> 1\u001b[1;33m \u001b[0ms\u001b[0m\u001b[1;33m.\u001b[0m\u001b[0mremove\u001b[0m\u001b[1;33m(\u001b[0m\u001b[1;36m12\u001b[0m\u001b[1;33m)\u001b[0m\u001b[1;33m\u001b[0m\u001b[1;33m\u001b[0m\u001b[0m\n\u001b[0m",
      "\u001b[1;31mKeyError\u001b[0m: 12"
     ]
    }
   ],
   "source": [
    "s.remove(12) #elememt is not avialable then give key error"
   ]
  },
  {
   "cell_type": "code",
   "execution_count": 37,
   "id": "a7c02412",
   "metadata": {},
   "outputs": [
    {
     "data": {
      "text/plain": [
       "{1, 2, 6, 7, 8, 45}"
      ]
     },
     "execution_count": 37,
     "metadata": {},
     "output_type": "execute_result"
    }
   ],
   "source": [
    "s1.discard(5)\n",
    "s1"
   ]
  },
  {
   "cell_type": "code",
   "execution_count": 38,
   "id": "6a658efd",
   "metadata": {},
   "outputs": [],
   "source": [
    "s1.discard(4) #here it will not give any error "
   ]
  },
  {
   "cell_type": "code",
   "execution_count": 39,
   "id": "cc9a9032",
   "metadata": {},
   "outputs": [],
   "source": [
    "#but in case of remove it give give error \n"
   ]
  },
  {
   "cell_type": "code",
   "execution_count": 41,
   "id": "64831fa6",
   "metadata": {},
   "outputs": [
    {
     "data": {
      "text/plain": [
       "{'ineuron', 'learning', 'machine'}"
      ]
     },
     "execution_count": 41,
     "metadata": {},
     "output_type": "execute_result"
    }
   ],
   "source": [
    "x={\"ineuron\",\"machine\",\"learning\"}\n",
    "y={\"stats\",\"deep Learning\",\"Computer vision\",\"abc\"}\n",
    "x.difference(y) #exists in x but not in y\n"
   ]
  },
  {
   "cell_type": "code",
   "execution_count": 42,
   "id": "8b966f31",
   "metadata": {},
   "outputs": [
    {
     "data": {
      "text/plain": [
       "{3, 5, 'sudh'}"
      ]
     },
     "execution_count": 42,
     "metadata": {},
     "output_type": "execute_result"
    }
   ],
   "source": [
    "s"
   ]
  },
  {
   "cell_type": "code",
   "execution_count": 44,
   "id": "b702a8d5",
   "metadata": {},
   "outputs": [
    {
     "ename": "TypeError",
     "evalue": "'set' object is not subscriptable",
     "output_type": "error",
     "traceback": [
      "\u001b[1;31m---------------------------------------------------------------------------\u001b[0m",
      "\u001b[1;31mTypeError\u001b[0m                                 Traceback (most recent call last)",
      "\u001b[1;32m<ipython-input-44-6fba4b869395>\u001b[0m in \u001b[0;36m<module>\u001b[1;34m\u001b[0m\n\u001b[1;32m----> 1\u001b[1;33m \u001b[0ms\u001b[0m\u001b[1;33m[\u001b[0m\u001b[1;36m0\u001b[0m\u001b[1;33m]\u001b[0m \u001b[1;31m# set does not support extract\u001b[0m\u001b[1;33m\u001b[0m\u001b[1;33m\u001b[0m\u001b[0m\n\u001b[0m",
      "\u001b[1;31mTypeError\u001b[0m: 'set' object is not subscriptable"
     ]
    }
   ],
   "source": [
    "s[0] # set does not support extract"
   ]
  },
  {
   "cell_type": "code",
   "execution_count": 45,
   "id": "7cbafb13",
   "metadata": {},
   "outputs": [
    {
     "ename": "TypeError",
     "evalue": "'set' object is not subscriptable",
     "output_type": "error",
     "traceback": [
      "\u001b[1;31m---------------------------------------------------------------------------\u001b[0m",
      "\u001b[1;31mTypeError\u001b[0m                                 Traceback (most recent call last)",
      "\u001b[1;32m<ipython-input-45-383097ea94c7>\u001b[0m in \u001b[0;36m<module>\u001b[1;34m\u001b[0m\n\u001b[1;32m----> 1\u001b[1;33m \u001b[0ms\u001b[0m\u001b[1;33m[\u001b[0m\u001b[1;36m0\u001b[0m\u001b[1;33m:\u001b[0m\u001b[1;36m2\u001b[0m\u001b[1;33m]\u001b[0m\u001b[1;31m# slicing does not support in set\u001b[0m\u001b[1;33m\u001b[0m\u001b[1;33m\u001b[0m\u001b[0m\n\u001b[0m\u001b[0;32m      2\u001b[0m \u001b[1;32mfor\u001b[0m \u001b[0mi\u001b[0m \u001b[1;32min\u001b[0m \u001b[0ms\u001b[0m\u001b[1;33m:\u001b[0m\u001b[1;33m\u001b[0m\u001b[1;33m\u001b[0m\u001b[0m\n\u001b[0;32m      3\u001b[0m     \u001b[0mprint\u001b[0m\u001b[1;33m(\u001b[0m\u001b[0mi\u001b[0m\u001b[1;33m)\u001b[0m\u001b[1;33m\u001b[0m\u001b[1;33m\u001b[0m\u001b[0m\n",
      "\u001b[1;31mTypeError\u001b[0m: 'set' object is not subscriptable"
     ]
    }
   ],
   "source": [
    "s[0:2]# slicing does not support in set\n",
    "\n"
   ]
  },
  {
   "cell_type": "code",
   "execution_count": 46,
   "id": "2204cf32",
   "metadata": {},
   "outputs": [
    {
     "name": "stdout",
     "output_type": "stream",
     "text": [
      "sudh\n",
      "3\n",
      "5\n"
     ]
    }
   ],
   "source": [
    "for i in s:\n",
    "    print(i)"
   ]
  },
  {
   "cell_type": "code",
   "execution_count": 47,
   "id": "16b3ec82",
   "metadata": {},
   "outputs": [
    {
     "data": {
      "text/plain": [
       "['sudh', 3, 5]"
      ]
     },
     "execution_count": 47,
     "metadata": {},
     "output_type": "execute_result"
    }
   ],
   "source": [
    "#index operation in list or tuple but not in set\n",
    "list(s)"
   ]
  },
  {
   "cell_type": "code",
   "execution_count": 48,
   "id": "f40e5e12",
   "metadata": {},
   "outputs": [
    {
     "data": {
      "text/plain": [
       "('sudh', 3, 5)"
      ]
     },
     "execution_count": 48,
     "metadata": {},
     "output_type": "execute_result"
    }
   ],
   "source": [
    "tuple(s)\n",
    "\n"
   ]
  },
  {
   "cell_type": "code",
   "execution_count": 49,
   "id": "8e4bd70e",
   "metadata": {},
   "outputs": [
    {
     "data": {
      "text/plain": [
       "dict"
      ]
     },
     "execution_count": 49,
     "metadata": {},
     "output_type": "execute_result"
    }
   ],
   "source": [
    "#dictionary \n",
    "#it is collection which hold data in key and value pair \n",
    "\n",
    "d={}\n",
    "type(d)"
   ]
  },
  {
   "cell_type": "code",
   "execution_count": 50,
   "id": "1a86081d",
   "metadata": {},
   "outputs": [
    {
     "data": {
      "text/plain": [
       "set"
      ]
     },
     "execution_count": 50,
     "metadata": {},
     "output_type": "execute_result"
    }
   ],
   "source": [
    "# so by default it consider dictionary\n",
    "s={2,3}\n",
    "type(s)"
   ]
  },
  {
   "cell_type": "code",
   "execution_count": 52,
   "id": "d3c00466",
   "metadata": {},
   "outputs": [
    {
     "data": {
      "text/plain": [
       "{'Value', 'key'}"
      ]
     },
     "execution_count": 52,
     "metadata": {},
     "output_type": "execute_result"
    }
   ],
   "source": [
    "#set alwasys hold flat data\n",
    "d={\"key\",\"Value\"}\n",
    "d"
   ]
  },
  {
   "cell_type": "code",
   "execution_count": 53,
   "id": "4f7993a5",
   "metadata": {},
   "outputs": [
    {
     "data": {
      "text/plain": [
       "0"
      ]
     },
     "execution_count": 53,
     "metadata": {},
     "output_type": "execute_result"
    }
   ],
   "source": [
    "l=[0,1,2,3,1,4,5,6]\n",
    "l[0]"
   ]
  },
  {
   "cell_type": "code",
   "execution_count": 54,
   "id": "0e961051",
   "metadata": {},
   "outputs": [],
   "source": [
    "#oxford dictionary is example of dict\n",
    "d={4:\"sudh\",5:\"kumar\",\"k1\":\"xyz\",\"k2\":[1,2,3,4]}"
   ]
  },
  {
   "cell_type": "code",
   "execution_count": 55,
   "id": "9c56b107",
   "metadata": {},
   "outputs": [
    {
     "data": {
      "text/plain": [
       "{4: 'sudh', 5: 'kumar', 'k1': 'xyz', 'k2': [1, 2, 3, 4]}"
      ]
     },
     "execution_count": 55,
     "metadata": {},
     "output_type": "execute_result"
    }
   ],
   "source": [
    "d\n",
    "    "
   ]
  },
  {
   "cell_type": "code",
   "execution_count": 56,
   "id": "654d126f",
   "metadata": {},
   "outputs": [
    {
     "ename": "SyntaxError",
     "evalue": "unexpected EOF while parsing (<ipython-input-56-05e275c4704d>, line 2)",
     "output_type": "error",
     "traceback": [
      "\u001b[1;36m  File \u001b[1;32m\"<ipython-input-56-05e275c4704d>\"\u001b[1;36m, line \u001b[1;32m2\u001b[0m\n\u001b[1;33m    d={4:\"sudh\",5:\"kumar\",#:\"sdf\"}\u001b[0m\n\u001b[1;37m                                  ^\u001b[0m\n\u001b[1;31mSyntaxError\u001b[0m\u001b[1;31m:\u001b[0m unexpected EOF while parsing\n"
     ]
    }
   ],
   "source": [
    "#it can be differnt type of key data type \n",
    "d={4:\"sudh\",5:\"kumar\",#:\"sdf\"} #special char is ot wokr"
   ]
  },
  {
   "cell_type": "code",
   "execution_count": 60,
   "id": "d73dc276",
   "metadata": {},
   "outputs": [],
   "source": [
    "d={4:\"sudh\",5:\"kumar\",\"#\":\"sdf\"}"
   ]
  },
  {
   "cell_type": "code",
   "execution_count": 61,
   "id": "da319532",
   "metadata": {},
   "outputs": [
    {
     "ename": "TypeError",
     "evalue": "unhashable type: 'list'",
     "output_type": "error",
     "traceback": [
      "\u001b[1;31m---------------------------------------------------------------------------\u001b[0m",
      "\u001b[1;31mTypeError\u001b[0m                                 Traceback (most recent call last)",
      "\u001b[1;32m<ipython-input-61-ff4a6e6ce2ae>\u001b[0m in \u001b[0;36m<module>\u001b[1;34m\u001b[0m\n\u001b[1;32m----> 1\u001b[1;33m \u001b[0md\u001b[0m\u001b[1;33m=\u001b[0m\u001b[1;33m{\u001b[0m\u001b[1;36m4\u001b[0m\u001b[1;33m:\u001b[0m\u001b[1;34m\"sudh\"\u001b[0m\u001b[1;33m,\u001b[0m\u001b[1;36m5\u001b[0m\u001b[1;33m:\u001b[0m\u001b[1;34m\"kumar\"\u001b[0m\u001b[1;33m,\u001b[0m\u001b[1;34m\"#\"\u001b[0m\u001b[1;33m:\u001b[0m\u001b[1;34m\"sdf\"\u001b[0m\u001b[1;33m,\u001b[0m\u001b[1;33m[\u001b[0m\u001b[1;36m12\u001b[0m\u001b[1;33m,\u001b[0m\u001b[1;36m34\u001b[0m\u001b[1;33m,\u001b[0m\u001b[1;36m56\u001b[0m\u001b[1;33m]\u001b[0m\u001b[1;33m:\u001b[0m\u001b[1;34m\"abc\"\u001b[0m\u001b[1;33m}\u001b[0m\u001b[1;33m\u001b[0m\u001b[1;33m\u001b[0m\u001b[0m\n\u001b[0m",
      "\u001b[1;31mTypeError\u001b[0m: unhashable type: 'list'"
     ]
    }
   ],
   "source": [
    "d={4:\"sudh\",5:\"kumar\",\"#\":\"sdf\",[12,34,56]:\"abc\"}"
   ]
  },
  {
   "cell_type": "code",
   "execution_count": 62,
   "id": "866964b7",
   "metadata": {},
   "outputs": [],
   "source": [
    "d={4:\"sudh\",5:\"kumar\",\"#\":\"sdf\",(12,34,56):\"asdad\"}"
   ]
  },
  {
   "cell_type": "code",
   "execution_count": 63,
   "id": "e12508c6",
   "metadata": {},
   "outputs": [
    {
     "data": {
      "text/plain": [
       "int"
      ]
     },
     "execution_count": 63,
     "metadata": {},
     "output_type": "execute_result"
    }
   ],
   "source": [
    "#_ is called place holder so you can assing valye \n",
    "_=123\n",
    "type(_)"
   ]
  },
  {
   "cell_type": "code",
   "execution_count": 64,
   "id": "839bd45e",
   "metadata": {},
   "outputs": [
    {
     "ename": "TypeError",
     "evalue": "unhashable type: 'set'",
     "output_type": "error",
     "traceback": [
      "\u001b[1;31m---------------------------------------------------------------------------\u001b[0m",
      "\u001b[1;31mTypeError\u001b[0m                                 Traceback (most recent call last)",
      "\u001b[1;32m<ipython-input-64-c605e0ac8ef3>\u001b[0m in \u001b[0;36m<module>\u001b[1;34m\u001b[0m\n\u001b[0;32m      1\u001b[0m \u001b[1;31m#use a set\u001b[0m\u001b[1;33m\u001b[0m\u001b[1;33m\u001b[0m\u001b[1;33m\u001b[0m\u001b[0m\n\u001b[1;32m----> 2\u001b[1;33m \u001b[0md\u001b[0m\u001b[1;33m=\u001b[0m\u001b[1;33m{\u001b[0m\u001b[1;36m4\u001b[0m\u001b[1;33m:\u001b[0m\u001b[1;34m\"sudh\"\u001b[0m\u001b[1;33m,\u001b[0m\u001b[1;36m5\u001b[0m\u001b[1;33m:\u001b[0m\u001b[1;34m\"kumar\"\u001b[0m\u001b[1;33m,\u001b[0m\u001b[1;34m\"#\"\u001b[0m\u001b[1;33m:\u001b[0m\u001b[1;34m\"sdf\"\u001b[0m\u001b[1;33m,\u001b[0m\u001b[1;33m{\u001b[0m\u001b[1;36m12\u001b[0m\u001b[1;33m,\u001b[0m\u001b[1;36m34\u001b[0m\u001b[1;33m,\u001b[0m\u001b[1;36m56\u001b[0m\u001b[1;33m}\u001b[0m\u001b[1;33m:\u001b[0m\u001b[1;34m\"asdad\"\u001b[0m\u001b[1;33m}\u001b[0m\u001b[1;33m\u001b[0m\u001b[1;33m\u001b[0m\u001b[0m\n\u001b[0m",
      "\u001b[1;31mTypeError\u001b[0m: unhashable type: 'set'"
     ]
    }
   ],
   "source": [
    "#use a set \n",
    "d={4:\"sudh\",5:\"kumar\",\"#\":\"sdf\",{12,34,56}:\"asdad\"}"
   ]
  },
  {
   "cell_type": "code",
   "execution_count": 65,
   "id": "642b6126",
   "metadata": {},
   "outputs": [],
   "source": [
    "#duplicate key  it will replace value of 1st occurance \n",
    "#that why key should be unique \n",
    "d={4:\"abc\",5:\"xyx\",4:\"pqr\"}\n"
   ]
  },
  {
   "cell_type": "code",
   "execution_count": 66,
   "id": "fcc1706b",
   "metadata": {},
   "outputs": [
    {
     "data": {
      "text/plain": [
       "{4: 'pqr', 5: 'xyx'}"
      ]
     },
     "execution_count": 66,
     "metadata": {},
     "output_type": "execute_result"
    }
   ],
   "source": [
    "d"
   ]
  },
  {
   "cell_type": "code",
   "execution_count": 67,
   "id": "f7c81f45",
   "metadata": {},
   "outputs": [
    {
     "data": {
      "text/plain": [
       "{1: 'sudh', 2: 'kumar', 3: ['ML', 'DL', 'OOPS'], 4: 'sudh'}"
      ]
     },
     "execution_count": 67,
     "metadata": {},
     "output_type": "execute_result"
    }
   ],
   "source": [
    "d2={1:\"sudh\",2:\"kumar\",3:[\"ML\",\"DL\",\"OOPS\"],4:\"sudh\"}\n",
    "d2"
   ]
  },
  {
   "cell_type": "code",
   "execution_count": 68,
   "id": "55c02c57",
   "metadata": {},
   "outputs": [
    {
     "ename": "KeyError",
     "evalue": "2",
     "output_type": "error",
     "traceback": [
      "\u001b[1;31m---------------------------------------------------------------------------\u001b[0m",
      "\u001b[1;31mKeyError\u001b[0m                                  Traceback (most recent call last)",
      "\u001b[1;32m<ipython-input-68-17c17fe84413>\u001b[0m in \u001b[0;36m<module>\u001b[1;34m\u001b[0m\n\u001b[0;32m      1\u001b[0m \u001b[1;31m#access of value\u001b[0m\u001b[1;33m\u001b[0m\u001b[1;33m\u001b[0m\u001b[1;33m\u001b[0m\u001b[0m\n\u001b[1;32m----> 2\u001b[1;33m \u001b[0md\u001b[0m\u001b[1;33m[\u001b[0m\u001b[1;36m2\u001b[0m\u001b[1;33m]\u001b[0m\u001b[1;33m\u001b[0m\u001b[1;33m\u001b[0m\u001b[0m\n\u001b[0m",
      "\u001b[1;31mKeyError\u001b[0m: 2"
     ]
    }
   ],
   "source": [
    "#access of value \n",
    "d2[2]# it gives error becuase "
   ]
  },
  {
   "cell_type": "code",
   "execution_count": 70,
   "id": "34ccfffb",
   "metadata": {},
   "outputs": [
    {
     "data": {
      "text/plain": [
       "'sudh'"
      ]
     },
     "execution_count": 70,
     "metadata": {},
     "output_type": "execute_result"
    }
   ],
   "source": [
    "d2[1]"
   ]
  },
  {
   "cell_type": "code",
   "execution_count": 71,
   "id": "13f85788",
   "metadata": {},
   "outputs": [
    {
     "data": {
      "text/plain": [
       "['ML', 'DL', 'OOPS']"
      ]
     },
     "execution_count": 71,
     "metadata": {},
     "output_type": "execute_result"
    }
   ],
   "source": [
    "d2[3]"
   ]
  },
  {
   "cell_type": "code",
   "execution_count": 73,
   "id": "99ec52d3",
   "metadata": {},
   "outputs": [
    {
     "ename": "KeyError",
     "evalue": "5",
     "output_type": "error",
     "traceback": [
      "\u001b[1;31m---------------------------------------------------------------------------\u001b[0m",
      "\u001b[1;31mKeyError\u001b[0m                                  Traceback (most recent call last)",
      "\u001b[1;32m<ipython-input-73-282529dfd572>\u001b[0m in \u001b[0;36m<module>\u001b[1;34m\u001b[0m\n\u001b[1;32m----> 1\u001b[1;33m \u001b[0md2\u001b[0m\u001b[1;33m[\u001b[0m\u001b[1;36m5\u001b[0m\u001b[1;33m]\u001b[0m\u001b[1;33m\u001b[0m\u001b[1;33m\u001b[0m\u001b[0m\n\u001b[0m",
      "\u001b[1;31mKeyError\u001b[0m: 5"
     ]
    }
   ],
   "source": [
    "d2[5]"
   ]
  },
  {
   "cell_type": "code",
   "execution_count": 76,
   "id": "0ad08539",
   "metadata": {},
   "outputs": [
    {
     "data": {
      "text/plain": [
       "{'k1': 'ineuron', 'k2': 'ineuron'}"
      ]
     },
     "execution_count": 76,
     "metadata": {},
     "output_type": "execute_result"
    }
   ],
   "source": [
    "d={\"k1\":\"ineuron\",\"k2\":\"ineuron\"}\n",
    "d"
   ]
  },
  {
   "cell_type": "code",
   "execution_count": 80,
   "id": "5c2f2760",
   "metadata": {},
   "outputs": [
    {
     "data": {
      "text/plain": [
       "{'k1': 'ineuron', 'k2': 'ineuron', 'k3': {'a': 'value1', 'b': 'value2'}}"
      ]
     },
     "execution_count": 80,
     "metadata": {},
     "output_type": "execute_result"
    }
   ],
   "source": [
    "d={\"k1\":\"ineuron\",\"k2\":\"ineuron\",\"k3\":{\"a\":\"value1\",\"b\":\"value2\"}}\n",
    "\n",
    "d"
   ]
  },
  {
   "cell_type": "code",
   "execution_count": 85,
   "id": "e75fb1b7",
   "metadata": {},
   "outputs": [
    {
     "data": {
      "text/plain": [
       "'value1'"
      ]
     },
     "execution_count": 85,
     "metadata": {},
     "output_type": "execute_result"
    }
   ],
   "source": [
    "d['k3']['a']\n",
    "#dictionaty inside dicttionry"
   ]
  },
  {
   "cell_type": "code",
   "execution_count": 86,
   "id": "0dd9836e",
   "metadata": {},
   "outputs": [
    {
     "data": {
      "text/plain": [
       "{'k1': 'ineuron',\n",
       " 'k2': 'ineuron',\n",
       " 'k3': {'a': 'value1', 'b': 'value2'},\n",
       " 'k4': 345}"
      ]
     },
     "execution_count": 86,
     "metadata": {},
     "output_type": "execute_result"
    }
   ],
   "source": [
    "#append new key and value\n",
    "d[\"k4\"]=345\n",
    "d"
   ]
  },
  {
   "cell_type": "code",
   "execution_count": 88,
   "id": "fae45749",
   "metadata": {},
   "outputs": [
    {
     "data": {
      "text/plain": [
       "{'k1': 34, 'k2': 'ineuron', 'k3': {'a': 'value1', 'b': 'value2'}, 'k4': 345}"
      ]
     },
     "execution_count": 88,
     "metadata": {},
     "output_type": "execute_result"
    }
   ],
   "source": [
    "#if we take same key then what will happen\n",
    "d[\"k1\"]=34\n",
    "d\n"
   ]
  },
  {
   "cell_type": "code",
   "execution_count": 89,
   "id": "e0d1421e",
   "metadata": {},
   "outputs": [],
   "source": [
    "#it will not create new one  but will update value \n"
   ]
  },
  {
   "cell_type": "code",
   "execution_count": 90,
   "id": "60a8ccd9",
   "metadata": {},
   "outputs": [
    {
     "name": "stdout",
     "output_type": "stream",
     "text": [
      "k1\n",
      "k2\n",
      "k3\n",
      "k4\n"
     ]
    }
   ],
   "source": [
    "#itreate by for loop\n",
    "for i in d:\n",
    "    print(i)\n"
   ]
  },
  {
   "cell_type": "code",
   "execution_count": 91,
   "id": "69a9926e",
   "metadata": {},
   "outputs": [
    {
     "data": {
      "text/plain": [
       "dict_keys(['k1', 'k2', 'k3', 'k4'])"
      ]
     },
     "execution_count": 91,
     "metadata": {},
     "output_type": "execute_result"
    }
   ],
   "source": [
    "#get list of all keys \n",
    "d.keys()\n"
   ]
  },
  {
   "cell_type": "code",
   "execution_count": 92,
   "id": "7a19c9ee",
   "metadata": {},
   "outputs": [
    {
     "data": {
      "text/plain": [
       "dict_values([34, 'ineuron', {'a': 'value1', 'b': 'value2'}, 345])"
      ]
     },
     "execution_count": 92,
     "metadata": {},
     "output_type": "execute_result"
    }
   ],
   "source": [
    "#all values \n",
    "d.values()"
   ]
  },
  {
   "cell_type": "code",
   "execution_count": 93,
   "id": "94b1ef13",
   "metadata": {},
   "outputs": [
    {
     "data": {
      "text/plain": [
       "dict_items([('k1', 34), ('k2', 'ineuron'), ('k3', {'a': 'value1', 'b': 'value2'}), ('k4', 345)])"
      ]
     },
     "execution_count": 93,
     "metadata": {},
     "output_type": "execute_result"
    }
   ],
   "source": [
    "#key and value \n",
    "d.items()\n"
   ]
  },
  {
   "cell_type": "code",
   "execution_count": 95,
   "id": "995f3e68",
   "metadata": {},
   "outputs": [
    {
     "data": {
      "text/plain": [
       "'k1'"
      ]
     },
     "execution_count": 95,
     "metadata": {},
     "output_type": "execute_result"
    }
   ],
   "source": [
    "list(d.keys())[0]"
   ]
  },
  {
   "cell_type": "code",
   "execution_count": 96,
   "id": "4fe55136",
   "metadata": {},
   "outputs": [
    {
     "name": "stdout",
     "output_type": "stream",
     "text": [
      "{'a': 'value1', 'b': 'value2'}\n"
     ]
    }
   ],
   "source": [
    "# check in dict if value is dict then print \n",
    "for i in d.keys():\n",
    "    if type(d[i])==dict:\n",
    "        print(d[i])\n"
   ]
  },
  {
   "cell_type": "code",
   "execution_count": 100,
   "id": "783682a5",
   "metadata": {},
   "outputs": [
    {
     "name": "stdout",
     "output_type": "stream",
     "text": [
      "{0: 0, 1: 1, 2: 4, 3: 9, 4: 16, 5: 25, 6: 36, 7: 49, 8: 64, 9: 81, 10: 100}\n"
     ]
    }
   ],
   "source": [
    "#lets suppose if asking try to create key value pair where key will be inter\n",
    "# and value will be sequure 0,10\n",
    "d={}\n",
    "for i in range(11):\n",
    "     d[i]=i**2\n",
    "print(d)\n",
    "\n"
   ]
  },
  {
   "cell_type": "code",
   "execution_count": 102,
   "id": "78dfde8e",
   "metadata": {},
   "outputs": [
    {
     "data": {
      "text/plain": [
       "{0: 0, 1: 1, 2: 4, 3: 9, 4: 16, 5: 25, 6: 36, 7: 49, 8: 64, 9: 81, 10: 100}"
      ]
     },
     "execution_count": 102,
     "metadata": {},
     "output_type": "execute_result"
    }
   ],
   "source": [
    "#simplified  by dict coprehension\n",
    "{i:i**2 for i in range(11)}\n"
   ]
  },
  {
   "cell_type": "code",
   "execution_count": 104,
   "id": "a9d7ae0d",
   "metadata": {},
   "outputs": [
    {
     "data": {
      "text/plain": [
       "{'i': 'ineuron',\n",
       " 'n': 'ineuron',\n",
       " 'e': 'ineuron',\n",
       " 'u': 'ineuron',\n",
       " 'r': 'ineuron',\n",
       " 'o': 'ineuron'}"
      ]
     },
     "execution_count": 104,
     "metadata": {},
     "output_type": "execute_result"
    }
   ],
   "source": [
    "s=\"ineuron\"\n",
    "#create dic where each and every char will key and value will be ineuron\n",
    "{i:s for i in  s}"
   ]
  },
  {
   "cell_type": "code",
   "execution_count": 116,
   "id": "cd2289a9",
   "metadata": {},
   "outputs": [
    {
     "name": "stdout",
     "output_type": "stream",
     "text": [
      "56\n"
     ]
    }
   ],
   "source": [
    "# find largets value from dictionary \n",
    "d={\"ineuron\":{\"a\":23,\"b\":34,\"c\":56},'course':{'d':45,'e':12}}\n",
    "d\n",
    "max=0\n",
    "for i in d.values():\n",
    "    for j in i.values():\n",
    "        if(max<j):\n",
    "            max=j\n",
    "print(max)\n",
    "        \n",
    "    \n",
    "\n",
    " "
   ]
  },
  {
   "cell_type": "code",
   "execution_count": 125,
   "id": "b96b599d",
   "metadata": {},
   "outputs": [
    {
     "name": "stdout",
     "output_type": "stream",
     "text": [
      "99\n"
     ]
    }
   ],
   "source": [
    "d={\"ineuron\":{\"a\":23,\"b\":34,\"c\":56},'course':{'d':45,'e':12},\"xyz\":99}\n",
    "max=0\n",
    "for i in d.values():\n",
    "           if type(i)==int:\n",
    "            if max<i:\n",
    "                max=i\n",
    "            else:\n",
    "                for j in i.values():\n",
    "                     if(max<j):\n",
    "                            max=j\n",
    "        \n",
    "print(max)"
   ]
  },
  {
   "cell_type": "code",
   "execution_count": 127,
   "id": "4525a351",
   "metadata": {},
   "outputs": [
    {
     "ename": "TypeError",
     "evalue": "unhashable type: 'dict'",
     "output_type": "error",
     "traceback": [
      "\u001b[1;31m---------------------------------------------------------------------------\u001b[0m",
      "\u001b[1;31mTypeError\u001b[0m                                 Traceback (most recent call last)",
      "\u001b[1;32m<ipython-input-127-1c72191118cc>\u001b[0m in \u001b[0;36m<module>\u001b[1;34m\u001b[0m\n\u001b[1;32m----> 1\u001b[1;33m \u001b[0ms\u001b[0m\u001b[1;33m=\u001b[0m\u001b[0mset\u001b[0m\u001b[1;33m(\u001b[0m\u001b[0md\u001b[0m\u001b[1;33m.\u001b[0m\u001b[0mvalues\u001b[0m\u001b[1;33m(\u001b[0m\u001b[1;33m)\u001b[0m\u001b[1;33m)\u001b[0m\u001b[1;33m\u001b[0m\u001b[1;33m\u001b[0m\u001b[0m\n\u001b[0m\u001b[0;32m      2\u001b[0m \u001b[0ms\u001b[0m\u001b[1;33m\u001b[0m\u001b[1;33m\u001b[0m\u001b[0m\n",
      "\u001b[1;31mTypeError\u001b[0m: unhashable type: 'dict'"
     ]
    }
   ],
   "source": [
    "s=set(d.values())\n",
    "s"
   ]
  },
  {
   "cell_type": "markdown",
   "id": "056d88e2",
   "metadata": {},
   "source": [
    "l=list(d.values())"
   ]
  },
  {
   "cell_type": "code",
   "execution_count": 128,
   "id": "465a1074",
   "metadata": {},
   "outputs": [],
   "source": [
    "l=list(d.values())\n"
   ]
  },
  {
   "cell_type": "code",
   "execution_count": 129,
   "id": "ac1a19ae",
   "metadata": {},
   "outputs": [
    {
     "data": {
      "text/plain": [
       "[{'a': 23, 'b': 34, 'c': 56}, {'d': 45, 'e': 12}, 99]"
      ]
     },
     "execution_count": 129,
     "metadata": {},
     "output_type": "execute_result"
    }
   ],
   "source": [
    "l\n",
    "    "
   ]
  },
  {
   "cell_type": "code",
   "execution_count": 133,
   "id": "996cdc8c",
   "metadata": {},
   "outputs": [
    {
     "name": "stdout",
     "output_type": "stream",
     "text": [
      "dict_items([('a', 23), ('b', 34), ('c', 56)])\n",
      "dict_items([('d', 45), ('e', 12)])\n"
     ]
    },
    {
     "ename": "AttributeError",
     "evalue": "'int' object has no attribute 'items'",
     "output_type": "error",
     "traceback": [
      "\u001b[1;31m---------------------------------------------------------------------------\u001b[0m",
      "\u001b[1;31mAttributeError\u001b[0m                            Traceback (most recent call last)",
      "\u001b[1;32m<ipython-input-133-338dd4a88aa0>\u001b[0m in \u001b[0;36m<module>\u001b[1;34m\u001b[0m\n\u001b[0;32m      1\u001b[0m \u001b[1;32mfor\u001b[0m \u001b[0mi\u001b[0m \u001b[1;32min\u001b[0m \u001b[0ml\u001b[0m\u001b[1;33m:\u001b[0m\u001b[1;33m\u001b[0m\u001b[1;33m\u001b[0m\u001b[0m\n\u001b[1;32m----> 2\u001b[1;33m        \u001b[0mprint\u001b[0m\u001b[1;33m(\u001b[0m\u001b[0mi\u001b[0m\u001b[1;33m.\u001b[0m\u001b[0mitems\u001b[0m\u001b[1;33m(\u001b[0m\u001b[1;33m)\u001b[0m\u001b[1;33m)\u001b[0m\u001b[1;33m\u001b[0m\u001b[1;33m\u001b[0m\u001b[0m\n\u001b[0m\u001b[0;32m      3\u001b[0m \u001b[1;33m\u001b[0m\u001b[0m\n",
      "\u001b[1;31mAttributeError\u001b[0m: 'int' object has no attribute 'items'"
     ]
    }
   ],
   "source": [
    " for i in l:\n",
    "        print(i.items())\n",
    "       "
   ]
  },
  {
   "cell_type": "code",
   "execution_count": 211,
   "id": "0de77398",
   "metadata": {},
   "outputs": [
    {
     "name": "stdout",
     "output_type": "stream",
     "text": [
      "5\n",
      "160.0\n"
     ]
    }
   ],
   "source": [
    "#query@ineuron.in\n",
    "def  GetMaxNumber( a, b):\n",
    "    if(a<b):\n",
    "        return b\n",
    "    else :\n",
    "        return a\n",
    "    \n",
    " \n",
    "d={\"ineuron\":{\"a\":23,\"b\":34,\"c\":56},'course':{'d':160,'e':12},\"xyz\":99,'f':100.29,\"bool\":True,\"comp\":7+8j,\n",
    "   'list':[1,2,3,4,130],'tuple':(1,2,135,10),\"set\":{1,2,140,12,2.345}}\n",
    "maxno=float(\"0.0\")\n",
    "print(GetMaxNumber(4,5))\n",
    "for i in d.values():\n",
    "    objecttype=type(i) #determine object type before do any operation\n",
    "   \n",
    "    if(objecttype==bool or objecttype==str or objecttype==complex ):\n",
    "        continue\n",
    "    elif (objecttype == int or objecttype==float ):\n",
    "      #  print(i)\n",
    "        if(maxno<float(i)):\n",
    "            maxno=float(i)\n",
    "    elif objecttype == dict:\n",
    "        for j in i.values():\n",
    "            if(type(j) == int or type(j)==float ):\n",
    "                if(maxno<float(j)):\n",
    "                    maxno=float(j)\n",
    "        \n",
    "    elif objecttype == list or objecttype == tuple :  \n",
    "        for j in i:\n",
    "            if(type(j) == int or type(j)==float ):\n",
    "                if(maxno<float(j)):\n",
    "                    maxno=float(j)\n",
    "            \n",
    "    elif objecttype == set:\n",
    "         for j in list(i):\n",
    "                if(type(j) == int or type(j)==float ):\n",
    "                    if(maxno<float(j)):\n",
    "                        maxno=float(j)\n",
    "    \n",
    "        \n",
    "print(maxno)\n",
    "                \n",
    "        \n",
    "    \n",
    "        "
   ]
  },
  {
   "cell_type": "code",
   "execution_count": 5,
   "id": "7dfec5f7",
   "metadata": {},
   "outputs": [
    {
     "name": "stdout",
     "output_type": "stream",
     "text": [
      "180\n"
     ]
    }
   ],
   "source": [
    "#query@ineuron.in\n",
    "#\n",
    "d={\"ineuron\":{\"a\":23,\"b\":34,\"c\":180},'course':{'d':160,'e':12,\"Sublist\":[1,2,169.40,12]},\"xyz\":99,'f':168.29,\"bool\":True,\"comp\":7+8j,\n",
    "   'list':[1,2,3,4,130],'tuple':(1,2,135,10),\"set\":{1,2,140,12,2.345}}\n",
    " #get max number                \n",
    "def  GetMaxNumber( a, b):\n",
    "    #print(b)\n",
    "    returnvalue=a;\n",
    "    obtype=type(b) #determine object type before do any operation\n",
    "    if(obtype==bool or obtype==str or obtype==complex ):\n",
    "        returnvalue=a\n",
    "       \n",
    "    elif (obtype == int or obtype==float ):\n",
    "            if(returnvalue<b):\n",
    "                returnvalue=b\n",
    "           \n",
    "    elif obtype == dict:\n",
    "        for j in b.values():\n",
    "            returnvalue=GetMaxNumber(returnvalue,j)\n",
    "             \n",
    "        \n",
    "    elif obtype == list or obtype == tuple :  \n",
    "        for j in b:\n",
    "            returnvalue= GetMaxNumber(returnvalue,j)\n",
    "            \n",
    "    elif obtype == set:\n",
    "         for j in list(b):\n",
    "                returnvalue=GetMaxNumber(returnvalue,j)\n",
    "    else:\n",
    "        returnvalue=a\n",
    "    return returnvalue        \n",
    "    \n",
    "maxno=float(\"0.0\")\n",
    "\n",
    "for i in d.values():\n",
    "     maxno= GetMaxNumber(maxno,i)\n",
    "    \n",
    "    \n",
    "        \n",
    "print(maxno)\n",
    "\n",
    "        "
   ]
  },
  {
   "cell_type": "code",
   "execution_count": null,
   "id": "9dfb563f",
   "metadata": {},
   "outputs": [],
   "source": []
  }
 ],
 "metadata": {
  "kernelspec": {
   "display_name": "Python 3",
   "language": "python",
   "name": "python3"
  },
  "language_info": {
   "codemirror_mode": {
    "name": "ipython",
    "version": 3
   },
   "file_extension": ".py",
   "mimetype": "text/x-python",
   "name": "python",
   "nbconvert_exporter": "python",
   "pygments_lexer": "ipython3",
   "version": "3.8.8"
  }
 },
 "nbformat": 4,
 "nbformat_minor": 5
}
