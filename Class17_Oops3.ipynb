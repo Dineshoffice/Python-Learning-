{
 "cells": [
  {
   "cell_type": "code",
   "execution_count": 1,
   "id": "74be351c",
   "metadata": {},
   "outputs": [],
   "source": [
    "#oops Concept 3 day\n",
    "\n"
   ]
  },
  {
   "cell_type": "code",
   "execution_count": 2,
   "id": "9a8a098d",
   "metadata": {},
   "outputs": [],
   "source": [
    "class person :\n",
    "    def __init__(self,name,surname,year_of_birth):\n",
    "        self.name=name\n",
    "        self.surname=surname\n",
    "        self.year_of_birth=year_of_birth\n",
    "        \n",
    "    def age(self,current_year):\n",
    "        return current_year-self.year_of_birth\n",
    "    \n",
    "        \n",
    "        \n",
    "    "
   ]
  },
  {
   "cell_type": "code",
   "execution_count": 5,
   "id": "fa437fe5",
   "metadata": {},
   "outputs": [],
   "source": [
    "#obect of person class\n",
    "p=person(\"sudhanshu\",\"kumar\",1980)\n"
   ]
  },
  {
   "cell_type": "code",
   "execution_count": 6,
   "id": "c0657f61",
   "metadata": {},
   "outputs": [
    {
     "data": {
      "text/plain": [
       "41"
      ]
     },
     "execution_count": 6,
     "metadata": {},
     "output_type": "execute_result"
    }
   ],
   "source": [
    "p.age(2021)"
   ]
  },
  {
   "cell_type": "code",
   "execution_count": 9,
   "id": "c44a4be2",
   "metadata": {},
   "outputs": [],
   "source": [
    "#inheritance of person\n",
    "#*args will call parent class properties as constructor\n",
    "class student(person) :\n",
    "    def __init__(self,student_id,*args):\n",
    "        super(student,self).__init__(*args) #call parent class\n",
    "        self.student_id=student_id\n",
    "        \n"
   ]
  },
  {
   "cell_type": "code",
   "execution_count": 10,
   "id": "c1801218",
   "metadata": {},
   "outputs": [],
   "source": [
    "student1=student(122,\"Dinesh\",\"kumar\",1908)"
   ]
  },
  {
   "cell_type": "code",
   "execution_count": 11,
   "id": "827559bd",
   "metadata": {},
   "outputs": [
    {
     "data": {
      "text/plain": [
       "113"
      ]
     },
     "execution_count": 11,
     "metadata": {},
     "output_type": "execute_result"
    }
   ],
   "source": [
    "student1.age(2021)"
   ]
  },
  {
   "cell_type": "code",
   "execution_count": 13,
   "id": "0f2bcc22",
   "metadata": {},
   "outputs": [],
   "source": [
    "#multiple inheritance\n",
    "class test:\n",
    "    def __init__(self,a,b):\n",
    "        self.a=a\n",
    "        self.b=b\n",
    "        \n",
    "class test1:\n",
    "    def __init__(self,c,d):\n",
    "        self.c=c\n",
    "        self.d=d\n",
    "    \n",
    "    "
   ]
  },
  {
   "cell_type": "code",
   "execution_count": 23,
   "id": "5c1f5030",
   "metadata": {},
   "outputs": [],
   "source": [
    "class child (test,test1):\n",
    "    def __init__(self,a,b,c,d):\n",
    "        test.__init__(self,a,b)\n",
    "        test1.__init__(self,c,d)\n",
    "    def fun_child(self):\n",
    "        print(self.a,self.c)"
   ]
  },
  {
   "cell_type": "code",
   "execution_count": 25,
   "id": "9af2f754",
   "metadata": {},
   "outputs": [],
   "source": [
    "#make object \n",
    "obj=child(4,5,6,7)"
   ]
  },
  {
   "cell_type": "code",
   "execution_count": 26,
   "id": "9dbcd06c",
   "metadata": {},
   "outputs": [
    {
     "name": "stdout",
     "output_type": "stream",
     "text": [
      "4 6\n"
     ]
    }
   ],
   "source": [
    "obj.fun_child()"
   ]
  },
  {
   "cell_type": "code",
   "execution_count": 30,
   "id": "af16a9a1",
   "metadata": {},
   "outputs": [],
   "source": [
    "#multi level inheritance cls\n",
    "class Superchild(child):\n",
    "    def __init__(self,a,b,c,d,e):\n",
    "        super(Superchild,self).__init__(a,b,c,d)\n",
    "        self.e=e\n",
    "            \n",
    "        "
   ]
  },
  {
   "cell_type": "code",
   "execution_count": 32,
   "id": "248fa040",
   "metadata": {},
   "outputs": [],
   "source": [
    "s=Superchild(1,2,3,4,5)"
   ]
  },
  {
   "cell_type": "code",
   "execution_count": 33,
   "id": "91bf2814",
   "metadata": {},
   "outputs": [
    {
     "name": "stdout",
     "output_type": "stream",
     "text": [
      "1 3\n"
     ]
    }
   ],
   "source": [
    "s.fun_child()"
   ]
  },
  {
   "cell_type": "code",
   "execution_count": 34,
   "id": "fc8b3900",
   "metadata": {},
   "outputs": [],
   "source": [
    "class p1:\n",
    "    def __init__(self,a,b):\n",
    "        self.a=a\n",
    "        self.b=b\n",
    "    def fun_p1(self):\n",
    "        return \"this is a function from p1 method\"\n",
    "\n",
    "    \n"
   ]
  },
  {
   "cell_type": "code",
   "execution_count": 46,
   "id": "bc508307",
   "metadata": {},
   "outputs": [],
   "source": [
    "#method overridding \n",
    "class person :\n",
    "    def __init__(self,name,surname,year_of_birth):\n",
    "        self.name=name\n",
    "        self.surname=surname\n",
    "        self.year_of_birth=year_of_birth\n",
    "        \n",
    "    def age(self,current_year):\n",
    "        return current_year-self.year_of_birth\n",
    "    def __str__(self):\n",
    "        return self.name"
   ]
  },
  {
   "cell_type": "code",
   "execution_count": 47,
   "id": "5ffd04c8",
   "metadata": {},
   "outputs": [],
   "source": [
    "per=person(\"Dinesh\",\"kumar\",2001)"
   ]
  },
  {
   "cell_type": "code",
   "execution_count": 48,
   "id": "fa7a7ae4",
   "metadata": {},
   "outputs": [
    {
     "name": "stdout",
     "output_type": "stream",
     "text": [
      "Dinesh\n"
     ]
    }
   ],
   "source": [
    "print(per)"
   ]
  },
  {
   "cell_type": "code",
   "execution_count": 64,
   "id": "ec937e18",
   "metadata": {},
   "outputs": [],
   "source": [
    "class student(person):\n",
    "    def __init__(self,student_id,*args):\n",
    "        super(student,self).__init__(*args)\n",
    "        self.student_id=student_id\n",
    "    def __str__(self):\n",
    "        return str(self.student_id)\n",
    "    \n"
   ]
  },
  {
   "cell_type": "code",
   "execution_count": 65,
   "id": "be3d2bd5",
   "metadata": {},
   "outputs": [],
   "source": [
    "s=student(1,\"Dinesh\",\"Kumar\",2001)"
   ]
  },
  {
   "cell_type": "code",
   "execution_count": 66,
   "id": "aad58046",
   "metadata": {},
   "outputs": [
    {
     "name": "stdout",
     "output_type": "stream",
     "text": [
      "1\n"
     ]
    }
   ],
   "source": [
    "print(s)"
   ]
  },
  {
   "cell_type": "code",
   "execution_count": 92,
   "id": "07dba03c",
   "metadata": {},
   "outputs": [],
   "source": [
    "#Method incapsulation \n",
    "class Tyre:\n",
    "    def __init__(self,branch,belted_bais,opt_pressure):\n",
    "        self.branch=branch\n",
    "        self.belted_bais=belted_bais\n",
    "        self.opt_pressure=opt_pressure\n",
    "    def __str__(self):\n",
    "        return   self.branch+ self.belted_bais+self.opt_pressure\n",
    "    \n",
    "class Engine :\n",
    "    def __init__(self,fuel_type,noise_level):\n",
    "        self.fuel_type=fuel_type\n",
    "        self.noise_level=noise_level\n",
    "    def __str__(self):\n",
    "        return self.fuel_type+self.noise_level\n",
    "    \n",
    "class Body :\n",
    "    def __init__(self,size):\n",
    "        self.size=size\n",
    "    def __str__(self):\n",
    "        return self.size\n",
    "    \n",
    "class Car:\n",
    "    def __init__(self,a,b,c):\n",
    "        self.a=a\n",
    "        self.b=b\n",
    "        self.c=c\n",
    "    def __str__(self):\n",
    "        return str(self.a)+str(self.b)+str(self.c)\n",
    "    \n",
    "    "
   ]
  },
  {
   "cell_type": "code",
   "execution_count": 93,
   "id": "f52772a3",
   "metadata": {},
   "outputs": [],
   "source": [
    "t=Tyre(\"Branch\",\"meltedtype\",\"optimal type\")\n"
   ]
  },
  {
   "cell_type": "code",
   "execution_count": 94,
   "id": "a9d33657",
   "metadata": {},
   "outputs": [
    {
     "name": "stdout",
     "output_type": "stream",
     "text": [
      "Branchmeltedtypeoptimal type\n"
     ]
    }
   ],
   "source": [
    "print(t)"
   ]
  },
  {
   "cell_type": "code",
   "execution_count": 95,
   "id": "2d51ce75",
   "metadata": {},
   "outputs": [],
   "source": [
    "e=Engine(\"FuelType\",\"NoiseLevel\")\n"
   ]
  },
  {
   "cell_type": "code",
   "execution_count": 80,
   "id": "2725f386",
   "metadata": {},
   "outputs": [
    {
     "name": "stdout",
     "output_type": "stream",
     "text": [
      "FuelTypeNoiseLevel\n"
     ]
    }
   ],
   "source": [
    "print(e)"
   ]
  },
  {
   "cell_type": "code",
   "execution_count": 96,
   "id": "821adfbf",
   "metadata": {},
   "outputs": [],
   "source": [
    "b=Body(\"Rounded\")"
   ]
  },
  {
   "cell_type": "code",
   "execution_count": 87,
   "id": "76db6500",
   "metadata": {},
   "outputs": [
    {
     "name": "stdout",
     "output_type": "stream",
     "text": [
      "FuelTypeNoiseLevel\n"
     ]
    }
   ],
   "source": [
    "print(e)"
   ]
  },
  {
   "cell_type": "code",
   "execution_count": 97,
   "id": "9df21244",
   "metadata": {},
   "outputs": [],
   "source": [
    "c=Car(t,e,b)"
   ]
  },
  {
   "cell_type": "code",
   "execution_count": 98,
   "id": "cfdc60b4",
   "metadata": {},
   "outputs": [
    {
     "name": "stdout",
     "output_type": "stream",
     "text": [
      "Branchmeltedtypeoptimal typeFuelTypeNoiseLevelRounded\n"
     ]
    }
   ],
   "source": [
    "print(c)"
   ]
  },
  {
   "cell_type": "code",
   "execution_count": 99,
   "id": "645fa068",
   "metadata": {},
   "outputs": [],
   "source": [
    "#Here we are not using print of Body,Tyre and Engine\n",
    "#we call print of Car  that is called encapsulation \n"
   ]
  },
  {
   "cell_type": "code",
   "execution_count": 116,
   "id": "5325bc53",
   "metadata": {},
   "outputs": [],
   "source": [
    "#2nd example \n",
    "class test:\n",
    "    def __init__(self,a,b):\n",
    "        self.__a=a\n",
    "        self.b=b\n",
    "     \n",
    "class test1(test):\n",
    "    def __init__(self,*args):\n",
    "        test.__init__(self,*args)\n",
    "        self.b=\"sudh\"\n",
    "\n",
    "            \n",
    "\n",
    "            \n",
    "    "
   ]
  },
  {
   "cell_type": "code",
   "execution_count": 115,
   "id": "d3bb37f2",
   "metadata": {},
   "outputs": [],
   "source": [
    "obj=test1(4,5)"
   ]
  },
  {
   "cell_type": "code",
   "execution_count": 117,
   "id": "5ee7c29d",
   "metadata": {},
   "outputs": [
    {
     "data": {
      "text/plain": [
       "'sudh'"
      ]
     },
     "execution_count": 117,
     "metadata": {},
     "output_type": "execute_result"
    }
   ],
   "source": [
    "#here we can not access variable a becuase it is protected \n",
    "obj.b\n",
    "\n"
   ]
  },
  {
   "cell_type": "code",
   "execution_count": 128,
   "id": "842deffb",
   "metadata": {},
   "outputs": [],
   "source": [
    "# operator overloading \n",
    "class multiplynum():\n",
    "    def __init__(self,a):\n",
    "        self.a=a\n",
    "    def __mul__(self,other):\n",
    "        return self.a+other.a\n",
    "    "
   ]
  },
  {
   "cell_type": "code",
   "execution_count": 129,
   "id": "1ac3d134",
   "metadata": {},
   "outputs": [],
   "source": [
    "a1=multiplynum(4)\n",
    "a2=multiplynum(5)"
   ]
  },
  {
   "cell_type": "code",
   "execution_count": 130,
   "id": "0f7a62b8",
   "metadata": {},
   "outputs": [
    {
     "data": {
      "text/plain": [
       "9"
      ]
     },
     "execution_count": 130,
     "metadata": {},
     "output_type": "execute_result"
    }
   ],
   "source": [
    "a1*a2"
   ]
  },
  {
   "cell_type": "code",
   "execution_count": 131,
   "id": "93854855",
   "metadata": {},
   "outputs": [],
   "source": [
    "class multiplynum():\n",
    "    def __init__(self,a):\n",
    "        self.a=a\n",
    "    def __mul__(self,other):\n",
    "        return self.a*other.a\n",
    "    \n",
    "    \n",
    "    "
   ]
  },
  {
   "cell_type": "code",
   "execution_count": 132,
   "id": "1d8d3957",
   "metadata": {},
   "outputs": [],
   "source": [
    "a3=multiplynum(4)\n",
    "a4=multiplynum(5)"
   ]
  },
  {
   "cell_type": "code",
   "execution_count": 133,
   "id": "41e21b6e",
   "metadata": {},
   "outputs": [
    {
     "data": {
      "text/plain": [
       "20"
      ]
     },
     "execution_count": 133,
     "metadata": {},
     "output_type": "execute_result"
    }
   ],
   "source": [
    "a3*a4"
   ]
  },
  {
   "cell_type": "code",
   "execution_count": 134,
   "id": "3edeb24f",
   "metadata": {},
   "outputs": [
    {
     "ename": "TypeError",
     "evalue": "unsupported operand type(s) for +: 'multiplynum' and 'multiplynum'",
     "output_type": "error",
     "traceback": [
      "\u001b[1;31m---------------------------------------------------------------------------\u001b[0m",
      "\u001b[1;31mTypeError\u001b[0m                                 Traceback (most recent call last)",
      "\u001b[1;32m<ipython-input-134-836615d697ab>\u001b[0m in \u001b[0;36m<module>\u001b[1;34m\u001b[0m\n\u001b[1;32m----> 1\u001b[1;33m \u001b[0ma3\u001b[0m\u001b[1;33m+\u001b[0m\u001b[0ma4\u001b[0m\u001b[1;33m\u001b[0m\u001b[1;33m\u001b[0m\u001b[0m\n\u001b[0m",
      "\u001b[1;31mTypeError\u001b[0m: unsupported operand type(s) for +: 'multiplynum' and 'multiplynum'"
     ]
    }
   ],
   "source": [
    "a3+a4"
   ]
  },
  {
   "cell_type": "code",
   "execution_count": 135,
   "id": "47441ae2",
   "metadata": {},
   "outputs": [],
   "source": [
    "#polymorphisim\n",
    "def test(a,b):\n",
    "    return a+b\n"
   ]
  },
  {
   "cell_type": "code",
   "execution_count": 136,
   "id": "b50476c8",
   "metadata": {},
   "outputs": [
    {
     "data": {
      "text/plain": [
       "3"
      ]
     },
     "execution_count": 136,
     "metadata": {},
     "output_type": "execute_result"
    }
   ],
   "source": [
    "test(1,2)"
   ]
  },
  {
   "cell_type": "code",
   "execution_count": 137,
   "id": "19036ff4",
   "metadata": {},
   "outputs": [
    {
     "data": {
      "text/plain": [
       "'sudhkumar'"
      ]
     },
     "execution_count": 137,
     "metadata": {},
     "output_type": "execute_result"
    }
   ],
   "source": [
    "test(\"sudh\",\"kumar\")"
   ]
  },
  {
   "cell_type": "code",
   "execution_count": 151,
   "id": "01d874a9",
   "metadata": {},
   "outputs": [],
   "source": [
    "class insta :\n",
    "    def shared_stories(self):\n",
    "        print(\"print your story on insta\")\n",
    "class facebook:\n",
    "    def shared_stories(self):\n",
    "        print(\"print your stories on facebook\")"
   ]
  },
  {
   "cell_type": "code",
   "execution_count": 156,
   "id": "77313ce0",
   "metadata": {},
   "outputs": [],
   "source": [
    "def sharedstoreies(app):\n",
    "    app.shared_stories()"
   ]
  },
  {
   "cell_type": "code",
   "execution_count": 157,
   "id": "27c59d26",
   "metadata": {},
   "outputs": [],
   "source": [
    "fb=facebook()"
   ]
  },
  {
   "cell_type": "code",
   "execution_count": 158,
   "id": "c82a4b75",
   "metadata": {},
   "outputs": [],
   "source": [
    "ins=insta()"
   ]
  },
  {
   "cell_type": "code",
   "execution_count": 159,
   "id": "a55c029a",
   "metadata": {},
   "outputs": [
    {
     "name": "stdout",
     "output_type": "stream",
     "text": [
      "print your story on insta\n"
     ]
    }
   ],
   "source": [
    "sharedstoreies(ins)"
   ]
  },
  {
   "cell_type": "code",
   "execution_count": 160,
   "id": "5db3071c",
   "metadata": {},
   "outputs": [
    {
     "name": "stdout",
     "output_type": "stream",
     "text": [
      "print your stories on facebook\n"
     ]
    }
   ],
   "source": [
    "sharedstoreies(fb)"
   ]
  },
  {
   "cell_type": "code",
   "execution_count": 161,
   "id": "c363915a",
   "metadata": {},
   "outputs": [],
   "source": [
    "#wrapping oops \n"
   ]
  },
  {
   "cell_type": "code",
   "execution_count": 169,
   "id": "6cb4d4a7",
   "metadata": {},
   "outputs": [],
   "source": [
    "class ineuron:\n",
    "    company_website=\"ineuron.ai\" #global variable\n",
    "    name=\"ineuron\"\n",
    "    def contact_details(self):\n",
    "        print(\"conact us at\",self.company_website)\n",
    "        \n",
    "        \n",
    "class MLclass(ineuron):\n",
    "    def __init__(self):\n",
    "        self.year_of_establishment=2019\n",
    "        \n",
    "    def est_details(self):\n",
    "        print(self.name,self.company_website,self.year_of_establishment)"
   ]
  },
  {
   "cell_type": "code",
   "execution_count": 170,
   "id": "7e544030",
   "metadata": {},
   "outputs": [],
   "source": [
    "ml=MLclass()"
   ]
  },
  {
   "cell_type": "code",
   "execution_count": 171,
   "id": "07771f88",
   "metadata": {},
   "outputs": [
    {
     "name": "stdout",
     "output_type": "stream",
     "text": [
      "ineuron ineuron.ai 2019\n"
     ]
    }
   ],
   "source": [
    "ml.est_details()"
   ]
  },
  {
   "cell_type": "code",
   "execution_count": null,
   "id": "38535f39",
   "metadata": {},
   "outputs": [],
   "source": []
  }
 ],
 "metadata": {
  "kernelspec": {
   "display_name": "Python 3",
   "language": "python",
   "name": "python3"
  },
  "language_info": {
   "codemirror_mode": {
    "name": "ipython",
    "version": 3
   },
   "file_extension": ".py",
   "mimetype": "text/x-python",
   "name": "python",
   "nbconvert_exporter": "python",
   "pygments_lexer": "ipython3",
   "version": "3.8.8"
  }
 },
 "nbformat": 4,
 "nbformat_minor": 5
}
