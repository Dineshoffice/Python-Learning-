{
 "cells": [
  {
   "cell_type": "code",
   "execution_count": 2,
   "id": "daeb306c",
   "metadata": {},
   "outputs": [
    {
     "name": "stdout",
     "output_type": "stream",
     "text": [
      "This is f1rst class\n"
     ]
    }
   ],
   "source": [
    "print(\"This is f1rst class\")"
   ]
  },
  {
   "cell_type": "markdown",
   "id": "1fb10488",
   "metadata": {},
   "source": [
    "Tetste ts tes"
   ]
  },
  {
   "cell_type": "code",
   "execution_count": 3,
   "id": "9b2f66b5",
   "metadata": {},
   "outputs": [
    {
     "data": {
      "text/plain": [
       "3"
      ]
     },
     "execution_count": 3,
     "metadata": {},
     "output_type": "execute_result"
    }
   ],
   "source": [
    "1+2\n"
   ]
  },
  {
   "cell_type": "code",
   "execution_count": 4,
   "id": "c0e21400",
   "metadata": {},
   "outputs": [
    {
     "data": {
      "text/plain": [
       "81"
      ]
     },
     "execution_count": 4,
     "metadata": {},
     "output_type": "execute_result"
    }
   ],
   "source": [
    "3**4"
   ]
  },
  {
   "cell_type": "code",
   "execution_count": 5,
   "id": "b8aaa4fb",
   "metadata": {},
   "outputs": [],
   "source": [
    "a=5"
   ]
  },
  {
   "cell_type": "code",
   "execution_count": 6,
   "id": "aefc395b",
   "metadata": {},
   "outputs": [],
   "source": [
    "b=6"
   ]
  },
  {
   "cell_type": "code",
   "execution_count": 7,
   "id": "b322e98a",
   "metadata": {},
   "outputs": [
    {
     "data": {
      "text/plain": [
       "11"
      ]
     },
     "execution_count": 7,
     "metadata": {},
     "output_type": "execute_result"
    }
   ],
   "source": [
    "a+b"
   ]
  },
  {
   "cell_type": "code",
   "execution_count": 8,
   "id": "4e8194ab",
   "metadata": {},
   "outputs": [],
   "source": [
    "name=\"Dinesh Kumar\""
   ]
  },
  {
   "cell_type": "code",
   "execution_count": 9,
   "id": "9404b68b",
   "metadata": {},
   "outputs": [
    {
     "data": {
      "text/plain": [
       "'Dinesh Kumar'"
      ]
     },
     "execution_count": 9,
     "metadata": {},
     "output_type": "execute_result"
    }
   ],
   "source": [
    "name"
   ]
  },
  {
   "cell_type": "code",
   "execution_count": 11,
   "id": "71681ac3",
   "metadata": {},
   "outputs": [
    {
     "data": {
      "text/plain": [
       "10"
      ]
     },
     "execution_count": 11,
     "metadata": {},
     "output_type": "execute_result"
    }
   ],
   "source": [
    "a=10\n",
    "a"
   ]
  },
  {
   "cell_type": "code",
   "execution_count": 12,
   "id": "479cfb54",
   "metadata": {},
   "outputs": [
    {
     "data": {
      "text/plain": [
       "int"
      ]
     },
     "execution_count": 12,
     "metadata": {},
     "output_type": "execute_result"
    }
   ],
   "source": [
    "type(a)"
   ]
  },
  {
   "cell_type": "code",
   "execution_count": 13,
   "id": "541ab74d",
   "metadata": {},
   "outputs": [],
   "source": [
    "c=45.79"
   ]
  },
  {
   "cell_type": "code",
   "execution_count": 14,
   "id": "61844134",
   "metadata": {},
   "outputs": [
    {
     "data": {
      "text/plain": [
       "float"
      ]
     },
     "execution_count": 14,
     "metadata": {},
     "output_type": "execute_result"
    }
   ],
   "source": [
    "type(c)\n"
   ]
  },
  {
   "cell_type": "code",
   "execution_count": 15,
   "id": "059bcdf3",
   "metadata": {},
   "outputs": [],
   "source": [
    "com=5+6j"
   ]
  },
  {
   "cell_type": "code",
   "execution_count": 16,
   "id": "27764ffd",
   "metadata": {},
   "outputs": [
    {
     "data": {
      "text/plain": [
       "complex"
      ]
     },
     "execution_count": 16,
     "metadata": {},
     "output_type": "execute_result"
    }
   ],
   "source": [
    "type(com)"
   ]
  },
  {
   "cell_type": "code",
   "execution_count": 1,
   "id": "48d5bb80",
   "metadata": {},
   "outputs": [],
   "source": [
    "def test():\n",
    " \"\"\"This is doc string for class1\"\"\"\n",
    " return True "
   ]
  },
  {
   "cell_type": "code",
   "execution_count": 4,
   "id": "d3a144aa",
   "metadata": {},
   "outputs": [
    {
     "data": {
      "text/plain": [
       "True"
      ]
     },
     "execution_count": 4,
     "metadata": {},
     "output_type": "execute_result"
    }
   ],
   "source": [
    "test() #this is comment for doc string  go to test(\"press shift+tab to see details\")"
   ]
  },
  {
   "cell_type": "code",
   "execution_count": 5,
   "id": "f85ef129",
   "metadata": {},
   "outputs": [
    {
     "data": {
      "text/plain": [
       "'This is also a comment for multiline \\n Keep adding\\n as you wish\\n'"
      ]
     },
     "execution_count": 5,
     "metadata": {},
     "output_type": "execute_result"
    }
   ],
   "source": [
    "#multipline comment 1\n",
    "#multipl comment 2\n",
    "#or \n",
    "\"\"\"This is also a comment for multiline \n",
    " Keep adding\n",
    " as you wish\n",
    "\"\"\""
   ]
  },
  {
   "cell_type": "code",
   "execution_count": 6,
   "id": "35540abc",
   "metadata": {},
   "outputs": [
    {
     "ename": "SyntaxError",
     "evalue": "invalid syntax (<ipython-input-6-6737af3cf0c6>, line 1)",
     "output_type": "error",
     "traceback": [
      "\u001b[1;36m  File \u001b[1;32m\"<ipython-input-6-6737af3cf0c6>\"\u001b[1;36m, line \u001b[1;32m1\u001b[0m\n\u001b[1;33m    ++++++++++++++++++++++++++++++++++++\u001b[0m\n\u001b[1;37m                                        ^\u001b[0m\n\u001b[1;31mSyntaxError\u001b[0m\u001b[1;31m:\u001b[0m invalid syntax\n"
     ]
    }
   ],
   "source": [
    "++++++++++++++++++++++++++++++++++++"
   ]
  },
  {
   "cell_type": "code",
   "execution_count": null,
   "id": "1fcb05a5",
   "metadata": {},
   "outputs": [],
   "source": []
  }
 ],
 "metadata": {
  "kernelspec": {
   "display_name": "Python 3",
   "language": "python",
   "name": "python3"
  },
  "language_info": {
   "codemirror_mode": {
    "name": "ipython",
    "version": 3
   },
   "file_extension": ".py",
   "mimetype": "text/x-python",
   "name": "python",
   "nbconvert_exporter": "python",
   "pygments_lexer": "ipython3",
   "version": "3.8.8"
  }
 },
 "nbformat": 4,
 "nbformat_minor": 5
}
