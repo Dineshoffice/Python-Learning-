{
 "cells": [
  {
   "cell_type": "code",
   "execution_count": 1,
   "id": "630eef92",
   "metadata": {},
   "outputs": [],
   "source": [
    "#Doubt clear session to get feedback\n",
    "#Gain super resolutions for images "
   ]
  },
  {
   "cell_type": "code",
   "execution_count": 2,
   "id": "a17d52fc",
   "metadata": {},
   "outputs": [],
   "source": [
    "#function \n"
   ]
  },
  {
   "cell_type": "code",
   "execution_count": 3,
   "id": "c821adb7",
   "metadata": {},
   "outputs": [
    {
     "data": {
      "text/plain": [
       "6"
      ]
     },
     "execution_count": 3,
     "metadata": {},
     "output_type": "execute_result"
    }
   ],
   "source": [
    "l=[1,2,3,4,5,6]\n",
    "len(l)"
   ]
  },
  {
   "cell_type": "code",
   "execution_count": 4,
   "id": "4f2c20cb",
   "metadata": {},
   "outputs": [
    {
     "name": "stdout",
     "output_type": "stream",
     "text": [
      "This is my print\n"
     ]
    }
   ],
   "source": [
    "print(\"This is my print\")"
   ]
  },
  {
   "cell_type": "code",
   "execution_count": 5,
   "id": "f030a160",
   "metadata": {},
   "outputs": [
    {
     "data": {
      "text/plain": [
       "list"
      ]
     },
     "execution_count": 5,
     "metadata": {},
     "output_type": "execute_result"
    }
   ],
   "source": [
    "type(l)"
   ]
  },
  {
   "cell_type": "code",
   "execution_count": 6,
   "id": "158d102f",
   "metadata": {},
   "outputs": [
    {
     "ename": "SyntaxError",
     "evalue": "unexpected EOF while parsing (<ipython-input-6-5d287e34fa81>, line 2)",
     "output_type": "error",
     "traceback": [
      "\u001b[1;36m  File \u001b[1;32m\"<ipython-input-6-5d287e34fa81>\"\u001b[1;36m, line \u001b[1;32m2\u001b[0m\n\u001b[1;33m    \u001b[0m\n\u001b[1;37m    ^\u001b[0m\n\u001b[1;31mSyntaxError\u001b[0m\u001b[1;31m:\u001b[0m unexpected EOF while parsing\n"
     ]
    }
   ],
   "source": [
    "def test():#if you do not define body\n",
    "    \n",
    "    "
   ]
  },
  {
   "cell_type": "code",
   "execution_count": 9,
   "id": "324c7428",
   "metadata": {},
   "outputs": [],
   "source": [
    "def test(): # if no body then use pass keyboard\n",
    "     pass"
   ]
  },
  {
   "cell_type": "code",
   "execution_count": 11,
   "id": "d24a409b",
   "metadata": {},
   "outputs": [],
   "source": [
    "test() #Calling function"
   ]
  },
  {
   "cell_type": "code",
   "execution_count": 12,
   "id": "3a4f45d2",
   "metadata": {},
   "outputs": [],
   "source": [
    "def test1():\n",
    "    print(\"This is my fist function\")"
   ]
  },
  {
   "cell_type": "code",
   "execution_count": 13,
   "id": "ddc64008",
   "metadata": {},
   "outputs": [
    {
     "name": "stdout",
     "output_type": "stream",
     "text": [
      "This is my fist function\n"
     ]
    }
   ],
   "source": [
    "test1()\n",
    "    "
   ]
  },
  {
   "cell_type": "code",
   "execution_count": 14,
   "id": "9354d17a",
   "metadata": {},
   "outputs": [],
   "source": [
    "def test2():\n",
    "    print(1+2)"
   ]
  },
  {
   "cell_type": "code",
   "execution_count": 15,
   "id": "7c63d758",
   "metadata": {},
   "outputs": [
    {
     "name": "stdout",
     "output_type": "stream",
     "text": [
      "3\n"
     ]
    }
   ],
   "source": [
    "test2()"
   ]
  },
  {
   "cell_type": "code",
   "execution_count": 19,
   "id": "3605d362",
   "metadata": {},
   "outputs": [],
   "source": [
    "def add(a, b):#parameter \n",
    "    print(a+b)\n"
   ]
  },
  {
   "cell_type": "code",
   "execution_count": 22,
   "id": "b4a8dc3f",
   "metadata": {},
   "outputs": [
    {
     "name": "stdout",
     "output_type": "stream",
     "text": [
      "3\n"
     ]
    }
   ],
   "source": [
    "add(1,2)"
   ]
  },
  {
   "cell_type": "code",
   "execution_count": 23,
   "id": "b12dbfe5",
   "metadata": {},
   "outputs": [
    {
     "name": "stdout",
     "output_type": "stream",
     "text": [
      "5\n"
     ]
    }
   ],
   "source": [
    "add(2,3)"
   ]
  },
  {
   "cell_type": "code",
   "execution_count": 24,
   "id": "f2e5ecf7",
   "metadata": {},
   "outputs": [
    {
     "name": "stdout",
     "output_type": "stream",
     "text": [
      "stringconcatenate\n"
     ]
    }
   ],
   "source": [
    "add(\"string\",\"concatenate\")"
   ]
  },
  {
   "cell_type": "code",
   "execution_count": 25,
   "id": "5fb3380e",
   "metadata": {},
   "outputs": [
    {
     "ename": "TypeError",
     "evalue": "unsupported operand type(s) for +: 'int' and 'str'",
     "output_type": "error",
     "traceback": [
      "\u001b[1;31m---------------------------------------------------------------------------\u001b[0m",
      "\u001b[1;31mTypeError\u001b[0m                                 Traceback (most recent call last)",
      "\u001b[1;32m<ipython-input-25-19a6edd88350>\u001b[0m in \u001b[0;36m<module>\u001b[1;34m\u001b[0m\n\u001b[1;32m----> 1\u001b[1;33m \u001b[0madd\u001b[0m\u001b[1;33m(\u001b[0m\u001b[1;36m4\u001b[0m\u001b[1;33m,\u001b[0m\u001b[1;34m\"sudh\"\u001b[0m\u001b[1;33m)\u001b[0m\u001b[1;33m\u001b[0m\u001b[1;33m\u001b[0m\u001b[0m\n\u001b[0m",
      "\u001b[1;32m<ipython-input-19-49e9486d405d>\u001b[0m in \u001b[0;36madd\u001b[1;34m(a, b)\u001b[0m\n\u001b[0;32m      1\u001b[0m \u001b[1;32mdef\u001b[0m \u001b[0madd\u001b[0m\u001b[1;33m(\u001b[0m\u001b[0ma\u001b[0m\u001b[1;33m,\u001b[0m \u001b[0mb\u001b[0m\u001b[1;33m)\u001b[0m\u001b[1;33m:\u001b[0m\u001b[1;33m\u001b[0m\u001b[1;33m\u001b[0m\u001b[0m\n\u001b[1;32m----> 2\u001b[1;33m     \u001b[0mprint\u001b[0m\u001b[1;33m(\u001b[0m\u001b[0ma\u001b[0m\u001b[1;33m+\u001b[0m\u001b[0mb\u001b[0m\u001b[1;33m)\u001b[0m\u001b[1;33m\u001b[0m\u001b[1;33m\u001b[0m\u001b[0m\n\u001b[0m",
      "\u001b[1;31mTypeError\u001b[0m: unsupported operand type(s) for +: 'int' and 'str'"
     ]
    }
   ],
   "source": [
    "add(4,\"sudh\")"
   ]
  },
  {
   "cell_type": "code",
   "execution_count": 26,
   "id": "2f8bf5bb",
   "metadata": {},
   "outputs": [
    {
     "name": "stdout",
     "output_type": "stream",
     "text": [
      "4sudh\n"
     ]
    }
   ],
   "source": [
    "add(str(4),\"sudh\") # call type casting before call "
   ]
  },
  {
   "cell_type": "code",
   "execution_count": 27,
   "id": "f04f6dea",
   "metadata": {},
   "outputs": [],
   "source": [
    "def test4(a,b):\n",
    "    if type(a) !=str:\n",
    "        print(str(a)+b)\n",
    "    else:\n",
    "        print(a+b)\n",
    "        "
   ]
  },
  {
   "cell_type": "code",
   "execution_count": 29,
   "id": "0dae4297",
   "metadata": {},
   "outputs": [
    {
     "name": "stdout",
     "output_type": "stream",
     "text": [
      "4sudh\n"
     ]
    },
    {
     "ename": "TypeError",
     "evalue": "unsupported operand type(s) for +: 'NoneType' and 'str'",
     "output_type": "error",
     "traceback": [
      "\u001b[1;31m---------------------------------------------------------------------------\u001b[0m",
      "\u001b[1;31mTypeError\u001b[0m                                 Traceback (most recent call last)",
      "\u001b[1;32m<ipython-input-29-96bdbecb7095>\u001b[0m in \u001b[0;36m<module>\u001b[1;34m\u001b[0m\n\u001b[1;32m----> 1\u001b[1;33m \u001b[0mtest4\u001b[0m\u001b[1;33m(\u001b[0m\u001b[1;36m4\u001b[0m\u001b[1;33m,\u001b[0m\u001b[1;34m\"sudh\"\u001b[0m\u001b[1;33m)\u001b[0m \u001b[1;33m+\u001b[0m\u001b[1;34m\"kumar\"\u001b[0m\u001b[1;33m\u001b[0m\u001b[1;33m\u001b[0m\u001b[0m\n\u001b[0m",
      "\u001b[1;31mTypeError\u001b[0m: unsupported operand type(s) for +: 'NoneType' and 'str'"
     ]
    }
   ],
   "source": [
    "test4(4,\"sudh\") +\"kumar\""
   ]
  },
  {
   "cell_type": "code",
   "execution_count": 30,
   "id": "e5d85ceb",
   "metadata": {},
   "outputs": [
    {
     "name": "stdout",
     "output_type": "stream",
     "text": [
      "4sudh\n"
     ]
    },
    {
     "data": {
      "text/plain": [
       "NoneType"
      ]
     },
     "execution_count": 30,
     "metadata": {},
     "output_type": "execute_result"
    }
   ],
   "source": [
    "type(test4(4,\"sudh\"))"
   ]
  },
  {
   "cell_type": "code",
   "execution_count": 31,
   "id": "412150f5",
   "metadata": {},
   "outputs": [],
   "source": [
    "#print return NONE TYPE object so you can perfomr peremitive operation "
   ]
  },
  {
   "cell_type": "code",
   "execution_count": 32,
   "id": "bc5a16a3",
   "metadata": {},
   "outputs": [],
   "source": [
    "def test5(a,b):\n",
    "    if type(a)!=str:\n",
    "        return(str(a)+b)\n",
    "    else:\n",
    "        return(a+b)"
   ]
  },
  {
   "cell_type": "code",
   "execution_count": 33,
   "id": "b89d62d1",
   "metadata": {},
   "outputs": [
    {
     "data": {
      "text/plain": [
       "'4sudhkumar'"
      ]
     },
     "execution_count": 33,
     "metadata": {},
     "output_type": "execute_result"
    }
   ],
   "source": [
    "test5(4,\"sudh\")+\"kumar\""
   ]
  },
  {
   "cell_type": "code",
   "execution_count": 34,
   "id": "c44dea15",
   "metadata": {},
   "outputs": [],
   "source": [
    "#differece between return and print\n"
   ]
  },
  {
   "cell_type": "code",
   "execution_count": 35,
   "id": "08d59d34",
   "metadata": {},
   "outputs": [
    {
     "data": {
      "text/plain": [
       "str"
      ]
     },
     "execution_count": 35,
     "metadata": {},
     "output_type": "execute_result"
    }
   ],
   "source": [
    "type(test5(4,\"sudh\"))"
   ]
  },
  {
   "cell_type": "code",
   "execution_count": 37,
   "id": "1497a231",
   "metadata": {},
   "outputs": [],
   "source": [
    "def test6(a,b,c):\n",
    "    return a+2,b+3,c+4,a+b+c"
   ]
  },
  {
   "cell_type": "code",
   "execution_count": 39,
   "id": "eb1ac240",
   "metadata": {},
   "outputs": [
    {
     "data": {
      "text/plain": [
       "(3, 5, 7, 6)"
      ]
     },
     "execution_count": 39,
     "metadata": {},
     "output_type": "execute_result"
    }
   ],
   "source": [
    "test6(1,2,3)"
   ]
  },
  {
   "cell_type": "code",
   "execution_count": 41,
   "id": "534f319a",
   "metadata": {},
   "outputs": [
    {
     "data": {
      "text/plain": [
       "tuple"
      ]
     },
     "execution_count": 41,
     "metadata": {},
     "output_type": "execute_result"
    }
   ],
   "source": [
    "type(test6(1,2,3))"
   ]
  },
  {
   "cell_type": "code",
   "execution_count": 42,
   "id": "8cea7c80",
   "metadata": {},
   "outputs": [],
   "source": [
    "a=10\n",
    "b=4,\n",
    "c=\"sudh\"\n",
    "d=56.45\n",
    "#or\n",
    "a,b,c,d=10,4,\"sudh\",56.45\n"
   ]
  },
  {
   "cell_type": "code",
   "execution_count": 44,
   "id": "8e84d3fb",
   "metadata": {},
   "outputs": [],
   "source": [
    "n=test6(1,2,3)"
   ]
  },
  {
   "cell_type": "code",
   "execution_count": 45,
   "id": "ba240985",
   "metadata": {},
   "outputs": [
    {
     "data": {
      "text/plain": [
       "(3, 5, 7, 6)"
      ]
     },
     "execution_count": 45,
     "metadata": {},
     "output_type": "execute_result"
    }
   ],
   "source": [
    "n"
   ]
  },
  {
   "cell_type": "code",
   "execution_count": 46,
   "id": "5b3ef6f2",
   "metadata": {},
   "outputs": [],
   "source": [
    "x,y,z,w=test6(3,4,5)"
   ]
  },
  {
   "cell_type": "code",
   "execution_count": 47,
   "id": "057a1c0e",
   "metadata": {},
   "outputs": [
    {
     "data": {
      "text/plain": [
       "(5, 7, 9, 12)"
      ]
     },
     "execution_count": 47,
     "metadata": {},
     "output_type": "execute_result"
    }
   ],
   "source": [
    "x,y,z,w"
   ]
  },
  {
   "cell_type": "code",
   "execution_count": 48,
   "id": "f95be0e1",
   "metadata": {},
   "outputs": [
    {
     "data": {
      "text/plain": [
       "5"
      ]
     },
     "execution_count": 48,
     "metadata": {},
     "output_type": "execute_result"
    }
   ],
   "source": [
    "x\n"
   ]
  },
  {
   "cell_type": "code",
   "execution_count": 49,
   "id": "61f1e2f6",
   "metadata": {},
   "outputs": [
    {
     "data": {
      "text/plain": [
       "12"
      ]
     },
     "execution_count": 49,
     "metadata": {},
     "output_type": "execute_result"
    }
   ],
   "source": [
    "w\n",
    "    "
   ]
  },
  {
   "cell_type": "code",
   "execution_count": 50,
   "id": "341ff9ed",
   "metadata": {},
   "outputs": [],
   "source": [
    "#place holder\n",
    "_,_,_,b=test6(1,2,3)"
   ]
  },
  {
   "cell_type": "code",
   "execution_count": 51,
   "id": "f61b679f",
   "metadata": {},
   "outputs": [
    {
     "data": {
      "text/plain": [
       "6"
      ]
     },
     "execution_count": 51,
     "metadata": {},
     "output_type": "execute_result"
    }
   ],
   "source": [
    "b"
   ]
  },
  {
   "cell_type": "code",
   "execution_count": 52,
   "id": "f41aecdd",
   "metadata": {},
   "outputs": [
    {
     "data": {
      "text/plain": [
       "7"
      ]
     },
     "execution_count": 52,
     "metadata": {},
     "output_type": "execute_result"
    }
   ],
   "source": [
    "_"
   ]
  },
  {
   "cell_type": "code",
   "execution_count": 53,
   "id": "07e44d4e",
   "metadata": {},
   "outputs": [
    {
     "data": {
      "text/plain": [
       "1296"
      ]
     },
     "execution_count": 53,
     "metadata": {},
     "output_type": "execute_result"
    }
   ],
   "source": [
    "b**4"
   ]
  },
  {
   "cell_type": "code",
   "execution_count": 64,
   "id": "97e76691",
   "metadata": {},
   "outputs": [],
   "source": [
    "def test7(x,y):\n",
    "    return x+y,x,x**4,x *y"
   ]
  },
  {
   "cell_type": "code",
   "execution_count": 65,
   "id": "1b136ba7",
   "metadata": {},
   "outputs": [
    {
     "data": {
      "text/plain": [
       "(9, 4, 256, 20)"
      ]
     },
     "execution_count": 65,
     "metadata": {},
     "output_type": "execute_result"
    }
   ],
   "source": [
    "test7(4,5)"
   ]
  },
  {
   "cell_type": "code",
   "execution_count": 67,
   "id": "60ac20d8",
   "metadata": {},
   "outputs": [
    {
     "data": {
      "text/plain": [
       "128.0"
      ]
     },
     "execution_count": 67,
     "metadata": {},
     "output_type": "execute_result"
    }
   ],
   "source": [
    "test7(4,5)[2]/2"
   ]
  },
  {
   "cell_type": "code",
   "execution_count": 68,
   "id": "b629e813",
   "metadata": {},
   "outputs": [],
   "source": [
    "_,_,t,_=test7(3,4)"
   ]
  },
  {
   "cell_type": "code",
   "execution_count": 69,
   "id": "352c21bb",
   "metadata": {},
   "outputs": [
    {
     "data": {
      "text/plain": [
       "81"
      ]
     },
     "execution_count": 69,
     "metadata": {},
     "output_type": "execute_result"
    }
   ],
   "source": [
    "t"
   ]
  },
  {
   "cell_type": "code",
   "execution_count": 70,
   "id": "b34e6639",
   "metadata": {},
   "outputs": [],
   "source": [
    "def test8(b,v,c):\n",
    "    d=b*v*c\n",
    "    f=b+v+c\n",
    "    return d,f"
   ]
  },
  {
   "cell_type": "code",
   "execution_count": 73,
   "id": "6c0e1dca",
   "metadata": {},
   "outputs": [
    {
     "data": {
      "text/plain": [
       "(24, 9)"
      ]
     },
     "execution_count": 73,
     "metadata": {},
     "output_type": "execute_result"
    }
   ],
   "source": [
    "test8(4,2,3)"
   ]
  },
  {
   "cell_type": "code",
   "execution_count": 74,
   "id": "187bb8b8",
   "metadata": {},
   "outputs": [],
   "source": [
    "a,b=test8(4,5,6)"
   ]
  },
  {
   "cell_type": "code",
   "execution_count": 75,
   "id": "36101df5",
   "metadata": {},
   "outputs": [
    {
     "data": {
      "text/plain": [
       "(120, 15)"
      ]
     },
     "execution_count": 75,
     "metadata": {},
     "output_type": "execute_result"
    }
   ],
   "source": [
    "a,b"
   ]
  },
  {
   "cell_type": "code",
   "execution_count": 80,
   "id": "42bf082b",
   "metadata": {},
   "outputs": [
    {
     "name": "stdout",
     "output_type": "stream",
     "text": [
      "3\n"
     ]
    }
   ],
   "source": [
    "l=[1,\"a\",2,4,\"k\",2.3,\"Kl\"]\n",
    "countstring=0\n",
    "for i in l:\n",
    "    if(type(i)==str):\n",
    "        countstring=countstring+1\n",
    "        \n",
    "print (countstring)\n"
   ]
  },
  {
   "cell_type": "code",
   "execution_count": 95,
   "id": "a6430eb5",
   "metadata": {},
   "outputs": [],
   "source": [
    "#function way\n",
    "def FindStringinList(l):\n",
    "    countstring=0\n",
    "    for i in l:\n",
    "        if(type(i)==str):\n",
    "            countstring=countstring+1   \n",
    "    return countstring"
   ]
  },
  {
   "cell_type": "code",
   "execution_count": 91,
   "id": "06417896",
   "metadata": {
    "scrolled": true
   },
   "outputs": [
    {
     "data": {
      "text/plain": [
       "4"
      ]
     },
     "execution_count": 91,
     "metadata": {},
     "output_type": "execute_result"
    }
   ],
   "source": [
    "l=[1,\"a\",2,4,\"k\",2.3,\"Kl\",\"ac\"]\n",
    "FindStringinList(l)"
   ]
  },
  {
   "cell_type": "code",
   "execution_count": 94,
   "id": "a5dcc39a",
   "metadata": {},
   "outputs": [
    {
     "ename": "SyntaxError",
     "evalue": "invalid syntax (<ipython-input-94-aa038f505198>, line 1)",
     "output_type": "error",
     "traceback": [
      "\u001b[1;36m  File \u001b[1;32m\"<ipython-input-94-aa038f505198>\"\u001b[1;36m, line \u001b[1;32m1\u001b[0m\n\u001b[1;33m    len(~)#press shift+tab you will get details\u001b[0m\n\u001b[1;37m         ^\u001b[0m\n\u001b[1;31mSyntaxError\u001b[0m\u001b[1;31m:\u001b[0m invalid syntax\n"
     ]
    }
   ],
   "source": [
    "len(l)#press shift+tab you will get details\n",
    "\n"
   ]
  },
  {
   "cell_type": "code",
   "execution_count": 96,
   "id": "b8333b25",
   "metadata": {},
   "outputs": [],
   "source": [
    "#function way\n",
    "def FindStringinList(l):\n",
    "    \"\"\"This is my function which will try to\"\"\"\n",
    "    countstring=0\n",
    "    for i in l:\n",
    "        if(type(i)==str):\n",
    "            countstring=countstring+1   \n",
    "    return countstring"
   ]
  },
  {
   "cell_type": "code",
   "execution_count": 99,
   "id": "d92efc3a",
   "metadata": {},
   "outputs": [
    {
     "data": {
      "text/plain": [
       "0"
      ]
     },
     "execution_count": 99,
     "metadata": {},
     "output_type": "execute_result"
    }
   ],
   "source": [
    "#then add doc string\n",
    "FindStringinList([1,2,3])\n",
    "#here you can use in same notebook but if you want to use\n",
    "\n",
    "#Public method can be use by anyone"
   ]
  },
  {
   "cell_type": "code",
   "execution_count": 100,
   "id": "d02332ab",
   "metadata": {},
   "outputs": [],
   "source": [
    "#best way of learning coding \n",
    "#just see existing mathod \n",
    "#go python git and check\n",
    "#this is called open source contribution\n"
   ]
  },
  {
   "cell_type": "code",
   "execution_count": 101,
   "id": "23ad13d3",
   "metadata": {},
   "outputs": [],
   "source": [
    "def test9(b,c):\n",
    "    return b,c"
   ]
  },
  {
   "cell_type": "code",
   "execution_count": 102,
   "id": "f627f7b6",
   "metadata": {},
   "outputs": [
    {
     "ename": "TypeError",
     "evalue": "test9() missing 1 required positional argument: 'c'",
     "output_type": "error",
     "traceback": [
      "\u001b[1;31m---------------------------------------------------------------------------\u001b[0m",
      "\u001b[1;31mTypeError\u001b[0m                                 Traceback (most recent call last)",
      "\u001b[1;32m<ipython-input-102-47d8adf3aae9>\u001b[0m in \u001b[0;36m<module>\u001b[1;34m\u001b[0m\n\u001b[1;32m----> 1\u001b[1;33m \u001b[0mtest9\u001b[0m\u001b[1;33m(\u001b[0m\u001b[1;36m4\u001b[0m\u001b[1;33m)\u001b[0m\u001b[1;33m\u001b[0m\u001b[1;33m\u001b[0m\u001b[0m\n\u001b[0m",
      "\u001b[1;31mTypeError\u001b[0m: test9() missing 1 required positional argument: 'c'"
     ]
    }
   ],
   "source": [
    "test9(4)"
   ]
  },
  {
   "cell_type": "code",
   "execution_count": 109,
   "id": "ccbe0af7",
   "metadata": {},
   "outputs": [],
   "source": [
    "#Here argument is missing\n",
    "#Then  use assign default value \n",
    "def test9(b=8,c=6):\n",
    "    return b,c\n"
   ]
  },
  {
   "cell_type": "code",
   "execution_count": 104,
   "id": "e48624c0",
   "metadata": {},
   "outputs": [
    {
     "data": {
      "text/plain": [
       "(4, 6)"
      ]
     },
     "execution_count": 104,
     "metadata": {},
     "output_type": "execute_result"
    }
   ],
   "source": [
    "test9(4)"
   ]
  },
  {
   "cell_type": "code",
   "execution_count": 106,
   "id": "38943a1b",
   "metadata": {},
   "outputs": [
    {
     "data": {
      "text/plain": [
       "(1, 10)"
      ]
     },
     "execution_count": 106,
     "metadata": {},
     "output_type": "execute_result"
    }
   ],
   "source": [
    "test9(1,10)"
   ]
  },
  {
   "cell_type": "code",
   "execution_count": 107,
   "id": "daf36525",
   "metadata": {},
   "outputs": [
    {
     "data": {
      "text/plain": [
       "('sudh', 6)"
      ]
     },
     "execution_count": 107,
     "metadata": {},
     "output_type": "execute_result"
    }
   ],
   "source": [
    "test9(\"sudh\")"
   ]
  },
  {
   "cell_type": "code",
   "execution_count": 110,
   "id": "d97a224d",
   "metadata": {},
   "outputs": [
    {
     "data": {
      "text/plain": [
       "(8, 'sudh')"
      ]
     },
     "execution_count": 110,
     "metadata": {},
     "output_type": "execute_result"
    }
   ],
   "source": [
    "test9(8,\"sudh\")"
   ]
  },
  {
   "cell_type": "code",
   "execution_count": 111,
   "id": "7245ceb6",
   "metadata": {},
   "outputs": [
    {
     "data": {
      "text/plain": [
       "('a', 6)"
      ]
     },
     "execution_count": 111,
     "metadata": {},
     "output_type": "execute_result"
    }
   ],
   "source": [
    "test9(\"a\")"
   ]
  },
  {
   "cell_type": "code",
   "execution_count": 112,
   "id": "2a946aca",
   "metadata": {},
   "outputs": [],
   "source": [
    "def test10(a,b,c,d,n,y):\n",
    "    print(\"this is my function\")"
   ]
  },
  {
   "cell_type": "code",
   "execution_count": 116,
   "id": "aad4c9a5",
   "metadata": {},
   "outputs": [
    {
     "name": "stdout",
     "output_type": "stream",
     "text": [
      "this is my function\n"
     ]
    }
   ],
   "source": [
    "test10(1,2,3,4,5,6)"
   ]
  },
  {
   "cell_type": "code",
   "execution_count": 118,
   "id": "7c98889a",
   "metadata": {},
   "outputs": [],
   "source": [
    "#create function which take n number of string and continate it \n",
    "#*args will use to take n number of parameter\n",
    "def test11(*args):\n",
    "    return args\n",
    "\n",
    "\n",
    "    \n"
   ]
  },
  {
   "cell_type": "code",
   "execution_count": 119,
   "id": "5c6210e9",
   "metadata": {},
   "outputs": [
    {
     "data": {
      "text/plain": [
       "(3, 4, 5, 6)"
      ]
     },
     "execution_count": 119,
     "metadata": {},
     "output_type": "execute_result"
    }
   ],
   "source": [
    "test11(3,4,5,6)"
   ]
  },
  {
   "cell_type": "code",
   "execution_count": 120,
   "id": "211a659f",
   "metadata": {},
   "outputs": [
    {
     "data": {
      "text/plain": [
       "('a', 3)"
      ]
     },
     "execution_count": 120,
     "metadata": {},
     "output_type": "execute_result"
    }
   ],
   "source": [
    "test11(\"a\",3)"
   ]
  },
  {
   "cell_type": "code",
   "execution_count": 121,
   "id": "824ea87f",
   "metadata": {},
   "outputs": [
    {
     "data": {
      "text/plain": [
       "()"
      ]
     },
     "execution_count": 121,
     "metadata": {},
     "output_type": "execute_result"
    }
   ],
   "source": [
    "test11()"
   ]
  },
  {
   "cell_type": "code",
   "execution_count": 123,
   "id": "1bbb856f",
   "metadata": {},
   "outputs": [],
   "source": [
    "#if it is string then concatenate it\n",
    "def test12(*args):# it take as tuple \n",
    "    result=\"\"\n",
    "    for i in args:\n",
    "        if(type(i)==str):\n",
    "            result=result+i\n",
    "    return result\n"
   ]
  },
  {
   "cell_type": "code",
   "execution_count": 126,
   "id": "858dacb0",
   "metadata": {},
   "outputs": [
    {
     "data": {
      "text/plain": [
       "'am'"
      ]
     },
     "execution_count": 126,
     "metadata": {},
     "output_type": "execute_result"
    }
   ],
   "source": [
    "test12(1,2,\"a\",2,\"m\",[1,\"a\"])"
   ]
  },
  {
   "cell_type": "code",
   "execution_count": 127,
   "id": "031f5918",
   "metadata": {},
   "outputs": [
    {
     "data": {
      "text/plain": [
       "'Dineshkumar'"
      ]
     },
     "execution_count": 127,
     "metadata": {},
     "output_type": "execute_result"
    }
   ],
   "source": [
    "test12(\"Dinesh\",\"kumar\")"
   ]
  },
  {
   "cell_type": "code",
   "execution_count": 128,
   "id": "bf317d14",
   "metadata": {},
   "outputs": [
    {
     "data": {
      "text/plain": [
       "'DineshkumarMLDL'"
      ]
     },
     "execution_count": 128,
     "metadata": {},
     "output_type": "execute_result"
    }
   ],
   "source": [
    "test12(\"Dinesh\",\"kumar\",\"MLDL\")"
   ]
  },
  {
   "cell_type": "code",
   "execution_count": 129,
   "id": "f04ea75e",
   "metadata": {},
   "outputs": [],
   "source": [
    "#here args is not a keyword\n",
    "def test12(*inp):# it take as tuple \n",
    "    result=\"\"\n",
    "    for i in inp:\n",
    "        if(type(i)==str):\n",
    "            result=result+i\n",
    "    return result"
   ]
  },
  {
   "cell_type": "code",
   "execution_count": 130,
   "id": "e8d8c8c4",
   "metadata": {},
   "outputs": [
    {
     "data": {
      "text/plain": [
       "'a'"
      ]
     },
     "execution_count": 130,
     "metadata": {},
     "output_type": "execute_result"
    }
   ],
   "source": [
    "test12(\"a\")"
   ]
  },
  {
   "cell_type": "code",
   "execution_count": 131,
   "id": "075833d5",
   "metadata": {},
   "outputs": [],
   "source": [
    "def test13(*args,a,b,c):#Here args suppose to take n number \n",
    "    return args,a,b,c\n"
   ]
  },
  {
   "cell_type": "code",
   "execution_count": 133,
   "id": "636209a0",
   "metadata": {},
   "outputs": [
    {
     "ename": "TypeError",
     "evalue": "test13() missing 3 required keyword-only arguments: 'a', 'b', and 'c'",
     "output_type": "error",
     "traceback": [
      "\u001b[1;31m---------------------------------------------------------------------------\u001b[0m",
      "\u001b[1;31mTypeError\u001b[0m                                 Traceback (most recent call last)",
      "\u001b[1;32m<ipython-input-133-5f26887ba7ab>\u001b[0m in \u001b[0;36m<module>\u001b[1;34m\u001b[0m\n\u001b[1;32m----> 1\u001b[1;33m \u001b[0mtest13\u001b[0m\u001b[1;33m(\u001b[0m\u001b[1;36m1\u001b[0m\u001b[1;33m,\u001b[0m\u001b[1;36m2\u001b[0m\u001b[1;33m,\u001b[0m\u001b[1;36m4\u001b[0m\u001b[1;33m,\u001b[0m\u001b[1;34m\"a\"\u001b[0m\u001b[1;33m,\u001b[0m\u001b[1;34m\"b\"\u001b[0m\u001b[1;33m,\u001b[0m\u001b[1;34m\"c\"\u001b[0m\u001b[1;33m)\u001b[0m\u001b[1;33m\u001b[0m\u001b[1;33m\u001b[0m\u001b[0m\n\u001b[0m",
      "\u001b[1;31mTypeError\u001b[0m: test13() missing 3 required keyword-only arguments: 'a', 'b', and 'c'"
     ]
    }
   ],
   "source": [
    "test13(1,2,4,\"a\",\"b\",\"c\")"
   ]
  },
  {
   "cell_type": "code",
   "execution_count": 135,
   "id": "f6b7e2aa",
   "metadata": {},
   "outputs": [
    {
     "data": {
      "text/plain": [
       "((1, 2, 3), 12, 10, 3)"
      ]
     },
     "execution_count": 135,
     "metadata": {},
     "output_type": "execute_result"
    }
   ],
   "source": [
    "# then call like this \n",
    "test13(1,2,3,a=12,b=10,c=3)"
   ]
  },
  {
   "cell_type": "code",
   "execution_count": 136,
   "id": "a08ea609",
   "metadata": {},
   "outputs": [],
   "source": [
    "#Here you can change order\n",
    "\n",
    "#next keyword argument \n",
    "def test14(**kwargs):\n",
    "    return kwargs\n",
    "\n"
   ]
  },
  {
   "cell_type": "code",
   "execution_count": 137,
   "id": "549383aa",
   "metadata": {},
   "outputs": [
    {
     "ename": "TypeError",
     "evalue": "test14() takes 0 positional arguments but 2 were given",
     "output_type": "error",
     "traceback": [
      "\u001b[1;31m---------------------------------------------------------------------------\u001b[0m",
      "\u001b[1;31mTypeError\u001b[0m                                 Traceback (most recent call last)",
      "\u001b[1;32m<ipython-input-137-f99aeb549eeb>\u001b[0m in \u001b[0;36m<module>\u001b[1;34m\u001b[0m\n\u001b[1;32m----> 1\u001b[1;33m \u001b[0mtest14\u001b[0m\u001b[1;33m(\u001b[0m\u001b[1;36m34\u001b[0m\u001b[1;33m,\u001b[0m\u001b[1;36m45\u001b[0m\u001b[1;33m)\u001b[0m\u001b[1;33m\u001b[0m\u001b[1;33m\u001b[0m\u001b[0m\n\u001b[0m",
      "\u001b[1;31mTypeError\u001b[0m: test14() takes 0 positional arguments but 2 were given"
     ]
    }
   ],
   "source": [
    "test14(34,45)"
   ]
  },
  {
   "cell_type": "code",
   "execution_count": 138,
   "id": "9de7d751",
   "metadata": {},
   "outputs": [
    {
     "data": {
      "text/plain": [
       "{'a': 6, 'b': 10}"
      ]
     },
     "execution_count": 138,
     "metadata": {},
     "output_type": "execute_result"
    }
   ],
   "source": [
    "test14(a=6,b=10)"
   ]
  },
  {
   "cell_type": "code",
   "execution_count": 139,
   "id": "6419629b",
   "metadata": {},
   "outputs": [],
   "source": [
    "#here it will be return dictionary\n"
   ]
  },
  {
   "cell_type": "code",
   "execution_count": 140,
   "id": "d17d4a4f",
   "metadata": {},
   "outputs": [],
   "source": [
    "#create f accept any no of key value pair if value of list the retunr return string from that list \n"
   ]
  },
  {
   "cell_type": "code",
   "execution_count": 150,
   "id": "77e7a55a",
   "metadata": {},
   "outputs": [
    {
     "ename": "SyntaxError",
     "evalue": "invalid syntax (<ipython-input-150-c0f85d0c76e0>, line 3)",
     "output_type": "error",
     "traceback": [
      "\u001b[1;36m  File \u001b[1;32m\"<ipython-input-150-c0f85d0c76e0>\"\u001b[1;36m, line \u001b[1;32m3\u001b[0m\n\u001b[1;33m    for i in kwargs.items()\u001b[0m\n\u001b[1;37m                           ^\u001b[0m\n\u001b[1;31mSyntaxError\u001b[0m\u001b[1;31m:\u001b[0m invalid syntax\n"
     ]
    }
   ],
   "source": [
    "def test15(**kwargs):\n",
    "    a=\"\"\n",
    "    for i in kwargs.items()\n",
    "        if(type(i) == list):\n",
    "            for j in i:\n",
    "                if type(j)==str:\n",
    "                    a=a+\" \"+j\n",
    "                   \n",
    "                \n",
    "          \n",
    "    \n",
    "    return a"
   ]
  },
  {
   "cell_type": "code",
   "execution_count": 151,
   "id": "5a255384",
   "metadata": {},
   "outputs": [
    {
     "ename": "AttributeError",
     "evalue": "'dict' object has no attribute 'value'",
     "output_type": "error",
     "traceback": [
      "\u001b[1;31m---------------------------------------------------------------------------\u001b[0m",
      "\u001b[1;31mAttributeError\u001b[0m                            Traceback (most recent call last)",
      "\u001b[1;32m<ipython-input-151-7ebe32f2456c>\u001b[0m in \u001b[0;36m<module>\u001b[1;34m\u001b[0m\n\u001b[1;32m----> 1\u001b[1;33m \u001b[0mtest15\u001b[0m\u001b[1;33m(\u001b[0m\u001b[0ma\u001b[0m\u001b[1;33m=\u001b[0m\u001b[1;36m10\u001b[0m\u001b[1;33m,\u001b[0m\u001b[0mb\u001b[0m\u001b[1;33m=\u001b[0m\u001b[1;36m11\u001b[0m\u001b[1;33m,\u001b[0m\u001b[0mc\u001b[0m\u001b[1;33m=\u001b[0m\u001b[1;33m[\u001b[0m\u001b[1;36m1\u001b[0m\u001b[1;33m,\u001b[0m\u001b[1;34m\"a\"\u001b[0m\u001b[1;33m,\u001b[0m\u001b[1;34m\"bb\"\u001b[0m\u001b[1;33m]\u001b[0m\u001b[1;33m)\u001b[0m\u001b[1;33m\u001b[0m\u001b[1;33m\u001b[0m\u001b[0m\n\u001b[0m",
      "\u001b[1;32m<ipython-input-142-491eab10a027>\u001b[0m in \u001b[0;36mtest15\u001b[1;34m(**kwargs)\u001b[0m\n\u001b[0;32m      1\u001b[0m \u001b[1;32mdef\u001b[0m \u001b[0mtest15\u001b[0m\u001b[1;33m(\u001b[0m\u001b[1;33m**\u001b[0m\u001b[0mkwargs\u001b[0m\u001b[1;33m)\u001b[0m\u001b[1;33m:\u001b[0m\u001b[1;33m\u001b[0m\u001b[1;33m\u001b[0m\u001b[0m\n\u001b[0;32m      2\u001b[0m     \u001b[0ma\u001b[0m\u001b[1;33m=\u001b[0m\u001b[1;34m\"\"\u001b[0m\u001b[1;33m\u001b[0m\u001b[1;33m\u001b[0m\u001b[0m\n\u001b[1;32m----> 3\u001b[1;33m     \u001b[1;32mfor\u001b[0m \u001b[0mi\u001b[0m \u001b[1;32min\u001b[0m \u001b[0mkwargs\u001b[0m\u001b[1;33m.\u001b[0m\u001b[0mvalue\u001b[0m\u001b[1;33m(\u001b[0m\u001b[1;33m)\u001b[0m\u001b[1;33m:\u001b[0m\u001b[1;33m\u001b[0m\u001b[1;33m\u001b[0m\u001b[0m\n\u001b[0m\u001b[0;32m      4\u001b[0m         \u001b[1;32mif\u001b[0m\u001b[1;33m(\u001b[0m\u001b[0mtype\u001b[0m\u001b[1;33m(\u001b[0m\u001b[0mi\u001b[0m\u001b[1;33m)\u001b[0m \u001b[1;33m==\u001b[0m \u001b[0mlist\u001b[0m\u001b[1;33m)\u001b[0m\u001b[1;33m:\u001b[0m\u001b[1;33m\u001b[0m\u001b[1;33m\u001b[0m\u001b[0m\n\u001b[0;32m      5\u001b[0m             \u001b[1;32mfor\u001b[0m \u001b[0mj\u001b[0m \u001b[1;32min\u001b[0m \u001b[0mi\u001b[0m\u001b[1;33m:\u001b[0m\u001b[1;33m\u001b[0m\u001b[1;33m\u001b[0m\u001b[0m\n",
      "\u001b[1;31mAttributeError\u001b[0m: 'dict' object has no attribute 'value'"
     ]
    }
   ],
   "source": [
    "test15(a=10,b=11,c=[1,\"a\",\"bb\"])"
   ]
  },
  {
   "cell_type": "code",
   "execution_count": null,
   "id": "c48e0708",
   "metadata": {},
   "outputs": [],
   "source": []
  }
 ],
 "metadata": {
  "kernelspec": {
   "display_name": "Python 3",
   "language": "python",
   "name": "python3"
  },
  "language_info": {
   "codemirror_mode": {
    "name": "ipython",
    "version": 3
   },
   "file_extension": ".py",
   "mimetype": "text/x-python",
   "name": "python",
   "nbconvert_exporter": "python",
   "pygments_lexer": "ipython3",
   "version": "3.8.8"
  }
 },
 "nbformat": 4,
 "nbformat_minor": 5
}
