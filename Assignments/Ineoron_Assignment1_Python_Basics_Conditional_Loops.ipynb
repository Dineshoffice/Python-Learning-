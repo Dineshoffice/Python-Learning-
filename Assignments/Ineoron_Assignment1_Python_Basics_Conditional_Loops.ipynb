{
 "cells": [
  {
   "cell_type": "code",
   "execution_count": 1,
   "id": "0fd353c5",
   "metadata": {},
   "outputs": [],
   "source": [
    "#Python Basics, Conditional Loops\n"
   ]
  },
  {
   "cell_type": "code",
   "execution_count": 2,
   "id": "cf6ecbdb",
   "metadata": {},
   "outputs": [
    {
     "data": {
      "text/plain": [
       "' 1-Write a program which will find all such numbers which are divisible by 7 but are not a multiple of 5\\nbetween 2000 and 3200(both included).The numbers obtained should be printed in a comma-separated sequence on a single line.\\n'"
      ]
     },
     "execution_count": 2,
     "metadata": {},
     "output_type": "execute_result"
    }
   ],
   "source": [
    "\"\"\" 1-Write a program which will find all such numbers which are divisible by 7 but are not a multiple of 5\n",
    "between 2000 and 3200(both included).The numbers obtained should be printed in a comma-separated sequence on a single line.\n",
    "\"\"\"\n"
   ]
  },
  {
   "cell_type": "code",
   "execution_count": 17,
   "id": "01b8f94f",
   "metadata": {},
   "outputs": [
    {
     "name": "stdout",
     "output_type": "stream",
     "text": [
      ",2007,2014,2021,2028,2042,2049,2056,2063,2077,2084,2091,2098,2112,2119,2126,2133,2147,2154,2161,2168,2182,2189,2196,2203,2217,2224,2231,2238,2252,2259,2266,2273,2287,2294,2301,2308,2322,2329,2336,2343,2357,2364,2371,2378,2392,2399,2406,2413,2427,2434,2441,2448,2462,2469,2476,2483,2497,2504,2511,2518,2532,2539,2546,2553,2567,2574,2581,2588,2602,2609,2616,2623,2637,2644,2651,2658,2672,2679,2686,2693,2707,2714,2721,2728,2742,2749,2756,2763,2777,2784,2791,2798,2812,2819,2826,2833,2847,2854,2861,2868,2882,2889,2896,2903,2917,2924,2931,2938,2952,2959,2966,2973,2987,2994,3001,3008,3022,3029,3036,3043,3057,3064,3071,3078,3092,3099,3106,3113,3127,3134,3141,3148,3162,3169,3176,3183,3197\n"
     ]
    }
   ],
   "source": [
    "l=(range(2000,3201,7))\n",
    "finalstring=''\n",
    "for i in l:\n",
    "    if(i%5!=0):\n",
    "        finalstring=finalstring+\",\"+str(i)\n",
    " \n",
    "print (finalstring)"
   ]
  },
  {
   "cell_type": "code",
   "execution_count": 1,
   "id": "033bb51c",
   "metadata": {},
   "outputs": [
    {
     "data": {
      "text/plain": [
       "\"\\n2-Write a Python program to accept the user's first and last name and then getting them\\nprinted in the the reverse order with a space between first name and last name.\\n\\n\""
      ]
     },
     "execution_count": 1,
     "metadata": {},
     "output_type": "execute_result"
    }
   ],
   "source": [
    "\"\"\"\n",
    "2-Write a Python program to accept the user's first and last name and then getting them\n",
    "printed in the the reverse order with a space between first name and last name.\n",
    "\n",
    "\"\"\"\n"
   ]
  },
  {
   "cell_type": "code",
   "execution_count": 4,
   "id": "d38b22bc",
   "metadata": {},
   "outputs": [
    {
     "name": "stdout",
     "output_type": "stream",
     "text": [
      "Enter first name.Dinesh \n",
      "Enter last name.Kumar\n",
      "Dinesh  Kumar\n",
      " hseniD ramuK\n"
     ]
    }
   ],
   "source": [
    "firstName=str(input(\"Enter first name.\"))\n",
    "lastName=str(input(\"Enter last name.\"))\n",
    "#orginal order\n",
    "print(firstName+\" \"+lastName)\n",
    "#reverse order\n",
    "print(firstName[::-1]+\" \"+lastName[::-1])\n"
   ]
  },
  {
   "cell_type": "code",
   "execution_count": 5,
   "id": "87d34cbe",
   "metadata": {},
   "outputs": [
    {
     "data": {
      "text/plain": [
       "'\\nQ3-Write a Python program to find the volume of a sphere with diameter 12 cm.\\nFormula: V=4/3 * π * r 3\\n'"
      ]
     },
     "execution_count": 5,
     "metadata": {},
     "output_type": "execute_result"
    }
   ],
   "source": [
    "\"\"\"\n",
    "Q3-Write a Python program to find the volume of a sphere with diameter 12 cm.\n",
    "Formula: V=4/3 * π * r 3\n",
    "\"\"\""
   ]
  },
  {
   "cell_type": "code",
   "execution_count": 10,
   "id": "c69c5164",
   "metadata": {},
   "outputs": [
    {
     "name": "stdout",
     "output_type": "stream",
     "text": [
      "904.7786842338603\n"
     ]
    }
   ],
   "source": [
    "import math\n",
    "d=12 #Diameter\n",
    "radius=d/2 #Radious\n",
    "pi=math.pi #3.1415926535897931\n",
    "Volume=4/3*pi*radius**3\n",
    "print(Volume)"
   ]
  },
  {
   "cell_type": "code",
   "execution_count": null,
   "id": "085bd8af",
   "metadata": {},
   "outputs": [],
   "source": []
  }
 ],
 "metadata": {
  "kernelspec": {
   "display_name": "Python 3",
   "language": "python",
   "name": "python3"
  },
  "language_info": {
   "codemirror_mode": {
    "name": "ipython",
    "version": 3
   },
   "file_extension": ".py",
   "mimetype": "text/x-python",
   "name": "python",
   "nbconvert_exporter": "python",
   "pygments_lexer": "ipython3",
   "version": "3.8.8"
  }
 },
 "nbformat": 4,
 "nbformat_minor": 5
}
